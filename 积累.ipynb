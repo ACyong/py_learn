{
 "cells": [
  {
   "cell_type": "markdown",
   "metadata": {},
   "source": [
    "## Web 应用的机制"
   ]
  },
  {
   "cell_type": "markdown",
   "metadata": {},
   "source": [
    "从我们在 Web 浏览器中输入 URL 到显示出页面，其间要进行下述处理。 \n",
    "1. 用户在 Web 浏览器中输入 URL\n",
    "2. 向 DNS 服务器询问该 URL 中的域名，获取 IP 地址\n",
    "3. Web 浏览器连接该 IP 地址的 Web 服务器，开始 HTTP 通信\n",
    "4. Web 服务器根据 HTTP 发送来的信息运行 Web 应用，获取相应内容\n",
    "5. Web 服务器响应，返回执行应用后得到的 HTML、CSS、JavaScript、图片文件等内容 6 Web 浏览器将收到的内容显示在页面中"
   ]
  },
  {
   "cell_type": "code",
   "execution_count": null,
   "metadata": {},
   "outputs": [],
   "source": [
    "jflajdfjalkkahg"
   ]
  },
  {
   "cell_type": "code",
   "execution_count": 3,
   "metadata": {},
   "outputs": [
    {
     "data": {
      "text/plain": [
       "7"
      ]
     },
     "execution_count": 3,
     "metadata": {},
     "output_type": "execute_result"
    }
   ],
   "source": [
    "L = [1, 2, 3, 4, 5, 6, 7]\n",
    "len(L[: 100])"
   ]
  },
  {
   "cell_type": "code",
   "execution_count": 5,
   "metadata": {},
   "outputs": [
    {
     "data": {
      "text/plain": [
       "str"
      ]
     },
     "execution_count": 5,
     "metadata": {},
     "output_type": "execute_result"
    }
   ],
   "source": [
    "import datetime\n",
    "now = datetime.datetime.now()\n",
    "type(now)\n",
    "now = datetime.datetime.now().strftime(\"%Y-%m-%d\")\n",
    "type(now)"
   ]
  },
  {
   "cell_type": "code",
   "execution_count": 12,
   "metadata": {},
   "outputs": [
    {
     "name": "stdout",
     "output_type": "stream",
     "text": [
      "<class 'str'>\n",
      "2018-06-11\n"
     ]
    }
   ],
   "source": [
    "import time \n",
    "t = time.time()\n",
    "now = time.strftime('%Y-%m-%d', time.localtime(time.time()))\n",
    "now_30 = time.strftime('%Y-%m-%d', time.localtime(time.time() - 30 * 60 * 60 * 24))\n",
    "print(type(now))\n",
    "print(now_30)"
   ]
  },
  {
   "cell_type": "code",
   "execution_count": 1,
   "metadata": {},
   "outputs": [
    {
     "ename": "AttributeError",
     "evalue": "'dict' object has no attribute 'a'",
     "output_type": "error",
     "traceback": [
      "\u001b[0;31m---------------------------------------------------------------------------\u001b[0m",
      "\u001b[0;31mAttributeError\u001b[0m                            Traceback (most recent call last)",
      "\u001b[0;32m<ipython-input-1-82f0da8624de>\u001b[0m in \u001b[0;36m<module>\u001b[0;34m()\u001b[0m\n\u001b[1;32m      1\u001b[0m \u001b[0mdic\u001b[0m \u001b[0;34m=\u001b[0m \u001b[0;34m{\u001b[0m\u001b[0;36m1\u001b[0m\u001b[0;34m:\u001b[0m \u001b[0;34m'1'\u001b[0m\u001b[0;34m}\u001b[0m\u001b[0;34m\u001b[0m\u001b[0m\n\u001b[0;32m----> 2\u001b[0;31m \u001b[0mdic\u001b[0m\u001b[0;34m.\u001b[0m\u001b[0ma\u001b[0m \u001b[0;34m=\u001b[0m \u001b[0;34m'2'\u001b[0m\u001b[0;34m\u001b[0m\u001b[0m\n\u001b[0m",
      "\u001b[0;31mAttributeError\u001b[0m: 'dict' object has no attribute 'a'"
     ]
    }
   ],
   "source": [
    "dic = {1: '1'}\n",
    "dic.a = '2'"
   ]
  },
  {
   "cell_type": "code",
   "execution_count": 19,
   "metadata": {},
   "outputs": [
    {
     "name": "stdout",
     "output_type": "stream",
     "text": [
      "00:00:00\n"
     ]
    },
    {
     "ename": "TypeError",
     "evalue": "strptime() takes exactly 2 arguments (1 given)",
     "output_type": "error",
     "traceback": [
      "\u001b[0;31m---------------------------------------------------------------------------\u001b[0m",
      "\u001b[0;31mTypeError\u001b[0m                                 Traceback (most recent call last)",
      "\u001b[0;32m<ipython-input-19-35173014c0d9>\u001b[0m in \u001b[0;36m<module>\u001b[0;34m()\u001b[0m\n\u001b[1;32m      1\u001b[0m \u001b[0;32mimport\u001b[0m \u001b[0mdatetime\u001b[0m\u001b[0;34m,\u001b[0m \u001b[0mtime\u001b[0m\u001b[0;34m\u001b[0m\u001b[0m\n\u001b[1;32m      2\u001b[0m \u001b[0mprint\u001b[0m\u001b[0;34m(\u001b[0m\u001b[0mdatetime\u001b[0m\u001b[0;34m.\u001b[0m\u001b[0mtime\u001b[0m\u001b[0;34m(\u001b[0m\u001b[0;36m0\u001b[0m\u001b[0;34m)\u001b[0m\u001b[0;34m)\u001b[0m\u001b[0;34m\u001b[0m\u001b[0m\n\u001b[0;32m----> 3\u001b[0;31m \u001b[0mdatetime\u001b[0m\u001b[0;34m.\u001b[0m\u001b[0mdatetime\u001b[0m\u001b[0;34m.\u001b[0m\u001b[0mstrptime\u001b[0m\u001b[0;34m(\u001b[0m\u001b[0mtime\u001b[0m\u001b[0;34m.\u001b[0m\u001b[0mlocaltime\u001b[0m\u001b[0;34m(\u001b[0m\u001b[0;36m0\u001b[0m\u001b[0;34m)\u001b[0m\u001b[0;34m)\u001b[0m\u001b[0;34m\u001b[0m\u001b[0m\n\u001b[0m",
      "\u001b[0;31mTypeError\u001b[0m: strptime() takes exactly 2 arguments (1 given)"
     ]
    }
   ],
   "source": [
    "import datetime, time\n",
    "print(datetime.time(0))\n",
    "datetime.datetime.strptime(time.localtime(0))"
   ]
  },
  {
   "cell_type": "code",
   "execution_count": 17,
   "metadata": {},
   "outputs": [
    {
     "data": {
      "text/plain": [
       "time.struct_time"
      ]
     },
     "execution_count": 17,
     "metadata": {},
     "output_type": "execute_result"
    }
   ],
   "source": [
    "import time\n",
    "type(time.localtime(0))"
   ]
  },
  {
   "cell_type": "code",
   "execution_count": 22,
   "metadata": {},
   "outputs": [
    {
     "name": "stdout",
     "output_type": "stream",
     "text": [
      "2.把字符串转成datetime:  1970-01-01 00:00:00\n"
     ]
    }
   ],
   "source": [
    "def string_toDatetime(st):\n",
    "    print(\"2.把字符串转成datetime: \", datetime.datetime.strptime(st, \"%Y-%m-%d\"))\n",
    "    \n",
    "string_toDatetime('1970-1-1')"
   ]
  },
  {
   "cell_type": "code",
   "execution_count": 66,
   "metadata": {},
   "outputs": [
    {
     "name": "stdout",
     "output_type": "stream",
     "text": [
      "False\n",
      "True\n"
     ]
    }
   ],
   "source": [
    "print(datetime.datetime.now() - datetime.timedelta(hours=168) <= \\\n",
    "      datetime.datetime.strptime('1970-01-01', \"%Y-%m-%d\"))\n",
    "print(datetime.datetime.now() - datetime.timedelta(hours=168) <= \\\n",
    "      datetime.datetime.now())"
   ]
  },
  {
   "cell_type": "code",
   "execution_count": 27,
   "metadata": {},
   "outputs": [
    {
     "name": "stdout",
     "output_type": "stream",
     "text": [
      "7 days, 0:00:00\n"
     ]
    }
   ],
   "source": [
    "print(datetime.timedelta(hours=168))"
   ]
  },
  {
   "cell_type": "code",
   "execution_count": 31,
   "metadata": {},
   "outputs": [],
   "source": [
    "class A():\n",
    "    pass\n",
    "a = A()\n",
    "a.b = 10"
   ]
  },
  {
   "cell_type": "code",
   "execution_count": 56,
   "metadata": {},
   "outputs": [
    {
     "name": "stdout",
     "output_type": "stream",
     "text": [
      "0.8\n"
     ]
    }
   ],
   "source": [
    "PROFILE_SETTING = [[0, 1, 1.2], [1, 2, 1.0], [2, 3, 0.8], [3, None, 0.6]]\n",
    "\n",
    "def find_score(setting, value):\n",
    "    for each_setting in setting:\n",
    "        if each_setting[0] is not None and each_setting[0] > value:\n",
    "            pass\n",
    "        elif each_setting[1] is not None and each_setting[1] <= value:\n",
    "            pass\n",
    "        else:\n",
    "            return each_setting[2]\n",
    "    return 0.6\n",
    "\n",
    "x1 = find_score(PROFILE_SETTING, 2.6)\n",
    "print(x1)"
   ]
  },
  {
   "cell_type": "code",
   "execution_count": 1,
   "metadata": {},
   "outputs": [
    {
     "data": {
      "text/plain": [
       "1"
      ]
     },
     "execution_count": 1,
     "metadata": {},
     "output_type": "execute_result"
    }
   ],
   "source": [
    "d = {}\n",
    "d.get('a', 1)"
   ]
  },
  {
   "cell_type": "code",
   "execution_count": 2,
   "metadata": {},
   "outputs": [
    {
     "data": {
      "text/plain": [
       "True"
      ]
     },
     "execution_count": 2,
     "metadata": {},
     "output_type": "execute_result"
    }
   ],
   "source": [
    "SPECIAL_MAIN_LABELS = [4, 6]\n",
    "\n",
    "def is_noob(voice_level, main_label, default_voice_level):\n",
    "    if main_label not in SPECIAL_MAIN_LABELS and voice_level <= default_voice_level:\n",
    "        return True\n",
    "    return False\n",
    "\n",
    "is_noob(4, 3, 25)"
   ]
  },
  {
   "cell_type": "code",
   "execution_count": 2,
   "metadata": {},
   "outputs": [
    {
     "data": {
      "text/plain": [
       "0.0043"
      ]
     },
     "execution_count": 2,
     "metadata": {},
     "output_type": "execute_result"
    }
   ],
   "source": [
    "1 * 0.0043"
   ]
  },
  {
   "cell_type": "code",
   "execution_count": 13,
   "metadata": {},
   "outputs": [
    {
     "name": "stdout",
     "output_type": "stream",
     "text": [
      "4533504136\n",
      "4533505480\n",
      "4533505480\n",
      "4533504136\n"
     ]
    }
   ],
   "source": [
    "a = []\n",
    "b = ['a', 'b', 'c']\n",
    "print(id(b))\n",
    "a = [i for i in range(10)]\n",
    "b = a\n",
    "print(id(a))\n",
    "a = []\n",
    "print(id(b))\n",
    "print(id(a))"
   ]
  },
  {
   "cell_type": "code",
   "execution_count": 14,
   "metadata": {},
   "outputs": [
    {
     "data": {
      "text/plain": [
       "list"
      ]
     },
     "execution_count": 14,
     "metadata": {},
     "output_type": "execute_result"
    }
   ],
   "source": [
    "type([229])"
   ]
  },
  {
   "cell_type": "code",
   "execution_count": 16,
   "metadata": {},
   "outputs": [
    {
     "data": {
      "text/plain": [
       "'庄AC、'"
      ]
     },
     "execution_count": 16,
     "metadata": {},
     "output_type": "execute_result"
    }
   ],
   "source": [
    "\"\\u5e84AC\\u3001\""
   ]
  },
  {
   "cell_type": "code",
   "execution_count": 23,
   "metadata": {},
   "outputs": [
    {
     "name": "stdout",
     "output_type": "stream",
     "text": [
      "True\n",
      "4496874288 4496874288\n",
      "4534341840 4534341840\n",
      "4534342384\n"
     ]
    }
   ],
   "source": [
    "a = 5\n",
    "b = a\n",
    "print(a is b)\n",
    "print(id(a), id(b))\n",
    "\n",
    "a = 1000\n",
    "b = a\n",
    "print(id(a),  id(b))\n",
    "a = 3\n",
    "b\n",
    "\n",
    "print(id(2888))\n"
   ]
  },
  {
   "cell_type": "code",
   "execution_count": 25,
   "metadata": {},
   "outputs": [
    {
     "name": "stdout",
     "output_type": "stream",
     "text": [
      "4496874128\n",
      "4496874160\n",
      "4496874224\n",
      "4496874320\n",
      "4496874448\n"
     ]
    }
   ],
   "source": [
    "n = 0\n",
    "for i in range(5):\n",
    "    n += i\n",
    "    print(id(n))"
   ]
  },
  {
   "cell_type": "code",
   "execution_count": 2,
   "metadata": {},
   "outputs": [
    {
     "name": "stdout",
     "output_type": "stream",
     "text": [
      "fn_outter被调用\n",
      "fn_inner被调用\n"
     ]
    }
   ],
   "source": [
    "def fn_outter():\n",
    "      print(\"fn_outter被调用\")\n",
    "      def fn_inner():\n",
    "          print(\"fn_inner被调用\")\n",
    "      fn_inner()   # 可以调用内部的fn_inner函数\n",
    "fn_outter()  # fn_inner()   调用是错误的，因为没有fn_inner这个变量名"
   ]
  },
  {
   "cell_type": "code",
   "execution_count": 4,
   "metadata": {},
   "outputs": [
    {
     "name": "stdout",
     "output_type": "stream",
     "text": [
      "1\n"
     ]
    }
   ],
   "source": [
    "def test():\n",
    "    a = 1\n",
    "    print(a)\n",
    "\n",
    "test()"
   ]
  },
  {
   "cell_type": "code",
   "execution_count": 6,
   "metadata": {},
   "outputs": [
    {
     "name": "stdout",
     "output_type": "stream",
     "text": [
      "1\n",
      "2\n"
     ]
    }
   ],
   "source": [
    "a = 2\n",
    "def test():\n",
    "    a = 1\n",
    "    print(a)\n",
    "    \n",
    "test()\n",
    "print(a)"
   ]
  },
  {
   "cell_type": "code",
   "execution_count": 1,
   "metadata": {},
   "outputs": [
    {
     "ename": "AttributeError",
     "evalue": "'str' object has no attribute 'decode'",
     "output_type": "error",
     "traceback": [
      "\u001b[0;31m---------------------------------------------------------------------------\u001b[0m",
      "\u001b[0;31mAttributeError\u001b[0m                            Traceback (most recent call last)",
      "\u001b[0;32m<ipython-input-1-5d834e55bde0>\u001b[0m in \u001b[0;36m<module>\u001b[0;34m()\u001b[0m\n\u001b[1;32m      1\u001b[0m \u001b[0ms\u001b[0m \u001b[0;34m=\u001b[0m \u001b[0;34mu'\\xe7\\x99\\xbd\\xe5\\xb7\\xa7\\xe5\\x85\\x8b\\xe5\\x8a\\x9b'\u001b[0m\u001b[0;34m\u001b[0m\u001b[0m\n\u001b[0;32m----> 2\u001b[0;31m \u001b[0ms\u001b[0m\u001b[0;34m.\u001b[0m\u001b[0mdecode\u001b[0m\u001b[0;34m(\u001b[0m\u001b[0;34m'utf8'\u001b[0m\u001b[0;34m)\u001b[0m\u001b[0;34m\u001b[0m\u001b[0m\n\u001b[0m",
      "\u001b[0;31mAttributeError\u001b[0m: 'str' object has no attribute 'decode'"
     ]
    }
   ],
   "source": [
    "s = '\\xe7\\x99\\xbd\\xe5\\xb7\\xa7\\xe5\\x85\\x8b\\xe5\\x8a\\x9b'\n",
    "s.decode('utf8')"
   ]
  },
  {
   "cell_type": "code",
   "execution_count": 3,
   "metadata": {},
   "outputs": [
    {
     "data": {
      "text/plain": [
       "{'a': 2}"
      ]
     },
     "execution_count": 3,
     "metadata": {},
     "output_type": "execute_result"
    }
   ],
   "source": [
    "dic = {'a': 1, 'a': 2}\n",
    "dic"
   ]
  },
  {
   "cell_type": "code",
   "execution_count": 3,
   "metadata": {},
   "outputs": [
    {
     "data": {
      "text/plain": [
       "0"
      ]
     },
     "execution_count": 3,
     "metadata": {},
     "output_type": "execute_result"
    }
   ],
   "source": [
    "0b100 & 0b11"
   ]
  },
  {
   "cell_type": "code",
   "execution_count": 5,
   "metadata": {},
   "outputs": [
    {
     "name": "stdout",
     "output_type": "stream",
     "text": [
      "SINGLE_USER single_user\n",
      "SINGLE_STAR single_star\n",
      "COUPLE_USER couple_user\n",
      "COUPLE_STAR couple_star\n"
     ]
    }
   ],
   "source": [
    "QIXI_ACTIVITY_RANK = {\n",
    "        'SINGLE_USER': 'single_user',\n",
    "        'SINGLE_STAR': 'single_star',\n",
    "        'COUPLE_USER': 'couple_user',\n",
    "        'COUPLE_STAR': 'couple_star',\n",
    "    }\n",
    "for key, value in QIXI_ACTIVITY_RANK.items():\n",
    "    print(key, value)"
   ]
  },
  {
   "cell_type": "code",
   "execution_count": 11,
   "metadata": {},
   "outputs": [
    {
     "name": "stdout",
     "output_type": "stream",
     "text": [
      "single_user\n",
      "single_star\n",
      "couple_user\n",
      "couple_star\n"
     ]
    }
   ],
   "source": [
    "def test(SINGLE_USER, SINGLE_STAR, COUPLE_USER, COUPLE_STAR):\n",
    "    print(SINGLE_USER)\n",
    "    print(SINGLE_STAR)\n",
    "    print(COUPLE_USER)\n",
    "    print(COUPLE_STAR)\n",
    "    \n",
    "test(**QIXI_ACTIVITY_RANK)"
   ]
  },
  {
   "cell_type": "code",
   "execution_count": 12,
   "metadata": {},
   "outputs": [
    {
     "data": {
      "text/plain": [
       "5"
      ]
     },
     "execution_count": 12,
     "metadata": {},
     "output_type": "execute_result"
    }
   ],
   "source": [
    "class test():\n",
    "    count = 0\n",
    "    \n",
    "    @classmethod\n",
    "    def cou(cls):\n",
    "        for i in range(5):\n",
    "            cls.count += 1\n",
    "test.cou()\n",
    "test.count"
   ]
  },
  {
   "cell_type": "code",
   "execution_count": 13,
   "metadata": {},
   "outputs": [
    {
     "name": "stdout",
     "output_type": "stream",
     "text": [
      "23 56\n",
      "35 27\n"
     ]
    }
   ],
   "source": [
    "a = [(23, 56), (35, 27)]\n",
    "for uid, score in a:\n",
    "    print(uid, score)\n",
    "    "
   ]
  },
  {
   "cell_type": "code",
   "execution_count": 15,
   "metadata": {},
   "outputs": [
    {
     "data": {
      "text/plain": [
       "{'qixi:single:sender': 1}"
      ]
     },
     "execution_count": 15,
     "metadata": {},
     "output_type": "execute_result"
    }
   ],
   "source": [
    "a = {}\n",
    "a['qixi:single:sender'] = 1\n",
    "a"
   ]
  },
  {
   "cell_type": "code",
   "execution_count": 1,
   "metadata": {},
   "outputs": [
    {
     "data": {
      "text/plain": [
       "{'sd': 'bb'}"
      ]
     },
     "execution_count": 1,
     "metadata": {},
     "output_type": "execute_result"
    }
   ],
   "source": [
    "key = 'SD'\n",
    "a = {}\n",
    "a[key.lower()] = 'bb'\n",
    "a"
   ]
  },
  {
   "cell_type": "code",
   "execution_count": 2,
   "metadata": {},
   "outputs": [
    {
     "data": {
      "text/plain": [
       "1"
      ]
     },
     "execution_count": 2,
     "metadata": {},
     "output_type": "execute_result"
    }
   ],
   "source": [
    "0 + 1"
   ]
  },
  {
   "cell_type": "code",
   "execution_count": null,
   "metadata": {},
   "outputs": [],
   "source": [
    "a = [1, 2, 3, 4, 5, 6, 7]\n",
    "re"
   ]
  },
  {
   "cell_type": "code",
   "execution_count": 4,
   "metadata": {},
   "outputs": [
    {
     "data": {
      "text/plain": [
       "0"
      ]
     },
     "execution_count": 4,
     "metadata": {},
     "output_type": "execute_result"
    }
   ],
   "source": [
    "a = 0\n",
    "a += None or 0\n",
    "a"
   ]
  },
  {
   "cell_type": "code",
   "execution_count": null,
   "metadata": {},
   "outputs": [],
   "source": [
    "if captcha_type == types.CAPTCHA_TYPE.REGISTER:\n",
    "    if Channel.is_android(app):\n",
    "        if version < 2991:\n",
    "            return {'code': types.RESPONSE_CODE.APP_NEED_UPDATE,\n",
    "                    'msg': '正常人类请移步应用市场更新版本，机器人请便'}\n",
    "        if not CaptchaJS.check(ticket, real_ip, account_type):\n",
    "            return {'code': types.RESPONSE_CODE.PARAMETER_ERROR,\n",
    "                    'msg': '参数错误'}\n",
    "\n",
    "    if Channel.is_ios(app):\n",
    "        if version < 299020:\n",
    "            return {'code': types.RESPONSE_CODE.APP_NEED_UPDATE,\n",
    "                    'msg': '正常人类请移步应用市场更新版本，机器人请便'}\n",
    "        if not CaptchaJS.check(ticket, real_ip, account_type):\n",
    "            return {'code': types.RESPONSE_CODE.PARAMETER_ERROR,\n",
    "                    'msg': '参数错误'}"
   ]
  },
  {
   "cell_type": "code",
   "execution_count": 15,
   "metadata": {},
   "outputs": [
    {
     "data": {
      "text/plain": [
       "{2: {'live_id': 2, 'special': 1, 'main_label': 6},\n",
       " 5: {'live_id': 5, 'special': 0, 'main_label': 4},\n",
       " 6: {'live_id': 6, 'special': 0, 'main_label': 4},\n",
       " 7: {'live_id': 7, 'special': 0, 'main_label': 3},\n",
       " 8: {'live_id': 8, 'special': 0, 'main_label': 2},\n",
       " 9: {'live_id': 9, 'special': 0, 'main_label': 1},\n",
       " 10: {'live_id': 10, 'special': 0, 'main_label': 4},\n",
       " 11: {'live_id': 11, 'special': 0, 'main_label': 4}}"
      ]
     },
     "execution_count": 15,
     "metadata": {},
     "output_type": "execute_result"
    }
   ],
   "source": [
    "live_data = [\n",
    "    {'live_id': 1, 'special': 1, 'main_label': 4},\n",
    "    {'live_id': 2, 'special': 1, 'main_label': 6},\n",
    "    {'live_id': 3, 'special': 1, 'main_label': 1},\n",
    "    {'live_id': 4, 'special': 1, 'main_label': 2},\n",
    "    {'live_id': 5, 'special': 0, 'main_label': 4},\n",
    "    {'live_id': 6, 'special': 0, 'main_label': 4},\n",
    "    {'live_id': 7, 'special': 0, 'main_label': 3},\n",
    "    {'live_id': 8, 'special': 0, 'main_label': 2},\n",
    "    {'live_id': 9, 'special': 0, 'main_label': 1},\n",
    "    {'live_id': 10, 'special': 0, 'main_label': 4},\n",
    "    {'live_id': 11, 'special': 0, 'main_label': 4},\n",
    "    {'live_id': 12, 'special': 1, 'main_label': 4},\n",
    "]\n",
    "\n",
    "lives_info = {live['live_id']: live for live in live_data if (not live['special'] or\n",
    "                  live.get('main_label', 1) in [6, ])}\n",
    "lives_info"
   ]
  },
  {
   "cell_type": "code",
   "execution_count": null,
   "metadata": {},
   "outputs": [],
   "source": [
    "secureCRT"
   ]
  },
  {
   "cell_type": "code",
   "execution_count": 25,
   "metadata": {},
   "outputs": [
    {
     "name": "stdout",
     "output_type": "stream",
     "text": [
      "  /////*|\" 呵呵呵\n",
      "  /////*|\" 呵呵呵\n",
      " [ abc     abc u t:ert enter open cnp ftrd 呵呵呵]\n",
      "      /////     *                |   \"     呵呵呵 \n"
     ]
    }
   ],
   "source": [
    "import re\n",
    "s = \" [ abc/////abc?u*t:ert<enter>open|cnp\\\"ftrd 呵呵呵]\".decode('utf-8')\n",
    "\n",
    "#cop = re.compile(\"[\\u4e00-\\u9fa5^.^a-z^A-Z^0-9]\")\n",
    "\n",
    "sop = re.compile(\"[a-zA-Z1-9\\u4e00-\\u9fa5]\")\n",
    "\n",
    "#c1 = cop.sub(\"\", s)\n",
    "s1 = sop.sub(\"\", s)\n",
    "print(c1)\n",
    "print(s1)\n",
    "print(re.sub('[/*|\"\"?<>]', ' ', s))\n",
    "print(re.sub('[a-zA-Z1-9\\u4e00-\\u9fa5]', ' ', s))\n",
    "\n",
    "\n"
   ]
  },
  {
   "cell_type": "code",
   "execution_count": 26,
   "metadata": {},
   "outputs": [
    {
     "name": "stdout",
     "output_type": "stream",
     "text": [
      "['panda', 'dog', 'bird', 'cat']\n"
     ]
    }
   ],
   "source": [
    "t1 = ['dog', 'cat', 'panda', 'bird']\n",
    "t2 = [('2', 'dog'), ('1', 'panda')]\n",
    "t4 = list(dict(t2).values())\n",
    "t3 = t4 + list(set(t1) - set(t4))\n",
    "print(t3)"
   ]
  },
  {
   "cell_type": "code",
   "execution_count": 30,
   "metadata": {},
   "outputs": [
    {
     "data": {
      "text/plain": [
       "'http://manualfile.s3.amazonaws.com/pdf/0'"
      ]
     },
     "execution_count": 30,
     "metadata": {},
     "output_type": "execute_result"
    }
   ],
   "source": [
    "str = 'http://manualfile.s3.amazonaws.com/pdf/gti-chis-1-user-9fb-0-7a05a56f0b91.pdf'\n",
    "name = str[: str.rfind(\"/\")] + '/0'\n",
    "name"
   ]
  },
  {
   "cell_type": "code",
   "execution_count": 37,
   "metadata": {},
   "outputs": [
    {
     "data": {
      "text/plain": [
       "'2018-09-01 16:21:35'"
      ]
     },
     "execution_count": 37,
     "metadata": {},
     "output_type": "execute_result"
    }
   ],
   "source": [
    "import time\n",
    "time.strftime('%Y-%m-%d %H:%M:%S', time.localtime(time.time()))"
   ]
  },
  {
   "cell_type": "code",
   "execution_count": 8,
   "metadata": {},
   "outputs": [
    {
     "ename": "TypeError",
     "evalue": "unsupported operand type(s) for -: 'datetime.datetime' and 'int'",
     "output_type": "error",
     "traceback": [
      "\u001b[0;31m---------------------------------------------------------------------------\u001b[0m",
      "\u001b[0;31mTypeError\u001b[0m                                 Traceback (most recent call last)",
      "\u001b[0;32m<ipython-input-8-f2755d30f2b0>\u001b[0m in \u001b[0;36m<module>\u001b[0;34m()\u001b[0m\n\u001b[1;32m      1\u001b[0m \u001b[0;32mimport\u001b[0m \u001b[0mdatetime\u001b[0m\u001b[0;34m\u001b[0m\u001b[0m\n\u001b[1;32m      2\u001b[0m \u001b[0mdatetime\u001b[0m\u001b[0;34m.\u001b[0m\u001b[0mdatetime\u001b[0m\u001b[0;34m.\u001b[0m\u001b[0mnow\u001b[0m\u001b[0;34m(\u001b[0m\u001b[0;34m)\u001b[0m\u001b[0;34m\u001b[0m\u001b[0m\n\u001b[0;32m----> 3\u001b[0;31m \u001b[0mtoday\u001b[0m \u001b[0;34m=\u001b[0m \u001b[0mdatetime\u001b[0m\u001b[0;34m.\u001b[0m\u001b[0mdatetime\u001b[0m\u001b[0;34m.\u001b[0m\u001b[0mtoday\u001b[0m\u001b[0;34m(\u001b[0m\u001b[0;34m)\u001b[0m \u001b[0;34m-\u001b[0m\u001b[0;36m24\u001b[0m\u001b[0;34m\u001b[0m\u001b[0m\n\u001b[0m\u001b[1;32m      4\u001b[0m \u001b[0;32mprint\u001b[0m \u001b[0mtoday\u001b[0m\u001b[0;34m\u001b[0m\u001b[0m\n",
      "\u001b[0;31mTypeError\u001b[0m: unsupported operand type(s) for -: 'datetime.datetime' and 'int'"
     ]
    }
   ],
   "source": [
    "import datetime\n",
    "datetime.datetime.now()\n",
    "today = datetime.datetime.today() - 24\n",
    "print today"
   ]
  },
  {
   "cell_type": "code",
   "execution_count": 9,
   "metadata": {},
   "outputs": [
    {
     "name": "stdout",
     "output_type": "stream",
     "text": [
      "OK 1536150481.13 1536150481.13\n"
     ]
    }
   ],
   "source": [
    "import time\n",
    "\n",
    "t = time.time()\n",
    "\n",
    "t1 = time.time()\n",
    "\n",
    "if t < t1:\n",
    "    print 'OK', t, t1"
   ]
  },
  {
   "cell_type": "code",
   "execution_count": 1,
   "metadata": {},
   "outputs": [
    {
     "ename": "TypeError",
     "evalue": "'NoneType' object is not subscriptable",
     "output_type": "error",
     "traceback": [
      "\u001b[0;31m---------------------------------------------------------------------------\u001b[0m",
      "\u001b[0;31mTypeError\u001b[0m                                 Traceback (most recent call last)",
      "\u001b[0;32m<ipython-input-1-b032d87eb68e>\u001b[0m in \u001b[0;36m<module>\u001b[0;34m()\u001b[0m\n\u001b[1;32m      1\u001b[0m \u001b[0mlive\u001b[0m \u001b[0;34m=\u001b[0m \u001b[0;32mNone\u001b[0m\u001b[0;34m\u001b[0m\u001b[0m\n\u001b[0;32m----> 2\u001b[0;31m \u001b[0mlive_id\u001b[0m \u001b[0;34m=\u001b[0m \u001b[0mlive\u001b[0m\u001b[0;34m[\u001b[0m\u001b[0;34m'id'\u001b[0m\u001b[0;34m]\u001b[0m\u001b[0;34m\u001b[0m\u001b[0m\n\u001b[0m",
      "\u001b[0;31mTypeError\u001b[0m: 'NoneType' object is not subscriptable"
     ]
    }
   ],
   "source": [
    "live = None\n",
    "live_id = live['id']"
   ]
  },
  {
   "cell_type": "code",
   "execution_count": 4,
   "metadata": {},
   "outputs": [
    {
     "data": {
      "text/plain": [
       "'2018-09-13'"
      ]
     },
     "execution_count": 4,
     "metadata": {},
     "output_type": "execute_result"
    }
   ],
   "source": [
    "from datetime import date\n",
    "date.today().isoformat()"
   ]
  },
  {
   "cell_type": "code",
   "execution_count": 3,
   "metadata": {},
   "outputs": [
    {
     "data": {
      "text/plain": [
       "1"
      ]
     },
     "execution_count": 3,
     "metadata": {},
     "output_type": "execute_result"
    }
   ],
   "source": [
    "key = 'a'\n",
    "dic = {'a': 1}\n",
    "dic.get(key)"
   ]
  },
  {
   "cell_type": "code",
   "execution_count": 11,
   "metadata": {},
   "outputs": [
    {
     "data": {
      "text/plain": [
       "'2018-09-13 11:34:44'"
      ]
     },
     "execution_count": 11,
     "metadata": {},
     "output_type": "execute_result"
    }
   ],
   "source": [
    "import time \n",
    "time.strftime('%Y-%m-%d %H:%M:%S', time.localtime(time.time() - 24*60*60))"
   ]
  },
  {
   "cell_type": "code",
   "execution_count": 6,
   "metadata": {},
   "outputs": [
    {
     "data": {
      "text/plain": [
       "'\\\\u91d1\\\\u725b\\\\u5ea7'"
      ]
     },
     "execution_count": 6,
     "metadata": {},
     "output_type": "execute_result"
    }
   ],
   "source": [
    "\"\\u91d1\\u725b\\u5ea7\""
   ]
  },
  {
   "cell_type": "code",
   "execution_count": 5,
   "metadata": {},
   "outputs": [
    {
     "data": {
      "text/plain": [
       "{'水瓶': 1,\n",
       " '双鱼': 2,\n",
       " '白羊': 3,\n",
       " '金牛': 4,\n",
       " '双子': 5,\n",
       " '巨蟹': 6,\n",
       " '狮子': 7,\n",
       " '处女': 8,\n",
       " '天秤': 9,\n",
       " '天蝎': 10,\n",
       " '射手': 11,\n",
       " '摩羯': 12}"
      ]
     },
     "execution_count": 5,
     "metadata": {},
     "output_type": "execute_result"
    }
   ],
   "source": [
    "INFO = {\n",
    "        1: {'name': '水瓶', 'day_range': [(1, 20), (2, 18)]},\n",
    "        2: {'name': '双鱼', 'day_range': [(2, 19), (3, 20)]},\n",
    "        3: {'name': '白羊', 'day_range': [(3, 21), (4, 20)]},\n",
    "        4: {'name': '金牛', 'day_range': [(4, 21), (5, 20)]},\n",
    "        5: {'name': '双子', 'day_range': [(5, 21), (6, 21)]},\n",
    "        6: {'name': '巨蟹', 'day_range': [(6, 22), (7, 22)]},\n",
    "        7: {'name': '狮子', 'day_range': [(7, 23), (8, 22)]},\n",
    "        8: {'name': '处女', 'day_range': [(8, 23), (9, 22)]},\n",
    "        9: {'name': '天秤', 'day_range': [(9, 23), (10, 22)]},\n",
    "        10: {'name': '天蝎', 'day_range': [(10, 23), (11, 22)]},\n",
    "        11: {'name': '射手', 'day_range': [(11, 23), (12, 21)]},\n",
    "        12: {'name': '摩羯', 'day_range': [(12, 22), (1, 19)]},\n",
    "    }\n",
    "INFO_NAME_TO_CODE = {each['name']: key for key, each in INFO.items()}\n",
    "INFO_NAME_TO_CODE"
   ]
  },
  {
   "cell_type": "code",
   "execution_count": 2,
   "metadata": {},
   "outputs": [
    {
     "data": {
      "text/plain": [
       "{'xingzuo': {'\\xe5\\x8f\\x8c\\xe5\\xad\\x90': 0.03,\n",
       "  '\\xe5\\x8f\\x8c\\xe9\\xb1\\xbc': 0.03,\n",
       "  '\\xe5\\xa4\\xa9\\xe7\\xa7\\xa4': 0.01,\n",
       "  '\\xe6\\xb0\\xb4\\xe7\\x93\\xb6': 0.24,\n",
       "  '\\xe7\\x8b\\xae\\xe5\\xad\\x90': 0.01,\n",
       "  '\\xe7\\x99\\xbd\\xe7\\xbe\\x8a': 0.69}}"
      ]
     },
     "execution_count": 2,
     "metadata": {},
     "output_type": "execute_result"
    }
   ],
   "source": [
    "{'xingzuo': {'\\xe7\\x99\\xbd\\xe7\\xbe\\x8a': 0.69, '\\xe7\\x8b\\xae\\xe5\\xad\\x90': 0.01, '\\xe5\\xa4\\xa9\\xe7\\xa7\\xa4': 0.01, '\\xe6\\xb0\\xb4\\xe7\\x93\\xb6': 0.24, '\\xe5\\x8f\\x8c\\xe9\\xb1\\xbc': 0.03, '\\xe5\\x8f\\x8c\\xe5\\xad\\x90': 0.03}}"
   ]
  },
  {
   "cell_type": "code",
   "execution_count": 5,
   "metadata": {},
   "outputs": [
    {
     "data": {
      "text/plain": [
       "'\\\\u6c34\\\\u74f6'"
      ]
     },
     "execution_count": 5,
     "metadata": {},
     "output_type": "execute_result"
    }
   ],
   "source": [
    "\"\\u6c34\\u74f6\""
   ]
  },
  {
   "cell_type": "code",
   "execution_count": 13,
   "metadata": {},
   "outputs": [
    {
     "data": {
      "text/plain": [
       "{'xingzuo': {1: 2, 3: 4}}"
      ]
     },
     "execution_count": 13,
     "metadata": {},
     "output_type": "execute_result"
    }
   ],
   "source": [
    "data = {}\n",
    "data['xingzuo'] = {}\n",
    "data['xingzuo'].update({1: 2})\n",
    "data['xingzuo'].update({3: 4})\n",
    "data"
   ]
  },
  {
   "cell_type": "code",
   "execution_count": 32,
   "metadata": {},
   "outputs": [
    {
     "data": {
      "text/plain": [
       "'\\\\u5f20\\\\u4e09'"
      ]
     },
     "execution_count": 32,
     "metadata": {},
     "output_type": "execute_result"
    }
   ],
   "source": [
    "s = b'张三'\n",
    "ss = s.decode('utf-8')\n",
    "ss.encode('unicode_escape')"
   ]
  },
  {
   "cell_type": "code",
   "execution_count": 7,
   "metadata": {},
   "outputs": [
    {
     "data": {
      "text/plain": [
       "'201809_1'"
      ]
     },
     "execution_count": 7,
     "metadata": {},
     "output_type": "execute_result"
    }
   ],
   "source": [
    "import time \n",
    "now = time.strftime('%Y%m', time.localtime(time.time()))\n",
    "data = now + '_1'  # 1 表示显示，0 表示隐藏\n",
    "data"
   ]
  },
  {
   "cell_type": "code",
   "execution_count": 15,
   "metadata": {},
   "outputs": [
    {
     "data": {
      "text/plain": [
       "1"
      ]
     },
     "execution_count": 15,
     "metadata": {},
     "output_type": "execute_result"
    }
   ],
   "source": [
    "16 >> 4"
   ]
  },
  {
   "cell_type": "code",
   "execution_count": 21,
   "metadata": {},
   "outputs": [
    {
     "data": {
      "text/plain": [
       "0"
      ]
     },
     "execution_count": 21,
     "metadata": {},
     "output_type": "execute_result"
    }
   ],
   "source": [
    "8 & 0b100"
   ]
  },
  {
   "cell_type": "code",
   "execution_count": 36,
   "metadata": {},
   "outputs": [
    {
     "ename": "TypeError",
     "evalue": "'int' object is not callable",
     "output_type": "error",
     "traceback": [
      "\u001b[0;31m---------------------------------------------------------------------------\u001b[0m",
      "\u001b[0;31mTypeError\u001b[0m                                 Traceback (most recent call last)",
      "\u001b[0;32m<ipython-input-36-1bda886a3259>\u001b[0m in \u001b[0;36m<module>\u001b[0;34m()\u001b[0m\n\u001b[0;32m----> 1\u001b[0;31m \u001b[0mlen\u001b[0m\u001b[0;34m(\u001b[0m\u001b[0;34m[\u001b[0m\u001b[0;36m1\u001b[0m\u001b[0;34m]\u001b[0m\u001b[0;34m)\u001b[0m\u001b[0;34m\u001b[0m\u001b[0m\n\u001b[0m",
      "\u001b[0;31mTypeError\u001b[0m: 'int' object is not callable"
     ]
    }
   ],
   "source": [
    "len([1])"
   ]
  },
  {
   "cell_type": "code",
   "execution_count": 34,
   "metadata": {},
   "outputs": [
    {
     "ename": "AttributeError",
     "evalue": "'list' object has no attribute 'len'",
     "output_type": "error",
     "traceback": [
      "\u001b[0;31m---------------------------------------------------------------------------\u001b[0m",
      "\u001b[0;31mAttributeError\u001b[0m                            Traceback (most recent call last)",
      "\u001b[0;32m<ipython-input-34-f02f00320d94>\u001b[0m in \u001b[0;36m<module>\u001b[0;34m()\u001b[0m\n\u001b[1;32m      2\u001b[0m \u001b[0;31m# len = 2\u001b[0m\u001b[0;34m\u001b[0m\u001b[0;34m\u001b[0m\u001b[0m\n\u001b[1;32m      3\u001b[0m \u001b[0;31m# c = len(a)\u001b[0m\u001b[0;34m\u001b[0m\u001b[0;34m\u001b[0m\u001b[0m\n\u001b[0;32m----> 4\u001b[0;31m \u001b[0mc\u001b[0m \u001b[0;34m=\u001b[0m \u001b[0ma\u001b[0m\u001b[0;34m.\u001b[0m\u001b[0mlen\u001b[0m\u001b[0;34m\u001b[0m\u001b[0m\n\u001b[0m\u001b[1;32m      5\u001b[0m \u001b[0;32mprint\u001b[0m \u001b[0mc\u001b[0m\u001b[0;34m\u001b[0m\u001b[0m\n",
      "\u001b[0;31mAttributeError\u001b[0m: 'list' object has no attribute 'len'"
     ]
    }
   ],
   "source": [
    "a = [1, 2]\n",
    "len = 2\n",
    "# c = len(a)\n",
    "c = a.len\n",
    "print c"
   ]
  },
  {
   "cell_type": "code",
   "execution_count": 4,
   "metadata": {},
   "outputs": [
    {
     "data": {
      "text/plain": [
       "0"
      ]
     },
     "execution_count": 4,
     "metadata": {},
     "output_type": "execute_result"
    }
   ],
   "source": [
    "len([])"
   ]
  },
  {
   "cell_type": "code",
   "execution_count": 3,
   "metadata": {},
   "outputs": [
    {
     "name": "stdout",
     "output_type": "stream",
     "text": [
      "5050\n"
     ]
    }
   ],
   "source": [
    "print (reduce(add, range(1, 101)))  # 5050"
   ]
  },
  {
   "cell_type": "code",
   "execution_count": null,
   "metadata": {},
   "outputs": [],
   "source": []
  }
 ],
 "metadata": {
  "kernelspec": {
   "display_name": "Python 3",
   "language": "python",
   "name": "python3"
  },
  "language_info": {
   "codemirror_mode": {
    "name": "ipython",
    "version": 3
   },
   "file_extension": ".py",
   "mimetype": "text/x-python",
   "name": "python",
   "nbconvert_exporter": "python",
   "pygments_lexer": "ipython3",
   "version": "3.6.5"
  }
 },
 "nbformat": 4,
 "nbformat_minor": 2
}
