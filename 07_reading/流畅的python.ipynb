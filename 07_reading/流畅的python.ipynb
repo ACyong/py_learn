{
 "cells": [
  {
   "cell_type": "markdown",
   "metadata": {},
   "source": [
    "# 流畅的python"
   ]
  },
  {
   "cell_type": "code",
   "execution_count": 12,
   "metadata": {},
   "outputs": [
    {
     "name": "stdout",
     "output_type": "stream",
     "text": [
      "Card(rank='7', suit='diamonds')\n",
      "52\n",
      "Card(rank='2', suit='spades')\n",
      "Card(rank='A', suit='hearts')\n",
      "Card(rank='5', suit='diamonds')\n",
      "Card(rank='2', suit='hearts')\n",
      "Card(rank='K', suit='clubs')\n",
      "[Card(rank='2', suit='spades'), Card(rank='3', suit='spades'), Card(rank='4', suit='spades')]\n"
     ]
    }
   ],
   "source": [
    "# 一摞python 风格的纸牌\n",
    "import collections\n",
    "\n",
    "Card = collections.namedtuple('Card', ['rank', 'suit'])\n",
    "\n",
    "\n",
    "class FrenchDeck:\n",
    "    ranks = [str(n) for n in range(2, 11)] + list('JQKA')\n",
    "    suits = 'spades diamonds clubs hearts'.split()\n",
    "    \n",
    "    def __init__(self):\n",
    "        self._cards = [Card(rank, suit) for suit in self.suits\n",
    "                                                  for rank in self.ranks]\n",
    "        \n",
    "    def __len__(self):\n",
    "        return len(self._cards)\n",
    "    \n",
    "    def __getitem__(self, position):\n",
    "        return self._cards[position]\n",
    "\n",
    "\n",
    "beer_card = Card('7', 'diamonds')\n",
    "print(beer_card)\n",
    "\n",
    "deck = FrenchDeck()\n",
    "print(len(deck))\n",
    "\n",
    "print(deck[0])\n",
    "print(deck[-1])\n",
    "\n",
    "\n",
    "from random import choice\n",
    "print(choice(deck))\n",
    "print(choice(deck))\n",
    "print(choice(deck))\n",
    "\n",
    "print(deck[:3])"
   ]
  },
  {
   "cell_type": "markdown",
   "metadata": {},
   "source": [
    "___"
   ]
  },
  {
   "cell_type": "markdown",
   "metadata": {},
   "source": [
    "# collections 模块的详解"
   ]
  },
  {
   "cell_type": "markdown",
   "metadata": {},
   "source": [
    "## 1、ChainMap 对象\n",
    "ChainMap类用来管理多个映射对象，以便把所有映射对象当作一个对象单元来处理。这样做的好处是比在一个字典里创建多个映射的数据，并调用每个映射的update()函数要快一些。同时可以使用它来模拟嵌套作用域和模板化处理。\n",
    "\n",
    "class collections.ChainMap(*maps)\n",
    "\n",
    "ChainMap类可把多个字典或者其它映射对象放在一起，组成一个单一的、可更新的映射对象。如果参数没有指定任何映射对象，默认会创建一个空的映射对象。所有传入来的映射对象保存在一个列表里，可以通过maps属性来访问和更新这些映射对象。当在查找时，会查看所有映射对象，但当在写入、更新和删除时，只会操作第一个满足条件的映射对象。ChainMap会通过引用的方式来合并所有映射对象的元素，因此只要任何一个映射对象里的元素进行更新，都会反映到ChainMap对象里。所以所有字典相同的操作方法都是支持的，另外增加一个maps属性，增加一个创建子字典的方法和访问除了第一个映射对象之外所有其它映射对象的属性。"
   ]
  },
  {
   "cell_type": "code",
   "execution_count": 9,
   "metadata": {},
   "outputs": [
    {
     "name": "stdout",
     "output_type": "stream",
     "text": [
      "c 11\n",
      "b 10\n",
      "a 1\n",
      "\n",
      "\n",
      "ChainMap({'b': 10, 'c': 11}, {'a': 1, 'b': 2})\n",
      "ChainMap({'b': 6, 'c': 11}, {'a': 1, 'b': 2})\n"
     ]
    }
   ],
   "source": [
    "import collections\n",
    "\n",
    " \n",
    "x = {'a': 1, 'b': 2}\n",
    "y = {'b': 10, 'c': 11}\n",
    "\n",
    "z = collections.ChainMap(y, x)\n",
    "\n",
    "for k, v in z.items():\n",
    "    print(k, v)\n",
    "\n",
    "print('\\n')\n",
    "print(z)\n",
    "\n",
    "z['b'] = 6\n",
    "print(z)"
   ]
  },
  {
   "cell_type": "markdown",
   "metadata": {},
   "source": [
    "(1) maps :\n",
    "\n",
    "返回用户可更新的映射对象列表。在这个列表里包括所有添加的映射对象，可以更新任何一个列表里显示的映射对象。在这个属性至少会包括一个映射对象。"
   ]
  },
  {
   "cell_type": "code",
   "execution_count": 1,
   "metadata": {},
   "outputs": [
    {
     "name": "stdout",
     "output_type": "stream",
     "text": [
      "[{'b': 10, 'c': 11}, {'a': 1, 'b': 2}]\n",
      "[{'b': 10, 'c': 20}, {'a': 1, 'b': 2}]\n"
     ]
    }
   ],
   "source": [
    "import collections\n",
    "\n",
    "\n",
    "x = {'a': 1, 'b': 2}\n",
    "y = {'b': 10, 'c': 11}\n",
    "z = collections.ChainMap(y, x)\n",
    "\n",
    "print(z.maps)\n",
    "z.maps[0]['c'] = 20\n",
    "print(z.maps)"
   ]
  },
  {
   "cell_type": "markdown",
   "metadata": {},
   "source": [
    "(2) new_child(m=None) :\n",
    "\n",
    "创建一个新的ChainMap对象，在列表第一个元素里插入映射对象m，后面紧跟原来所有映射对象。如果m是None，就插入一个空的字典对象。\n",
    "d.new_child()等价于ChainMap({}, *d.maps)操作。这个方法用来创建一个新的ChainMap对象，而不必影响旧的ChainMap对象的值。"
   ]
  },
  {
   "cell_type": "code",
   "execution_count": 2,
   "metadata": {},
   "outputs": [
    {
     "name": "stdout",
     "output_type": "stream",
     "text": [
      "[{'b': 10, 'c': 11}, {'a': 1, 'b': 2}]\n",
      "[{'d': 55, 'e': 88}, {'b': 10, 'c': 11}, {'a': 1, 'b': 2}]\n"
     ]
    }
   ],
   "source": [
    "import collections\n",
    "\n",
    "\n",
    "x = {'a': 1, 'b': 2}\n",
    "y = {'b': 10, 'c': 11}\n",
    "z = collections.ChainMap(y, x)\n",
    "\n",
    "print(z.maps)\n",
    "\n",
    "xx = {'d': 55, 'e': 88}\n",
    "z = z.new_child(xx)\n",
    "print(z.maps)"
   ]
  },
  {
   "cell_type": "markdown",
   "metadata": {},
   "source": [
    "(3) parents :\n",
    "\n",
    "返回除第一个映射对象之外的所有映射对象的 ChainMap对象。主要用来获取不同作用域嵌套情况，比如本地作用域、类作用域、全局作用域构造成的\n",
    "ChainMap就可以依次递归整个ChainMap对象，就不可以判断在不同作用域里出现了。本属性d.parents的操作相当于ChainMap(*d.maps[1:])。"
   ]
  },
  {
   "cell_type": "code",
   "execution_count": 3,
   "metadata": {},
   "outputs": [
    {
     "name": "stdout",
     "output_type": "stream",
     "text": [
      "[{'b': 10, 'c': 11}, {'a': 1, 'b': 2}]\n",
      "[{'a': 1, 'b': 2}]\n"
     ]
    }
   ],
   "source": [
    "import collections\n",
    "\n",
    " \n",
    "x = {'a': 1, 'b': 2}\n",
    "y = {'b': 10, 'c': 11}\n",
    "z = collections.ChainMap(y, x)\n",
    "\n",
    "print(z.maps)\n",
    "\n",
    "xx = {'d': 55, 'e': 88}\n",
    "z = z.parents\n",
    "print(z.maps)"
   ]
  },
  {
   "cell_type": "code",
   "execution_count": null,
   "metadata": {},
   "outputs": [],
   "source": []
  },
  {
   "cell_type": "code",
   "execution_count": null,
   "metadata": {},
   "outputs": [],
   "source": []
  }
 ],
 "metadata": {
  "kernelspec": {
   "display_name": "Python 3",
   "language": "python",
   "name": "python3"
  },
  "language_info": {
   "codemirror_mode": {
    "name": "ipython",
    "version": 3
   },
   "file_extension": ".py",
   "mimetype": "text/x-python",
   "name": "python",
   "nbconvert_exporter": "python",
   "pygments_lexer": "ipython3",
   "version": "3.6.5"
  }
 },
 "nbformat": 4,
 "nbformat_minor": 2
}
