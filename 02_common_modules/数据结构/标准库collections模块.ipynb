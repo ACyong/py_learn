{
 "cells": [
  {
   "cell_type": "markdown",
   "id": "4e2c9c2b-ae5c-4eef-8a0d-1f1c9ee3076a",
   "metadata": {},
   "source": [
    "https://docs.python.org/zh-cn/3/library/collections.html"
   ]
  },
  {
   "cell_type": "code",
   "execution_count": 1,
   "id": "66964dd7-11e9-42a9-8f38-ca38109e2043",
   "metadata": {},
   "outputs": [],
   "source": [
    "import collections"
   ]
  },
  {
   "cell_type": "markdown",
   "id": "758b138c-1d22-4d40-b271-f626a00c04ac",
   "metadata": {},
   "source": [
    "## 1. class collections.ChainMap(*maps)¶"
   ]
  },
  {
   "cell_type": "markdown",
   "id": "f920f57d-f86b-48fd-86ae-6dbc77c0f10f",
   "metadata": {},
   "source": [
    "一个 ChainMap 将多个字典或者其他映射组合在一起，创建一个单独的可更新的视图。 \n",
    "\n",
    "注意，一个 ChainMap() 的迭代顺序是通过从后往前扫描所有映射来确定的:"
   ]
  },
  {
   "cell_type": "code",
   "execution_count": 13,
   "id": "77be001a-ad57-4ba1-a447-66b2e8bd8373",
   "metadata": {},
   "outputs": [
    {
     "name": "stdout",
     "output_type": "stream",
     "text": [
      "d 20\n",
      "e 21\n",
      "b 2\n",
      "c 11\n",
      "a 1\n",
      "ChainMap({'a': 1, 'b': 2}, {'b': 10, 'c': 11}, {'d': 20, 'e': 21}) b 的值为: 2\n"
     ]
    }
   ],
   "source": [
    "x = {'a': 1, 'b': 2}\n",
    "y = {'b': 10, 'c': 11}\n",
    "z = {'d': 20, 'e': 21}\n",
    "\n",
    "combined = collections.ChainMap(x, y, z)\n",
    "for k, v in combined.items():\n",
    "    print(k, v)\n",
    "\n",
    "print(combined, f'b 的值为: {combined[\"b\"]}')"
   ]
  },
  {
   "cell_type": "code",
   "execution_count": 14,
   "id": "beb02f89-79ec-4153-92d6-5040e41fe68b",
   "metadata": {},
   "outputs": [
    {
     "name": "stdout",
     "output_type": "stream",
     "text": [
      "a 1\n",
      "b 10\n",
      "c 11\n",
      "d 20\n",
      "e 21\n",
      "ChainMap({'d': 20, 'e': 21}, {'b': 10, 'c': 11}, {'a': 1, 'b': 2}) b 的值为: 10\n"
     ]
    }
   ],
   "source": [
    "combined = collections.ChainMap(z, y, x)\n",
    "for k, v in combined.items():\n",
    "    print(k, v)\n",
    "\n",
    "print(combined, f'b 的值为: {combined[\"b\"]}')"
   ]
  },
  {
   "cell_type": "markdown",
   "id": "d7faf6a0-b6d2-4e4b-9dab-dae7d52018c7",
   "metadata": {},
   "source": [
    "一个 ChainMap 通过引用合并底层映射。 所以，如果一个底层映射更新了，这些更改会反映到 ChainMap 。"
   ]
  },
  {
   "cell_type": "code",
   "execution_count": 23,
   "id": "a68e7478-c3de-4844-82a8-bb6275f663ff",
   "metadata": {},
   "outputs": [
    {
     "name": "stdout",
     "output_type": "stream",
     "text": [
      "d 20\n",
      "e 21\n",
      "f 66\n",
      "b 10\n",
      "c 11\n",
      "a 1\n",
      "ChainMap({'a': 1, 'f': 66}, {'b': 10, 'c': 11}, {'d': 20, 'e': 21, 'f': 30})\n"
     ]
    }
   ],
   "source": [
    "z['f'] = 30\n",
    "for k, v in combined.items():\n",
    "    print(k, v)\n",
    "\n",
    "print(combined)"
   ]
  },
  {
   "cell_type": "markdown",
   "id": "2bde0049-f614-43cc-a619-aaf0ed090b2d",
   "metadata": {},
   "source": [
    "如果没有指定任何 maps，一个空字典会被作为 maps。这样，每个新链至少包含一个映射。"
   ]
  },
  {
   "cell_type": "code",
   "execution_count": 21,
   "id": "f19b1af0-7441-40a2-b85e-72f9d6f8b051",
   "metadata": {},
   "outputs": [
    {
     "data": {
      "text/plain": [
       "ChainMap({})"
      ]
     },
     "execution_count": 21,
     "metadata": {},
     "output_type": "execute_result"
    }
   ],
   "source": [
    "chain_map = collections.ChainMap()\n",
    "chain_map"
   ]
  },
  {
   "cell_type": "markdown",
   "id": "5f9605a4-f4c8-4195-b10e-ab23627682aa",
   "metadata": {},
   "source": [
    "### (1). maps \n",
    "\n",
    "ChainMap 底层映射被存储在一个列表中。这个列表是公开的，可以通过 maps 属性存取和更新。"
   ]
  },
  {
   "cell_type": "code",
   "execution_count": 31,
   "id": "531a3b4b-5b4f-48b8-9673-ca17a165adac",
   "metadata": {},
   "outputs": [
    {
     "name": "stdout",
     "output_type": "stream",
     "text": [
      "[{'a': 1, 'b': 2}, {'b': 10, 'c': 11}]\n",
      "[{'a': 1, 'b': 2}, {'b': 10, 'c': 11}, {'d': 20, 'e': 21}]\n"
     ]
    }
   ],
   "source": [
    "x = {'a': 1, 'b': 2}\n",
    "y = {'b': 10, 'c': 11}\n",
    "\n",
    "combined = collections.ChainMap(x, y)\n",
    "print(combined.maps)\n",
    "z = {'d': 20, 'e': 21}\n",
    "combined.maps.append(z)\n",
    "print(combined.maps)"
   ]
  },
  {
   "cell_type": "markdown",
   "id": "a4a90ea5-78a8-42bd-b6e8-3b569482bda8",
   "metadata": {},
   "source": [
    "搜索查询底层映射，直到一个键被找到。不同的是，写，更新和删除只操作第一个映射。"
   ]
  },
  {
   "cell_type": "code",
   "execution_count": 33,
   "id": "dfcf50c8-06b8-4641-ae83-5e19bdbbbe04",
   "metadata": {},
   "outputs": [
    {
     "name": "stdout",
     "output_type": "stream",
     "text": [
      "ChainMap({'a': 1, 'f': 66}, {'b': 10, 'c': 11}, {'d': 20, 'e': 21})\n",
      "ChainMap({'a': 1, 'f': 66, 'b': 3}, {'b': 10, 'c': 11}, {'d': 20, 'e': 21})\n",
      "ChainMap({'a': 1, 'f': 66}, {'b': 10, 'c': 11}, {'d': 20, 'e': 21})\n",
      "10\n"
     ]
    }
   ],
   "source": [
    "print(combined)\n",
    "combined.update({'b': 3, 'f': 66})\n",
    "print(combined)\n",
    "del combined['b']\n",
    "print(combined)\n",
    "print(combined['b'])\n",
    "# 虽然 combined['b'] 有, 但是不在第一个 dict 中, 删除 combined['b'] 会报错\n",
    "# del combined['b']"
   ]
  },
  {
   "cell_type": "markdown",
   "id": "e9ba28e9-bdd9-438c-a1b4-240d9a8e37d2",
   "metadata": {},
   "source": [
    "ChainMap 类只更新链中的第一个映射，但lookup会搜索整个链。 然而，如果需要深度写和删除，也可以很容易的通过定义一个子类来实现它"
   ]
  },
  {
   "cell_type": "code",
   "execution_count": 37,
   "id": "c74a8df4-669e-48be-ac06-1cf2f0274085",
   "metadata": {},
   "outputs": [],
   "source": [
    "from collections import ChainMap\n",
    "\n",
    "\n",
    "class DeepChainMap(ChainMap):\n",
    "    'Variant of ChainMap that allows direct updates to inner scopes'\n",
    "\n",
    "    def __setitem__(self, key, value):\n",
    "        for mapping in self.maps:\n",
    "            if key in mapping:\n",
    "                mapping[key] = value\n",
    "                return\n",
    "        self.maps[0][key] = value\n",
    "\n",
    "    def __delitem__(self, key):\n",
    "        for mapping in self.maps:\n",
    "            if key in mapping:\n",
    "                del mapping[key]\n",
    "                return\n",
    "        raise KeyError(key)"
   ]
  },
  {
   "cell_type": "code",
   "execution_count": 38,
   "id": "0f8cd420-4d0f-4222-92b8-98afbc7ee8d7",
   "metadata": {},
   "outputs": [
    {
     "data": {
      "text/plain": [
       "DeepChainMap({'zebra': 'black', 'snake': 'red'}, {}, {'lion': 'orange'})"
      ]
     },
     "execution_count": 38,
     "metadata": {},
     "output_type": "execute_result"
    }
   ],
   "source": [
    "d = DeepChainMap({'zebra': 'black'}, {'elephant': 'blue'}, {'lion': 'yellow'})\n",
    "d['lion'] = 'orange'         # update an existing key two levels down\n",
    "d['snake'] = 'red'           # new keys get added to the topmost dict\n",
    "del d['elephant']            # remove an existing key one level down\n",
    "d                            # display result"
   ]
  },
  {
   "cell_type": "markdown",
   "id": "ef1f765a-e288-4048-be22-2dcd3ee8d9d4",
   "metadata": {},
   "source": [
    "### (2). new_child(m=None, **kwargs)\n",
    "\n",
    "返回一个新的 ChainMap，其中包含一个新的映射，后面跟随当前实例中的所有映射。 如果指定了 m，它会成为新的映射加在映射列表的前面；如果未指定，则会使用一个空字典，因此调用 d.new_child() 就等价于 ChainMap({}, *d.maps)。 如果指定了任何关键字参数，它们会更新所传入的映射或新的空字典。 此方法被用于创建子上下文，它可在不改变任何上级映射的情况下被更新。"
   ]
  },
  {
   "cell_type": "code",
   "execution_count": 35,
   "id": "da2d5661-fbc5-4608-ac0a-f9b71690e132",
   "metadata": {},
   "outputs": [
    {
     "data": {
      "text/plain": [
       "ChainMap({}, {})"
      ]
     },
     "execution_count": 35,
     "metadata": {},
     "output_type": "execute_result"
    }
   ],
   "source": [
    "chain_map = collections.ChainMap()\n",
    "nested_chain_map = chain_map.new_child()\n",
    "nested_chain_map"
   ]
  },
  {
   "cell_type": "code",
   "execution_count": 34,
   "id": "e0dc5553-a417-4f8d-892f-a2648288427d",
   "metadata": {},
   "outputs": [
    {
     "name": "stdout",
     "output_type": "stream",
     "text": [
      "[{'b': 10, 'c': 11}, {'a': 1, 'b': 2}]\n",
      "[{'d': 55, 'e': 88}, {'b': 10, 'c': 11}, {'a': 1, 'b': 2}]\n"
     ]
    }
   ],
   "source": [
    "x = {'a': 1, 'b': 2}\n",
    "y = {'b': 10, 'c': 11}\n",
    "z = collections.ChainMap(y, x)\n",
    "\n",
    "print(z.maps)\n",
    "\n",
    "xx = {'d': 55, 'e': 88}\n",
    "z = z.new_child(xx)\n",
    "print(z.maps)"
   ]
  },
  {
   "cell_type": "markdown",
   "id": "08f0a792-c7f4-47e7-8a24-f89851543af3",
   "metadata": {},
   "source": [
    "### (3). parents\n",
    "\n",
    "属性返回一个新的 ChainMap 包含所有的当前实例的映射，除了第一个。这样可以在搜索的时候跳过第一个映射。\n",
    "\n",
    "使用的场景类似在 nested scopes 嵌套作用域中使用 nonlocal 关键词。用例也可以类比内建函数 super() 。\n",
    "\n",
    "一个 d.parents 的引用等价于 ChainMap(*d.maps[1:]) 。"
   ]
  },
  {
   "cell_type": "code",
   "execution_count": 44,
   "id": "6c4ebece-f8a6-4da5-95b4-fd3358f8fd20",
   "metadata": {},
   "outputs": [
    {
     "name": "stdout",
     "output_type": "stream",
     "text": [
      "ChainMap({'b': 10, 'c': 11})\n",
      "[{'a': 1, 'b': 2}, {'b': 10, 'c': 11}]\n"
     ]
    }
   ],
   "source": [
    "x = {'a': 1, 'b': 2}\n",
    "y = {'b': 10, 'c': 11}\n",
    "z = collections.ChainMap(x, y)\n",
    "\n",
    "print(z.parents)\n",
    "print(z.maps)"
   ]
  },
  {
   "cell_type": "markdown",
   "id": "cb98ba2d-4770-4997-9479-2e68b3247eb9",
   "metadata": {},
   "source": [
    "## 2. class collections.Counter([iterable-or-mapping])\n",
    "\n",
    "Counter 是 dict 的子类，用于计数 hashable 对象。它是一个多项集，元素存储为字典的键而它们的计数存储为字典的值。\n",
    "\n",
    "计数可以是任何整数，包括零或负的计数值。它可以通过计数一个 iterable 中的元素来初始化"
   ]
  },
  {
   "cell_type": "code",
   "execution_count": 1,
   "id": "38179923-592b-428a-b8d3-edf09b191be0",
   "metadata": {},
   "outputs": [],
   "source": [
    "from collections import Counter"
   ]
  },
  {
   "cell_type": "code",
   "execution_count": 7,
   "id": "28861e27-08a0-4480-821a-0274144140bb",
   "metadata": {},
   "outputs": [
    {
     "name": "stdout",
     "output_type": "stream",
     "text": [
      "Counter({'blue': 3, 'red': 2, 'green': 1})\n",
      "Counter({'blue': 3, 'red': 2, 'green': 1})\n"
     ]
    }
   ],
   "source": [
    "cnt = Counter()\n",
    "for word in ['red', 'blue', 'red', 'green', 'blue', 'blue']:\n",
    "    cnt[word] += 1\n",
    "\n",
    "print(cnt)\n",
    "print(Counter(['red', 'blue', 'red', 'green', 'blue', 'blue']))"
   ]
  },
  {
   "cell_type": "code",
   "execution_count": 8,
   "id": "c3383800-1fb1-407a-ab9d-33447a6fea1b",
   "metadata": {},
   "outputs": [
    {
     "name": "stdout",
     "output_type": "stream",
     "text": [
      "Counter({'a': 3, 'l': 2, 'g': 1, 'h': 1, 'd': 1})\n",
      "Counter({'red': 4, 'blue': 2})\n",
      "Counter({'dogs': 8, 'cats': 4})\n"
     ]
    }
   ],
   "source": [
    "c = Counter('gallahad')                 # a new counter from an iterable\n",
    "print(c)\n",
    "c = Counter({'red': 4, 'blue': 2})      # a new counter from a mapping\n",
    "print(c)\n",
    "c = Counter(cats=4, dogs=8)             # a new counter from keyword args\n",
    "print(c)"
   ]
  },
  {
   "cell_type": "markdown",
   "id": "f6aa5c07-4f30-47e5-96a8-8539be09c733",
   "metadata": {},
   "source": [
    "Counter 对象的接口类似于字典，不同的是，如果查询的键不在 Counter 中，它会返回一个 0 而不是引发一个 KeyError："
   ]
  },
  {
   "cell_type": "code",
   "execution_count": 9,
   "id": "78870794-04da-4305-a405-fd30cfc49dac",
   "metadata": {},
   "outputs": [
    {
     "data": {
      "text/plain": [
       "0"
      ]
     },
     "execution_count": 9,
     "metadata": {},
     "output_type": "execute_result"
    }
   ],
   "source": [
    "c['bacon']"
   ]
  },
  {
   "cell_type": "markdown",
   "id": "2d11503d-e2e0-48e2-92c6-a10d0c8d5b54",
   "metadata": {},
   "source": [
    "计数对象支持相等性、子集和超集关系等富比较运算符: ==, !=, <, <=, >, >=。 \n",
    "\n",
    "所有这些检测会将不存在的元素当作计数值为零，因此 Counter(a=1) == Counter(a=1, b=0) 将返回真值。"
   ]
  },
  {
   "cell_type": "code",
   "execution_count": 17,
   "id": "7fb2abee-0ee8-4cdf-885f-83ed55e35910",
   "metadata": {},
   "outputs": [
    {
     "name": "stdout",
     "output_type": "stream",
     "text": [
      "Counter({'a': 4, 'b': 3})\n",
      "Counter({'a': 2})\n",
      "Counter({'a': 1, 'b': 1})\n",
      "Counter({'a': 3, 'b': 2})\n",
      "False\n",
      "False\n"
     ]
    }
   ],
   "source": [
    "c = Counter(a=3, b=1)\n",
    "d = Counter(a=1, b=2)\n",
    "print(c + d)                       # add two counters together:  c[x] + d[x]\n",
    "print(c - d)                       # subtract (keeping only positive counts)\n",
    "print(c & d)                       # intersection:  min(c[x], d[x])\n",
    "print(c | d)                       # union:  max(c[x], d[x])\n",
    "print(c == d)                      # equality:  c[x] == d[x]\n",
    "print(c <= d)                      # inclusion:  c[x] <= d[x]"
   ]
  },
  {
   "cell_type": "markdown",
   "id": "6f944c99-cace-45ec-87e5-dd756d39208d",
   "metadata": {},
   "source": [
    "单目加和减（一元操作符）意思是从空计数器加或者减去。"
   ]
  },
  {
   "cell_type": "code",
   "execution_count": 18,
   "id": "48dbd5d6-0d59-4b95-b104-e5e474ea8724",
   "metadata": {},
   "outputs": [
    {
     "name": "stdout",
     "output_type": "stream",
     "text": [
      "Counter({'a': 2})\n",
      "Counter({'b': 4})\n"
     ]
    }
   ],
   "source": [
    "c = Counter(a=2, b=-4)\n",
    "print(+c)\n",
    "print(-c)"
   ]
  },
  {
   "cell_type": "markdown",
   "id": "49dba983-2a24-415a-8d0c-68e19068518b",
   "metadata": {},
   "source": [
    "### (1). elements()\n",
    "\n",
    "返回一个迭代器，其中每个元素将重复出现计数值所指定次。 元素会按首次出现的顺序返回。 \n",
    "\n",
    "如果一个元素的计数值小于一，elements() 将会忽略它。"
   ]
  },
  {
   "cell_type": "code",
   "execution_count": 11,
   "id": "8ef99e63-845c-4664-bfcb-5d8782e21c66",
   "metadata": {},
   "outputs": [
    {
     "data": {
      "text/plain": [
       "['a', 'a', 'a', 'a', 'b', 'b']"
      ]
     },
     "execution_count": 11,
     "metadata": {},
     "output_type": "execute_result"
    }
   ],
   "source": [
    "c = Counter(a=4, b=2, c=0, d=-2)\n",
    "list(c.elements())"
   ]
  },
  {
   "cell_type": "markdown",
   "id": "b60ee232-de97-4ccb-ac33-1e4c16349641",
   "metadata": {},
   "source": [
    "### (2). most_common([n])\n",
    "\n",
    "返回一个列表，其中包含 n 个最常见的元素及出现次数，按常见程度由高到低排序。\n",
    "\n",
    "如果 n 被省略或为 None，most_common() 将返回计数器中的 所有 元素。 \n",
    "\n",
    "计数值相等的元素按首次出现的顺序排序："
   ]
  },
  {
   "cell_type": "code",
   "execution_count": 12,
   "id": "d5542ecc-1fbb-4804-9b99-a9a855714141",
   "metadata": {},
   "outputs": [
    {
     "data": {
      "text/plain": [
       "[('a', 5), ('b', 2), ('r', 2)]"
      ]
     },
     "execution_count": 12,
     "metadata": {},
     "output_type": "execute_result"
    }
   ],
   "source": [
    "Counter('abracadabra').most_common(3)"
   ]
  },
  {
   "cell_type": "markdown",
   "id": "74e89a07-f16c-438e-bd6d-7ba5fd47b860",
   "metadata": {},
   "source": [
    "### (3). subtract([iterable-or-mapping])\n",
    "\n",
    "减去一个 可迭代对象 或 映射对象 (或 counter) 中的元素。\n",
    "\n",
    "类似于 dict.update() 但是是减去而非替换。输入和输出都可以是 0 或负数。"
   ]
  },
  {
   "cell_type": "code",
   "execution_count": 13,
   "id": "aa14f133-f808-4694-8e5e-ce17759ad540",
   "metadata": {},
   "outputs": [
    {
     "data": {
      "text/plain": [
       "Counter({'a': 3, 'b': 0, 'c': -3, 'd': -6})"
      ]
     },
     "execution_count": 13,
     "metadata": {},
     "output_type": "execute_result"
    }
   ],
   "source": [
    "c = Counter(a=4, b=2, c=0, d=-2)\n",
    "d = Counter(a=1, b=2, c=3, d=4)\n",
    "c.subtract(d)\n",
    "c"
   ]
  },
  {
   "cell_type": "markdown",
   "id": "8daae0b1-eda9-4898-a7b2-97a10504b902",
   "metadata": {},
   "source": [
    "### (4). total()\n",
    "\n",
    "计算总计数值。"
   ]
  },
  {
   "cell_type": "code",
   "execution_count": 15,
   "id": "c5455c8a-1172-40ed-b0d4-7673ab9c33bf",
   "metadata": {},
   "outputs": [
    {
     "data": {
      "text/plain": [
       "13"
      ]
     },
     "execution_count": 15,
     "metadata": {},
     "output_type": "execute_result"
    }
   ],
   "source": [
    "c = Counter(a=10, b=5, c=0, d=-2)\n",
    "c.total()"
   ]
  },
  {
   "cell_type": "code",
   "execution_count": 16,
   "id": "d9e41d04-402e-4fa9-8df6-0b3298fc37eb",
   "metadata": {},
   "outputs": [
    {
     "data": {
      "text/plain": [
       "True"
      ]
     },
     "execution_count": 16,
     "metadata": {},
     "output_type": "execute_result"
    }
   ],
   "source": [
    "Counter(a=3, b=0) == Counter(a=3)"
   ]
  },
  {
   "cell_type": "code",
   "execution_count": null,
   "id": "c4850f57-d227-493f-8366-37906194c143",
   "metadata": {},
   "outputs": [],
   "source": []
  },
  {
   "cell_type": "code",
   "execution_count": null,
   "id": "65c5ada1-ec15-471f-9b3a-73b9d608ee58",
   "metadata": {},
   "outputs": [],
   "source": []
  },
  {
   "cell_type": "code",
   "execution_count": null,
   "id": "9240c78a-b51f-4331-9ab9-c9772784bf48",
   "metadata": {},
   "outputs": [],
   "source": []
  },
  {
   "cell_type": "code",
   "execution_count": null,
   "id": "ded56526-fea3-47fc-8fe1-1a44e3dd652a",
   "metadata": {},
   "outputs": [],
   "source": []
  },
  {
   "cell_type": "code",
   "execution_count": null,
   "id": "070f60c0-e1ce-4fc5-83fb-cc4746b0e42c",
   "metadata": {},
   "outputs": [],
   "source": []
  },
  {
   "cell_type": "code",
   "execution_count": null,
   "id": "6d1a170b-d28c-42af-a43c-76535f100140",
   "metadata": {},
   "outputs": [],
   "source": []
  }
 ],
 "metadata": {
  "kernelspec": {
   "display_name": "Python 3 (ipykernel)",
   "language": "python",
   "name": "python3"
  },
  "language_info": {
   "codemirror_mode": {
    "name": "ipython",
    "version": 3
   },
   "file_extension": ".py",
   "mimetype": "text/x-python",
   "name": "python",
   "nbconvert_exporter": "python",
   "pygments_lexer": "ipython3",
   "version": "3.10.12"
  }
 },
 "nbformat": 4,
 "nbformat_minor": 5
}
