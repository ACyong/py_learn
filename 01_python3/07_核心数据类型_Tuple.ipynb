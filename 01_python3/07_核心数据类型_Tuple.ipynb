{
 "cells": [
  {
   "cell_type": "markdown",
   "metadata": {},
   "source": [
    "# python 的核心数据类型：\n",
    "\n",
    "* Number      数字（整数，浮点数，复数，布尔型数）\n",
    "* String      字符串\n",
    "* List        列表\n",
    "* **Tuple     元组**\n",
    "* Dictionary  字典\n",
    "* Set         集合"
   ]
  },
  {
   "cell_type": "markdown",
   "metadata": {},
   "source": [
    "## 1. 元组 tuple\n",
    "```\n",
    "元组是一个不可改变的序列，可以理解为不能改变的列表，元组可以存放任意类型的元素\n",
    "```\n",
    "\n",
    "元素的表示方法：\n",
    "```\n",
    "用小括号括起来 () ，单个元素括起来后加逗号 ',' ，区分是单个对象还是元组\n",
    "```\n",
    "\n",
    "## 2. 元组的创建\n",
    "\n",
    "- 创始空元组"
   ]
  },
  {
   "cell_type": "code",
   "execution_count": 3,
   "metadata": {
    "scrolled": true
   },
   "outputs": [
    {
     "name": "stdout",
     "output_type": "stream",
     "text": [
      "() <class 'tuple'>\n"
     ]
    }
   ],
   "source": [
    "t = ()\n",
    "print(t, type(t))"
   ]
  },
  {
   "cell_type": "markdown",
   "metadata": {},
   "source": [
    "- 创建非空元组："
   ]
  },
  {
   "cell_type": "code",
   "execution_count": 5,
   "metadata": {},
   "outputs": [
    {
     "name": "stdout",
     "output_type": "stream",
     "text": [
      "(100,) <class 'tuple'>\n",
      "(20,) <class 'tuple'>\n",
      "(1, 2, 3) <class 'tuple'>\n",
      "(300, 200, 100) <class 'tuple'>\n",
      "(1, 2, 'hello') <class 'tuple'>\n"
     ]
    }
   ],
   "source": [
    "t = 100,        # 括号可以不加，但逗号必须加\n",
    "print(t, type(t))\n",
    "t = (20,)       # 如果不加逗号 '()' 则表示表达式分组，不会生成元组，还是原类型\n",
    "print(t, type(t))\n",
    "t = (1,2,3)\n",
    "print(t, type(t))\n",
    "t = 300, 200, 100\n",
    "print(t, type(t))\n",
    "\n",
    "s = \"hello\"\n",
    "t = (1, 2, s)\n",
    "print(t, type(t))"
   ]
  },
  {
   "cell_type": "markdown",
   "metadata": {},
   "source": [
    "- 创建空元组的错误实例："
   ]
  },
  {
   "cell_type": "code",
   "execution_count": 4,
   "metadata": {
    "scrolled": true
   },
   "outputs": [
    {
     "name": "stdout",
     "output_type": "stream",
     "text": [
      "20 <class 'int'>\n",
      "100 200 300\n",
      "100 200 300\n",
      "A B C\n"
     ]
    }
   ],
   "source": [
    "t = (20)                    # t绑定20这个整数对象，不是元组\n",
    "print(t, type(t))\n",
    "\n",
    "x, y, z = (100, 200, 300)   # 本身是元组，相当与打包后又拆开分别给了各元素对应的变量，属于序列赋值\n",
    "print(x, y, z)\n",
    "x, y, z = [100, 200, 300]   # 生成的是列表\n",
    "print(x, y, z)\n",
    "x, y, z = \"ABC\"             # 可迭代对象的序列赋值\n",
    "print(x, y, z)"
   ]
  },
  {
   "cell_type": "markdown",
   "metadata": {},
   "source": [
    "- 元组的构造（创建）函数 tuple\n",
    "\n",
    "```\n",
    "tuple()           创建一个空元组，等同于 ()\n",
    "tuple(iterable)   用可迭代对象生成一个元组\n",
    "```"
   ]
  },
  {
   "cell_type": "code",
   "execution_count": 6,
   "metadata": {},
   "outputs": [
    {
     "name": "stdout",
     "output_type": "stream",
     "text": [
      "('a', 'b', 'c') <class 'tuple'>\n"
     ]
    }
   ],
   "source": [
    "t = tuple(\"abc\")\n",
    "print(t, type(t))"
   ]
  },
  {
   "cell_type": "markdown",
   "metadata": {},
   "source": [
    "## 3. 元组的运算：(规则与列表完全相同)\n",
    "\n",
    "- 元组支持的运算\n",
    "\n",
    "```\n",
    "+   *\n",
    "<   <=   >   >=   !=   ==\n",
    "in / not in\n",
    "```\n",
    "\n",
    "- 元组支持的操作\n",
    "\n",
    "```\n",
    "索引（等同与列表索引，但不能进行索引赋值）   取值\n",
    "切片（等同与列表片切，但不能进行切片赋值）   取值\n",
    "```\n",
    "\n",
    "- 元组支持的方法：\n",
    "\n",
    "```\n",
    "T.index(v[,begin[,end]])   返回对应元素的下标，同list.index在元素不存，在时会触发ValueError错误\n",
    "T.count(x)   返回元组中对应元素的个数\n",
    "```"
   ]
  },
  {
   "cell_type": "markdown",
   "metadata": {},
   "source": [
    "## 4. 字符串处理方法 partition(sep)、rpartition(sep)\n",
    "\n",
    "str.rpartition(sep)\n",
    "\n",
    "```\n",
    "在 sep 最后一次出现的位置拆分字符串，返回一个 3 元组，其中包含分隔符之前的部分、分隔符本身，以及分隔符之后的部分。 如果分隔符未找到，则返回的 3 元组中包含两个空字符串以及字符串本身。rpartition 和 partition 的细微区别在于前者从目标字符串的末尾也就是右边开始搜索分割符。\n",
    "```"
   ]
  },
  {
   "cell_type": "code",
   "execution_count": 15,
   "metadata": {},
   "outputs": [
    {
     "data": {
      "text/plain": [
       "('hello', ' ', 'world')"
      ]
     },
     "execution_count": 15,
     "metadata": {},
     "output_type": "execute_result"
    }
   ],
   "source": [
    "\"hello world\".partition(\" \")"
   ]
  },
  {
   "cell_type": "code",
   "execution_count": null,
   "metadata": {},
   "outputs": [],
   "source": []
  }
 ],
 "metadata": {
  "kernelspec": {
   "display_name": "Python 3",
   "language": "python",
   "name": "python3"
  },
  "language_info": {
   "codemirror_mode": {
    "name": "ipython",
    "version": 3
   },
   "file_extension": ".py",
   "mimetype": "text/x-python",
   "name": "python",
   "nbconvert_exporter": "python",
   "pygments_lexer": "ipython3",
   "version": "3.7.3"
  }
 },
 "nbformat": 4,
 "nbformat_minor": 4
}
