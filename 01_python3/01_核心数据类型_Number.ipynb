{
 "cells": [
  {
   "cell_type": "markdown",
   "metadata": {},
   "source": [
    "# python 的核心数据类型：\n",
    "\n",
    "* **Number    数字（整数，浮点数，复数，布尔型数）**\n",
    "* String      字符串\n",
    "* List        列表\n",
    "* Tuple       元组\n",
    "* Dictionary  字典\n",
    "* Set         集合\n",
    "---\n",
    "\n",
    "## 1. 整数（整型数）int\n",
    "\n",
    "> 整数是指不带小数部分的数（自然数，0，负数自然数），如：-5，100，0，99999999999\n",
    "\n",
    "整型数的字面值表示方式：\n",
    "\n",
    "- 十进制的表示方式：\n",
    "\n",
    "```\n",
    "10\n",
    "200\n",
    "-1\n",
    "9999999999999999（python 的整数可以很大）\n",
    "```\n",
    "\n",
    "- 二进制的表示方式（以0b开头，后跟0-1）\n",
    "\n",
    "> 用 bin(x) 函数将其他进制数转为二进制字符串表示"
   ]
  },
  {
   "cell_type": "code",
   "execution_count": 1,
   "metadata": {
    "scrolled": false
   },
   "outputs": [
    {
     "data": {
      "text/plain": [
       "7"
      ]
     },
     "execution_count": 1,
     "metadata": {},
     "output_type": "execute_result"
    }
   ],
   "source": [
    "0b111"
   ]
  },
  {
   "cell_type": "code",
   "execution_count": 2,
   "metadata": {
    "scrolled": false
   },
   "outputs": [
    {
     "data": {
      "text/plain": [
       "1018711"
      ]
     },
     "execution_count": 2,
     "metadata": {},
     "output_type": "execute_result"
    }
   ],
   "source": [
    "0b11111000101101010111"
   ]
  },
  {
   "cell_type": "code",
   "execution_count": 3,
   "metadata": {},
   "outputs": [
    {
     "data": {
      "text/plain": [
       "'0b1010'"
      ]
     },
     "execution_count": 3,
     "metadata": {},
     "output_type": "execute_result"
    }
   ],
   "source": [
    "bin(10)"
   ]
  },
  {
   "cell_type": "markdown",
   "metadata": {},
   "source": [
    "- 八进制的表示方式（以0o开头，后跟0-7）\n",
    "\n",
    "> 用 oct(x) 函数将其他进制数转换为八进制字符串表示"
   ]
  },
  {
   "cell_type": "code",
   "execution_count": 4,
   "metadata": {},
   "outputs": [
    {
     "data": {
      "text/plain": [
       "9"
      ]
     },
     "execution_count": 4,
     "metadata": {},
     "output_type": "execute_result"
    }
   ],
   "source": [
    "0o11"
   ]
  },
  {
   "cell_type": "code",
   "execution_count": 5,
   "metadata": {},
   "outputs": [
    {
     "data": {
      "text/plain": [
       "127"
      ]
     },
     "execution_count": 5,
     "metadata": {},
     "output_type": "execute_result"
    }
   ],
   "source": [
    "0o177"
   ]
  },
  {
   "cell_type": "code",
   "execution_count": 6,
   "metadata": {},
   "outputs": [
    {
     "data": {
      "text/plain": [
       "'0o17'"
      ]
     },
     "execution_count": 6,
     "metadata": {},
     "output_type": "execute_result"
    }
   ],
   "source": [
    "oct(0b1111)"
   ]
  },
  {
   "cell_type": "markdown",
   "metadata": {},
   "source": [
    "- 十六进制的表示方式（以0x开头，后跟0-9&A-F||a-f）\n",
    "\n",
    "> 用 hex(x) 函数将其他进制数转换为十六进制字符串表示"
   ]
  },
  {
   "cell_type": "code",
   "execution_count": 7,
   "metadata": {},
   "outputs": [
    {
     "data": {
      "text/plain": [
       "17"
      ]
     },
     "execution_count": 7,
     "metadata": {},
     "output_type": "execute_result"
    }
   ],
   "source": [
    "0x11"
   ]
  },
  {
   "cell_type": "code",
   "execution_count": 8,
   "metadata": {},
   "outputs": [
    {
     "data": {
      "text/plain": [
       "255"
      ]
     },
     "execution_count": 8,
     "metadata": {},
     "output_type": "execute_result"
    }
   ],
   "source": [
    "0xFF"
   ]
  },
  {
   "cell_type": "code",
   "execution_count": 9,
   "metadata": {},
   "outputs": [
    {
     "data": {
      "text/plain": [
       "'0x7f'"
      ]
     },
     "execution_count": 9,
     "metadata": {},
     "output_type": "execute_result"
    }
   ],
   "source": [
    "hex(0o177)"
   ]
  },
  {
   "cell_type": "markdown",
   "metadata": {},
   "source": [
    "## 2. 浮点数 float\n",
    "\n",
    "> 浮点数是带有小数部分的数字（小数部分可以是0）\n",
    "\n",
    "### 浮点数的字面值表示方式：\n",
    "\n",
    "- 小数表示方式\n",
    "\n",
    "```\n",
    "3.14   3.1    3.0    3.   0.14   .14\n",
    "```\n",
    "\n",
    "- 科学计数表示方式：\n",
    "\n",
    "> 格式：小数 e/E(正负号) 指数（10的多少次方）\n",
    "\n",
    "```\n",
    "6.18E-1    # 等同于0.618\n",
    "2.9979e8   # 光速\n",
    "```\n",
    "---"
   ]
  },
  {
   "cell_type": "markdown",
   "metadata": {},
   "source": [
    "## 3. 复数 complex\n",
    "\n",
    "> 分为两部分：实部（real）,虚部（image）虚部是以‘j’或‘J’结尾的数\n",
    "\n",
    "- 复数的字面值表示方式：\n",
    "\n",
    "```\n",
    "1j\n",
    "(2j)\n",
    "1+1J\n",
    "1-2j\n",
    "```\n",
    "---"
   ]
  },
  {
   "cell_type": "markdown",
   "metadata": {},
   "source": [
    "## 4. 布尔 bool\n",
    "\n",
    "> 用来表示真和假两种状态的类型\n",
    "\n",
    "- 布尔数的字面值表示方式：\n",
    "\n",
    "```\n",
    "true  表示真（条件满足或成立）\n",
    "false 表示假（条件不满足或不成立）\n",
    "```\n",
    "\n",
    "> 注：true的值是1，false的值为0\n",
    "---"
   ]
  },
  {
   "cell_type": "markdown",
   "metadata": {},
   "source": [
    "\n",
    "\n",
    "## 5. 内置函数（1）：数值对象的构造（创建）函数\n",
    "\n",
    "- int(x，base=10) \n",
    "\n",
    "> base是进制关系,大于等于2且小于等36，默认十进制\n",
    "\n",
    "```\n",
    "用数字或字符串转换为整数，如果不给出参数，则返回0。\n",
    "如果给出base参数，意思是将符合base 进制的x 字符串数字或数字，\n",
    "转换成base 进制数，x 的取值范围0-9，a/A - z/Z\n",
    "```\n",
    "\n",
    "- float(obj)\n",
    "\n",
    "```\n",
    "用字符串或数字转换为浮点数，如果不给出参数，则返回0.0\n",
    "```\n",
    "\n",
    "- complex(r=0.0, i=0.0)\n",
    "\n",
    "```\n",
    "用数字创建一个复数（实部为r, 虚部为i）\n",
    "```\n",
    "\n",
    "- bool(x)\n",
    "\n",
    "```\n",
    "用x创建一个布尔值（Ture/False）\n",
    "```\n",
    "\n",
    "> bool(x) 返回假值的情况：\n",
    "\n",
    "```\n",
    "None            空值\n",
    "False           布尔假值\n",
    "0  0.0  0j      所有的数字零\n",
    "''              空字符串\n",
    "[]              空列表\n",
    "()              空元组\n",
    "{}              空字典\n",
    "set()           空集合等\n",
    "```\n",
    "---"
   ]
  },
  {
   "cell_type": "code",
   "execution_count": null,
   "metadata": {},
   "outputs": [],
   "source": []
  }
 ],
 "metadata": {
  "kernelspec": {
   "display_name": "Python 3",
   "language": "python",
   "name": "python3"
  },
  "language_info": {
   "codemirror_mode": {
    "name": "ipython",
    "version": 3
   },
   "file_extension": ".py",
   "mimetype": "text/x-python",
   "name": "python",
   "nbconvert_exporter": "python",
   "pygments_lexer": "ipython3",
   "version": "3.7.3"
  }
 },
 "nbformat": 4,
 "nbformat_minor": 2
}
