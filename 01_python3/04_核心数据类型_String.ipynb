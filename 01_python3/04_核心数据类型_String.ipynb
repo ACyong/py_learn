{
 "cells": [
  {
   "cell_type": "markdown",
   "metadata": {},
   "source": [
    "# python 的核心数据类型：\n",
    "\n",
    "* Number      数字（整数，浮点数，复数，布尔型数）\n",
    "* **String      字符串**\n",
    "* List        列表\n",
    "* Tuple       元组\n",
    "* Dictionary  字典\n",
    "* Sets        集合"
   ]
  },
  {
   "cell_type": "markdown",
   "metadata": {},
   "source": [
    "print(\"hello world!\")\n",
    "\n",
    "作用：\n",
    "```\n",
    "用来记录文本信息\n",
    "```\n",
    "\n",
    "## 1.字符串字面值的表示方法：在非注释中凡是用引号括起来的部分都是字符串\n",
    "```\n",
    "'    单引号\n",
    "\"    双引号\n",
    "'''  三单引号\n",
    "\"\"\"  三双引号\n",
    "```\n",
    "\n",
    "## 2. 空字符串的字面值表示方法：\n",
    "```\n",
    "''\n",
    "\"\"\n",
    "''''''\n",
    "\"\"\"\"\"\"\n",
    "注：空字符串的布尔测试值bool(x)为Flase\n",
    "```\n",
    "\n",
    "## 3. 非空字符串的字面值表示的方法：\n",
    "```\n",
    "'hello'\n",
    "\"hello\"\n",
    "'''hello'''\n",
    "\"\"\"hello\"\"\"\n",
    "```\n",
    "\n",
    "## 4. 字符串构造（创建）函数\n",
    "```\n",
    "str(obj)   将对象转换为字符串\n",
    "```\n",
    "\n",
    "## 5. 单引号和双引号的区别：\n",
    "```\n",
    "单引号内的双引号不算字符串结束符\n",
    "反之也成立，\n",
    "双引号内的单引号不算字符串结束符\n",
    "```\n",
    "\n",
    "## 6. 三引号字符串：\n",
    "```\n",
    "\"\"\", '''开头和结尾的字符串\n",
    "作用：\n",
    "1、三引号字符串可以包含单个的单引号和双引号\n",
    "2、三引号字符串中的换行会自动转换为换行符 (所见即所得)\n",
    "```\n",
    "\n",
    "例如：\n",
    "```\n",
    "想通过一个print函数打印如下三行文字：\n",
    "welcome to beijing\n",
    "I like Python\n",
    "I am studing⋯⋯\n",
    "```"
   ]
  },
  {
   "cell_type": "code",
   "execution_count": 4,
   "metadata": {},
   "outputs": [
    {
     "name": "stdout",
     "output_type": "stream",
     "text": [
      "welcome to beijing\n",
      "I like Python\n",
      "I am studing⋯⋯\n",
      "\n",
      "welcome to beijing\n",
      "I like Python\n",
      "I am studing⋯⋯\n"
     ]
    }
   ],
   "source": [
    "print(\"welcome to beijing\\nI like Python\\nI am studing⋯⋯\")\n",
    "print()\n",
    "print('''welcome to beijing\n",
    "I like Python\n",
    "I am studing⋯⋯''')"
   ]
  },
  {
   "cell_type": "markdown",
   "metadata": {},
   "source": [
    "## 7. 隐式字符串字面值拼接"
   ]
  },
  {
   "cell_type": "code",
   "execution_count": 6,
   "metadata": {},
   "outputs": [
    {
     "name": "stdout",
     "output_type": "stream",
     "text": [
      "I'm a teacher. my name is \"zhuangyongzheng\"\n",
      "I'm a teacher. my name is 'zhuangyongzheng'\n"
     ]
    }
   ],
   "source": [
    " s = \"I'm\"' a teacher.'   ' my name is \"zhuangyongzheng\"'\n",
    "print(s)\n",
    "\n",
    "print(\"I'm\"\n",
    "\" a teacher.\"\n",
    "\" my name is 'zhuangyongzheng'\")"
   ]
  },
  {
   "cell_type": "markdown",
   "metadata": {},
   "source": [
    "显式换行：折行符号 \\（反斜线）, 折行符号必须放在一行的末尾，目地是告诉解释器下一行也是本行的语句\n",
    "```\n",
    "x = 1+2+3+4+5+6 \\\n",
    "    +7+8+9+10\n",
    "```\n",
    "\n",
    "隐式换行：所有的括号的内容换行，称为隐式换行 () [] {}"
   ]
  },
  {
   "cell_type": "code",
   "execution_count": 24,
   "metadata": {},
   "outputs": [
    {
     "name": "stdout",
     "output_type": "stream",
     "text": [
      "holle world\n"
     ]
    }
   ],
   "source": [
    "print('holle', \n",
    "      'world')"
   ]
  },
  {
   "cell_type": "markdown",
   "metadata": {},
   "source": [
    "## 8. 用转义序列代表特殊字符, 字符串字面值中，常用反斜杠 \\ 后跟一些字符来表示特殊字符\n",
    "```\n",
    "\\'   代表单引号\n",
    "\\\"   代表双引号\n",
    "\\a   响铃\n",
    "\\c   不再产生新的输出\n",
    "\\e   转义符\n",
    "\\f   换页\n",
    "\\n   代表换行符\n",
    "\\\\   代表一个反斜杠\n",
    "\\r   返回光标至行首\n",
    "\\t   水平制表符\n",
    "\\v   垂直制表符\n",
    "\\b   倒退\n",
    "\\0   空字符，字符值为零\n",
    "\\0oo oo为两位八进制表示的字符\n",
    "\\xXX XX为两位十六进制表示的字符 ASCII（0-256）\n",
    "\\uXXXX  Unicode 16 的十六进制表示的字符 （0-65535）\n",
    "\\UXXXXXXXX  Unicode 32 的十六进制表示的字符\n",
    "```"
   ]
  },
  {
   "cell_type": "markdown",
   "metadata": {},
   "source": [
    "`练习: 输出字符串：Tom's pet is a cat.The cat's name is \"Tiechui\"  # 用转义符号实现`"
   ]
  },
  {
   "cell_type": "code",
   "execution_count": 2,
   "metadata": {},
   "outputs": [
    {
     "name": "stdout",
     "output_type": "stream",
     "text": [
      "Tom's pet is a cat.The cat's name is\"Tiechui\"\n"
     ]
    }
   ],
   "source": [
    "print(\"Tom's pet is a cat.The cat's name is\\\"Tiechui\\\"\")"
   ]
  },
  {
   "cell_type": "markdown",
   "metadata": {},
   "source": [
    "## 9. 文字是什么？\n",
    "```\n",
    "ASCII编码：\n",
    "python 中查看ASCII字符表：man ascii\n",
    "```\n",
    "\n",
    "常用的ASCII编码：\n",
    "```\n",
    "字符：     十进制     十六进制\n",
    "'0'          48          0x30\n",
    "'A'          65          0x41\n",
    "'a'          97          0x61\n",
    "len()函数可以返回字符个数\n",
    "```"
   ]
  },
  {
   "cell_type": "markdown",
   "metadata": {},
   "source": [
    "`练习：输入Unicode编码的起点值和终点值，打印此范围内的所有字符`\n",
    "```\n",
    "如：\n",
    "请输入起始值：58\n",
    "请输入终止值：64\n",
    "打印结果如下：\n",
    "十进制    十六进制     文字\n",
    "   48        0x30         0\n",
    "   49        0x31         1\n",
    "   50        0x32         2\n",
    "   ..........\n",
    "```"
   ]
  },
  {
   "cell_type": "code",
   "execution_count": 5,
   "metadata": {},
   "outputs": [
    {
     "name": "stdout",
     "output_type": "stream",
     "text": [
      "输入开始值：58\n",
      "输入终止值：64\n",
      "十进制 十六进制 文字\n",
      "58 0x3a :\n",
      "59 0x3b ;\n",
      "60 0x3c <\n",
      "61 0x3d =\n",
      "62 0x3e >\n",
      "63 0x3f ?\n",
      "64 0x40 @\n"
     ]
    }
   ],
   "source": [
    "n1 = int(input(\"输入开始值：\"))\n",
    "n2 = int(input(\"输入终止值：\"))\n",
    "\n",
    "print(\"十进制\", \"十六进制\", \"文字\")\n",
    "for x in range(n1, n2 + 1):\n",
    "    print(x, hex(x), chr(x))"
   ]
  },
  {
   "cell_type": "markdown",
   "metadata": {},
   "source": [
    "## 10. raw 字符串（原始字符串）\n",
    "\n",
    "格式：\n",
    "```\n",
    "r'字符串内容'\n",
    "r\"字符串内容\"\n",
    "r'''字符串内容'''\n",
    "r\"\"\"字符串内容\"\"\"\n",
    "repr('s')   返回s的原始字符串\n",
    "```\n",
    "\n",
    "作用：\n",
    "```\n",
    "让转义符号 \\ 无效\n",
    "```"
   ]
  },
  {
   "cell_type": "code",
   "execution_count": 3,
   "metadata": {},
   "outputs": [
    {
     "name": "stdout",
     "output_type": "stream",
     "text": [
      "\\\\\\\\\\\\\n",
      "C:\\newfile\\test.py\n"
     ]
    }
   ],
   "source": [
    "print(r'\\\\\\\\\\\\')    # \\\\\\\\\\\\\n",
    "path = r'C:\\newfile\\test.py'\n",
    "print(path)    # C:\\newfile\\test.py"
   ]
  },
  {
   "cell_type": "markdown",
   "metadata": {},
   "source": [
    "## 11. 字符串的运算：（计算出来的字符串不支持隐式拼接）\n",
    "\n",
    "运算符：\n",
    "```\n",
    "+   +=   *   *=\n",
    "```\n",
    "\n",
    "**+** 加号  用于字符串的拼接"
   ]
  },
  {
   "cell_type": "code",
   "execution_count": 4,
   "metadata": {},
   "outputs": [
    {
     "name": "stdout",
     "output_type": "stream",
     "text": [
      "ABCDEFG\n"
     ]
    }
   ],
   "source": [
    "a = \"ABCD\"\n",
    "b = \"EFG\"\n",
    "c = a + b\n",
    "print(c)"
   ]
  },
  {
   "cell_type": "markdown",
   "metadata": {},
   "source": [
    "+= 用于原字符串与右侧字符串拼接生成新字符串，同时用原变量绑定"
   ]
  },
  {
   "cell_type": "code",
   "execution_count": 5,
   "metadata": {},
   "outputs": [
    {
     "name": "stdout",
     "output_type": "stream",
     "text": [
      "abcd123\n"
     ]
    }
   ],
   "source": [
    "x = 'abcd'\n",
    "y = '123'\n",
    "x += y    # x = x + y\n",
    "print(x)"
   ]
  },
  {
   "cell_type": "markdown",
   "metadata": {},
   "source": [
    "`*` 生成重复的字符串"
   ]
  },
  {
   "cell_type": "code",
   "execution_count": 6,
   "metadata": {},
   "outputs": [
    {
     "name": "stdout",
     "output_type": "stream",
     "text": [
      "ABCDABCDABCD\n",
      "121212\n"
     ]
    }
   ],
   "source": [
    "x = \"ABCD\" * 3\n",
    "print(x)   # ABCDABCDABCD\n",
    "print(3 * \"12\")   # 121212"
   ]
  },
  {
   "cell_type": "markdown",
   "metadata": {},
   "source": [
    "*= 生成重复的字符串，并改变变量的绑定关系\n",
    "\n",
    "实例："
   ]
  },
  {
   "cell_type": "code",
   "execution_count": 8,
   "metadata": {},
   "outputs": [
    {
     "name": "stdout",
     "output_type": "stream",
     "text": [
      "123123123123\n",
      "ABCABC\n"
     ]
    }
   ],
   "source": [
    "x = '123'\n",
    "x *= 4\n",
    "print(x)    # 123123123123\n",
    "y = 2\n",
    "y *= \"ABC\"\n",
    "print(y)    # ABCABC"
   ]
  },
  {
   "cell_type": "markdown",
   "metadata": {},
   "source": [
    "## 12. 字符串的比较运算\n",
    "\n",
    "运算符：\n",
    "```\n",
    "<   <=   >   >=   ==   !=\n",
    "```"
   ]
  },
  {
   "cell_type": "code",
   "execution_count": 12,
   "metadata": {},
   "outputs": [
    {
     "name": "stdout",
     "output_type": "stream",
     "text": [
      "True\n",
      "True\n",
      "True\n",
      "True\n",
      "False\n",
      "True\n",
      "True\n",
      "False\n"
     ]
    }
   ],
   "source": [
    "print(\"ABC\" < \"ABD\")\n",
    "print(\"A\" < \"B\")\n",
    "print(\"ABC\" > \"AAC\")\n",
    "print(\"AD\" >= \"ABC\")\n",
    "print(\"ABC\" > 'abc')\n",
    "print(\"ABCD\" != \"DCBA\")\n",
    "print('abc' != 'ABC')\n",
    "print(\"100\" > \"50\")"
   ]
  },
  {
   "cell_type": "markdown",
   "metadata": {},
   "source": [
    "## 13. in / not in 运算符\n",
    "\n",
    "用于序列，字典，集合等容器中，用于判断某个值是否存在于这个容器，not in 与 in 运算符的返回结果相反\n",
    "\n",
    "格式：\n",
    "```\n",
    "对象 in 序列 (字符串本身就是序列)\n",
    "```"
   ]
  },
  {
   "cell_type": "code",
   "execution_count": 11,
   "metadata": {},
   "outputs": [
    {
     "name": "stdout",
     "output_type": "stream",
     "text": [
      "True\n",
      "False\n",
      "True\n"
     ]
    }
   ],
   "source": [
    "x = \"welcome to china!\"\n",
    "print('to' in x)\n",
    "print('zhuangyongzheng' in x)\n",
    "print('zhuangyongzheng' not in x)"
   ]
  },
  {
   "cell_type": "markdown",
   "metadata": {},
   "source": [
    "Python 所有运算符的优先级(由上到下以此递减)\n",
    "```\n",
    "**              指数（幂运算）\n",
    "~   +   -       按位取反，正号，负号\n",
    "*   /   //   %  乘，除，地板除，取余\n",
    "+   -           加减法\n",
    "<<   >>         左移，右移\n",
    "&               位与\n",
    "^               位异或\n",
    "|               位或\n",
    "<   <=   >   >=   ==   !=   is,   is not,   in,   not in\n",
    "not             布尔非\n",
    "and             布尔与\n",
    "or              布尔或\n",
    "if-else         条件表达式\n",
    "```"
   ]
  },
  {
   "cell_type": "markdown",
   "metadata": {},
   "source": [
    "## 14. 字符串的索引操作：Python 的字符串是不可以改变的字符序列\n",
    "\n",
    "语法：\n",
    "```\n",
    "字符串 [整数表达式]\n",
    "```\n",
    "\n",
    "说明： \n",
    "```\n",
    "1、序列都可以用索引（index）为访问序列中的对象\n",
    "2、序列的正向索引是从0开始的，第二个索引为1，⋯⋯最后一个索引是len(s)-1\n",
    "3、序列的反向索引是从-1开始的，-1代表最后一个，-2代表倒数第二个，以此类推，第一个是 -len(s)\n",
    "4、python中有六种内建序列：列表、元组、字符串、Unicode字符串、buffer对象和range对象\n",
    "5、序列的通用操作：索引、切片、加、乘、in/not in、len、max、min\n",
    "```"
   ]
  },
  {
   "cell_type": "markdown",
   "metadata": {},
   "source": [
    "## 15. 字符串的切片操作 slice\n",
    "\n",
    "从字符串序列中取出相应的元素重新组成一个字符串序列，原字符串不变\n",
    "\n",
    "语法：\n",
    "```\n",
    "s[(开始索引):(结束索引)(:(步长))]\n",
    "```\n",
    "注：小括号() 括起来的部分代表可省略\n",
    "\n",
    "说明：\n",
    "```\n",
    "开始索引是切片切下的起始位置，0代表第一个元素，1代表第二个元素⋯⋯\n",
    "结束索引是切片的终止点（但不包含终止点）\n",
    "\n",
    "步长是切片获取完当前元素后移动的方向和偏移量：\n",
    "1、没有步长，相当于取值完成后向有移动一个索引的位置（默认为1）\n",
    "2、当步长为整数时，去正向切片，步长代表下一次索引取值的增长值\n",
    "3、当步长为负整数时，取反向切片\n",
    "```\n",
    "注：反向切片时，默认的起始位置为最后一个元素，终止位置为第一个元素的前一个位置"
   ]
  },
  {
   "cell_type": "code",
   "execution_count": 2,
   "metadata": {},
   "outputs": [
    {
     "name": "stdout",
     "output_type": "stream",
     "text": [
      "BCD\n",
      "BCDE\n",
      "AB\n",
      "ABCDE\n",
      "\n",
      "\n",
      "ACE\n",
      "ECA\n",
      "DB\n",
      "EDCBA\n"
     ]
    }
   ],
   "source": [
    "s = \"ABCDE\"\n",
    "print(s[1: 4])\n",
    "print(s[1: 5])\n",
    "print(s[: 2])\n",
    "print(s[:])\n",
    "print(s[1: 1])\n",
    "print(s[3: 1])\n",
    "print(s[0: 5: 2])\n",
    "print(s[4: : -2])\n",
    "print(s[3: : -2])\n",
    "print(s[: : -1])"
   ]
  },
  {
   "cell_type": "markdown",
   "metadata": {},
   "source": [
    "`练习：输入任意一个字符串，判断这个字符串是否是回文`"
   ]
  },
  {
   "cell_type": "code",
   "execution_count": 1,
   "metadata": {},
   "outputs": [
    {
     "name": "stdout",
     "output_type": "stream",
     "text": [
      "请出入字符串：AAA\n",
      "输入的字符串是回文！\n"
     ]
    }
   ],
   "source": [
    "a = input(\"请出入字符串：\")\n",
    "b = a[: : -1]\n",
    "if a == b:\n",
    "    print(\"输入的字符串是回文！\")\n",
    "else:\n",
    "    print(\"输入的字符串不是回文！\")"
   ]
  },
  {
   "cell_type": "markdown",
   "metadata": {},
   "source": [
    "## 16. 字符串常用方法：\n",
    "\n",
    "> 方法 method（仅限于对象内部的函数/行为）\n",
    "\n",
    "- 方法的调用语法：\n",
    "\n",
    "```\n",
    "对象.方法名(参数列表)\n",
    "```"
   ]
  },
  {
   "cell_type": "markdown",
   "metadata": {},
   "source": [
    "- s代表字符串\n",
    "```\n",
    "s.isdigit()   判断字符串是否全为数字\n",
    "s.isalnum()   判断字符串是否都是数字或者字母\n",
    "s.isalpha()   判断是否全为字符\n",
    "s.islower()   判断是否全为小写字符\n",
    "s.isupper()   判断是否全为大写字符\n",
    "s.isspace()   判断是否全为空白字符    (空白字符：是指空格，水平制表符(\\t),换行符(\\n)等不可见字符)\n",
    "s.istitle()   判断字符串是否首字母大写\n",
    "```\n",
    "```\n",
    "s.startswith(prefix[, start[, end]])    判断字符串是否以 prefix 开头，prefix 可以是 tuple 类型\n",
    "s.endswith(suffix[, start[, end]])      判断字符串是否以 suffix 结尾，suffix 可以是 tuple 类型\n",
    "```\n",
    "```\n",
    "s.upper()     生成将英文字符转换为大写的字符串\n",
    "s.lower()     生成将英文字符转换为小写的字符串\n",
    "s.capitalize()   将字符串的第一个字母变成大写,其他字母变小写。\n",
    "s.swapcase()    用于对字符串的大小写字母进行转换。\n",
    "s.title()    将每一个单词的首字母大写，非首字母转换为小写\n",
    "```\n",
    "```\n",
    "s.find(sub[, start[, end]])   获取一个字符串子串 sub 的索引，成功返回第一个字符的下标，失败返回 -1\n",
    "s.rfind(sub[, start[, end]])  返回字符串最后一次出现的位置(从右向左查询)，如果没有匹配项则返回-1\n",
    "s.index(sub[, start[, end]])  获取一个字符串子串 sub 的索引，成功返回第一个字符的下标，失败抛出 ValueError 异常\n",
    "s.rindex(sub[, start[, end]]) 返回子字符串 sub 在字符串中最后出现的位置，如果没有匹配的字符串会报异常\n",
    "s.count(sub[, start[, end]])  获取一个字符串中子串的个数\n",
    "s.replace(old, new[, max])   把字符串中的（old）旧字符串替换成新的字符串，如果指定第三个参数max，则替换不超过max次，如果不指定则全部替换\n",
    "```\n",
    "```\n",
    "s.strip([chars])     返回去掉左右 chars 的字符串，如果没有指定 chars ，默认 chars 为空白\n",
    "s.lstrip([chars])    返回去掉左侧 chars 的字符串，如果没有指定 chars ，默认 chars 为空白\n",
    "s.rstrip([chars])    返回去掉右侧 chars 的字符串，如果没有指定 chars ，默认 chars 为空白\n",
    "```\n",
    "```\n",
    "s.center(width[, fill])   将原字符串居中，左右默认填充空格，width 字符长度，fill代表填充内容\n",
    "s.ljust(width[, fill])    将原字符串居左，左右默认填充空格，width 字符长度，fill代表填充内容\n",
    "s.rjust(width[, fill])    将原字符串居右，左右默认填充空格，width 字符长度，fill代表填充内容\n",
    "s.zfill(width)    width 字符长度，填充内容为0，在输出数值时比较常用\n",
    "s.expandtabs([tabsize])    tabsize 参数默认为8，把字符串中的制表符(tab) 转换为适当数量的空格\n",
    "```\n",
    "\n",
    "> 注：使用 replace 方法的时候可以考虑用 count 计算一下子串在字符串中出现的个数, 在是否包含子串的判定中推荐使用 in 和 not in 操作符"
   ]
  },
  {
   "cell_type": "markdown",
   "metadata": {},
   "source": [
    "`练习：输入一个字符串，判断其中有几个空格,把空格数打印出来`"
   ]
  },
  {
   "cell_type": "code",
   "execution_count": 10,
   "metadata": {},
   "outputs": [
    {
     "name": "stdout",
     "output_type": "stream",
     "text": [
      "请输入字符串：DGVI     \n",
      "5\n"
     ]
    }
   ],
   "source": [
    "s = input(\"请输入字符串：\")\n",
    "num = s.count(' ')\n",
    "print(num)"
   ]
  },
  {
   "cell_type": "markdown",
   "metadata": {},
   "source": [
    "`练习: 判断你输入的是否是整数`"
   ]
  },
  {
   "cell_type": "code",
   "execution_count": 11,
   "metadata": {},
   "outputs": [
    {
     "name": "stdout",
     "output_type": "stream",
     "text": [
      "请输入字符串：76367\n",
      "全是整数\n"
     ]
    }
   ],
   "source": [
    "s = input(\"请输入字符串：\")\n",
    "if s.isdigit():\n",
    "    print(\"全是整数\")\n",
    "else:\n",
    "    print(\"不是整数\")"
   ]
  },
  {
   "cell_type": "markdown",
   "metadata": {},
   "source": [
    "`练习：判断你输入是否是浮点数`"
   ]
  },
  {
   "cell_type": "code",
   "execution_count": 13,
   "metadata": {},
   "outputs": [
    {
     "name": "stdout",
     "output_type": "stream",
     "text": [
      "请输入字符串：jsdj.\n",
      "您输入的不是浮点数\n"
     ]
    }
   ],
   "source": [
    "s = input(\"请输入字符串：\")\n",
    "dot_count = s.count('.')  # 返回点的个数\n",
    "s2 = s.replace('.', '')\n",
    "\n",
    "if s2.isdigit() and dot_count == 1:\n",
    "    print(\"您输入的是浮点数:\", float(s))\n",
    "else:\n",
    "    print(\"您输入的不是浮点数\")"
   ]
  },
  {
   "cell_type": "markdown",
   "metadata": {},
   "source": [
    "## 17. 内置函数(4)\n",
    "\n",
    "- 字符串&数字转换函数\n",
    "```\n",
    "ord('c')   返回一个字符的Unicode数值\n",
    "chr(i)     返回i这个数值所对应的字符\n",
    "```\n",
    "\n",
    "- 整数转换为字符串表示的函数\n",
    "```\n",
    "bin(i)   将整数转换为二进制字符串表示\n",
    "oct(i)   将整数转换为八进制字符串表示\n",
    "hex(i)   将整数转换为十六进制字符串表示\n",
    "```"
   ]
  },
  {
   "cell_type": "markdown",
   "metadata": {},
   "source": [
    "`练习：输入一行字符串，打印这个字符串第一个字符，中间字符，和最后一个字符都是什么？如果输入的字符为偶数，则中间字符输入用\"|\" 表示`"
   ]
  },
  {
   "cell_type": "code",
   "execution_count": 4,
   "metadata": {},
   "outputs": [
    {
     "name": "stdout",
     "output_type": "stream",
     "text": [
      "请输入一行字符串：fdsfad\n",
      "f\n",
      "d\n",
      "|\n"
     ]
    }
   ],
   "source": [
    "s = input(\"请输入一行字符串：\")\n",
    "a = len(s)\n",
    "\n",
    "print(s[0])\n",
    "print(s[-1])\n",
    "\n",
    "if a % 2 == 0:\n",
    "    print(\"|\")\n",
    "else:\n",
    "    print(s[a // 2])"
   ]
  },
  {
   "cell_type": "markdown",
   "metadata": {},
   "source": [
    "`练习: 写一个程序，输入一段字符串，如果字符串不为空，则把第一个字符的编码打印出来`"
   ]
  },
  {
   "cell_type": "code",
   "execution_count": 5,
   "metadata": {
    "scrolled": true
   },
   "outputs": [
    {
     "name": "stdout",
     "output_type": "stream",
     "text": [
      "请输入字符串：dfhj\n",
      "100\n"
     ]
    }
   ],
   "source": [
    "s = input(\"请输入字符串：\")\n",
    "a = len(s)\n",
    "\n",
    "if a != 0:\n",
    "    print(ord(s[0]))\n",
    "else:\n",
    "    print(\"字符串为空！\")"
   ]
  },
  {
   "cell_type": "markdown",
   "metadata": {},
   "source": [
    "`练习: 写一个程序，输入一个整数值（0-65535），打印这个整数值所对应的字符`"
   ]
  },
  {
   "cell_type": "code",
   "execution_count": 8,
   "metadata": {
    "scrolled": true
   },
   "outputs": [
    {
     "name": "stdout",
     "output_type": "stream",
     "text": [
      "0 - 65535: 34252\n",
      "藌\n"
     ]
    }
   ],
   "source": [
    "n = int(input(\"0 - 65535: \"))\n",
    "\n",
    "if n in range(0, 65536):\n",
    "    print(chr(n))"
   ]
  },
  {
   "cell_type": "markdown",
   "metadata": {},
   "source": [
    "- 判断一个对象在内存地址的函数：\n",
    "\n",
    "```\n",
    "id(obj)   返回对象的内存地址\n",
    "```"
   ]
  },
  {
   "cell_type": "code",
   "execution_count": 3,
   "metadata": {},
   "outputs": [
    {
     "name": "stdout",
     "output_type": "stream",
     "text": [
      "1 4484113944\n"
     ]
    }
   ],
   "source": [
    "s1 = \"1\"\n",
    "print(s1, id(s1))"
   ]
  },
  {
   "cell_type": "code",
   "execution_count": null,
   "metadata": {},
   "outputs": [],
   "source": []
  }
 ],
 "metadata": {
  "kernelspec": {
   "display_name": "Python 3",
   "language": "python",
   "name": "python3"
  },
  "language_info": {
   "codemirror_mode": {
    "name": "ipython",
    "version": 3
   },
   "file_extension": ".py",
   "mimetype": "text/x-python",
   "name": "python",
   "nbconvert_exporter": "python",
   "pygments_lexer": "ipython3",
   "version": "3.7.3"
  }
 },
 "nbformat": 4,
 "nbformat_minor": 2
}
