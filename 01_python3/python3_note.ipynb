{
 "cells": [
  {
   "cell_type": "markdown",
   "metadata": {},
   "source": [
    "# 第一个 python 程序\n",
    "\n",
    "## 1. 编写 hello world 程序\n",
    "\n",
    "* 在新建的 hello.py 文件中写入如下一行："
   ]
  },
  {
   "cell_type": "code",
   "execution_count": 6,
   "metadata": {},
   "outputs": [
    {
     "name": "stdout",
     "output_type": "stream",
     "text": [
      "hello world!\n"
     ]
    }
   ],
   "source": [
    "print(\"hello world!\")"
   ]
  },
  {
   "cell_type": "markdown",
   "metadata": {},
   "source": [
    "## 2. 相对路径下执行python程序\n",
    "\n",
    "* 在terminal 中键入: `python3 hello.py` 后 <回车> <br/>\n",
    "或: <br/>\n",
    "* 在hello.py 文件中的最开始写入: `#!/python3所在的路径 python3` 后, 在 terminal 中可以用键入: `./hello.py` 后 <回车> 的形式执行 <br/>"
   ]
  },
  {
   "cell_type": "markdown",
   "metadata": {},
   "source": [
    "## 3. 在交互模式下编写并执行代码\n",
    "\n",
    "### (1). 进入交互模式\n",
    "\n",
    "* 在 terminal 中键入: `python3` 后 <回车>\n",
    "\n",
    "### (2). 退出交互模式\n",
    "\n",
    "* 在进入交互模式之后, 键入: `quit()` 或 `exit()` 或 <回车>"
   ]
  },
  {
   "cell_type": "markdown",
   "metadata": {},
   "source": [
    "***"
   ]
  },
  {
   "cell_type": "markdown",
   "metadata": {},
   "source": [
    "# python 的注释\n",
    "\n",
    "* python 注释是以 `#` 开头, 直至行尾\n",
    "> 作用：让解释执行器忽略掉 `#` 号之后的内容, 让其不参加执行, 或是书写解释性的文字, 解释代码"
   ]
  },
  {
   "cell_type": "markdown",
   "metadata": {},
   "source": [
    "***"
   ]
  },
  {
   "cell_type": "markdown",
   "metadata": {},
   "source": [
    "# python 程序的组成\n",
    "\n",
    "1. 程序由模块组成\n",
    "2. 模块由语句，函数，类组成\n",
    "3. 语句包含表达式\n",
    "4. 表达式是用来建立并处理数据对象"
   ]
  },
  {
   "cell_type": "markdown",
   "metadata": {},
   "source": [
    "***"
   ]
  },
  {
   "cell_type": "markdown",
   "metadata": {},
   "source": [
    "# python 的核心数据类型：\n",
    "\n",
    "1. Number      数字（整数，浮点数，复数，布尔型数）\n",
    "2. String      字符串\n",
    "3. List        列表\n",
    "4. Tuple       元组\n",
    "5. Sets        集合\n",
    "6. Dictionary  字典"
   ]
  },
  {
   "cell_type": "markdown",
   "metadata": {},
   "source": [
    "***"
   ]
  },
  {
   "cell_type": "markdown",
   "metadata": {},
   "source": [
    "# 数字类型\n",
    "\n",
    "## 1. 整数（整型数）int\n",
    "\n",
    "> 整数是指不带小数部分的数（自然数，0，负数自然数）, 如：-5，100，0，99999999999\n",
    "   \n",
    "**整型数的字面值表示方式: ** <br/>\n",
    "* 十进制的表示方式 <br/>\n",
    "10 <br/>\n",
    "200 <br/>\n",
    "-1 <br/>\n",
    "9999999999999999（python 的整数可以很大） <br/>\n",
    "<br/>\n",
    "    \n",
    "* 二进制的表示方式（以0b开头，后跟0-1）<br/>\n",
    "用 `bin(x)` 函数将其他进制数转为二进制 <br/>\n",
    "0b111                            # 7 <br/>\n",
    "0b11111000101101010111   # 1018711 <br/>\n",
    "<br/>\n",
    "    \n",
    "* 八进制的表示方式（以0o开头，后跟0-7）<br/>\n",
    "0o11     # 9 <br/>\n",
    "0o177   # 127 <br/>\n",
    "<br/>\n",
    "    \n",
    "* 十六进制的表示方式（以0x开头，后跟0-9&A-F||a-f）<br/>\n",
    "0x11    # 17 <br/>\n",
    "0xFF   # 255 <br/>\n",
    "    \n",
    "## 2. 浮点数 float\n",
    "\n",
    "> 浮点数是带有小数部分的数字（小数部分可以是0）\n",
    "\n",
    "**浮点数的字面量表示方式: ** <br/>\n",
    "* 小数表示方式<br/>\n",
    "3.14   3.1    3.0    3.   0.14   .14<br/>\n",
    "<br/>\n",
    "\n",
    "* 科学计数表示方式：<br/>\n",
    "格式：小数 e/E(正负号) 指数（10的多少次方）<br/>\n",
    "如：<br/>\n",
    "6.18E-1     # 等同于0.618<br/>\n",
    "2.9979e8   # 光速<br/>\n",
    "\n",
    "## 3. 复数 complex\n",
    "\n",
    "> 复数分为两部分：实部(real)  虚部(image)  虚部是以 `j` 或 `J` 结尾的数\n",
    "\n",
    "**复数的字面值表示方式: **<br/>\n",
    "1j<br/>\n",
    "(2j)<br/>\n",
    "1+1J<br/>\n",
    "1-2j<br/>\n",
    "\n",
    "## 4. 布尔数 bool\n",
    "\n",
    "> 布尔数用来表示真和假两种状态的类型\n",
    "\n",
    "**布尔数字面量表示方式: **<br/>\n",
    "\n",
    "* true  表示真（条件满足或成立）<br/>\n",
    "* false 表示假（条件不满足或不成立）<br/>\n",
    "\n",
    "> **注: **true的值是1，false的值为0<br/>\n",
    "\n",
    "## 5. 数值对象的构造（创建）函数\n",
    "\n",
    "* `int(x，base=10)`   # `base` 是进制关系, 大于等于2且小于等36, 默认十进制 <br/>\n",
    "    用数字或字符串转换为整数, 如果不给出参数, 则返回0. <br/>\n",
    "    如果给出 `base` 参数, 意思是将符合 `base` 进制的 `x` 字符串数字或数字, 转换成 `base` 进制数, `x` 的取值范围0-9, a/A - z/Z <br/>\n",
    "<br/>\n",
    "\n",
    "* `float(obj)` <br/>\n",
    "    用字符串或数字转换为浮点数，如果不给出参数，则返回0.0 <br/>\n",
    "<br/>\n",
    "\n",
    "* `complex(r=0.0, i=0.0)` <br/>\n",
    "    用数字创建一个复数（实部为r, 虚部为i）<br/>\n",
    "<br/>\n",
    "\n",
    "* `bool(x)` <br/>\n",
    "    用x创建一个布尔值（Ture/False）\n",
    "<br/>\n",
    "    \n",
    "> **注1:** <br/>\n",
    "    `bool(x)` 返回假值的情况:<br/>\n",
    "    None        空值<br/>\n",
    "    False        布尔假值<br/>\n",
    "    0  0.0  0j   所有的数字零<br/>\n",
    "    ''           空字符串<br/>\n",
    "    []           空列表<br/>\n",
    "    ()           空元组<br/>\n",
    "    {}           空字典<br/>\n",
    "    set()       空集合等<br/>\n",
    "\n",
    "> **注2:**<br/>\n",
    "    内置对象：空值 None<br/>\n",
    "    None 是一个表示不存在的特殊对象<br/>\n",
    "    作用：<br/>\n",
    "        1、用来站位<br/>\n",
    "        2、变量解除绑定<br/>"
   ]
  },
  {
   "cell_type": "markdown",
   "metadata": {},
   "source": [
    "***"
   ]
  },
  {
   "cell_type": "markdown",
   "metadata": {},
   "source": [
    "# 运算符 operaor \n",
    "\n",
    "1. 算数运算符 arithmetic\n",
    "2. 赋值运算符\n",
    "3. 复合赋值运算符\n",
    "4. 比较运算符\n",
    "5. 逻辑运算符\n",
    "6. 位运算符\n",
    "7. 三元运算符\n",
    "8. 正负运算符\n",
    "9. is、is not 运算符\n",
    "10. in、not in 运算符"
   ]
  },
  {
   "cell_type": "markdown",
   "metadata": {},
   "source": [
    "***"
   ]
  },
  {
   "cell_type": "markdown",
   "metadata": {},
   "source": [
    "# 表达式express\n",
    "\n",
    "> 表达式：由一个数字 或 数字和运算符组成，通常让计算机做一些事情并返回结果 <br/>\n",
    "   实例：1 + 2   # 将生成一个3这个整型值"
   ]
  },
  {
   "cell_type": "markdown",
   "metadata": {},
   "source": [
    "***"
   ]
  },
  {
   "cell_type": "markdown",
   "metadata": {},
   "source": [
    "# 算术运算符：\n",
    "\n",
    "* \\+   加法\n",
    "* \\-   减法\n",
    "* \\*   乘法\n",
    "* /   除法\n",
    "* //  地板除floordiv（python 2.3之后）\n",
    "* %   求余\n",
    "* **  幂运算\n",
    "\n",
    "注：1、/ 除法得到的是浮点型的数，不会丢弃小数部分\n",
    "        如：8 / 2   # 得4.0\n",
    "           1 / 3   # 得0.3333333333333333（精确到小数点后16位）\n",
    "    2、// 地板除是将除法得到的数去掉小数部分向下取整\n",
    "        如：7 / 3         # 2.3333333333333\n",
    "            7 // 3        # 2\n",
    "            3.25 // 1.5   # 2.0\n",
    "            -5 / 3        # 得 -2\n",
    "    3、% 求余\n",
    "        如：7 % 3        # 1\n",
    "            3.25 % 1.5   # 0.25\n",
    "    4、** 幂运算\n",
    "        格式：x ** y    # 意为x的y次方\n",
    "        如：4 ** 2        # 得16\n",
    "            3.0 ** 4.0    # 得81.0\n",
    "            5.6 ** 1.418  # 得11.506165654866916\n",
    "            4 ** 0.5      # 得2.0\n",
    "\n",
    "算数运算符的优先级\n",
    "    **     * / % //      + -   (同优先级自左向右)\n",
    "    实例：\n",
    "        1 + 3 * 3 ** 2 + 4 // 2\n",
    "\n",
    "括号分组子表达式\n",
    "    用() 可以将表达式分组，()内部的表达式先进行计算\n",
    "    实例：\n",
    "       （1 + 2）* ((3 + 4）** 2）\n",
    "        3 * （(3 + 4）** 2）\n",
    "        3 * （7 ** 2）\n",
    "        3 * 49\n",
    "        147\n",
    "\n",
    "混合类型自动升级：\n",
    "    1 + 2.14   # 返回类型为浮点数\n",
    "    1.5 +2.5   # 得4.0\n",
    "\n",
    "基本输出函数：\n",
    "    格式：print（要打印的东西）\n",
    "    注：多个数据要用 ，逗号分开（逗号自带一个空格）"
   ]
  },
  {
   "cell_type": "markdown",
   "metadata": {},
   "source": []
  },
  {
   "cell_type": "markdown",
   "metadata": {},
   "source": []
  },
  {
   "cell_type": "markdown",
   "metadata": {},
   "source": []
  },
  {
   "cell_type": "code",
   "execution_count": null,
   "metadata": {},
   "outputs": [],
   "source": []
  },
  {
   "cell_type": "code",
   "execution_count": null,
   "metadata": {},
   "outputs": [],
   "source": []
  },
  {
   "cell_type": "code",
   "execution_count": null,
   "metadata": {},
   "outputs": [],
   "source": []
  },
  {
   "cell_type": "code",
   "execution_count": null,
   "metadata": {},
   "outputs": [],
   "source": []
  },
  {
   "cell_type": "code",
   "execution_count": null,
   "metadata": {},
   "outputs": [],
   "source": []
  },
  {
   "cell_type": "code",
   "execution_count": null,
   "metadata": {},
   "outputs": [],
   "source": []
  },
  {
   "cell_type": "code",
   "execution_count": null,
   "metadata": {},
   "outputs": [],
   "source": []
  },
  {
   "cell_type": "code",
   "execution_count": null,
   "metadata": {},
   "outputs": [],
   "source": []
  },
  {
   "cell_type": "code",
   "execution_count": null,
   "metadata": {},
   "outputs": [],
   "source": []
  },
  {
   "cell_type": "markdown",
   "metadata": {},
   "source": [
    "python中变量不存储任何数据，不需要声明，没有任何数据类型，类型是指变量所引用的内存中对象的类型。\n",
    "变量只是关联一个对象的符号，每个变量在使用之前都必须赋值，变量赋值以后该变量才会被创建。"
   ]
  },
  {
   "cell_type": "code",
   "execution_count": 4,
   "metadata": {},
   "outputs": [
    {
     "name": "stdout",
     "output_type": "stream",
     "text": [
      "zhangsan zhangsan True\n",
      "lisi zhangsan False\n"
     ]
    }
   ],
   "source": [
    "name = 'zhangsan'\n",
    "mingzi = name\n",
    "print(name, mingzi, name is mingzi)\n",
    "name = 'lisi'\n",
    "print(name, mingzi, name is mingzi)"
   ]
  },
  {
   "cell_type": "markdown",
   "metadata": {},
   "source": [
    "对于CPython 整数-5至256用于存于内存中，不会释放并一直重复使用"
   ]
  },
  {
   "cell_type": "code",
   "execution_count": 5,
   "metadata": {},
   "outputs": [
    {
     "name": "stdout",
     "output_type": "stream",
     "text": [
      "False\n",
      "True\n",
      "True\n",
      "True\n"
     ]
    }
   ],
   "source": [
    "a = 3000\n",
    "b = 1000 + 2000\n",
    "print(a is b)      # False\n",
    "print(a is not b)  # True\n",
    "b = a              # 让b绑定和a一样的对象\n",
    "print(a is b)      # True\n",
    "a = 3\n",
    "b = 1 + 2\n",
    "print(a is b)      # True"
   ]
  },
  {
   "cell_type": "markdown",
   "metadata": {},
   "source": [
    "模拟打印进度条"
   ]
  },
  {
   "cell_type": "code",
   "execution_count": 6,
   "metadata": {},
   "outputs": [
    {
     "name": "stdout",
     "output_type": "stream",
     "text": [
      "####################\n"
     ]
    }
   ],
   "source": [
    "import sys\n",
    "import time\n",
    "\n",
    "for i in range(20):\n",
    "    sys.stdout.write(\"#\")\n",
    "    sys.stdout.flush()\n",
    "    time.sleep(0.1)\n",
    "else:\n",
    "    print()"
   ]
  },
  {
   "cell_type": "markdown",
   "metadata": {},
   "source": [
    "给了一个年份，判断是否为闰年并打印每四年一闰，每百年不闰，四百年又闰"
   ]
  },
  {
   "cell_type": "code",
   "execution_count": 7,
   "metadata": {},
   "outputs": [
    {
     "name": "stdout",
     "output_type": "stream",
     "text": [
      "请输入年份：2008\n",
      "闰年\n"
     ]
    }
   ],
   "source": [
    "year = int(input(\"请输入年份：\"))\n",
    "\n",
    "if (year % 4 == 0 and year % 100 != 0) or (year % 400 == 0):\n",
    "    print(\"闰年\")\n",
    "else:\n",
    "    print(\"非闰年\")"
   ]
  },
  {
   "cell_type": "markdown",
   "metadata": {},
   "source": []
  },
  {
   "cell_type": "code",
   "execution_count": 1,
   "metadata": {},
   "outputs": [
    {
     "name": "stdout",
     "output_type": "stream",
     "text": [
      "y的值是： 2\n",
      "25\n"
     ]
    }
   ],
   "source": [
    "def make_power(y):\n",
    "    print(\"y的值是：\", y)\n",
    "    def f(x):\n",
    "        return x ** y  # <<<---注意此处的y为外部嵌套函数内的y\n",
    "    return f\n",
    "pow2 = make_power(2)\n",
    "print(pow2(5))"
   ]
  },
  {
   "cell_type": "code",
   "execution_count": 2,
   "metadata": {},
   "outputs": [
    {
     "data": {
      "text/plain": [
       "['A', 2, 'B', 4, 'C', 6]"
      ]
     },
     "execution_count": 2,
     "metadata": {},
     "output_type": "execute_result"
    }
   ],
   "source": [
    "L = [1, 2, 3, 4, 5, 6]\n",
    "L[::2] = 'ABC'\n",
    "L"
   ]
  },
  {
   "cell_type": "code",
   "execution_count": 15,
   "metadata": {},
   "outputs": [
    {
     "data": {
      "text/plain": [
       "[1, 2, 3, 4, 5, 6, 'A', 'B', 7, 8, 9]"
      ]
     },
     "execution_count": 15,
     "metadata": {},
     "output_type": "execute_result"
    }
   ],
   "source": [
    "L = [2, 3, 4]\n",
    "L[0: 1] = [1.1, 2.2]\n",
    "L[2: ] = [3.3, 4.4, 5.5]\n",
    "L[: ] = [3, 4]\n",
    "L[0: 0] = [1, 2]\n",
    "L[4: ] = [5, 6]\n",
    "L[6: ] = \"AB\" \n",
    "L[8: ] = range(7, 10) \n",
    "L"
   ]
  },
  {
   "cell_type": "code",
   "execution_count": 11,
   "metadata": {},
   "outputs": [
    {
     "name": "stdout",
     "output_type": "stream",
     "text": [
      "['a', 'b', 'c']\n",
      "['a', 'b', 'c']\n"
     ]
    }
   ],
   "source": [
    "my_dict = {\"a\":\"2\", \"c\":\"5\", \"b\":\"1\"}\n",
    "\n",
    "result = sorted(my_dict)\n",
    "print(result)\n",
    "#默认对dict排序，不指定key参数,会默认对dict的key值进行比较排序\n",
    "#result输出: ['a', 'b', 'c']\n",
    "\n",
    "result2 = sorted(my_dict, key=lambda x:x[0])\n",
    "print(result2)\n",
    "#指定key参数，根据dict的value排序\n",
    "#result2输出:['b', 'a', 'c']"
   ]
  },
  {
   "cell_type": "code",
   "execution_count": 4,
   "metadata": {},
   "outputs": [
    {
     "data": {
      "text/plain": [
       "[('john', 'A', 15), ('jane', 'B', 12), ('dave', 'B', 10)]"
      ]
     },
     "execution_count": 4,
     "metadata": {},
     "output_type": "execute_result"
    }
   ],
   "source": [
    "a = [5,7,6,3,4,1,2]\n",
    "b = sorted(a)       # 保留原列表\n",
    "a \n",
    "b\n",
    " \n",
    "L=[('b',2),('a',1),('c',3),('d',4)]\n",
    "sorted(L, key=lambda x:x[1])               # 利用key\n",
    " \n",
    " \n",
    "students = [('john', 'A', 15), ('jane', 'B', 12), ('dave', 'B', 10)]\n",
    "sorted(students, key=lambda s: s[2])            # 按年龄排序\n",
    "\n",
    "sorted(students, key=lambda s: s[2], reverse=True)       # 按降序"
   ]
  },
  {
   "cell_type": "code",
   "execution_count": null,
   "metadata": {},
   "outputs": [],
   "source": []
  },
  {
   "cell_type": "code",
   "execution_count": null,
   "metadata": {},
   "outputs": [],
   "source": []
  },
  {
   "cell_type": "code",
   "execution_count": null,
   "metadata": {},
   "outputs": [],
   "source": []
  },
  {
   "cell_type": "code",
   "execution_count": null,
   "metadata": {},
   "outputs": [],
   "source": []
  },
  {
   "cell_type": "code",
   "execution_count": null,
   "metadata": {},
   "outputs": [],
   "source": []
  },
  {
   "cell_type": "code",
   "execution_count": null,
   "metadata": {},
   "outputs": [],
   "source": []
  },
  {
   "cell_type": "code",
   "execution_count": null,
   "metadata": {},
   "outputs": [],
   "source": []
  },
  {
   "cell_type": "code",
   "execution_count": null,
   "metadata": {},
   "outputs": [],
   "source": []
  },
  {
   "cell_type": "code",
   "execution_count": null,
   "metadata": {},
   "outputs": [],
   "source": []
  },
  {
   "cell_type": "code",
   "execution_count": null,
   "metadata": {},
   "outputs": [],
   "source": []
  }
 ],
 "metadata": {
  "kernelspec": {
   "display_name": "Python 3",
   "language": "python",
   "name": "python3"
  },
  "language_info": {
   "codemirror_mode": {
    "name": "ipython",
    "version": 3
   },
   "file_extension": ".py",
   "mimetype": "text/x-python",
   "name": "python",
   "nbconvert_exporter": "python",
   "pygments_lexer": "ipython3",
   "version": "3.6.5"
  }
 },
 "nbformat": 4,
 "nbformat_minor": 2
}
