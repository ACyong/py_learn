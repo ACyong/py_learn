{
 "cells": [
  {
   "cell_type": "markdown",
   "metadata": {},
   "source": [
    "# 循环语句进阶"
   ]
  },
  {
   "cell_type": "markdown",
   "metadata": {},
   "source": [
    "## 1. while 语句嵌套\n",
    "\n",
    "嵌套示意：\n",
    "```\n",
    "while 真值表达式:\n",
    "    ⋯⋯\n",
    "    while 真值表达式:\n",
    "        ⋯⋯\n",
    "    else:\n",
    "        ⋯⋯\n",
    "    ⋯⋯\n",
    "else:\n",
    "    ⋯⋯\n",
    "```"
   ]
  },
  {
   "cell_type": "markdown",
   "metadata": {},
   "source": [
    "`练习: 打印1-20的整数，打印在一行显示，每一个数字之间用一个空格隔开 1 2 3 4 5 6 7 8 9 ⋯⋯  打印十行`"
   ]
  },
  {
   "cell_type": "code",
   "execution_count": 4,
   "metadata": {},
   "outputs": [
    {
     "name": "stdout",
     "output_type": "stream",
     "text": [
      "1 2 3 4 5 6 7 8 9 10 11 12 13 14 15 16 17 18 19 20 \n",
      "1 2 3 4 5 6 7 8 9 10 11 12 13 14 15 16 17 18 19 20 \n",
      "1 2 3 4 5 6 7 8 9 10 11 12 13 14 15 16 17 18 19 20 \n",
      "1 2 3 4 5 6 7 8 9 10 11 12 13 14 15 16 17 18 19 20 \n",
      "1 2 3 4 5 6 7 8 9 10 11 12 13 14 15 16 17 18 19 20 \n",
      "1 2 3 4 5 6 7 8 9 10 11 12 13 14 15 16 17 18 19 20 \n",
      "1 2 3 4 5 6 7 8 9 10 11 12 13 14 15 16 17 18 19 20 \n",
      "1 2 3 4 5 6 7 8 9 10 11 12 13 14 15 16 17 18 19 20 \n",
      "1 2 3 4 5 6 7 8 9 10 11 12 13 14 15 16 17 18 19 20 \n",
      "1 2 3 4 5 6 7 8 9 10 11 12 13 14 15 16 17 18 19 20 \n"
     ]
    }
   ],
   "source": [
    "x = 1\n",
    "while x <= 10:\n",
    "    y = 1\n",
    "    while y <= 20:\n",
    "        print(y, end=\" \")\n",
    "        y += 1\n",
    "    print()\n",
    "    x += 1"
   ]
  },
  {
   "cell_type": "markdown",
   "metadata": {},
   "source": [
    "`练习: 输入一个数，打印指定宽度的正方形比如输入5, 打印图形：`\n",
    "```\n",
    "1 2 3 4 5\n",
    "2 3 4 5 6\n",
    "3 4 5 6 7\n",
    "4 5 6 7 8\n",
    "5 6 7 8 9\n",
    "```"
   ]
  },
  {
   "cell_type": "code",
   "execution_count": 9,
   "metadata": {},
   "outputs": [
    {
     "name": "stdout",
     "output_type": "stream",
     "text": [
      "请输入数值：5\n",
      "1 2 3 4 5 \n",
      "2 3 4 5 6 \n",
      "3 4 5 6 7 \n",
      "4 5 6 7 8 \n",
      "5 6 7 8 9 \n",
      "结束!\n"
     ]
    }
   ],
   "source": [
    "n = int(input(\"请输入数值：\"))\n",
    "i = 1\n",
    "while i <= n:\n",
    "    j = 0\n",
    "    while j < n:\n",
    "        print(i + j, end=' ')\n",
    "        j += 1\n",
    "    else:\n",
    "        print()\n",
    "        i += 1\n",
    "else:\n",
    "    print(\"结束!\")"
   ]
  },
  {
   "cell_type": "markdown",
   "metadata": {},
   "source": [
    "`练习: 写一个程序, 输入一个开始整数值用变量begin绑定, 输入一个结束整数值用变量end绑定, 打印从begin 到 end（不包括end）的每一个整数，每8个打印在一行内, 如：`\n",
    "```\n",
    "请输入开始值：5\n",
    "请输入结束值：100\n",
    "5 6 7 8 9 10 11 12\n",
    "13 14 15 16⋯⋯\n",
    "⋯⋯\n",
    "```"
   ]
  },
  {
   "cell_type": "code",
   "execution_count": 11,
   "metadata": {},
   "outputs": [
    {
     "name": "stdout",
     "output_type": "stream",
     "text": [
      "输入ｂｅｇｉｎ：5\n",
      "输入ｅｎｄ：100\n",
      "5 6 7 8 9 10 11 12 \n",
      "13 14 15 16 17 18 19 20 \n",
      "21 22 23 24 25 26 27 28 \n",
      "29 30 31 32 33 34 35 36 \n",
      "37 38 39 40 41 42 43 44 \n",
      "45 46 47 48 49 50 51 52 \n",
      "53 54 55 56 57 58 59 60 \n",
      "61 62 63 64 65 66 67 68 \n",
      "69 70 71 72 73 74 75 76 \n",
      "77 78 79 80 81 82 83 84 \n",
      "85 86 87 88 89 90 91 92 \n",
      "93 94 95 96 97 98 99 100 \n"
     ]
    }
   ],
   "source": [
    "begin = int(input(\"输入ｂｅｇｉｎ：\"))\n",
    "end = int(input(\"输入ｅｎｄ：\"))\n",
    "n = end - begin\n",
    "\n",
    "i = 0\n",
    "while i <= (n // 8):\n",
    "    j = 0\n",
    "    while j < 8:\n",
    "        print(begin, sep=\" \", end=\" \")\n",
    "        j += 1\n",
    "        begin += 1\n",
    "    else:\n",
    "        print()\n",
    "        i += 1"
   ]
  },
  {
   "cell_type": "markdown",
   "metadata": {},
   "source": [
    "`练习: 写程序用while语句生成如下字符串：`\n",
    "```\n",
    "ABCDEFG⋯⋯XYZ\n",
    "AaBbCcDdEeFfGg⋯⋯XxYyZz\n",
    "```"
   ]
  },
  {
   "cell_type": "code",
   "execution_count": 20,
   "metadata": {},
   "outputs": [
    {
     "name": "stdout",
     "output_type": "stream",
     "text": [
      "ABCDEFGHIJKLMNOPQRSTUVWXYZ\n",
      "AaBbCcDdEeFfGgHhIiJjKkLlMmNnOoPpQqRrSsTtUuVvWwXxYyZz\n"
     ]
    }
   ],
   "source": [
    "n1 = ord('A')\n",
    "n2 = ord('a')\n",
    "\n",
    "i = 0\n",
    "while i < 26:\n",
    "    print(chr(n1 + i), end = \"\")\n",
    "    i += 1\n",
    "else:\n",
    "    print()\n",
    "\n",
    "i = 0\n",
    "while i < 26:\n",
    "    print(chr(n1 + i), chr(n2 + i), sep=\"\", end = \"\")\n",
    "    i += 1\n",
    "else:\n",
    "    print()"
   ]
  },
  {
   "cell_type": "markdown",
   "metadata": {},
   "source": [
    "## 2. break 语句\n",
    "\n",
    "作用：\n",
    "```\n",
    "用于循环语句（while，for）中，用来终止当前循环语句的执行。\n",
    "```\n",
    "\n",
    "说明：\n",
    "```\n",
    "break 语句执行后，此循环语句的break之后的语句将不再执行\n",
    "break 语句通常和if语句组合使用\n",
    "break 语句终止循环时，循环语句的else子句的语句将不会被执行\n",
    "break 语句只能终止当前循环语句的执行，如果有循环嵌套时，不会跳出嵌套外重循环\n",
    "break 语句只能在循环语句（while，for语句）内部使用，不能用来终止单独的if语句，除非if在循环内嵌套\n",
    "```"
   ]
  },
  {
   "cell_type": "markdown",
   "metadata": {},
   "source": [
    "`练习: 写一个程序，输入一系列数，把这些数加起来，当输入0时结束`"
   ]
  },
  {
   "cell_type": "code",
   "execution_count": 17,
   "metadata": {
    "scrolled": true
   },
   "outputs": [
    {
     "name": "stdout",
     "output_type": "stream",
     "text": [
      "输入一个数字（输入0结束）：1\n",
      "输入一个数字（输入0结束）：2\n",
      "输入一个数字（输入0结束）：0\n",
      "和为： 3\n"
     ]
    }
   ],
   "source": [
    "s = 0\n",
    "i = 0\n",
    "while i < 10:\n",
    "    x = int(input(\"输入一个数字（输入0结束）：\"))\n",
    "    if x == 0:\n",
    "        break\n",
    "    s += x\n",
    "    i += 1\n",
    "print(\"和为：\", s)"
   ]
  },
  {
   "cell_type": "markdown",
   "metadata": {},
   "source": [
    "## 3. 死循环：\n",
    "\n",
    "```\n",
    "死循环是指条件一直成立的循环\n",
    "死循环通常用break语句来终止循环\n",
    "死循环的else子句永远不会执行\n",
    "```"
   ]
  },
  {
   "cell_type": "markdown",
   "metadata": {},
   "source": [
    "## 4. for 语句：（可迭代循环）\n",
    "\n",
    "作用：\n",
    "```\n",
    "用来遍历序列或可迭代对象的每个元素, 不重复的查看每一个元素\n",
    "```\n",
    "\n",
    "可迭代对象是指能依次获取数据的对象（包括所有的容器类）:\n",
    "```\n",
    "字符串   str\n",
    "列表     list\n",
    "元组     tuple\n",
    "字典     dict\n",
    "集合     set\n",
    "迭代器等⋯⋯\n",
    "```\n",
    "\n",
    "for 语法：\n",
    "```\n",
    "for 变量列表 in 可迭代对象:\n",
    "    语句块1\n",
    "    ⋯⋯\n",
    "else:（当可迭代对象提供数据失败才执行else部分）\n",
    "    语句块2\n",
    "    ⋯⋯\n",
    "```\n",
    "\n",
    "说明：\n",
    "```\n",
    "1、变量用可迭代对象每次给出的元素依次赋值，然后执行语句块1\n",
    "2、可迭代对象不能提供数据元素后，执行else子句部分语句，然后退出循环\n",
    "3、else 子句部分可以省略（同while语句一样）\n",
    "4、当在循环内用break终止循环时，else子句不会执行\n",
    "```"
   ]
  },
  {
   "cell_type": "markdown",
   "metadata": {},
   "source": [
    "`练习: 任意输入一段字符串, 计算出字符'a'和空格的个数，并打印出来`"
   ]
  },
  {
   "cell_type": "code",
   "execution_count": 19,
   "metadata": {},
   "outputs": [
    {
     "name": "stdout",
     "output_type": "stream",
     "text": [
      "请输入字符串：jhdfjkahdk jfhakjdh   dfhakakjh\n",
      "4\n",
      "4\n"
     ]
    }
   ],
   "source": [
    "s = input(\"请输入字符串：\")\n",
    "\n",
    "i = 0\n",
    "j = 0\n",
    "for x in s:\n",
    "    if x == 'a':\n",
    "        i += 1\n",
    "    if x == ' ':\n",
    "        j += 1\n",
    "else:\n",
    "    print(i)\n",
    "    print(j)"
   ]
  },
  {
   "cell_type": "markdown",
   "metadata": {},
   "source": [
    "## 5. 内置函数(5) range函数\n",
    "\n",
    "函数意义：\n",
    "```\n",
    "range(stop)   从零开始生成一个整数后做加1操作，直至stop为止（不包含stop）\n",
    "range(start, stop[, step])   从start开始，每次生成一个整数后移动step，直到stop为止（不包含stop，且step可以是负值）\n",
    "```\n",
    "\n",
    "作用：\n",
    "```\n",
    "用来生成一系列整数的可迭代对象（整数序列生成器）\n",
    "\n",
    "range(4)          # 生成0， 1， 2， 3\n",
    "range(3, 6)       # 生成3， 4， 5\n",
    "range(1, 10, 2)   # 生成1， 3， 5， 7， 9\n",
    "range(5, 0)       # 不生成任何整数\n",
    "range(5, 0, -2)   # 生成5， 3， 1\n",
    "```"
   ]
  },
  {
   "cell_type": "markdown",
   "metadata": {},
   "source": [
    "`练习：写一个程序, 输入一个开始整数值用变量begin绑定, 输入一个结束整数值用变量end绑定, 打印从begin 到 end（不包括end）的每一个整数，每8个打印在一行内`\n",
    "\n",
    "```\n",
    "请输入开始值：5\n",
    "请输入结束值：100\n",
    "5 6 7 8 9 10 11 12\n",
    "13 14 15 16⋯⋯\n",
    "```"
   ]
  },
  {
   "cell_type": "code",
   "execution_count": 25,
   "metadata": {},
   "outputs": [
    {
     "name": "stdout",
     "output_type": "stream",
     "text": [
      "请输入begin：5\n",
      "请输入end:100\n",
      "5 6 7 8 9 10 11 12 \n",
      "13 14 15 16 17 18 19 20 \n",
      "21 22 23 24 25 26 27 28 \n",
      "29 30 31 32 33 34 35 36 \n",
      "37 38 39 40 41 42 43 44 \n",
      "45 46 47 48 49 50 51 52 \n",
      "53 54 55 56 57 58 59 60 \n",
      "61 62 63 64 65 66 67 68 \n",
      "69 70 71 72 73 74 75 76 \n",
      "77 78 79 80 81 82 83 84 \n",
      "85 86 87 88 89 90 91 92 \n",
      "93 94 95 96 97 98 99 \n"
     ]
    }
   ],
   "source": [
    "s1 = int(input(\"请输入begin：\"))\n",
    "s2 = int(input(\"请输入end:\"))\n",
    "count = 0\n",
    "for i in range(s1, s2):\n",
    "    print(i, end = \" \")\n",
    "    count += 1\n",
    "    if count % 8 == 0:\n",
    "        print()\n",
    "else:\n",
    "    print()"
   ]
  },
  {
   "cell_type": "markdown",
   "metadata": {},
   "source": [
    "`实例：模拟打印进度条`"
   ]
  },
  {
   "cell_type": "code",
   "execution_count": 34,
   "metadata": {},
   "outputs": [
    {
     "name": "stdout",
     "output_type": "stream",
     "text": [
      "####################\n"
     ]
    }
   ],
   "source": [
    "import sys\n",
    "import time\n",
    "\n",
    "for i in range(20):\n",
    "    sys.stdout.write(\"#\")\n",
    "    sys.stdout.flush()\n",
    "    time.sleep(0.1)\n",
    "else:\n",
    "    print()"
   ]
  },
  {
   "cell_type": "markdown",
   "metadata": {},
   "source": [
    "## 6. for 语句的嵌套：\n",
    "\n",
    "```\n",
    "for x in X:\n",
    "    for y in Y:\n",
    "        语句\n",
    "    while True:\n",
    "        for z in Z:\n",
    "            语句\n",
    "```"
   ]
  },
  {
   "cell_type": "markdown",
   "metadata": {},
   "source": [
    "`练习: 已知有字符串“ABC”和字符串“123”，用以上两个字符串生成如下字符串`\n",
    "\n",
    "```\n",
    "“A1”，“A2”，“A3”，“B1”，“B2”，“B3”，“C1”⋯⋯\n",
    "```"
   ]
  },
  {
   "cell_type": "code",
   "execution_count": 28,
   "metadata": {},
   "outputs": [
    {
     "name": "stdout",
     "output_type": "stream",
     "text": [
      "A1, A2, A3, B1, B2, B3, C1, C2, C3, "
     ]
    }
   ],
   "source": [
    "for x in \"ABC\":\n",
    "    for y in \"123\":\n",
    "        print(x + y, \", \", end=\"\", sep=\"\")"
   ]
  },
  {
   "cell_type": "markdown",
   "metadata": {},
   "source": [
    "`练习：输入一个数，打印指定宽度的正方形, 如输入5, 打印图形：`\n",
    "\n",
    "```\n",
    " 1 2 3 4 5\n",
    " 2 3 4 5 6\n",
    " 3 4 5 6 7\n",
    " 4 5 6 7 8\n",
    " 5 6 7 8 9\n",
    " ```"
   ]
  },
  {
   "cell_type": "code",
   "execution_count": 29,
   "metadata": {},
   "outputs": [
    {
     "name": "stdout",
     "output_type": "stream",
     "text": [
      "请输入:5\n",
      "1 2 3 4 5 \n",
      "2 3 4 5 6 \n",
      "3 4 5 6 7 \n",
      "4 5 6 7 8 \n",
      "5 6 7 8 9 \n"
     ]
    }
   ],
   "source": [
    "n = int(input(\"请输入:\"))\n",
    "\n",
    "for x in range(1, n + 1):\n",
    "    for y in range(x, n + x):\n",
    "        print(y, end = \" \")\n",
    "    else:\n",
    "        print()"
   ]
  },
  {
   "cell_type": "markdown",
   "metadata": {},
   "source": [
    "## 7. continue 语句：\n",
    "\n",
    "作用：\n",
    "```\n",
    "用于循环语句中（while，for）中，当continue执行后, 不再执行本次循环内continue之后的语句，重新开始一次新的循环\n",
    "```\n",
    "\n",
    "continue说明：\n",
    "```\n",
    "在for语句中执行continue语句，将会从可迭代对象中取下一个元素，绑定变量后再次进行循环；\n",
    "在while语句中，执行continue将会直接跳转到while语句的真值表达式处重新判断循环条件（避免死循环，在continue之前要进行循环变量的改变）\n",
    "```"
   ]
  },
  {
   "cell_type": "markdown",
   "metadata": {},
   "source": [
    "`练习：用两种循环实现打印0-10之间的所有奇数`"
   ]
  },
  {
   "cell_type": "code",
   "execution_count": 32,
   "metadata": {},
   "outputs": [
    {
     "name": "stdout",
     "output_type": "stream",
     "text": [
      "1\n",
      "3\n",
      "5\n",
      "7\n",
      "9\n"
     ]
    }
   ],
   "source": [
    "for x in range(11):\n",
    "    if x % 2 == 0:\n",
    "        continue\n",
    "    print(x)"
   ]
  },
  {
   "cell_type": "markdown",
   "metadata": {},
   "source": [
    "`练习：写程序，输入一个正整数，判断这个数是否是素数（prime）`"
   ]
  },
  {
   "cell_type": "code",
   "execution_count": 33,
   "metadata": {},
   "outputs": [
    {
     "name": "stdout",
     "output_type": "stream",
     "text": [
      "请输入：12\n",
      "It's not a prime\n"
     ]
    }
   ],
   "source": [
    "n = int(input(\"请输入：\"))\n",
    "\n",
    "if n == 2:\n",
    "    print(\"It's a prime\")\n",
    "else:\n",
    "    i = 2\n",
    "    while i <= n // 2:\n",
    "        if n % i == 0:\n",
    "            print(\"It's not a prime\")\n",
    "            break\n",
    "        i += 1\n",
    "    else:\n",
    "        print(\"It's a prime\")"
   ]
  },
  {
   "cell_type": "markdown",
   "metadata": {},
   "source": [
    "`练习：把判断一个数是否为素数的算法，改用while循环`"
   ]
  },
  {
   "cell_type": "code",
   "execution_count": 6,
   "metadata": {},
   "outputs": [
    {
     "name": "stdout",
     "output_type": "stream",
     "text": [
      "请输入一个整数：4\n",
      "4 不是素数！\n"
     ]
    }
   ],
   "source": [
    "x = int(input(\"请输入一个整数：\"))\n",
    "if x == 1:\n",
    "    print(x, \"不是素数\")\n",
    "else:\n",
    "    i = 2\n",
    "    while i < x:\n",
    "        if x % i == 0:\n",
    "            print(x, \"不是素数！\")\n",
    "            break\n",
    "        i += 1\n",
    "    else:\n",
    "        print(x, \"素数\")"
   ]
  },
  {
   "cell_type": "markdown",
   "metadata": {},
   "source": [
    "`练习：用字符串*号 打印三角形，要求输入一个整数，此整数代表三角形的高度，打印三角形, 如输入：3`\n",
    "\n",
    "```\n",
    "  *\n",
    " ***\n",
    "*****\n",
    "```"
   ]
  },
  {
   "cell_type": "code",
   "execution_count": 35,
   "metadata": {},
   "outputs": [
    {
     "name": "stdout",
     "output_type": "stream",
     "text": [
      "请输入数字：5\n",
      "    *     \n",
      "   ***    \n",
      "  *****   \n",
      " *******  \n",
      "********* \n"
     ]
    }
   ],
   "source": [
    "n = int(input(\"请输入数字：\"))\n",
    "\n",
    "for x in range(n):\n",
    "    s = \"*\" * (2 * x + 1)\n",
    "    print(s.center(n * 2))"
   ]
  },
  {
   "cell_type": "markdown",
   "metadata": {},
   "source": [
    "`算出100 - 1000以内的水仙花数（Narcissistic Nnmber）水仙花数是指百位的3次方加十位的三次方加个位的三次方等于原数字。例如：153 = 1**3 + 5**3 + 3**3`"
   ]
  },
  {
   "cell_type": "code",
   "execution_count": 36,
   "metadata": {},
   "outputs": [
    {
     "name": "stdout",
     "output_type": "stream",
     "text": [
      "153\n",
      "370\n",
      "371\n",
      "407\n"
     ]
    }
   ],
   "source": [
    "for x in range(100, 1000):\n",
    "    s = str(x)\n",
    "    b = 0\n",
    "    for i in s:\n",
    "        b += int(i) ** 3\n",
    "    else:\n",
    "        if x == b:\n",
    "            print(x)"
   ]
  },
  {
   "cell_type": "markdown",
   "metadata": {},
   "source": [
    "`练习: 求100以内的全部素数（primes）并打印循环嵌套`"
   ]
  },
  {
   "cell_type": "code",
   "execution_count": 37,
   "metadata": {},
   "outputs": [
    {
     "name": "stdout",
     "output_type": "stream",
     "text": [
      "2 It's a prime\n",
      "3 It's a prime\n",
      "5 It's a prime\n",
      "7 It's a prime\n",
      "11 It's a prime\n",
      "13 It's a prime\n",
      "17 It's a prime\n",
      "19 It's a prime\n",
      "23 It's a prime\n",
      "29 It's a prime\n",
      "31 It's a prime\n",
      "37 It's a prime\n",
      "41 It's a prime\n",
      "43 It's a prime\n",
      "47 It's a prime\n",
      "53 It's a prime\n",
      "59 It's a prime\n",
      "61 It's a prime\n",
      "67 It's a prime\n",
      "71 It's a prime\n",
      "73 It's a prime\n",
      "79 It's a prime\n",
      "83 It's a prime\n",
      "89 It's a prime\n",
      "97 It's a prime\n"
     ]
    }
   ],
   "source": [
    "for x in range(2, 100):\n",
    "    for i in range(2, x):\n",
    "        if x % i == 0:\n",
    "            break\n",
    "    else:\n",
    "        print(x, \"It's a prime\")"
   ]
  },
  {
   "cell_type": "markdown",
   "metadata": {},
   "source": [
    "`练习：输入一段字符串，把字符串按Unicode值从小到大排列后组成新的字符串：`\n",
    "\n",
    "```\n",
    "输入：BACED   <回车>\n",
    "输出：ABCDE\n",
    "```"
   ]
  },
  {
   "cell_type": "code",
   "execution_count": 1,
   "metadata": {},
   "outputs": [
    {
     "name": "stdout",
     "output_type": "stream",
     "text": [
      "输入：ABCJGYFUTU\n",
      "输出 ABCFGJTUUY\n"
     ]
    }
   ],
   "source": [
    "s = input(\"输入：\")\n",
    "L = sorted(s)\n",
    "# print(\"\".join(L))\n",
    "out_str = ''\n",
    "for x in L:\n",
    "    out_str += x\n",
    "print(\"输出\", out_str)"
   ]
  },
  {
   "cell_type": "markdown",
   "metadata": {},
   "source": [
    "`练习: 用while语句，实现如下功能：`\n",
    "\n",
    "```\n",
    "把1-100之间的数（包含100）中的奇数添加到一个列表odds中，把偶数添加到一个列表evens中，打印两个列表\n",
    "```"
   ]
  },
  {
   "cell_type": "code",
   "execution_count": 2,
   "metadata": {},
   "outputs": [
    {
     "name": "stdout",
     "output_type": "stream",
     "text": [
      "[1, 3, 5, 7, 9, 11, 13, 15, 17, 19, 21, 23, 25, 27, 29, 31, 33, 35, 37, 39, 41, 43, 45, 47, 49, 51, 53, 55, 57, 59, 61, 63, 65, 67, 69, 71, 73, 75, 77, 79, 81, 83, 85, 87, 89, 91, 93, 95, 97, 99]\n",
      "[2, 4, 6, 8, 10, 12, 14, 16, 18, 20, 22, 24, 26, 28, 30, 32, 34, 36, 38, 40, 42, 44, 46, 48, 50, 52, 54, 56, 58, 60, 62, 64, 66, 68, 70, 72, 74, 76, 78, 80, 82, 84, 86, 88, 90, 92, 94, 96, 98, 100]\n"
     ]
    }
   ],
   "source": [
    "odds = []\n",
    "evens = []\n",
    "i = 1\n",
    "while i <= 100:\n",
    "    if i % 2 == 1:\n",
    "        odds.append(i)\n",
    "    else:\n",
    "        evens.append(i)\n",
    "    i += 1\n",
    "else:\n",
    "    print(odds)\n",
    "    print(evens)"
   ]
  },
  {
   "cell_type": "markdown",
   "metadata": {},
   "source": [
    "`练习: 用while语句，实现如下功能：`\n",
    "\n",
    "```\n",
    "猴子吃桃子问题：\n",
    "有一只小猴子，摘了很多桃。第一天吃了一半，感觉不饱又吃了一个第二天又吃了剩下的一般，感觉不饱又吃了一个.......... 以此类推, 到第十天，发现只剩下一个了，请问第一天摘了多少桃子\n",
    "```"
   ]
  },
  {
   "cell_type": "code",
   "execution_count": 3,
   "metadata": {},
   "outputs": [
    {
     "name": "stdout",
     "output_type": "stream",
     "text": [
      "1534\n"
     ]
    }
   ],
   "source": [
    "s = 1\n",
    "i = 1\n",
    "while i < 10:\n",
    "    s = (s + 1) * 2\n",
    "    i += 1\n",
    "else:\n",
    "    print(s)"
   ]
  },
  {
   "cell_type": "markdown",
   "metadata": {},
   "source": [
    "`练习:`\n",
    "\n",
    "```\n",
    "完全数：\n",
    "1+2+3=6\n",
    "1*6=6\n",
    "2*3=6\n",
    "1，2，3都为6的因数, 完全数是指除自身以外的所有因数之和相加等于自身的数求3个完全数并打印\n",
    "```"
   ]
  },
  {
   "cell_type": "code",
   "execution_count": 5,
   "metadata": {},
   "outputs": [
    {
     "name": "stdout",
     "output_type": "stream",
     "text": [
      "6\n",
      "28\n",
      "496\n",
      "8128\n"
     ]
    }
   ],
   "source": [
    "n = 2\n",
    "while n < 10000:\n",
    "    i = 2\n",
    "    s = 1\n",
    "    j = 1\n",
    "    while i < n:\n",
    "        if n % i == 0:\n",
    "            s += i\n",
    "        i += 1\n",
    "    else:\n",
    "        if s == n:\n",
    "            print(n)\n",
    "    n += 1"
   ]
  },
  {
   "cell_type": "code",
   "execution_count": null,
   "metadata": {},
   "outputs": [],
   "source": []
  }
 ],
 "metadata": {
  "kernelspec": {
   "display_name": "Python 3",
   "language": "python",
   "name": "python3"
  },
  "language_info": {
   "codemirror_mode": {
    "name": "ipython",
    "version": 3
   },
   "file_extension": ".py",
   "mimetype": "text/x-python",
   "name": "python",
   "nbconvert_exporter": "python",
   "pygments_lexer": "ipython3",
   "version": "3.7.3"
  }
 },
 "nbformat": 4,
 "nbformat_minor": 4
}
