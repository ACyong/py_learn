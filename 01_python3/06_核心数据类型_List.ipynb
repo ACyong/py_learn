{
 "cells": [
  {
   "cell_type": "markdown",
   "metadata": {},
   "source": [
    "# python 的核心数据类型：\n",
    "\n",
    "* Number      数字（整数，浮点数，复数，布尔型数）\n",
    "* String      字符串\n",
    "* **List      列表**\n",
    "* Tuple       元组\n",
    "* Dictionary  字典\n",
    "* Set         集合"
   ]
  },
  {
   "cell_type": "markdown",
   "metadata": {},
   "source": [
    "## 1.     列表的定义：（与元素的类型无关）\n",
    "\n",
    "```\n",
    "1、列表是由一系列特定元素组成的，元素与元素之间可能没有任何的关联关系，但他们之间有先后的顺序关系\n",
    "2、列表是一种容器\n",
    "3、列表是序列的一种\n",
    "4、列表是可以被改变的序列\n",
    "```\n",
    "\n",
    "## 2. `序列` 的类型：（有先后顺序关系）\n",
    "\n",
    "```\n",
    "字符串    str\n",
    "列表      list\n",
    "元组      teple\n",
    "字节串     bytes\n",
    "字节数组   bytearray\n",
    "```\n",
    "\n",
    "## 3. 创建列表的方法：\n",
    "\n",
    "- 创建空列表字面值：\n",
    "\n",
    "```\n",
    "L = []   # 方括号表示列表\n",
    "```\n",
    "\n",
    "- 创建非空列表\n",
    "\n",
    "```\n",
    "L = [1, 2, 3, 4]\n",
    "L = ['beijing', 'shanghai', 'shenzhen']\n",
    "L = [1, 'two', 3.14, 'four']\n",
    "L = [1, 2, [3.1, 3.2], 4]\n",
    "```\n",
    "\n",
    "- 列表的构造函数\n",
    "\n",
    "```\n",
    "list()           # 生成一个空列表，等同于 []\n",
    "list(iterable)   # 用可迭代对象初始化一个列表\n",
    "L = list('hello')\n",
    "s = \"Holle\"\n",
    "L = list(s)\n",
    "L = list(range(1, 10, 2))\n",
    "len(L)           # 返回元素个数\n",
    "```\n",
    "\n",
    "## 4. 列表的运算：\n",
    "\n",
    "- `算术运算：`\n",
    "\n",
    "```\n",
    "+   +=   *   *=\n",
    "```\n",
    "\n",
    "`+` 加号用于拼接出新列表（生成一个新列表，原列表不变，列表只能加列表）"
   ]
  },
  {
   "cell_type": "code",
   "execution_count": 2,
   "metadata": {},
   "outputs": [
    {
     "name": "stdout",
     "output_type": "stream",
     "text": [
      "[1, 2, 3] [4, 5, 6]\n",
      "[1, 2, 3] [4, 5, 6] [1, 2, 3, 4, 5, 6]\n"
     ]
    }
   ],
   "source": [
    "x = [1, 2, 3]\n",
    "y = [4, 5, 6]\n",
    "print(x, y)\n",
    "z = x + y\n",
    "print(x, y, z)"
   ]
  },
  {
   "cell_type": "markdown",
   "metadata": {},
   "source": [
    "`+=` 用于原列表与右侧可迭代对象拼接，并用变量重新绑定新列表"
   ]
  },
  {
   "cell_type": "code",
   "execution_count": 3,
   "metadata": {},
   "outputs": [
    {
     "name": "stdout",
     "output_type": "stream",
     "text": [
      "[1, 2, 3] [4, 5, 6]\n",
      "[1, 2, 3, 4, 5, 6] [4, 5, 6]\n"
     ]
    }
   ],
   "source": [
    "x = [1, 2, 3]\n",
    "y = [4, 5, 6]\n",
    "print(x, y)\n",
    "x += y\n",
    "print(x, y)"
   ]
  },
  {
   "cell_type": "markdown",
   "metadata": {},
   "source": [
    "`*` 生成一个新的重复的列表"
   ]
  },
  {
   "cell_type": "code",
   "execution_count": 6,
   "metadata": {},
   "outputs": [
    {
     "name": "stdout",
     "output_type": "stream",
     "text": [
      "[1, 2] [1, 2, 1, 2, 1, 2]\n"
     ]
    }
   ],
   "source": [
    "x = [1, 2]\n",
    "y = x * 3\n",
    "print(x, y)"
   ]
  },
  {
   "cell_type": "markdown",
   "metadata": {},
   "source": [
    "`*=` 生成重复列表后并用原变量绑定"
   ]
  },
  {
   "cell_type": "code",
   "execution_count": 7,
   "metadata": {
    "scrolled": true
   },
   "outputs": [
    {
     "name": "stdout",
     "output_type": "stream",
     "text": [
      "[1, 2, 3, 1, 2, 3, 1, 2, 3, 1, 2, 3]\n"
     ]
    }
   ],
   "source": [
    "x = [1, 2, 3]\n",
    "x *= 4\n",
    "print(x)"
   ]
  },
  {
   "cell_type": "markdown",
   "metadata": {},
   "source": [
    "- 比较运算符：（同类型才能进行比较）\n",
    "```\n",
    "<   <=   >   >=   ==   !=\n",
    "```"
   ]
  },
  {
   "cell_type": "code",
   "execution_count": 8,
   "metadata": {},
   "outputs": [
    {
     "data": {
      "text/plain": [
       "True"
      ]
     },
     "execution_count": 8,
     "metadata": {},
     "output_type": "execute_result"
    }
   ],
   "source": [
    "[1, 2, 3] < [1, 2, 4]"
   ]
  },
  {
   "cell_type": "code",
   "execution_count": 9,
   "metadata": {},
   "outputs": [
    {
     "data": {
      "text/plain": [
       "False"
      ]
     },
     "execution_count": 9,
     "metadata": {},
     "output_type": "execute_result"
    }
   ],
   "source": [
    "[1, 3, 2] < [1, 2, 4]"
   ]
  },
  {
   "cell_type": "code",
   "execution_count": 10,
   "metadata": {},
   "outputs": [
    {
     "data": {
      "text/plain": [
       "True"
      ]
     },
     "execution_count": 10,
     "metadata": {},
     "output_type": "execute_result"
    }
   ],
   "source": [
    "[1, 2, 3] != [3, 2, 1]"
   ]
  },
  {
   "cell_type": "code",
   "execution_count": 11,
   "metadata": {},
   "outputs": [
    {
     "data": {
      "text/plain": [
       "False"
      ]
     },
     "execution_count": 11,
     "metadata": {},
     "output_type": "execute_result"
    }
   ],
   "source": [
    "[1, 2, 3] > [1, 4]"
   ]
  },
  {
   "cell_type": "code",
   "execution_count": 12,
   "metadata": {},
   "outputs": [
    {
     "ename": "TypeError",
     "evalue": "'>' not supported between instances of 'int' and 'str'",
     "output_type": "error",
     "traceback": [
      "\u001b[0;31m---------------------------------------------------------------------------\u001b[0m",
      "\u001b[0;31mTypeError\u001b[0m                                 Traceback (most recent call last)",
      "\u001b[0;32m<ipython-input-12-88804b70ba43>\u001b[0m in \u001b[0;36m<module>\u001b[0;34m\u001b[0m\n\u001b[1;32m      1\u001b[0m \u001b[0;31m# 以下规则与字符串不同，因为列表可以存任意类型的数据\u001b[0m\u001b[0;34m\u001b[0m\u001b[0;34m\u001b[0m\u001b[0;34m\u001b[0m\u001b[0m\n\u001b[0;32m----> 2\u001b[0;31m \u001b[0;34m[\u001b[0m\u001b[0;36m1\u001b[0m\u001b[0;34m,\u001b[0m \u001b[0;34m\"two\"\u001b[0m\u001b[0;34m]\u001b[0m \u001b[0;34m>\u001b[0m \u001b[0;34m[\u001b[0m\u001b[0;34m\"two\"\u001b[0m\u001b[0;34m,\u001b[0m \u001b[0;36m2\u001b[0m\u001b[0;34m]\u001b[0m \u001b[0;31m# TypeError 类型错误\u001b[0m\u001b[0;34m\u001b[0m\u001b[0;34m\u001b[0m\u001b[0m\n\u001b[0m",
      "\u001b[0;31mTypeError\u001b[0m: '>' not supported between instances of 'int' and 'str'"
     ]
    }
   ],
   "source": [
    "# 以下规则与字符串不同，因为列表可以存任意类型的数据\n",
    "[1, \"two\"] > [\"two\", 2] # TypeError 类型错误"
   ]
  },
  {
   "cell_type": "markdown",
   "metadata": {},
   "source": [
    "`练习：输入三行文字，将这三行文字保存于一个列表L中，并打印再打印列表中字符串所有字符的个数, 如：`\n",
    "\n",
    "```\n",
    "请输入：abc<回车>\n",
    "请输入：1234<回车>\n",
    "请输入：您好<回车>\n",
    "生成如下列表：\n",
    "    ['abc', '1234', '您好']\n",
    "总字符数是：9\n",
    "```"
   ]
  },
  {
   "cell_type": "code",
   "execution_count": 17,
   "metadata": {},
   "outputs": [
    {
     "name": "stdout",
     "output_type": "stream",
     "text": [
      "请输入: abc<回车> abc\n",
      "请输入: 1234<回车> 1234\n",
      "请输入: 您好<回车> 您好\n",
      "9\n"
     ]
    }
   ],
   "source": [
    "s1 = input(\"请输入: abc<回车> \")\n",
    "s2 = input(\"请输入: 1234<回车> \")\n",
    "s3 = input(\"请输入: 您好<回车> \")\n",
    "\n",
    "x = 0\n",
    "for s in [s1, s2, s3]:\n",
    "    x += len(s)\n",
    "print(x)"
   ]
  },
  {
   "cell_type": "markdown",
   "metadata": {},
   "source": [
    "- 列表的 in/not in 运算符\n",
    "\n",
    "作用：\n",
    "```\n",
    "判断一个元素是否存在于列表中，如果存在则返回True，否则返回False 和字符串的in运算符规则相同\n",
    "```\n",
    "\n",
    "语法：\n",
    "```\n",
    "对象 in 列表\n",
    "```"
   ]
  },
  {
   "cell_type": "code",
   "execution_count": 16,
   "metadata": {
    "scrolled": true
   },
   "outputs": [
    {
     "name": "stdout",
     "output_type": "stream",
     "text": [
      "True\n",
      "False\n",
      "False\n",
      "True\n"
     ]
    }
   ],
   "source": [
    "L = [None, True, 3.14, 10, 1+2j, \"hello\"]\n",
    "print(3.14 in L)\n",
    "print(\"3.14\" in L)\n",
    "print(\"10.0\" in L)\n",
    "print(5 not in L)"
   ]
  },
  {
   "cell_type": "markdown",
   "metadata": {},
   "source": [
    "## 5. 列表的索引操作\n",
    "\n",
    "语法： \n",
    "```\n",
    "列表[整数表达式]\n",
    "```\n",
    "\n",
    "用法： \n",
    "```\n",
    "等同于字符串索引\n",
    "索引分为正向索引(从0开始)和反向索引(从-1开始)，规则与字符串完全相同\n",
    "```"
   ]
  },
  {
   "cell_type": "code",
   "execution_count": 19,
   "metadata": {},
   "outputs": [
    {
     "name": "stdout",
     "output_type": "stream",
     "text": [
      "2.3\n"
     ]
    }
   ],
   "source": [
    "L = [1, 2.3, \"Four\"]\n",
    "print(L[1])"
   ]
  },
  {
   "cell_type": "markdown",
   "metadata": {},
   "source": [
    "列表的索引赋值\n",
    "```\n",
    "与字符串不同，字符串是不能被改变序列，所有没有索引赋值, 列表是可变的，可以通过索引赋值改变列表的元素(修改列表)\n",
    "```"
   ]
  },
  {
   "cell_type": "code",
   "execution_count": 20,
   "metadata": {},
   "outputs": [
    {
     "name": "stdout",
     "output_type": "stream",
     "text": [
      "[1, 2.2, 3.14, 'Four']\n",
      "[1, 2, 3, 4]\n"
     ]
    }
   ],
   "source": [
    "L = [1, 2.2, 3.14, \"Four\"]\n",
    "print(L)\n",
    "L[1] = 2\n",
    "L[-1] = 4\n",
    "L[-2] = 3\n",
    "print(L)"
   ]
  },
  {
   "cell_type": "markdown",
   "metadata": {},
   "source": [
    "## 6. 列表的切片 slice （取值操作）\n",
    "\n",
    "- 列表的切片规则等同于字符串切片的规则"
   ]
  },
  {
   "cell_type": "code",
   "execution_count": 34,
   "metadata": {
    "scrolled": false
   },
   "outputs": [
    {
     "name": "stdout",
     "output_type": "stream",
     "text": [
      "[1, 2.2, 3.14, 'four', '五', '陆'] [1, 3.14, '五'] ['五', 3.14, 1]\n"
     ]
    }
   ],
   "source": [
    "L = [1, 2.2, 3.14, \"four\", \"五\", \"陆\"]\n",
    "L1 = L[::2]\n",
    "print(L, L1, L1[: : -1])"
   ]
  },
  {
   "cell_type": "markdown",
   "metadata": {},
   "source": [
    "- 列表的切片赋值操作：\n",
    "\n",
    "作用：\n",
    "```\n",
    "改变原列表，可以插入（不切出元素，切片为空）、替换（切出元素，对应替换）和删除（切出元素赋值为空）列表中的元素\n",
    "```\n",
    "\n",
    "语法：\n",
    "```\n",
    "列表[切片] = 可迭代对象\n",
    "```\n",
    "\n",
    "说明：\n",
    "```\n",
    "切片赋值时，切片切出块数大于1时(步长大于1)，切片块数必须与可迭代对象取出数据的个数相同（替换）\n",
    "```"
   ]
  },
  {
   "cell_type": "code",
   "execution_count": 29,
   "metadata": {},
   "outputs": [
    {
     "name": "stdout",
     "output_type": "stream",
     "text": [
      "[2, 3, 4]\n",
      "[1.1, 2.2, 3, 4]\n",
      "[1.1, 2.2, 3.3, 4.4, 5.5]\n",
      "[3, 4]\n",
      "[1, 2, 3, 4]\n",
      "[1, 2, 3, 4, 5, 6]\n",
      "[1, 2, 3, 4, 5, 6, 'A', 'B']\n",
      "[1, 2, 3, 4, 5, 6, 'A', 'B', 7, 8, 9]\n",
      "[2, 3, 4, 5, 6, 'A', 'B', 7, 8, 9]\n",
      "[2, 4, 6, 'B', 8]\n",
      "[1, 3, 1, 5, 1, 'A', 1, 7, 1, 9]\n"
     ]
    },
    {
     "ename": "ValueError",
     "evalue": "attempt to assign sequence of size 1 to extended slice of size 5",
     "output_type": "error",
     "traceback": [
      "\u001b[0;31m---------------------------------------------------------------------------\u001b[0m",
      "\u001b[0;31mValueError\u001b[0m                                Traceback (most recent call last)",
      "\u001b[0;32m<ipython-input-29-4b0b4c044603>\u001b[0m in \u001b[0;36m<module>\u001b[0;34m\u001b[0m\n\u001b[1;32m     30\u001b[0m \u001b[0mL\u001b[0m\u001b[0;34m[\u001b[0m\u001b[0;34m:\u001b[0m\u001b[0;34m:\u001b[0m\u001b[0;36m2\u001b[0m\u001b[0;34m]\u001b[0m \u001b[0;34m=\u001b[0m \u001b[0;34m[\u001b[0m\u001b[0;36m1\u001b[0m\u001b[0;34m,\u001b[0m \u001b[0;36m1\u001b[0m\u001b[0;34m,\u001b[0m \u001b[0;36m1\u001b[0m\u001b[0;34m,\u001b[0m \u001b[0;36m1\u001b[0m\u001b[0;34m,\u001b[0m \u001b[0;36m1\u001b[0m\u001b[0;34m]\u001b[0m\u001b[0;34m\u001b[0m\u001b[0;34m\u001b[0m\u001b[0m\n\u001b[1;32m     31\u001b[0m \u001b[0mprint\u001b[0m\u001b[0;34m(\u001b[0m\u001b[0mL\u001b[0m\u001b[0;34m)\u001b[0m\u001b[0;34m\u001b[0m\u001b[0;34m\u001b[0m\u001b[0m\n\u001b[0;32m---> 32\u001b[0;31m \u001b[0mL\u001b[0m\u001b[0;34m[\u001b[0m\u001b[0;34m:\u001b[0m\u001b[0;34m:\u001b[0m\u001b[0;36m2\u001b[0m\u001b[0;34m]\u001b[0m \u001b[0;34m=\u001b[0m \u001b[0;34m[\u001b[0m\u001b[0;36m1\u001b[0m\u001b[0;34m,\u001b[0m \u001b[0;34m]\u001b[0m\u001b[0;34m\u001b[0m\u001b[0;34m\u001b[0m\u001b[0m\n\u001b[0m\u001b[1;32m     33\u001b[0m \u001b[0mprint\u001b[0m\u001b[0;34m(\u001b[0m\u001b[0mL\u001b[0m\u001b[0;34m)\u001b[0m\u001b[0;34m\u001b[0m\u001b[0;34m\u001b[0m\u001b[0m\n",
      "\u001b[0;31mValueError\u001b[0m: attempt to assign sequence of size 1 to extended slice of size 5"
     ]
    }
   ],
   "source": [
    "L = [2, 3, 4]\n",
    "print(L)\n",
    "\n",
    "L[0: 1] = [1.1, 2.2]\n",
    "print(L)\n",
    "\n",
    "L[2: ] = [3.3, 4.4, 5.5]\n",
    "print(L)\n",
    "\n",
    "L[: ] = [3, 4]\n",
    "print(L)\n",
    "\n",
    "L[0: 0] = [1, 2]\n",
    "print(L)\n",
    "\n",
    "L[4: ] = [5, 6]\n",
    "print(L)\n",
    "\n",
    "L[6: ] = \"AB\"\n",
    "print(L)\n",
    "\n",
    "L[8: ] = range(7, 10)\n",
    "print(L)\n",
    "\n",
    "L[0: 1] = []\n",
    "print(L)\n",
    "\n",
    "# 切片步长大于1的切片赋值：（替换）\n",
    "print(L[::2])\n",
    "L[::2] = [1, 1, 1, 1, 1]\n",
    "print(L)\n",
    "L[::2] = [1, ]\n",
    "print(L)"
   ]
  },
  {
   "cell_type": "markdown",
   "metadata": {},
   "source": [
    "- L1=L 与 L2=L[:] 有什么区别？\n",
    "\n",
    "```\n",
    "L1=L是把L所指的对象绑定到名字L1上，而L2=L[:]则是把L通过切片运算取得的新列表对象绑定到L2上。前者两个名字指向同一个对象，后者两个名字指向不同对象。换句话说，L1和L是指的同一个东西，那么修改L1也就修改了L；L2则是不同的东西，修改L2不会改变L。注意这个引用的概念对于所有的东西都成立，例如容器内部存储的都是引用……\n",
    "```"
   ]
  },
  {
   "cell_type": "code",
   "execution_count": 10,
   "metadata": {},
   "outputs": [
    {
     "name": "stdout",
     "output_type": "stream",
     "text": [
      "4477123848 [1, 2, 3, 4, 5]\n",
      "4477123848 [1, 2, 3, 4, 5]\n",
      "[0, 2, 3, 4, 5] [0, 2, 3, 4, 5]\n",
      "\n",
      "4477123080 [1, 2, 3, 4, 5]\n",
      "4477123656 [1, 2, 3, 4, 5]\n",
      "[1, 2, 3, 4, 5] [0, 2, 3, 4, 5]\n"
     ]
    }
   ],
   "source": [
    "L = [1, 2, 3, 4, 5]\n",
    "print(id(L), L)\n",
    "L1 = L\n",
    "print(id(L1), L1)\n",
    "L1[0] = 0\n",
    "print(L, L1)\n",
    "print()\n",
    "L = [1, 2, 3, 4, 5]\n",
    "print(id(L), L)\n",
    "L2 = L[:]\n",
    "print(id(L2), L2)\n",
    "L2[0] = 0\n",
    "print(L, L1)"
   ]
  },
  {
   "cell_type": "markdown",
   "metadata": {},
   "source": [
    "- del语句（用于删除列表的元素）"
   ]
  },
  {
   "cell_type": "code",
   "execution_count": 30,
   "metadata": {},
   "outputs": [
    {
     "name": "stdout",
     "output_type": "stream",
     "text": [
      "[0, 1, 2, 3, 4, 5, 6]\n",
      "[1, 2, 3, 4, 5, 6]\n",
      "[2, 4, 6]\n"
     ]
    }
   ],
   "source": [
    "L = [0, 1, 2, 3, 4, 5, 6]\n",
    "print(L)\n",
    "del L[0]\n",
    "print(L)\n",
    "del L[::2]\n",
    "print(L)"
   ]
  },
  {
   "cell_type": "markdown",
   "metadata": {},
   "source": [
    "## 7. 常用的列表方法（method）\n",
    "```\n",
    "假设列表对象为L\n",
    "\n",
    "L.count(x)     返回列表中元素的个数\n",
    "L.index(v[, begin[, end]])   返回对应元素的索引下标，begin为开始索引，end 为结束索引，当v值不存在时，触发ValueError错误\n",
    "L.reverse()     列表的反转，用来改变原列表的先后顺序\n",
    "list.sort(*, key=None, reverse=False)   \n",
    "    将列表中的元素进行排列，默认按值从小到大的顺序排列，reverse=True 按从大到小顺序排列\n",
    "\n",
    "L.append(x)    在列表中追加一个任意类型的元素, 相当于 a[len(a):] = [x] \n",
    "L.extend(list) 向列表追加另一个列表（将list列表中的元素分别追加到原列表中）, 相当于 a[len(a):] = iterable\n",
    "L.insert(index, obj)   \n",
    "    将某个元素插放到列表指定位置之前, 第一个参数是要插入的元素的索引，所以 a.insert(0, x) 插入列表头部， a.insert(len(a), x) 等同于 a.append(x) 。\n",
    "\n",
    "L.remove(x)    从列表中删除第一个出现在列表中的值, 如果没有这样的元素，则抛出 ValueError 异常\n",
    "L.clear()      清空列表，等同于L[:] = []\n",
    "L.pop([索引])   删除索引对应的元素，如果不加索引，默认删除最后元素，同时返回删除元素的引用关系, 如果元素不存在则抛出 IndexError 异常\n",
    "\n",
    "L.copy()   复制此列表（只复制一层，不会复制深层对象），L1 = L.copy()相当于 L1 = L[:]\n",
    "```"
   ]
  },
  {
   "cell_type": "markdown",
   "metadata": {},
   "source": [
    "## 8. 浅拷贝与深拷贝\n",
    "\n",
    "- 浅拷贝 （shallow copy）：浅拷贝是指在复制过程中，只复制一层变量，不会复制深层变量绑定的对象的复制过程"
   ]
  },
  {
   "cell_type": "code",
   "execution_count": 2,
   "metadata": {},
   "outputs": [
    {
     "name": "stdout",
     "output_type": "stream",
     "text": [
      "[1, 2, [3.14, 3.2]]\n",
      "[1, 2, [3.14, 3.2]]\n"
     ]
    }
   ],
   "source": [
    "L = [3.1, 3.2]\n",
    "L1 = [1, 2, L]\n",
    "L2 = L1.copy()   # 浅拷贝 等同于 L2 =L1[:]\n",
    "L2[2][0] = 3.14\n",
    "print(L1)\n",
    "print(L2)"
   ]
  },
  {
   "cell_type": "markdown",
   "metadata": {},
   "source": [
    "- 深拷贝 deep copy（列表中有可变对象才需要考虑是否要用深拷贝）"
   ]
  },
  {
   "cell_type": "code",
   "execution_count": 4,
   "metadata": {},
   "outputs": [
    {
     "name": "stdout",
     "output_type": "stream",
     "text": [
      "[1, 2, [3.1, 3.2]]\n",
      "[1, 2, [3.14, 3.2]]\n"
     ]
    }
   ],
   "source": [
    "import copy   #导入copy模块\n",
    "L = [3.1, 3.2]\n",
    "L1 = [1, 2, L]\n",
    "L2 = copy.deepcopy(L1)\n",
    "L2[2][0] = 3.14\n",
    "print(L1)\n",
    "print(L2)"
   ]
  },
  {
   "cell_type": "markdown",
   "metadata": {},
   "source": [
    "## 9. 字符串处理方法split() 和 join()\n",
    "\n",
    "- 字符串切分：假设字符串为S\n",
    "\n",
    "str.split(sep=None, maxsplit=-1); str.rsplit(sep=None, maxsplit=-1)\n",
    "\n",
    "```\n",
    "返回一个由字符串内单词组成的列表，使用 sep 作为分隔字符串。 如果给出了 maxsplit，则最多进行 maxsplit 次拆分（因此，列表最多会有 maxsplit+1 个元素）。 如果 maxsplit 未指定或为 -1，则不限制拆分次数（进行所有可能的拆分）。\n",
    "\n",
    "如果给出了 sep，则连续的分隔符不会被组合在一起而是被视为分隔空字符串 (例如 '1,,2'.split(',') 将返回 ['1', '', '2'])。 sep 参数可能由多个字符组成 (例如 '1<>2<>3'.split('<>') 将返回 ['1', '2', '3'])。 使用指定的分隔符拆分空字符串将返回 ['']。\n",
    "\n",
    "如果 sep 未指定或为 None，则会应用另一种拆分算法：连续的空格会被视为单个分隔符，其结果将不包含开头或末尾的空字符串，如果字符串包含前缀或后缀空格的话。 因此，使用 None 拆分空字符串或仅包含空格的字符串将返回 []。\n",
    "\n",
    "rsplit() 的其他行为都类似于 split(), 只是在从 最右边 开始切分\n",
    "```"
   ]
  },
  {
   "cell_type": "code",
   "execution_count": 15,
   "metadata": {},
   "outputs": [
    {
     "name": "stdout",
     "output_type": "stream",
     "text": [
      "['Beijing', 'is', 'capital'] ['Beijing', 'is', 'capital']\n"
     ]
    }
   ],
   "source": [
    "s = \"Beijing is capital\"\n",
    "L = s.split(\" \")    # L = ['Beijing', 'is', 'capital']\n",
    "L1 = s.split() \n",
    "print(L, L1)"
   ]
  },
  {
   "cell_type": "markdown",
   "metadata": {},
   "source": [
    "str.splitlines([keepends])\n",
    "```\n",
    "按照行('\\r', '\\r\\n', \\n')等分隔，返回一个包含各行作为元素的列表，如果参数 keepends 为 False，不包含换行符，如果为 True，则保留换行符\n",
    "```"
   ]
  },
  {
   "cell_type": "markdown",
   "metadata": {},
   "source": [
    "- 字符串拼接：假设字符串为S\n",
    "\n",
    "str.join(iterable)\n",
    "```\n",
    "返回一个由 iterable 中的字符串拼接而成的字符串。 如果 iterable 中存在任何非字符串值包括 bytes 对象则会引发 TypeError。 调用该方法的字符串将作为元素之间的分隔\n",
    "```"
   ]
  },
  {
   "cell_type": "code",
   "execution_count": 16,
   "metadata": {},
   "outputs": [
    {
     "name": "stdout",
     "output_type": "stream",
     "text": [
      "C:\\Programe Files\\Python3\n"
     ]
    }
   ],
   "source": [
    "print('\\\\'.join([\"C:\", \"Programe Files\", \"Python3\"]))"
   ]
  },
  {
   "cell_type": "markdown",
   "metadata": {},
   "source": [
    "`练习：有字符串“hello”， 生成“h e l l o”和“h-e-l-l-o”`"
   ]
  },
  {
   "cell_type": "code",
   "execution_count": 17,
   "metadata": {},
   "outputs": [
    {
     "name": "stdout",
     "output_type": "stream",
     "text": [
      "h e l l o\n",
      "h-e-l-l-o\n"
     ]
    }
   ],
   "source": [
    "print(' '.join(\"hello\"))\n",
    "print('-'.join(\"hello\"))"
   ]
  },
  {
   "cell_type": "markdown",
   "metadata": {},
   "source": [
    "`练习: 有一些数，存于列表中，如：L = [1, 3, 2, 1, 6, 4, 2, 7, 99] 要求将列表中只出现一次的元素存入到另一个列表L2中？`"
   ]
  },
  {
   "cell_type": "code",
   "execution_count": 18,
   "metadata": {},
   "outputs": [
    {
     "name": "stdout",
     "output_type": "stream",
     "text": [
      "[1, 3, 2, 1, 6, 4, 2, 7, 99] [1, 3, 2, 6, 4, 7, 99]\n"
     ]
    }
   ],
   "source": [
    "L = [1, 3, 2, 1, 6, 4, 2, 7, 99]\n",
    "L1 = []\n",
    "for x in L:\n",
    "    if x not in L1:\n",
    "        L1.append(x)\n",
    "print(L, L1)"
   ]
  },
  {
   "cell_type": "markdown",
   "metadata": {},
   "source": [
    "`练习：生成100个斐波那契数(Fibonacci sequence), fibs = (1, 1, 2, 3, 5, ........)存在列表fibs里并打印`"
   ]
  },
  {
   "cell_type": "code",
   "execution_count": 20,
   "metadata": {},
   "outputs": [
    {
     "name": "stdout",
     "output_type": "stream",
     "text": [
      "[1, 1, 2, 3, 5, 8, 13, 21, 34, 55, 89, 144, 233, 377, 610, 987, 1597, 2584, 4181, 6765, 10946, 17711, 28657, 46368, 75025, 121393, 196418, 317811, 514229, 832040, 1346269, 2178309, 3524578, 5702887, 9227465, 14930352, 24157817, 39088169, 63245986, 102334155, 165580141, 267914296, 433494437, 701408733, 1134903170, 1836311903, 2971215073, 4807526976, 7778742049, 12586269025, 20365011074, 32951280099]\n"
     ]
    }
   ],
   "source": [
    "L = [1, 1]\n",
    "for x in range(0, 50):\n",
    "    s = 0\n",
    "    s += L[x] + L[x + 1]\n",
    "    L.append(s)\n",
    "print(L)"
   ]
  },
  {
   "cell_type": "markdown",
   "metadata": {},
   "source": [
    "## 10. 列表推导式 list comprehension\n",
    "\n",
    "作用：\n",
    "```\n",
    "用可迭代对象生成列表\n",
    "```\n",
    "语法：\n",
    "```\n",
    "[表达式 for 变量 in 可迭代对象]\n",
    "或\n",
    "[表达式 for 变量 in 可迭代对象 if 真值表达式]\n",
    "```"
   ]
  },
  {
   "cell_type": "markdown",
   "metadata": {},
   "source": [
    "练习：用列表推导式生成 [1, 4, 9, 16, 25, 36, 49, 64, 81]"
   ]
  },
  {
   "cell_type": "code",
   "execution_count": 23,
   "metadata": {},
   "outputs": [
    {
     "name": "stdout",
     "output_type": "stream",
     "text": [
      "[1, 4, 9, 16, 25, 36, 49, 64, 81]\n"
     ]
    }
   ],
   "source": [
    "L = [x**2 for x in range(1, 10)]\n",
    "print(L)"
   ]
  },
  {
   "cell_type": "markdown",
   "metadata": {},
   "source": [
    "`练习：用列表推导式生成 实例生成0-100之间所有奇数的列表`"
   ]
  },
  {
   "cell_type": "code",
   "execution_count": 24,
   "metadata": {},
   "outputs": [
    {
     "name": "stdout",
     "output_type": "stream",
     "text": [
      "[1, 3, 5, 7, 9, 11, 13, 15, 17, 19, 21, 23, 25, 27, 29, 31, 33, 35, 37, 39, 41, 43, 45, 47, 49, 51, 53, 55, 57, 59, 61, 63, 65, 67, 69, 71, 73, 75, 77, 79, 81, 83, 85, 87, 89, 91, 93, 95, 97, 99]\n"
     ]
    }
   ],
   "source": [
    "L = [x for x in range(100) if x % 2 == 1]\n",
    "print(L)"
   ]
  },
  {
   "cell_type": "markdown",
   "metadata": {},
   "source": [
    "## 11. 列表推导式的嵌套：\n",
    "语法：\n",
    "```\n",
    "[表达式1\n",
    "for 变量1 in 可迭代对象1 (if 真值表达式1)\n",
    "for 变量2 in 可迭代对象2 (if 真值表达式)]\n",
    "注：()小括号内容可省\n",
    "```"
   ]
  },
  {
   "cell_type": "code",
   "execution_count": 25,
   "metadata": {},
   "outputs": [
    {
     "name": "stdout",
     "output_type": "stream",
     "text": [
      "['A1', 'A2', 'A3', 'B1', 'B2', 'B3', 'C1', 'C2', 'C3']\n",
      "['A1', 'A2', 'A3', 'B1', 'B2', 'B3', 'C1', 'C2', 'C3']\n"
     ]
    }
   ],
   "source": [
    "s = \"ABC\"\n",
    "s2 = \"123\"\n",
    "# 循环来实现\n",
    "L = []\n",
    "for y in s:\n",
    "    for x in s2:\n",
    "        L.append(y + x)\n",
    "print(L)\n",
    "\n",
    "# 用列表推导式来实现\n",
    "L = [y + x\n",
    "     for y in s\n",
    "     for x in s2\n",
    "     ]\n",
    "print(L)"
   ]
  },
  {
   "cell_type": "code",
   "execution_count": null,
   "metadata": {},
   "outputs": [],
   "source": []
  }
 ],
 "metadata": {
  "kernelspec": {
   "display_name": "Python 3",
   "language": "python",
   "name": "python3"
  },
  "language_info": {
   "codemirror_mode": {
    "name": "ipython",
    "version": 3
   },
   "file_extension": ".py",
   "mimetype": "text/x-python",
   "name": "python",
   "nbconvert_exporter": "python",
   "pygments_lexer": "ipython3",
   "version": "3.7.3"
  }
 },
 "nbformat": 4,
 "nbformat_minor": 4
}
