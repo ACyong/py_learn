{
 "cells": [
  {
   "cell_type": "markdown",
   "metadata": {},
   "source": [
    "# 变量与运算符"
   ]
  },
  {
   "cell_type": "markdown",
   "metadata": {},
   "source": [
    "## 1. 初识标准输出函数："
   ]
  },
  {
   "cell_type": "code",
   "execution_count": 1,
   "metadata": {},
   "outputs": [
    {
     "name": "stdout",
     "output_type": "stream",
     "text": [
      "要打印的东西 1\n"
     ]
    }
   ],
   "source": [
    "print('要打印的东西', 1)"
   ]
  },
  {
   "cell_type": "markdown",
   "metadata": {},
   "source": [
    "> 注：多个数据要用 ，逗号分开（逗号自带一个空格）"
   ]
  },
  {
   "cell_type": "markdown",
   "metadata": {},
   "source": [
    "## 2. 变量：\n",
    "> 变量是关联一个对象的符号\n",
    "\n",
    "变量名的命名方法：\n",
    "> 注：python变量名区分大小写，标识符的正则表达式：[A-Za-z][A-Za-z0-9]*\n",
    "\n",
    "1. 变量名必须是一个标识符\n",
    "2. 变量名必须为字母或下划线开头，后跟字母或下划线或数字\n",
    "3. 不能用python的关键字\n",
    "> python的关键字：None， True， False， is， del， if， elif， pass， not，⋯⋯⋯⋯"
   ]
  },
  {
   "cell_type": "code",
   "execution_count": 2,
   "metadata": {},
   "outputs": [],
   "source": [
    "name = 'zhangsan'  # 变量name 绑定字符串对象zhangsan"
   ]
  },
  {
   "cell_type": "code",
   "execution_count": 3,
   "metadata": {},
   "outputs": [],
   "source": [
    "mingzi = name  # 这条语言相当于变量mingzi 向变量name 问路后绑定到字符串对象zhangsan"
   ]
  },
  {
   "cell_type": "code",
   "execution_count": 4,
   "metadata": {},
   "outputs": [],
   "source": [
    "name = 'lisi'  # 变量name 改变了绑定关系，两个变量从此没有关系"
   ]
  },
  {
   "cell_type": "code",
   "execution_count": 5,
   "metadata": {},
   "outputs": [
    {
     "data": {
      "text/plain": [
       "'lisi'"
      ]
     },
     "execution_count": 5,
     "metadata": {},
     "output_type": "execute_result"
    }
   ],
   "source": [
    "name"
   ]
  },
  {
   "cell_type": "code",
   "execution_count": 6,
   "metadata": {},
   "outputs": [
    {
     "data": {
      "text/plain": [
       "'zhangsan'"
      ]
     },
     "execution_count": 6,
     "metadata": {},
     "output_type": "execute_result"
    }
   ],
   "source": [
    "mingzi"
   ]
  },
  {
   "cell_type": "markdown",
   "metadata": {},
   "source": [
    "python中关联、绑定、引用的含义\n",
    "```\n",
    "python中，变量没有类型,不需要声明，每个变量在使用之前都必须赋值，变量赋值以后该变量才会被创建\n",
    "python中，一个变量与一个对象相关联，关联/绑定/引用，都是指变量和一个对象的关联关系\n",
    "```\n",
    "> python中变量不存储任何数据，没有任何数据类型，类型是指变量所指的内存中对象的类型\n",
    "---"
   ]
  },
  {
   "cell_type": "markdown",
   "metadata": {},
   "source": [
    "## 3. 基础运算符\n",
    "\n",
    "### 1. 算术运算符 operator：\n",
    "```\n",
    "+   加法\n",
    "-   减法\n",
    "*   乘法\n",
    "/   除法\n",
    "//  地板除floordiv（python 2.3之后）\n",
    "%   求余\n",
    "**  幂运算\n",
    "```"
   ]
  },
  {
   "cell_type": "markdown",
   "metadata": {},
   "source": [
    "- / 除法得到的是浮点型的数，不会丢弃小数部分"
   ]
  },
  {
   "cell_type": "code",
   "execution_count": 7,
   "metadata": {},
   "outputs": [
    {
     "data": {
      "text/plain": [
       "4.0"
      ]
     },
     "execution_count": 7,
     "metadata": {},
     "output_type": "execute_result"
    }
   ],
   "source": [
    "8 / 2"
   ]
  },
  {
   "cell_type": "code",
   "execution_count": 8,
   "metadata": {},
   "outputs": [
    {
     "data": {
      "text/plain": [
       "0.3333333333333333"
      ]
     },
     "execution_count": 8,
     "metadata": {},
     "output_type": "execute_result"
    }
   ],
   "source": [
    "1 / 3  #（精确到小数点后16位）"
   ]
  },
  {
   "cell_type": "markdown",
   "metadata": {},
   "source": [
    "- // 地板除是将除法得到的数去掉小数部分向下取整"
   ]
  },
  {
   "cell_type": "code",
   "execution_count": 9,
   "metadata": {},
   "outputs": [
    {
     "data": {
      "text/plain": [
       "2"
      ]
     },
     "execution_count": 9,
     "metadata": {},
     "output_type": "execute_result"
    }
   ],
   "source": [
    "7 // 3"
   ]
  },
  {
   "cell_type": "code",
   "execution_count": 10,
   "metadata": {},
   "outputs": [
    {
     "data": {
      "text/plain": [
       "2.0"
      ]
     },
     "execution_count": 10,
     "metadata": {},
     "output_type": "execute_result"
    }
   ],
   "source": [
    "3.25 // 1.5"
   ]
  },
  {
   "cell_type": "code",
   "execution_count": 11,
   "metadata": {},
   "outputs": [
    {
     "data": {
      "text/plain": [
       "-2"
      ]
     },
     "execution_count": 11,
     "metadata": {},
     "output_type": "execute_result"
    }
   ],
   "source": [
    "-5 // 3"
   ]
  },
  {
   "cell_type": "markdown",
   "metadata": {},
   "source": [
    "- % 求余"
   ]
  },
  {
   "cell_type": "code",
   "execution_count": 12,
   "metadata": {},
   "outputs": [
    {
     "data": {
      "text/plain": [
       "1"
      ]
     },
     "execution_count": 12,
     "metadata": {},
     "output_type": "execute_result"
    }
   ],
   "source": [
    "7 % 3"
   ]
  },
  {
   "cell_type": "code",
   "execution_count": 13,
   "metadata": {},
   "outputs": [
    {
     "data": {
      "text/plain": [
       "0.25"
      ]
     },
     "execution_count": 13,
     "metadata": {},
     "output_type": "execute_result"
    }
   ],
   "source": [
    "3.25 % 1.5"
   ]
  },
  {
   "cell_type": "markdown",
   "metadata": {},
   "source": [
    "- ** 幂运算\n",
    "> 格式：x ** y    # 意为x的y次方"
   ]
  },
  {
   "cell_type": "code",
   "execution_count": 14,
   "metadata": {},
   "outputs": [
    {
     "data": {
      "text/plain": [
       "16"
      ]
     },
     "execution_count": 14,
     "metadata": {},
     "output_type": "execute_result"
    }
   ],
   "source": [
    "4 ** 2"
   ]
  },
  {
   "cell_type": "code",
   "execution_count": 15,
   "metadata": {},
   "outputs": [
    {
     "data": {
      "text/plain": [
       "81.0"
      ]
     },
     "execution_count": 15,
     "metadata": {},
     "output_type": "execute_result"
    }
   ],
   "source": [
    "3.0 ** 4.0"
   ]
  },
  {
   "cell_type": "markdown",
   "metadata": {},
   "source": [
    "算数运算符的优先级\n",
    "> 同优先级自左向右\n",
    "\n",
    "```\n",
    "**    *  /  %  //    +  -\n",
    "```"
   ]
  },
  {
   "cell_type": "markdown",
   "metadata": {},
   "source": [
    "括号分组子表达式\n",
    "> 用() 可以将表达式分组，() 内部的表达式先进行计算"
   ]
  },
  {
   "cell_type": "markdown",
   "metadata": {},
   "source": [
    "混合类型自动升级："
   ]
  },
  {
   "cell_type": "code",
   "execution_count": 16,
   "metadata": {},
   "outputs": [
    {
     "data": {
      "text/plain": [
       "3.14"
      ]
     },
     "execution_count": 16,
     "metadata": {},
     "output_type": "execute_result"
    }
   ],
   "source": [
    "1 + 2.14  # 整型数与浮点型数的运算，返回类型为浮点数"
   ]
  },
  {
   "cell_type": "markdown",
   "metadata": {},
   "source": [
    "### 2. 正负号运算符：一元运算符\n",
    "\n",
    "语法：\n",
    "```\n",
    "+ x\n",
    "- y\n",
    "```"
   ]
  },
  {
   "cell_type": "code",
   "execution_count": 17,
   "metadata": {},
   "outputs": [
    {
     "data": {
      "text/plain": [
       "-5"
      ]
     },
     "execution_count": 17,
     "metadata": {},
     "output_type": "execute_result"
    }
   ],
   "source": [
    "a = 5\n",
    "b = -a\n",
    "b"
   ]
  },
  {
   "cell_type": "code",
   "execution_count": 18,
   "metadata": {},
   "outputs": [
    {
     "data": {
      "text/plain": [
       "(-2+3j)"
      ]
     },
     "execution_count": 18,
     "metadata": {},
     "output_type": "execute_result"
    }
   ],
   "source": [
    "c1 = (2 - 3j)\n",
    "c2 = -c1\n",
    "c2"
   ]
  },
  {
   "cell_type": "markdown",
   "metadata": {},
   "source": [
    "### 3. 赋值运算符\n",
    "```\n",
    "z = x + y   # 将 a + b 的运算结果赋值为 c \n",
    "y += x      # 等同于y = y + x\n",
    "y -= x      # 等同于y = y - x\n",
    "y *= x      # 等同于y = y * x\n",
    "y /= x      # 等同于y = y / x\n",
    "y //= x     # 等同于y = y // x\n",
    "y %= x     # 等同于y = y % x\n",
    "y **= x     # 等同于y = y ** x\n",
    "```"
   ]
  },
  {
   "cell_type": "markdown",
   "metadata": {},
   "source": [
    "### 4. 比较运算符\n",
    "> 比较运算符返回布尔类型的值 True/False\n",
    "\n",
    "```\n",
    "<  小于\n",
    "<= 小于等于\n",
    ">  大于\n",
    ">= 大于等于\n",
    "== 等于\n",
    "!= 不等于（<>仅用于python2中）\n",
    "```\n",
    "\n",
    "语法：\n",
    "```\n",
    "左表达式 < 右表达式\n",
    "```\n",
    "> 实数可以比较大小，复数不能比较大小"
   ]
  },
  {
   "cell_type": "code",
   "execution_count": 19,
   "metadata": {},
   "outputs": [
    {
     "data": {
      "text/plain": [
       "True"
      ]
     },
     "execution_count": 19,
     "metadata": {},
     "output_type": "execute_result"
    }
   ],
   "source": [
    "1 < 2"
   ]
  },
  {
   "cell_type": "markdown",
   "metadata": {},
   "source": [
    "### 5. 布尔运算：\n",
    "\n",
    "- 布尔\"非\"操作 not（取反）\n",
    "> 对x进行布尔取非操作，如bool(x)为True，则返回False，否则返回True\n",
    "\n",
    "语法：\n",
    "```\n",
    "not X   # x表示一个值\n",
    "```"
   ]
  },
  {
   "cell_type": "code",
   "execution_count": 20,
   "metadata": {},
   "outputs": [
    {
     "data": {
      "text/plain": [
       "False"
      ]
     },
     "execution_count": 20,
     "metadata": {},
     "output_type": "execute_result"
    }
   ],
   "source": [
    "not True"
   ]
  },
  {
   "cell_type": "markdown",
   "metadata": {},
   "source": [
    "- 布尔\"与\"操作 and\n",
    "> 优先返回假值对象（谁为假就选谁），当x的布尔值为假False时，返回x，否则返回y\n",
    "\n",
    "语法：\n",
    "```\n",
    "x and y\n",
    "```"
   ]
  },
  {
   "cell_type": "markdown",
   "metadata": {},
   "source": [
    "- 布尔\"或\"操作 or\n",
    "> 优先返回真值对象，当x为True时，返回x，否则返回y\n",
    "\n",
    "语法：\n",
    "```\n",
    "x or y\n",
    "```"
   ]
  },
  {
   "cell_type": "markdown",
   "metadata": {},
   "source": [
    "### 6. 位运算：\n",
    ">  位运算一般只对整型数进行操作;  bit（位）、byte（字节）、1byte = 2bit\n",
    "\n",
    "运算符：\n",
    "```\n",
    "&   位与\n",
    "|   位或\n",
    "^   位异或\n",
    "<<  左移\n",
    ">>  右移\n",
    "~   求反\n",
    "```\n",
    "\n",
    "- & 位与\n",
    "```\n",
    "格式：表达式x & 表达式y\n",
    "作用：按位操作\n",
    "1、两个对应的位为1，则结果为1\n",
    "2、两个对应的位只要有一个为0，则结果为0\n",
    "```"
   ]
  },
  {
   "cell_type": "code",
   "execution_count": 21,
   "metadata": {},
   "outputs": [
    {
     "data": {
      "text/plain": [
       "8"
      ]
     },
     "execution_count": 21,
     "metadata": {},
     "output_type": "execute_result"
    }
   ],
   "source": [
    "10 & 12"
   ]
  },
  {
   "cell_type": "markdown",
   "metadata": {},
   "source": [
    "```\n",
    "0b1010\n",
    "0b1100\n",
    "--------\n",
    "0b1000\n",
    "```"
   ]
  },
  {
   "cell_type": "markdown",
   "metadata": {},
   "source": [
    "> & 运算可以用于判断给定整数奇偶数，因为奇数二进制的最后一位是 1，所以奇数 & 1，恒等于 1，\n",
    "偶数二进制的最后一位是 0，所以偶数 & 1，恒等于 0。使用这种方法比 % 运算速度快"
   ]
  },
  {
   "cell_type": "markdown",
   "metadata": {},
   "source": [
    "- | 位或\n",
    "```\n",
    "格式：表达式x | 表达式y\n",
    "作用：按位操作\n",
    "    1、两个对应的位为0，则结果为0\n",
    "    2、两个对应的位只要有一个为1，则结果为1\n",
    "```"
   ]
  },
  {
   "cell_type": "code",
   "execution_count": 22,
   "metadata": {},
   "outputs": [
    {
     "data": {
      "text/plain": [
       "14"
      ]
     },
     "execution_count": 22,
     "metadata": {},
     "output_type": "execute_result"
    }
   ],
   "source": [
    "10 | 12"
   ]
  },
  {
   "cell_type": "markdown",
   "metadata": {},
   "source": [
    "```\n",
    "0b1010\n",
    "0b1100\n",
    "--------\n",
    "0b1110\n",
    "```"
   ]
  },
  {
   "cell_type": "markdown",
   "metadata": {},
   "source": [
    "- ^ 位异或\n",
    "```\n",
    "格式：表达式x ^ 表达式y\n",
    "作用：按位操作\n",
    "1、两个对应的位不同，则结果为1\n",
    "2、两个对应的位相同，则结果为0\n",
    "```"
   ]
  },
  {
   "cell_type": "code",
   "execution_count": 23,
   "metadata": {},
   "outputs": [
    {
     "data": {
      "text/plain": [
       "6"
      ]
     },
     "execution_count": 23,
     "metadata": {},
     "output_type": "execute_result"
    }
   ],
   "source": [
    "10 ^ 12"
   ]
  },
  {
   "cell_type": "markdown",
   "metadata": {},
   "source": [
    "```\n",
    "0b1010\n",
    "0b1100\n",
    "--------\n",
    "0b0110\n",
    "```"
   ]
  },
  {
   "cell_type": "markdown",
   "metadata": {},
   "source": [
    "^ 运算可以用于在不使用临时变量的情况下，交换两个数字\n",
    "\n",
    "```\n",
    "x, y = 2, 3\n",
    "x = x ^ y\n",
    "y = x ^ y\n",
    "x = x ^ y\n",
    "\n",
    "# 更简单的办法\n",
    "x, y = 2, 3\n",
    "x, y = y, x\n",
    "```"
   ]
  },
  {
   "cell_type": "markdown",
   "metadata": {},
   "source": [
    "- `<<` 左移运算：（左移几位相当于在原数上乘以几个2，在python 中不会溢出）\n",
    "```\n",
    "格式：表达式x << 整数表达式y\n",
    "作用：将x的二进制，按位向左移动y位，低位补零\n",
    "```"
   ]
  },
  {
   "cell_type": "code",
   "execution_count": 24,
   "metadata": {},
   "outputs": [
    {
     "data": {
      "text/plain": [
       "12"
      ]
     },
     "execution_count": 24,
     "metadata": {},
     "output_type": "execute_result"
    }
   ],
   "source": [
    "0b0110 << 1"
   ]
  },
  {
   "cell_type": "code",
   "execution_count": 25,
   "metadata": {},
   "outputs": [
    {
     "data": {
      "text/plain": [
       "24"
      ]
     },
     "execution_count": 25,
     "metadata": {},
     "output_type": "execute_result"
    }
   ],
   "source": [
    "0b0110 << 2"
   ]
  },
  {
   "cell_type": "code",
   "execution_count": 26,
   "metadata": {},
   "outputs": [
    {
     "data": {
      "text/plain": [
       "48"
      ]
     },
     "execution_count": 26,
     "metadata": {},
     "output_type": "execute_result"
    }
   ],
   "source": [
    "0b0110 << 3"
   ]
  },
  {
   "cell_type": "markdown",
   "metadata": {},
   "source": [
    "- `>>` 右移运算：（在不溢出的情况下，右移几位相当于在原数上除以几个2）\n",
    "```\n",
    "格式：表达式x >> 整数表达式y\n",
    "作用：将x的二进制，按位向右移动y位，低位溢出丢弃\n",
    "```"
   ]
  },
  {
   "cell_type": "code",
   "execution_count": 27,
   "metadata": {},
   "outputs": [
    {
     "data": {
      "text/plain": [
       "3"
      ]
     },
     "execution_count": 27,
     "metadata": {},
     "output_type": "execute_result"
    }
   ],
   "source": [
    "0b0110 >> 1"
   ]
  },
  {
   "cell_type": "code",
   "execution_count": 28,
   "metadata": {},
   "outputs": [
    {
     "data": {
      "text/plain": [
       "1"
      ]
     },
     "execution_count": 28,
     "metadata": {},
     "output_type": "execute_result"
    }
   ],
   "source": [
    "0b0110 >> 2"
   ]
  },
  {
   "cell_type": "code",
   "execution_count": 29,
   "metadata": {},
   "outputs": [
    {
     "data": {
      "text/plain": [
       "0"
      ]
     },
     "execution_count": 29,
     "metadata": {},
     "output_type": "execute_result"
    }
   ],
   "source": [
    "0b0110 >> 3"
   ]
  },
  {
   "cell_type": "markdown",
   "metadata": {},
   "source": [
    "- ~ 求反\n",
    "```\n",
    "格式：~ 表达式\n",
    "说明：-1 求反 0\n",
    "           0 求反 1\n",
    "计算机的负数是用补码形式表示的\n",
    "```"
   ]
  },
  {
   "cell_type": "markdown",
   "metadata": {},
   "source": [
    "`练习：输入一个正整数存于x内，用移位累加的方法求x的5倍是多少？（不允许用*号运算符）`"
   ]
  },
  {
   "cell_type": "code",
   "execution_count": 30,
   "metadata": {},
   "outputs": [
    {
     "name": "stdout",
     "output_type": "stream",
     "text": [
      "请输入一个整数：1\n",
      "5\n"
     ]
    }
   ],
   "source": [
    "x = int(input(\"请输入一个整数：\"))\n",
    "print((x << 2) + x)"
   ]
  },
  {
   "cell_type": "markdown",
   "metadata": {},
   "source": [
    "### 7. 身份运算符\n",
    "> is：判断两个变量是否绑定同一个对象，当绑定同一个对象时返回True，否则返回False。\n",
    "is not 的返回值与is的返回值相反\n",
    "\n",
    "语法：\n",
    "```\n",
    "x is y\n",
    "x is not y\n",
    "```"
   ]
  },
  {
   "cell_type": "code",
   "execution_count": 31,
   "metadata": {},
   "outputs": [
    {
     "name": "stdout",
     "output_type": "stream",
     "text": [
      "False\n",
      "True\n",
      "True\n"
     ]
    }
   ],
   "source": [
    "a = 3000\n",
    "b = 1000 + 2000\n",
    "print(a is b)\n",
    "print(a is not b)\n",
    "b = a\n",
    "print(a is b)"
   ]
  },
  {
   "cell_type": "markdown",
   "metadata": {},
   "source": [
    "> 注：对于CPython 整数-5至256用于存于内存中，不会释放并一直重复使用\n",
    "\n",
    "> id() 函数用于获取对象内存地址"
   ]
  },
  {
   "cell_type": "code",
   "execution_count": 32,
   "metadata": {},
   "outputs": [
    {
     "name": "stdout",
     "output_type": "stream",
     "text": [
      "True\n",
      "4337966832\n",
      "4337966832\n"
     ]
    }
   ],
   "source": [
    "a = 3\n",
    "b = 1+2\n",
    "print(a is b)\n",
    "\n",
    "print(id(3))\n",
    "\n",
    "print(id(2+1))"
   ]
  },
  {
   "cell_type": "markdown",
   "metadata": {},
   "source": [
    "## 4. 内置函数（2）\n",
    "\n",
    "- type() 函数\n",
    "```\n",
    "内置的 type() 函数可以用来查询变量所指的对象类型\n",
    "```\n",
    "\n",
    "- isinstance()函数\n",
    "```\n",
    "用isinstance(变量, 数据类型)，返回bool值\n",
    "```\n",
    "> type() 不会认为子类是一种父类类型, isinstance() 会认为子类是一种父类类型\n",
    "\n",
    "---"
   ]
  }
 ],
 "metadata": {
  "kernelspec": {
   "display_name": "Python 3",
   "language": "python",
   "name": "python3"
  },
  "language_info": {
   "codemirror_mode": {
    "name": "ipython",
    "version": 3
   },
   "file_extension": ".py",
   "mimetype": "text/x-python",
   "name": "python",
   "nbconvert_exporter": "python",
   "pygments_lexer": "ipython3",
   "version": "3.7.3"
  }
 },
 "nbformat": 4,
 "nbformat_minor": 2
}
