{
 "cells": [
  {
   "cell_type": "markdown",
   "metadata": {},
   "source": [
    "# 快速排序"
   ]
  },
  {
   "cell_type": "code",
   "execution_count": 1,
   "metadata": {},
   "outputs": [
    {
     "data": {
      "text/plain": [
       "[0, 1, 2, 4, 5, 8, 9, 10, 19, 27, 32, 64]"
      ]
     },
     "execution_count": 1,
     "metadata": {},
     "output_type": "execute_result"
    }
   ],
   "source": [
    "def quick_sort(array):\n",
    "    less = []\n",
    "    greater = []\n",
    "    if len(array) <= 1:\n",
    "        return array\n",
    "    pivot = array.pop()\n",
    "    for x in array:\n",
    "        if x <=pivot:\n",
    "            less.append(x)\n",
    "        else:\n",
    "            greater.append(x)\n",
    "    return quick_sort(less)+[pivot]+quick_sort(greater)\n",
    "\n",
    "quick_sort([9, 8, 4, 5, 32, 64, 2, 1, 0, 10, 19, 27])"
   ]
  },
  {
   "cell_type": "markdown",
   "metadata": {},
   "source": [
    "***"
   ]
  },
  {
   "cell_type": "markdown",
   "metadata": {},
   "source": [
    "# python 中的switch 语法实现"
   ]
  },
  {
   "cell_type": "code",
   "execution_count": 2,
   "metadata": {},
   "outputs": [
    {
     "data": {
      "text/plain": [
       "'1'"
      ]
     },
     "execution_count": 2,
     "metadata": {},
     "output_type": "execute_result"
    }
   ],
   "source": [
    "def pyswitch(x): \n",
    "    return {\n",
    "        1: '1',\n",
    "        2: '2',\n",
    "        3: '3',\n",
    "    }.get(x, '???')\n",
    "\n",
    "\n",
    "pyswitch(1)"
   ]
  },
  {
   "cell_type": "markdown",
   "metadata": {},
   "source": [
    "***"
   ]
  },
  {
   "cell_type": "markdown",
   "metadata": {},
   "source": [
    "# 将存放常量的文件命名为content.py"
   ]
  },
  {
   "cell_type": "code",
   "execution_count": 13,
   "metadata": {},
   "outputs": [],
   "source": [
    "class _const:\n",
    "    class ConstError(TypeError):\n",
    "        pass\n",
    "\n",
    "    class ConstCaseError(ConstError):\n",
    "        pass\n",
    "\n",
    "    def __setattr__(self, name, value):\n",
    "        if name in self.__dict__:\n",
    "            raise self.ConstError(\"can't change const %s\" % name)\n",
    "        if not name.isupper():\n",
    "            raise self.ConstCaseError(\n",
    "                'const name \"%s\" is not all uppercase' % name)\n",
    "        self.__dict__[name] = value\n",
    "\n",
    "\n",
    "const = _const()\n",
    "const.PI = 3.14"
   ]
  },
  {
   "cell_type": "markdown",
   "metadata": {},
   "source": [
    "> 使用常量"
   ]
  },
  {
   "cell_type": "code",
   "execution_count": null,
   "metadata": {},
   "outputs": [],
   "source": [
    "from constant import const\n",
    "\n",
    "print(const.PI)"
   ]
  },
  {
   "cell_type": "markdown",
   "metadata": {},
   "source": [
    "***"
   ]
  },
  {
   "cell_type": "markdown",
   "metadata": {},
   "source": [
    "# 数据交换值得时候不推荐使用中间变量"
   ]
  },
  {
   "cell_type": "code",
   "execution_count": 1,
   "metadata": {},
   "outputs": [
    {
     "name": "stdout",
     "output_type": "stream",
     "text": [
      "0.02975826900001266\n",
      "0.02302728799986653\n"
     ]
    }
   ],
   "source": [
    "from timeit import Timer\n",
    "\n",
    "print(Timer('temp = x; x = y; y = temp', 'x = 2; y = 3').timeit())\n",
    "print(Timer('x, y = y, x', 'x = 2; y = 3').timeit())"
   ]
  },
  {
   "cell_type": "markdown",
   "metadata": {},
   "source": [
    "***"
   ]
  },
  {
   "cell_type": "markdown",
   "metadata": {},
   "source": [
    "# 充分利用Lazy evaluation 的特性"
   ]
  },
  {
   "cell_type": "code",
   "execution_count": 2,
   "metadata": {},
   "outputs": [
    {
     "name": "stdout",
     "output_type": "stream",
     "text": [
      "0.09370064735412598\n"
     ]
    }
   ],
   "source": [
    "from time import  time\n",
    "\n",
    "t = time()\n",
    "abbreviations = ['cf.', 'e.g.', 'ex.', 'etc.', 'flg.']\n",
    "for i in range(100000):\n",
    "    for w in ('Mr.', 'Hat', 'is', 'chasing', '.'):\n",
    "        if w in abbreviations and w[-1] == '.':\n",
    "        # if w[-1] == '.' and w in abbreviations:\n",
    "            pass\n",
    "print(time() - t)"
   ]
  },
  {
   "cell_type": "markdown",
   "metadata": {},
   "source": [
    "***"
   ]
  },
  {
   "cell_type": "markdown",
   "metadata": {},
   "source": [
    "# 生成器，斐波那契数列"
   ]
  },
  {
   "cell_type": "code",
   "execution_count": 1,
   "metadata": {},
   "outputs": [
    {
     "name": "stdout",
     "output_type": "stream",
     "text": [
      "[0, 1, 1, 2, 3]\n"
     ]
    }
   ],
   "source": [
    "from itertools import islice\n",
    "\n",
    "\n",
    "def fibs():\n",
    "    a, b = 0, 1\n",
    "    while True:\n",
    "        yield a\n",
    "        a, b = b, a + b\n",
    "\n",
    "\n",
    "print(list(islice(fibs(), 5)))"
   ]
  },
  {
   "cell_type": "markdown",
   "metadata": {},
   "source": [
    "***"
   ]
  },
  {
   "cell_type": "markdown",
   "metadata": {},
   "source": [
    "# 使用enumerate() 获取序列迭代的索引和值"
   ]
  },
  {
   "cell_type": "code",
   "execution_count": 2,
   "metadata": {},
   "outputs": [
    {
     "name": "stdout",
     "output_type": "stream",
     "text": [
      "index: 0 element: a\n",
      "index: 1 element: b\n",
      "index: 2 element: c\n",
      "index: 3 element: d\n",
      "index: 4 element: e\n"
     ]
    }
   ],
   "source": [
    "li = ['a', 'b', 'c', 'd', 'e']\n",
    "# 使用 zip() 方法\n",
    "# for i, e in zip(range(len(i)), li):\n",
    "for i, e in enumerate(li):\n",
    "    print('index:', i, 'element:', e)"
   ]
  },
  {
   "cell_type": "markdown",
   "metadata": {},
   "source": [
    "> enumerate 的实现原理"
   ]
  },
  {
   "cell_type": "code",
   "execution_count": null,
   "metadata": {},
   "outputs": [],
   "source": [
    "def enumerate(sequence, start=0):\n",
    "    n = start\n",
    "    for elem in reversed(sequence):\n",
    "        yield n, elem\n",
    "        n += 1"
   ]
  },
  {
   "cell_type": "markdown",
   "metadata": {},
   "source": [
    "***"
   ]
  },
  {
   "cell_type": "markdown",
   "metadata": {},
   "source": [
    "# 分清 == 与 is 的使用场景\n",
    "> is 表示的是对象标识符(object identity)是否一致, 而 == 表示的意思是相等(equal).<br/>\n",
    "> x is y 基本相等于 id(x) == id(y).<br/>\n",
    "> x = y 相当于 a.__eq__(b), 所以 == 操作符是可以被重载的, 而 is 不能.<br/>\n",
    "> 如果 x is y 为 True 的话, x == y 的值也为 True, 特殊情况如下:"
   ]
  },
  {
   "cell_type": "code",
   "execution_count": 8,
   "metadata": {},
   "outputs": [
    {
     "name": "stdout",
     "output_type": "stream",
     "text": [
      "True\n",
      "False\n"
     ]
    }
   ],
   "source": [
    "a = float('NaN')\n",
    "print(a is a)\n",
    "print(a == a)"
   ]
  },
  {
   "cell_type": "markdown",
   "metadata": {},
   "source": [
    "> python 中存在 string interning (字符串驻留)机制, 对于较小的字符串, 为了提高系统性能会保留其值得一个副本, 当创建新的字符串的时候直接指向该副本即可."
   ]
  },
  {
   "cell_type": "code",
   "execution_count": 10,
   "metadata": {},
   "outputs": [
    {
     "data": {
      "text/plain": [
       "True"
      ]
     },
     "execution_count": 10,
     "metadata": {},
     "output_type": "execute_result"
    }
   ],
   "source": [
    "a = 'a'\n",
    "b = 'a'\n",
    "a is b"
   ]
  },
  {
   "cell_type": "markdown",
   "metadata": {},
   "source": [
    "***"
   ]
  },
  {
   "cell_type": "markdown",
   "metadata": {},
   "source": [
    "# 定义自己的上下文管理器"
   ]
  },
  {
   "cell_type": "code",
   "execution_count": 2,
   "metadata": {},
   "outputs": [
    {
     "name": "stdout",
     "output_type": "stream",
     "text": [
      "entering...\n",
      "Testing...\n",
      "leaving...\n",
      "value error!!!\n"
     ]
    }
   ],
   "source": [
    "class MyContextManager(object):\n",
    "    \n",
    "    def __enter__(self):\n",
    "        print('entering...')\n",
    "        \n",
    "    def __exit__(self, exception_type, exception_value, traceback):\n",
    "        print('leaving...')\n",
    "        if exception_type is None:\n",
    "            print('no exceptions!')\n",
    "            return False\n",
    "        elif exception_type is ValueError:\n",
    "            print('value error!!!')\n",
    "            return True\n",
    "        else:\n",
    "            print('other error')\n",
    "            return True\n",
    "        \n",
    "with MyContextManager():\n",
    "    print('Testing...')\n",
    "    raise(ValueError)"
   ]
  },
  {
   "cell_type": "markdown",
   "metadata": {},
   "source": [
    "***"
   ]
  },
  {
   "cell_type": "markdown",
   "metadata": {},
   "source": [
    "# 使用 else 子句简化循环"
   ]
  },
  {
   "cell_type": "code",
   "execution_count": 3,
   "metadata": {},
   "outputs": [
    {
     "name": "stdout",
     "output_type": "stream",
     "text": [
      "2 is a prime number\n",
      "3 is a prime number\n",
      "5 is a prime number\n",
      "7 is a prime number\n",
      "-------\n",
      "2 is a prime number\n",
      "3 is a prime number\n",
      "5 is a prime number\n",
      "7 is a prime number\n"
     ]
    }
   ],
   "source": [
    "def print_prime(n):\n",
    "    for i in range(2, n):\n",
    "        found = True\n",
    "        for j in range(2, i):\n",
    "            if i % j == 0:\n",
    "                found = False\n",
    "                break\n",
    "        if found:\n",
    "            print('{} is a prime number'.format(i))\n",
    "            \n",
    "def print_prime2(n):\n",
    "    for i in range(2, n):\n",
    "        for j in range(2, i):\n",
    "            if i % j == 0:\n",
    "                break\n",
    "        else:\n",
    "            print('{} is a prime number'.format(i))\n",
    "            \n",
    "print_prime(10)\n",
    "print('-------')\n",
    "print_prime2(10)"
   ]
  },
  {
   "cell_type": "code",
   "execution_count": null,
   "metadata": {},
   "outputs": [],
   "source": []
  },
  {
   "cell_type": "code",
   "execution_count": null,
   "metadata": {},
   "outputs": [],
   "source": []
  },
  {
   "cell_type": "code",
   "execution_count": null,
   "metadata": {},
   "outputs": [],
   "source": []
  },
  {
   "cell_type": "code",
   "execution_count": null,
   "metadata": {},
   "outputs": [],
   "source": []
  },
  {
   "cell_type": "code",
   "execution_count": null,
   "metadata": {},
   "outputs": [],
   "source": []
  },
  {
   "cell_type": "code",
   "execution_count": null,
   "metadata": {},
   "outputs": [],
   "source": []
  },
  {
   "cell_type": "code",
   "execution_count": null,
   "metadata": {},
   "outputs": [],
   "source": []
  },
  {
   "cell_type": "code",
   "execution_count": null,
   "metadata": {},
   "outputs": [],
   "source": []
  },
  {
   "cell_type": "code",
   "execution_count": null,
   "metadata": {},
   "outputs": [],
   "source": []
  },
  {
   "cell_type": "code",
   "execution_count": null,
   "metadata": {},
   "outputs": [],
   "source": []
  }
 ],
 "metadata": {
  "kernelspec": {
   "display_name": "Python 3",
   "language": "python",
   "name": "python3"
  },
  "language_info": {
   "codemirror_mode": {
    "name": "ipython",
    "version": 3
   },
   "file_extension": ".py",
   "mimetype": "text/x-python",
   "name": "python",
   "nbconvert_exporter": "python",
   "pygments_lexer": "ipython3",
   "version": "3.6.5"
  }
 },
 "nbformat": 4,
 "nbformat_minor": 2
}
