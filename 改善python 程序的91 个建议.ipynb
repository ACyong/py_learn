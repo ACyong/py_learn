{
 "cells": [
  {
   "cell_type": "markdown",
   "metadata": {},
   "source": [
    "# 快速排序"
   ]
  },
  {
   "cell_type": "code",
   "execution_count": 1,
   "metadata": {},
   "outputs": [
    {
     "data": {
      "text/plain": [
       "[0, 1, 2, 4, 5, 8, 9, 10, 19, 27, 32, 64]"
      ]
     },
     "execution_count": 1,
     "metadata": {},
     "output_type": "execute_result"
    }
   ],
   "source": [
    "def quick_sort(array):\n",
    "    less = []\n",
    "    greater = []\n",
    "    if len(array) <= 1:\n",
    "        return array\n",
    "    pivot = array.pop()\n",
    "    for x in array:\n",
    "        if x <=pivot:\n",
    "            less.append(x)\n",
    "        else:\n",
    "            greater.append(x)\n",
    "    return quick_sort(less)+[pivot]+quick_sort(greater)\n",
    "\n",
    "quick_sort([9, 8, 4, 5, 32, 64, 2, 1, 0, 10, 19, 27])"
   ]
  },
  {
   "cell_type": "markdown",
   "metadata": {},
   "source": [
    "***"
   ]
  },
  {
   "cell_type": "markdown",
   "metadata": {},
   "source": [
    "# python 中的switch 语法实现"
   ]
  },
  {
   "cell_type": "code",
   "execution_count": 2,
   "metadata": {},
   "outputs": [
    {
     "data": {
      "text/plain": [
       "'1'"
      ]
     },
     "execution_count": 2,
     "metadata": {},
     "output_type": "execute_result"
    }
   ],
   "source": [
    "def pyswitch(x): \n",
    "    return {\n",
    "        1: '1',\n",
    "        2: '2',\n",
    "        3: '3',\n",
    "    }.get(x, '???')\n",
    "\n",
    "\n",
    "pyswitch(1)"
   ]
  },
  {
   "cell_type": "markdown",
   "metadata": {},
   "source": [
    "***"
   ]
  },
  {
   "cell_type": "markdown",
   "metadata": {},
   "source": [
    "# 将存放常量的文件命名为content.py"
   ]
  },
  {
   "cell_type": "code",
   "execution_count": 5,
   "metadata": {},
   "outputs": [
    {
     "ename": "ConstError",
     "evalue": "can't change const PI",
     "output_type": "error",
     "traceback": [
      "\u001b[0;31m---------------------------------------------------------------------------\u001b[0m",
      "\u001b[0;31mConstError\u001b[0m                                Traceback (most recent call last)",
      "\u001b[0;32m<ipython-input-5-4f6dff7cb767>\u001b[0m in \u001b[0;36m<module>\u001b[0;34m()\u001b[0m\n\u001b[1;32m     19\u001b[0m \u001b[0;34m\u001b[0m\u001b[0m\n\u001b[1;32m     20\u001b[0m \u001b[0;34m\u001b[0m\u001b[0m\n\u001b[0;32m---> 21\u001b[0;31m \u001b[0mconst\u001b[0m\u001b[0;34m.\u001b[0m\u001b[0mPI\u001b[0m \u001b[0;34m=\u001b[0m \u001b[0;36m5\u001b[0m\u001b[0;34m\u001b[0m\u001b[0m\n\u001b[0m",
      "\u001b[0;32m<ipython-input-5-4f6dff7cb767>\u001b[0m in \u001b[0;36m__setattr__\u001b[0;34m(self, name, value)\u001b[0m\n\u001b[1;32m      8\u001b[0m     \u001b[0;32mdef\u001b[0m \u001b[0m__setattr__\u001b[0m\u001b[0;34m(\u001b[0m\u001b[0mself\u001b[0m\u001b[0;34m,\u001b[0m \u001b[0mname\u001b[0m\u001b[0;34m,\u001b[0m \u001b[0mvalue\u001b[0m\u001b[0;34m)\u001b[0m\u001b[0;34m:\u001b[0m\u001b[0;34m\u001b[0m\u001b[0m\n\u001b[1;32m      9\u001b[0m         \u001b[0;32mif\u001b[0m \u001b[0mname\u001b[0m \u001b[0;32min\u001b[0m \u001b[0mself\u001b[0m\u001b[0;34m.\u001b[0m\u001b[0m__dict__\u001b[0m\u001b[0;34m:\u001b[0m\u001b[0;34m\u001b[0m\u001b[0m\n\u001b[0;32m---> 10\u001b[0;31m             \u001b[0;32mraise\u001b[0m \u001b[0mself\u001b[0m\u001b[0;34m.\u001b[0m\u001b[0mConstError\u001b[0m\u001b[0;34m(\u001b[0m\u001b[0;34m\"can't change const %s\"\u001b[0m \u001b[0;34m%\u001b[0m \u001b[0mname\u001b[0m\u001b[0;34m)\u001b[0m\u001b[0;34m\u001b[0m\u001b[0m\n\u001b[0m\u001b[1;32m     11\u001b[0m         \u001b[0;32mif\u001b[0m \u001b[0;32mnot\u001b[0m \u001b[0mname\u001b[0m\u001b[0;34m.\u001b[0m\u001b[0misupper\u001b[0m\u001b[0;34m(\u001b[0m\u001b[0;34m)\u001b[0m\u001b[0;34m:\u001b[0m\u001b[0;34m\u001b[0m\u001b[0m\n\u001b[1;32m     12\u001b[0m             raise self.ConstCaseError(\n",
      "\u001b[0;31mConstError\u001b[0m: can't change const PI"
     ]
    }
   ],
   "source": [
    "class _const:\n",
    "    class ConstError(TypeError):\n",
    "        pass\n",
    "\n",
    "    class ConstCaseError(ConstError):\n",
    "        pass\n",
    "\n",
    "    def __setattr__(self, name, value):\n",
    "        if name in self.__dict__:\n",
    "            raise self.ConstError(\"can't change const %s\" % name)\n",
    "        if not name.isupper():\n",
    "            raise self.ConstCaseError(\n",
    "                'const name \"%s\" is not all uppercase' % name)\n",
    "        self.__dict__[name] = value\n",
    "\n",
    "\n",
    "const = _const()\n",
    "const.PI = 3.14\n",
    "\n",
    "\n",
    "const.PI = 5"
   ]
  },
  {
   "cell_type": "markdown",
   "metadata": {},
   "source": [
    "> 使用常量"
   ]
  },
  {
   "cell_type": "code",
   "execution_count": 7,
   "metadata": {},
   "outputs": [],
   "source": [
    "from constant import const\n",
    "\n",
    "print(const.PI)"
   ]
  },
  {
   "cell_type": "markdown",
   "metadata": {},
   "source": [
    "***"
   ]
  },
  {
   "cell_type": "markdown",
   "metadata": {},
   "source": [
    "# 数据交换值得时候不推荐使用中间变量"
   ]
  },
  {
   "cell_type": "code",
   "execution_count": 1,
   "metadata": {},
   "outputs": [
    {
     "name": "stdout",
     "output_type": "stream",
     "text": [
      "0.02975826900001266\n",
      "0.02302728799986653\n"
     ]
    }
   ],
   "source": [
    "from timeit import Timer\n",
    "\n",
    "print(Timer('temp = x; x = y; y = temp', 'x = 2; y = 3').timeit())\n",
    "print(Timer('x, y = y, x', 'x = 2; y = 3').timeit())"
   ]
  },
  {
   "cell_type": "markdown",
   "metadata": {},
   "source": [
    "***"
   ]
  },
  {
   "cell_type": "markdown",
   "metadata": {},
   "source": [
    "# 充分利用Lazy evaluation 的特性"
   ]
  },
  {
   "cell_type": "code",
   "execution_count": 2,
   "metadata": {},
   "outputs": [
    {
     "name": "stdout",
     "output_type": "stream",
     "text": [
      "0.09370064735412598\n"
     ]
    }
   ],
   "source": [
    "from time import  time\n",
    "\n",
    "t = time()\n",
    "abbreviations = ['cf.', 'e.g.', 'ex.', 'etc.', 'flg.']\n",
    "for i in range(100000):\n",
    "    for w in ('Mr.', 'Hat', 'is', 'chasing', '.'):\n",
    "        if w in abbreviations and w[-1] == '.':\n",
    "        # if w[-1] == '.' and w in abbreviations:\n",
    "            pass\n",
    "print(time() - t)"
   ]
  },
  {
   "cell_type": "markdown",
   "metadata": {},
   "source": [
    "***"
   ]
  },
  {
   "cell_type": "markdown",
   "metadata": {},
   "source": [
    "# 生成器，斐波那契数列"
   ]
  },
  {
   "cell_type": "code",
   "execution_count": 1,
   "metadata": {},
   "outputs": [
    {
     "name": "stdout",
     "output_type": "stream",
     "text": [
      "[0, 1, 1, 2, 3]\n"
     ]
    }
   ],
   "source": [
    "from itertools import islice\n",
    "\n",
    "\n",
    "def fibs():\n",
    "    a, b = 0, 1\n",
    "    while True:\n",
    "        yield a\n",
    "        a, b = b, a + b\n",
    "\n",
    "\n",
    "print(list(islice(fibs(), 5)))"
   ]
  },
  {
   "cell_type": "markdown",
   "metadata": {},
   "source": [
    "***"
   ]
  },
  {
   "cell_type": "markdown",
   "metadata": {},
   "source": [
    "# 使用enumerate() 获取序列迭代的索引和值"
   ]
  },
  {
   "cell_type": "code",
   "execution_count": 2,
   "metadata": {},
   "outputs": [
    {
     "name": "stdout",
     "output_type": "stream",
     "text": [
      "index: 0 element: a\n",
      "index: 1 element: b\n",
      "index: 2 element: c\n",
      "index: 3 element: d\n",
      "index: 4 element: e\n"
     ]
    }
   ],
   "source": [
    "li = ['a', 'b', 'c', 'd', 'e']\n",
    "# 使用 zip() 方法\n",
    "# for i, e in zip(range(len(i)), li):\n",
    "for i, e in enumerate(li):\n",
    "    print('index:', i, 'element:', e)"
   ]
  },
  {
   "cell_type": "markdown",
   "metadata": {},
   "source": [
    "> enumerate 的实现原理"
   ]
  },
  {
   "cell_type": "code",
   "execution_count": null,
   "metadata": {},
   "outputs": [],
   "source": [
    "def enumerate(sequence, start=0):\n",
    "    n = start\n",
    "    for elem in reversed(sequence):\n",
    "        yield n, elem\n",
    "        n += 1"
   ]
  },
  {
   "cell_type": "markdown",
   "metadata": {},
   "source": [
    "***"
   ]
  },
  {
   "cell_type": "markdown",
   "metadata": {},
   "source": [
    "# 分清 == 与 is 的使用场景\n",
    "> is 表示的是对象标识符(object identity)是否一致, 而 == 表示的意思是相等(equal).<br/>\n",
    "> x is y 基本相等于 id(x) == id(y).<br/>\n",
    "> x = y 相当于 a.__eq__(b), 所以 == 操作符是可以被重载的, 而 is 不能.<br/>\n",
    "> 如果 x is y 为 True 的话, x == y 的值也为 True, 特殊情况如下:"
   ]
  },
  {
   "cell_type": "code",
   "execution_count": 8,
   "metadata": {},
   "outputs": [
    {
     "name": "stdout",
     "output_type": "stream",
     "text": [
      "True\n",
      "False\n"
     ]
    }
   ],
   "source": [
    "a = float('NaN')\n",
    "print(a is a)\n",
    "print(a == a)"
   ]
  },
  {
   "cell_type": "markdown",
   "metadata": {},
   "source": [
    "> python 中存在 string interning (字符串驻留)机制, 对于较小的字符串, 为了提高系统性能会保留其值得一个副本, 当创建新的字符串的时候直接指向该副本即可."
   ]
  },
  {
   "cell_type": "code",
   "execution_count": 10,
   "metadata": {},
   "outputs": [
    {
     "data": {
      "text/plain": [
       "True"
      ]
     },
     "execution_count": 10,
     "metadata": {},
     "output_type": "execute_result"
    }
   ],
   "source": [
    "a = 'a'\n",
    "b = 'a'\n",
    "a is b"
   ]
  },
  {
   "cell_type": "markdown",
   "metadata": {},
   "source": [
    "***"
   ]
  },
  {
   "cell_type": "markdown",
   "metadata": {},
   "source": [
    "# 有节制的使用 from...import 语句"
   ]
  },
  {
   "cell_type": "code",
   "execution_count": 1,
   "metadata": {
    "scrolled": true
   },
   "outputs": [],
   "source": [
    "import sys\n",
    "sys.modules.items()"
   ]
  },
  {
   "cell_type": "code",
   "execution_count": 3,
   "metadata": {
    "scrolled": true
   },
   "outputs": [
    {
     "data": {
      "text/plain": [
       "['In',\n",
       " 'Out',\n",
       " '_',\n",
       " '_2',\n",
       " '__',\n",
       " '___',\n",
       " '__builtin__',\n",
       " '__builtins__',\n",
       " '__doc__',\n",
       " '__loader__',\n",
       " '__name__',\n",
       " '__package__',\n",
       " '__spec__',\n",
       " '_dh',\n",
       " '_i',\n",
       " '_i1',\n",
       " '_i2',\n",
       " '_i3',\n",
       " '_ih',\n",
       " '_ii',\n",
       " '_iii',\n",
       " '_oh',\n",
       " 'exit',\n",
       " 'get_ipython',\n",
       " 'quit',\n",
       " 'sys']"
      ]
     },
     "execution_count": 3,
     "metadata": {},
     "output_type": "execute_result"
    }
   ],
   "source": [
    "dir()"
   ]
  },
  {
   "cell_type": "markdown",
   "metadata": {},
   "source": [
    "> 循环导入问题"
   ]
  },
  {
   "cell_type": "code",
   "execution_count": null,
   "metadata": {},
   "outputs": [],
   "source": [
    "# a.py\n",
    "from b import c\n",
    "\n",
    "def d():\n",
    "    pass"
   ]
  },
  {
   "cell_type": "markdown",
   "metadata": {},
   "source": [
    "ImportError: cannot import name c"
   ]
  },
  {
   "cell_type": "code",
   "execution_count": 5,
   "metadata": {},
   "outputs": [],
   "source": [
    "# b.py\n",
    "from a import d\n",
    "\n",
    "def c():\n",
    "    pass"
   ]
  },
  {
   "cell_type": "markdown",
   "metadata": {},
   "source": [
    "ImportError: cannot import name d"
   ]
  },
  {
   "cell_type": "markdown",
   "metadata": {},
   "source": [
    "> 直接使用 import 可以解决这个问题"
   ]
  },
  {
   "cell_type": "markdown",
   "metadata": {},
   "source": [
    "***"
   ]
  },
  {
   "cell_type": "markdown",
   "metadata": {},
   "source": [
    "# 定义自己的上下文管理器"
   ]
  },
  {
   "cell_type": "code",
   "execution_count": 2,
   "metadata": {},
   "outputs": [
    {
     "name": "stdout",
     "output_type": "stream",
     "text": [
      "entering...\n",
      "Testing...\n",
      "leaving...\n",
      "value error!!!\n"
     ]
    }
   ],
   "source": [
    "class MyContextManager(object):\n",
    "    \n",
    "    def __enter__(self):\n",
    "        print('entering...')\n",
    "        \n",
    "    def __exit__(self, exception_type, exception_value, traceback):\n",
    "        print('leaving...')\n",
    "        if exception_type is None:\n",
    "            print('no exceptions!')\n",
    "            return False\n",
    "        elif exception_type is ValueError:\n",
    "            print('value error!!!')\n",
    "            return True\n",
    "        else:\n",
    "            print('other error')\n",
    "            return True\n",
    "        \n",
    "with MyContextManager():\n",
    "    print('Testing...')\n",
    "    raise(ValueError)"
   ]
  },
  {
   "cell_type": "markdown",
   "metadata": {},
   "source": [
    "***"
   ]
  },
  {
   "cell_type": "markdown",
   "metadata": {},
   "source": [
    "# 使用 else 子句简化循环"
   ]
  },
  {
   "cell_type": "code",
   "execution_count": 3,
   "metadata": {},
   "outputs": [
    {
     "name": "stdout",
     "output_type": "stream",
     "text": [
      "2 is a prime number\n",
      "3 is a prime number\n",
      "5 is a prime number\n",
      "7 is a prime number\n",
      "-------\n",
      "2 is a prime number\n",
      "3 is a prime number\n",
      "5 is a prime number\n",
      "7 is a prime number\n"
     ]
    }
   ],
   "source": [
    "def print_prime(n):\n",
    "    for i in range(2, n):\n",
    "        found = True\n",
    "        for j in range(2, i):\n",
    "            if i % j == 0:\n",
    "                found = False\n",
    "                break\n",
    "        if found:\n",
    "            print('{} is a prime number'.format(i))\n",
    "            \n",
    "def print_prime2(n):\n",
    "    for i in range(2, n):\n",
    "        for j in range(2, i):\n",
    "            if i % j == 0:\n",
    "                break\n",
    "        else:\n",
    "            print('{} is a prime number'.format(i))\n",
    "            \n",
    "print_prime(10)\n",
    "print('-------')\n",
    "print_prime2(10)"
   ]
  },
  {
   "cell_type": "markdown",
   "metadata": {},
   "source": [
    "***"
   ]
  },
  {
   "cell_type": "markdown",
   "metadata": {},
   "source": [
    "# 避免 finally 中可能发生的陷阱"
   ]
  },
  {
   "cell_type": "code",
   "execution_count": 1,
   "metadata": {},
   "outputs": [
    {
     "name": "stdout",
     "output_type": "stream",
     "text": [
      "I am starting...\n",
      "I am running...\n",
      "finally executed\n"
     ]
    }
   ],
   "source": [
    "def FinallyTest():\n",
    "    print('I am starting...')\n",
    "    while True:\n",
    "        try:\n",
    "            print('I am running...')\n",
    "            raise IndexError('r')  #  抛出异常\n",
    "        except NameError as e:\n",
    "            print('NameError happended %s' % e)\n",
    "            break\n",
    "        finally:\n",
    "            print('finally executed')\n",
    "            break  # finally 语句中有 break 或 return 语句时, 临时保存的异常将会被丢失\n",
    "\n",
    "FinallyTest()"
   ]
  },
  {
   "cell_type": "markdown",
   "metadata": {},
   "source": [
    "***"
   ]
  },
  {
   "cell_type": "markdown",
   "metadata": {},
   "source": [
    "# 深入理解 None, 正确判断对象是否为空"
   ]
  },
  {
   "cell_type": "code",
   "execution_count": 1,
   "metadata": {},
   "outputs": [
    {
     "data": {
      "text/plain": [
       "4408420856"
      ]
     },
     "execution_count": 1,
     "metadata": {},
     "output_type": "execute_result"
    }
   ],
   "source": [
    "id(None)"
   ]
  },
  {
   "cell_type": "code",
   "execution_count": 2,
   "metadata": {},
   "outputs": [
    {
     "data": {
      "text/plain": [
       "False"
      ]
     },
     "execution_count": 2,
     "metadata": {},
     "output_type": "execute_result"
    }
   ],
   "source": [
    "None == 0"
   ]
  },
  {
   "cell_type": "code",
   "execution_count": 3,
   "metadata": {},
   "outputs": [
    {
     "data": {
      "text/plain": [
       "False"
      ]
     },
     "execution_count": 3,
     "metadata": {},
     "output_type": "execute_result"
    }
   ],
   "source": [
    "None == False"
   ]
  },
  {
   "cell_type": "code",
   "execution_count": 4,
   "metadata": {},
   "outputs": [
    {
     "data": {
      "text/plain": [
       "False"
      ]
     },
     "execution_count": 4,
     "metadata": {},
     "output_type": "execute_result"
    }
   ],
   "source": [
    "None == ''"
   ]
  },
  {
   "cell_type": "code",
   "execution_count": 5,
   "metadata": {},
   "outputs": [
    {
     "data": {
      "text/plain": [
       "4408420856"
      ]
     },
     "execution_count": 5,
     "metadata": {},
     "output_type": "execute_result"
    }
   ],
   "source": [
    "a = None\n",
    "id(a)"
   ]
  },
  {
   "cell_type": "code",
   "execution_count": 6,
   "metadata": {},
   "outputs": [
    {
     "data": {
      "text/plain": [
       "True"
      ]
     },
     "execution_count": 6,
     "metadata": {},
     "output_type": "execute_result"
    }
   ],
   "source": [
    "b = None\n",
    "a == b"
   ]
  },
  {
   "cell_type": "code",
   "execution_count": 7,
   "metadata": {},
   "outputs": [
    {
     "name": "stdout",
     "output_type": "stream",
     "text": [
      "list is: []\n"
     ]
    }
   ],
   "source": [
    "list1 = []\n",
    "if list1 is not None:\n",
    "    print ('list is:', list1)\n",
    "else:\n",
    "    print('list is empty')"
   ]
  },
  {
   "cell_type": "markdown",
   "metadata": {},
   "source": [
    ">None 既不是0 False, 也不是空字符串或空值对象, 其数据类型为NoneType, 遵循单例模式, 是唯一的, 因此不能创建 None 对象. <br/>\n",
    ">所有赋值为 None 的对象的值都相等, 并且 None 与其他非 None 的对象比较结果都为 False."
   ]
  },
  {
   "cell_type": "markdown",
   "metadata": {},
   "source": [
    "***"
   ]
  },
  {
   "cell_type": "markdown",
   "metadata": {},
   "source": [
    "# 连接字符串应优先使用 join 而不是 +"
   ]
  },
  {
   "cell_type": "code",
   "execution_count": 7,
   "metadata": {},
   "outputs": [
    {
     "name": "stdout",
     "output_type": "stream",
     "text": [
      "0.1823216680004407\n",
      "2.2072159569997893\n"
     ]
    }
   ],
   "source": [
    "import timeit\n",
    "\n",
    "strlist = ['it is a long value string will not keep in memory' for n in range(100000)]\n",
    "\n",
    "def join_test():\n",
    "    return ''.join(strlist)\n",
    "\n",
    "def plus_test():\n",
    "    result = ''\n",
    "    for i, v in enumerate(strlist):\n",
    "        result = result + v\n",
    "    return result\n",
    "\n",
    "if __name__ == '__main__':\n",
    "    jointimer = timeit.Timer('join_test()', 'from __main__ import join_test')\n",
    "    print(jointimer.timeit(number=100))\n",
    "    plustimer = timeit.Timer('plus_test()', 'from __main__ import plus_test')\n",
    "    print(plustimer.timeit(number=100))"
   ]
  },
  {
   "cell_type": "markdown",
   "metadata": {},
   "source": [
    "***"
   ]
  },
  {
   "cell_type": "markdown",
   "metadata": {},
   "source": [
    "# 区别对待可变对象和不可变对象"
   ]
  },
  {
   "cell_type": "markdown",
   "metadata": {},
   "source": [
    "> 字符串为不可变对象，任何对字符串中某个字符的修改都会抛出异常。修改字符串中的某个字符可以采用如下方式："
   ]
  },
  {
   "cell_type": "code",
   "execution_count": 13,
   "metadata": {},
   "outputs": [
    {
     "name": "stdout",
     "output_type": "stream",
     "text": [
      "<attribute 'typecode' of 'array.array' objects>\n"
     ]
    }
   ],
   "source": [
    "teststr = 'I am a pytlon string'\n",
    "import array\n",
    "# a = array.array('C', teststr)\n",
    "# a[10] = 'h'\n",
    "# print(a)\n",
    "# a.tostring()\n",
    "print(array.array.typecode)"
   ]
  },
  {
   "cell_type": "code",
   "execution_count": 22,
   "metadata": {},
   "outputs": [
    {
     "name": "stdout",
     "output_type": "stream",
     "text": [
      "wang yi's course:\n",
      "English\n",
      "Math\n",
      "---------------------\n",
      "Li san's course:\n",
      "Chinese\n",
      "Physics\n"
     ]
    }
   ],
   "source": [
    "class Student():\n",
    "    def __init__(self, name, course=None):\n",
    "        self.name = name\n",
    "        if course is None:\n",
    "            course = []\n",
    "        self.course = course\n",
    "    \n",
    "    def add_course(self, coursename):\n",
    "        self.course.append(coursename)\n",
    "        \n",
    "    def print_course(self):\n",
    "        for item in self.course:\n",
    "            print(item)\n",
    "            \n",
    "stuA = Student('wang yi')\n",
    "stuA.add_course('English')\n",
    "stuA.add_course('Math')\n",
    "print(stuA.name + \"'s course:\")\n",
    "stuA.print_course()\n",
    "print('---------------------')\n",
    "stuB = Student('Li san')\n",
    "stuB.add_course('Chinese')\n",
    "stuB.add_course('Physics')\n",
    "print(stuB.name + \"'s course:\")\n",
    "stuB.print_course()"
   ]
  },
  {
   "cell_type": "markdown",
   "metadata": {},
   "source": [
    "***"
   ]
  },
  {
   "cell_type": "markdown",
   "metadata": {},
   "source": [
    "# 掌握字符串的基本用法"
   ]
  },
  {
   "cell_type": "markdown",
   "metadata": {},
   "source": [
    "> 编写多行字符串字面量的小技巧"
   ]
  },
  {
   "cell_type": "code",
   "execution_count": 17,
   "metadata": {},
   "outputs": [
    {
     "data": {
      "text/plain": [
       "'select * from atable where afield = \"value\"'"
      ]
     },
     "execution_count": 17,
     "metadata": {},
     "output_type": "execute_result"
    }
   ],
   "source": [
    "s = ('select * '\n",
    "    'from atable '\n",
    "     'where afield = \"value\"')\n",
    "s"
   ]
  },
  {
   "cell_type": "code",
   "execution_count": 2,
   "metadata": {},
   "outputs": [
    {
     "data": {
      "text/plain": [
       "False"
      ]
     },
     "execution_count": 2,
     "metadata": {},
     "output_type": "execute_result"
    }
   ],
   "source": [
    "s = '4.5'\n",
    "s.isalnum()"
   ]
  },
  {
   "cell_type": "code",
   "execution_count": 4,
   "metadata": {},
   "outputs": [
    {
     "ename": "SyntaxError",
     "evalue": "EOL while scanning string literal (<ipython-input-4-8e2443008130>, line 1)",
     "output_type": "error",
     "traceback": [
      "\u001b[0;36m  File \u001b[0;32m\"<ipython-input-4-8e2443008130>\"\u001b[0;36m, line \u001b[0;32m1\u001b[0m\n\u001b[0;31m    \"ddf92fbe466119cbe6cce89d8a12db06\\\"\u001b[0m\n\u001b[0m                                       ^\u001b[0m\n\u001b[0;31mSyntaxError\u001b[0m\u001b[0;31m:\u001b[0m EOL while scanning string literal\n"
     ]
    }
   ],
   "source": [
    "\"ddf92fbe466119cbe6cce89d8a12db06\\\""
   ]
  },
  {
   "cell_type": "code",
   "execution_count": null,
   "metadata": {},
   "outputs": [],
   "source": []
  },
  {
   "cell_type": "code",
   "execution_count": null,
   "metadata": {},
   "outputs": [],
   "source": []
  },
  {
   "cell_type": "code",
   "execution_count": null,
   "metadata": {},
   "outputs": [],
   "source": []
  },
  {
   "cell_type": "code",
   "execution_count": null,
   "metadata": {},
   "outputs": [],
   "source": []
  },
  {
   "cell_type": "code",
   "execution_count": null,
   "metadata": {},
   "outputs": [],
   "source": []
  },
  {
   "cell_type": "code",
   "execution_count": null,
   "metadata": {},
   "outputs": [],
   "source": []
  },
  {
   "cell_type": "code",
   "execution_count": null,
   "metadata": {},
   "outputs": [],
   "source": []
  },
  {
   "cell_type": "code",
   "execution_count": null,
   "metadata": {},
   "outputs": [],
   "source": []
  },
  {
   "cell_type": "code",
   "execution_count": null,
   "metadata": {},
   "outputs": [],
   "source": []
  }
 ],
 "metadata": {
  "kernelspec": {
   "display_name": "Python 3",
   "language": "python",
   "name": "python3"
  },
  "language_info": {
   "codemirror_mode": {
    "name": "ipython",
    "version": 3
   },
   "file_extension": ".py",
   "mimetype": "text/x-python",
   "name": "python",
   "nbconvert_exporter": "python",
   "pygments_lexer": "ipython3",
   "version": "3.6.5"
  }
 },
 "nbformat": 4,
 "nbformat_minor": 2
}
