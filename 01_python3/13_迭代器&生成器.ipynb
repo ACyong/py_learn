{
 "cells": [
  {
   "cell_type": "markdown",
   "metadata": {},
   "source": [
    "# 迭代器&生成器\n",
    "\n",
    "## 1.迭代器 Iterator\n",
    "\n",
    "> 迭代器是指用 `iter(iterable)` 函数返回的对象（实例）, 可以记住遍历的位置的对象, 间接访问可迭代对象的一种方式。\n",
    "\n",
    "> 迭代器可以用 `next(Iterator)` 函数依次获取可迭代对象的值, 表示一个惰性计算的序列, 迭代器只能往前取值，不会后退, 也可以用 for 语句遍历；\n",
    "\n",
    "- iter()、next()函数\n",
    "\n",
    "```\n",
    "1. iter(iterable) 从可迭代对象中返回一个迭代器Iterator，iterable必须是一个可迭代对象\n",
    "2. next(Iterator) 从迭代器Iterator 中获取下一个记录，如果无法获取下一条记录，则触发StopIteration，异常来通知调用者已无数据可提供\n",
    "```\n",
    "\n",
    "- 可迭代对象\n",
    "\n",
    "```\n",
    "集合数据类型:\n",
    "str、list、tuple、dict、set、frozenset\n",
    "\n",
    "函数返回值：\n",
    "range(), map(), filter(), sorted(), zip(), enumerate()\n",
    "```\n",
    "\n",
    "> 注：凡是可作用于for循环的对象都是Iterable类型, 集合数据类型如list、dict、str等是Iterable, 但不是Iterator，不过可以通过iter()函数获得一个Iterator对象\n"
   ]
  },
  {
   "cell_type": "code",
   "execution_count": 13,
   "metadata": {
    "scrolled": true
   },
   "outputs": [
    {
     "ename": "AttributeError",
     "evalue": "'list' object has no attribute '__next__'",
     "output_type": "error",
     "traceback": [
      "\u001b[0;31m---------------------------------------------------------------------------\u001b[0m",
      "\u001b[0;31mAttributeError\u001b[0m                            Traceback (most recent call last)",
      "\u001b[0;32m<ipython-input-13-a270d7e520f0>\u001b[0m in \u001b[0;36m<module>\u001b[0;34m\u001b[0m\n\u001b[1;32m      1\u001b[0m \u001b[0mL\u001b[0m \u001b[0;34m=\u001b[0m \u001b[0;34m[\u001b[0m\u001b[0;36m1\u001b[0m\u001b[0;34m,\u001b[0m\u001b[0;36m3\u001b[0m\u001b[0;34m,\u001b[0m\u001b[0;36m5\u001b[0m\u001b[0;34m,\u001b[0m\u001b[0;36m7\u001b[0m\u001b[0;34m,\u001b[0m\u001b[0;36m9\u001b[0m\u001b[0;34m]\u001b[0m \u001b[0;31m# L为可迭代对象\u001b[0m\u001b[0;34m\u001b[0m\u001b[0;34m\u001b[0m\u001b[0m\n\u001b[0;32m----> 2\u001b[0;31m \u001b[0mL\u001b[0m\u001b[0;34m.\u001b[0m\u001b[0m__next__\u001b[0m\u001b[0;34m(\u001b[0m\u001b[0;34m)\u001b[0m\u001b[0;34m\u001b[0m\u001b[0;34m\u001b[0m\u001b[0m\n\u001b[0m",
      "\u001b[0;31mAttributeError\u001b[0m: 'list' object has no attribute '__next__'"
     ]
    }
   ],
   "source": [
    "L = [1,3,5,7,9] # L为可迭代对象\n",
    "L.__next__()"
   ]
  },
  {
   "cell_type": "code",
   "execution_count": 14,
   "metadata": {},
   "outputs": [
    {
     "ename": "TypeError",
     "evalue": "'list' object is not an iterator",
     "output_type": "error",
     "traceback": [
      "\u001b[0;31m---------------------------------------------------------------------------\u001b[0m",
      "\u001b[0;31mTypeError\u001b[0m                                 Traceback (most recent call last)",
      "\u001b[0;32m<ipython-input-14-1dc6ff802149>\u001b[0m in \u001b[0;36m<module>\u001b[0;34m\u001b[0m\n\u001b[1;32m      1\u001b[0m \u001b[0mL\u001b[0m \u001b[0;34m=\u001b[0m \u001b[0;34m[\u001b[0m\u001b[0;36m1\u001b[0m\u001b[0;34m,\u001b[0m\u001b[0;36m3\u001b[0m\u001b[0;34m,\u001b[0m\u001b[0;36m5\u001b[0m\u001b[0;34m,\u001b[0m\u001b[0;36m7\u001b[0m\u001b[0;34m,\u001b[0m\u001b[0;36m9\u001b[0m\u001b[0;34m]\u001b[0m \u001b[0;31m# L为可迭代对象\u001b[0m\u001b[0;34m\u001b[0m\u001b[0;34m\u001b[0m\u001b[0m\n\u001b[0;32m----> 2\u001b[0;31m \u001b[0mnext\u001b[0m\u001b[0;34m(\u001b[0m\u001b[0mL\u001b[0m\u001b[0;34m)\u001b[0m\u001b[0;34m\u001b[0m\u001b[0;34m\u001b[0m\u001b[0m\n\u001b[0m",
      "\u001b[0;31mTypeError\u001b[0m: 'list' object is not an iterator"
     ]
    }
   ],
   "source": [
    "L = [1,3,5,7,9] # L为可迭代对象\n",
    "next(L)"
   ]
  },
  {
   "cell_type": "code",
   "execution_count": 15,
   "metadata": {},
   "outputs": [
    {
     "name": "stdout",
     "output_type": "stream",
     "text": [
      "1\n",
      "3\n",
      "5\n",
      "7\n",
      "9\n"
     ]
    },
    {
     "ename": "StopIteration",
     "evalue": "",
     "output_type": "error",
     "traceback": [
      "\u001b[0;31m---------------------------------------------------------------------------\u001b[0m",
      "\u001b[0;31mStopIteration\u001b[0m                             Traceback (most recent call last)",
      "\u001b[0;32m<ipython-input-15-658214e2d174>\u001b[0m in \u001b[0;36m<module>\u001b[0;34m\u001b[0m\n\u001b[1;32m      7\u001b[0m \u001b[0mprint\u001b[0m\u001b[0;34m(\u001b[0m\u001b[0mnext\u001b[0m\u001b[0;34m(\u001b[0m\u001b[0mit\u001b[0m\u001b[0;34m)\u001b[0m\u001b[0;34m)\u001b[0m\u001b[0;34m\u001b[0m\u001b[0;34m\u001b[0m\u001b[0m\n\u001b[1;32m      8\u001b[0m \u001b[0mprint\u001b[0m\u001b[0;34m(\u001b[0m\u001b[0mnext\u001b[0m\u001b[0;34m(\u001b[0m\u001b[0mit\u001b[0m\u001b[0;34m)\u001b[0m\u001b[0;34m)\u001b[0m\u001b[0;34m\u001b[0m\u001b[0;34m\u001b[0m\u001b[0m\n\u001b[0;32m----> 9\u001b[0;31m \u001b[0mprint\u001b[0m\u001b[0;34m(\u001b[0m\u001b[0mnext\u001b[0m\u001b[0;34m(\u001b[0m\u001b[0mit\u001b[0m\u001b[0;34m)\u001b[0m\u001b[0;34m)\u001b[0m\u001b[0;34m\u001b[0m\u001b[0;34m\u001b[0m\u001b[0m\n\u001b[0m",
      "\u001b[0;31mStopIteration\u001b[0m: "
     ]
    }
   ],
   "source": [
    "L = [1,3,5,7,9] # L为可迭代对象\n",
    "it = iter(L)    # 变量it 绑定迭代器\n",
    "v = next(it)    # v 绑定\n",
    "print(v)\n",
    "print(it.__next__())\n",
    "print(next(it))\n",
    "print(next(it))\n",
    "print(next(it))\n",
    "print(next(it))"
   ]
  },
  {
   "cell_type": "markdown",
   "metadata": {},
   "source": [
    "- for循环本质上就是通过不断调用next()函数实现的"
   ]
  },
  {
   "cell_type": "code",
   "execution_count": 5,
   "metadata": {},
   "outputs": [
    {
     "name": "stdout",
     "output_type": "stream",
     "text": [
      "1\n",
      "2\n",
      "3\n",
      "4\n",
      "5\n",
      "1\n",
      "2\n",
      "3\n",
      "4\n",
      "5\n"
     ]
    }
   ],
   "source": [
    "for x in [1, 2, 3, 4, 5]:\n",
    "    print(x)\n",
    "    \n",
    "# 完全等价于：\n",
    "it = iter([1, 2, 3, 4, 5])\n",
    "while True:\n",
    "    try:\n",
    "        # 获得下一个值:\n",
    "        print(next(it))\n",
    "    except StopIteration:\n",
    "        # 遇到StopIteration就退出循环\n",
    "        break"
   ]
  },
  {
   "cell_type": "markdown",
   "metadata": {},
   "source": [
    "## 2. 生成器：Generator（python2.5 之后）\n",
    "\n",
    "> 生成器是指能够动态提供数据的对象，只用在调用的时候才会生成相应的数据，只记录当前数据，生成器对象也是迭代器对象，当迭代超出范围后，产生一个StopIteration\n",
    "\n",
    "- 生成器有两种\n",
    "\n",
    "```\n",
    "只能用for 语句、next 函数、生成器属性取值，取值时生成器才会生成要用到的数据\n",
    "1、生成器函数\n",
    "\n",
    "2、生成器表达式\n",
    "```\n",
    "\n",
    "> 注：生成器都是Iterator对象，但list、dict、str虽然是Iterable，却不是Iterator。\n",
    "\n",
    "### 1. 生成器函数：\n",
    "\n",
    "> 含有yield 语句的函数是生成器函数，此函数调用将返回一个生成器对象 yield 翻译为生成、产生\n",
    "\n",
    "- yield语句格式：\n",
    "\n",
    "```\n",
    "yield 表达式\n",
    "```\n",
    "\n",
    "- 说明：\n",
    "\n",
    "```\n",
    "yield 用于def 函数中，目的是将此函数作为生成器函数使用\n",
    "yield 用来生成数据，此数据提供给迭代器的next(generator) 函数使用\n",
    "yield 记住当前执行环境暂停函数，并返回数据给调用处，再次取数据时执行回到yield 语句处向下执行\n",
    "```"
   ]
  },
  {
   "cell_type": "markdown",
   "metadata": {},
   "source": [
    "`练习：写一个生成器函数，用于生成n 个斐波那契额数，n 以参数的形式传入`"
   ]
  },
  {
   "cell_type": "code",
   "execution_count": 1,
   "metadata": {},
   "outputs": [
    {
     "name": "stdout",
     "output_type": "stream",
     "text": [
      "g 1\n",
      "g 1\n",
      "g 2\n",
      "g 3\n",
      "g 5\n",
      "g 8\n",
      "Generator return value: None\n"
     ]
    }
   ],
   "source": [
    "def fib(max):\n",
    "    n, a, b = 0, 0, 1\n",
    "    while n < max:\n",
    "        # print(b)\n",
    "        yield b\n",
    "        a, b = b, a + b\n",
    "        n = n + 1\n",
    "    # return \"done\"\n",
    "\n",
    "g = fib(6)\n",
    "while True:\n",
    "    try:\n",
    "        x = next(g)\n",
    "        print(\"g\", x)\n",
    "    except Exception as e:\n",
    "        print(\"Generator return value:\", e.value)\n",
    "        break"
   ]
  },
  {
   "cell_type": "markdown",
   "metadata": {},
   "source": [
    "- 生成器函数说明：\n",
    "\n",
    "```\n",
    "生成器函数的调用将返回一个可迭代对象\n",
    "生成器函数调用return 语句，当迭代超出范围后，产生一个StopIteration 异常后加return 的值（如：StopIteration: done）\n",
    "生成器函数每次用next() 函数取值时才会执行，遇到yield语句后将停止执行，并返回数据\n",
    "```\n",
    "\n",
    "### 2. 生成器表达式：generator expression\n",
    "\n",
    "```\n",
    "语法：(表达式 for 变量 in 可迭代对象 [if 真值表达式]) 注：[]内的if部分可以省略，形式很像列表生成式，只是把中括号改成了小括号\n",
    "\n",
    "作用：用推导式的形式生成一个新的生成器，可以用生成器的属性 .__next__() 取值\n",
    "```"
   ]
  },
  {
   "cell_type": "code",
   "execution_count": 7,
   "metadata": {},
   "outputs": [
    {
     "data": {
      "text/plain": [
       "<generator object <genexpr> at 0x10a897228>"
      ]
     },
     "execution_count": 7,
     "metadata": {},
     "output_type": "execute_result"
    }
   ],
   "source": [
    "a = (x*2 for x in range(5))  # 使用生成器表达式来创建一个生成器\n",
    "a"
   ]
  },
  {
   "cell_type": "code",
   "execution_count": 8,
   "metadata": {},
   "outputs": [
    {
     "name": "stdout",
     "output_type": "stream",
     "text": [
      "0 2\n"
     ]
    }
   ],
   "source": [
    "print(next(a), a.__next__())"
   ]
  },
  {
   "cell_type": "code",
   "execution_count": 9,
   "metadata": {},
   "outputs": [
    {
     "data": {
      "text/plain": [
       "<generator object <genexpr> at 0x10a897228>"
      ]
     },
     "execution_count": 9,
     "metadata": {},
     "output_type": "execute_result"
    }
   ],
   "source": [
    "s = iter(a)\n",
    "s"
   ]
  },
  {
   "cell_type": "code",
   "execution_count": 10,
   "metadata": {},
   "outputs": [
    {
     "name": "stdout",
     "output_type": "stream",
     "text": [
      "4 6\n"
     ]
    }
   ],
   "source": [
    "print(s.__next__(), next(s))"
   ]
  },
  {
   "cell_type": "code",
   "execution_count": 11,
   "metadata": {
    "scrolled": true
   },
   "outputs": [
    {
     "ename": "StopIteration",
     "evalue": "",
     "output_type": "error",
     "traceback": [
      "\u001b[0;31m---------------------------------------------------------------------------\u001b[0m",
      "\u001b[0;31mStopIteration\u001b[0m                             Traceback (most recent call last)",
      "\u001b[0;32m<ipython-input-11-5e73900f2c53>\u001b[0m in \u001b[0;36m<module>\u001b[0;34m\u001b[0m\n\u001b[1;32m      1\u001b[0m \u001b[0ma\u001b[0m\u001b[0;34m.\u001b[0m\u001b[0m__next__\u001b[0m\u001b[0;34m(\u001b[0m\u001b[0;34m)\u001b[0m\u001b[0;34m\u001b[0m\u001b[0;34m\u001b[0m\u001b[0m\n\u001b[0;32m----> 2\u001b[0;31m \u001b[0ma\u001b[0m\u001b[0;34m.\u001b[0m\u001b[0m__next__\u001b[0m\u001b[0;34m(\u001b[0m\u001b[0;34m)\u001b[0m\u001b[0;34m\u001b[0m\u001b[0;34m\u001b[0m\u001b[0m\n\u001b[0m",
      "\u001b[0;31mStopIteration\u001b[0m: "
     ]
    }
   ],
   "source": [
    "a.__next__()\n",
    "a.__next__()"
   ]
  },
  {
   "cell_type": "markdown",
   "metadata": {},
   "source": [
    "- 生成器表达式和列表推导式的区别：\n",
    "\n",
    "```\n",
    "1、生成器表达式中产生的数据是现用现生成，不记住之前生成的数据，也不能使用已经生成过的数据，当迭代超出范围后，产生一个StopIteration\n",
    "2、列表推导式会一次性生成所有数据\n",
    "```"
   ]
  },
  {
   "cell_type": "markdown",
   "metadata": {},
   "source": [
    "- 生成器的并发"
   ]
  },
  {
   "cell_type": "code",
   "execution_count": 26,
   "metadata": {},
   "outputs": [
    {
     "name": "stdout",
     "output_type": "stream",
     "text": [
      "A 准备吃包子！\n",
      "B 准备吃包子！\n",
      "准备做包子！ None None\n",
      "做了2 个包子\n",
      "包子[0] 来了，被[A] 吃了！\n",
      "包子[0] 来了，被[B] 吃了！\n",
      "做了2 个包子\n",
      "包子[1] 来了，被[A] 吃了！\n",
      "包子[1] 来了，被[B] 吃了！\n",
      "做了2 个包子\n",
      "包子[2] 来了，被[A] 吃了！\n",
      "包子[2] 来了，被[B] 吃了！\n",
      "做了2 个包子\n",
      "包子[3] 来了，被[A] 吃了！\n",
      "包子[3] 来了，被[B] 吃了！\n",
      "做了2 个包子\n",
      "包子[4] 来了，被[A] 吃了！\n",
      "包子[4] 来了，被[B] 吃了！\n",
      "做了2 个包子\n",
      "包子[5] 来了，被[A] 吃了！\n",
      "包子[5] 来了，被[B] 吃了！\n",
      "做了2 个包子\n",
      "包子[6] 来了，被[A] 吃了！\n",
      "包子[6] 来了，被[B] 吃了！\n",
      "做了2 个包子\n",
      "包子[7] 来了，被[A] 吃了！\n",
      "包子[7] 来了，被[B] 吃了！\n",
      "做了2 个包子\n",
      "包子[8] 来了，被[A] 吃了！\n",
      "包子[8] 来了，被[B] 吃了！\n",
      "做了2 个包子\n",
      "包子[9] 来了，被[A] 吃了！\n",
      "包子[9] 来了，被[B] 吃了！\n"
     ]
    }
   ],
   "source": [
    "import time\n",
    "\n",
    "def consumer(name):\n",
    "    print(\"%s 准备吃包子！\" % name)\n",
    "    while True:\n",
    "        baozi = yield\n",
    "        print(\"包子[%s] 来了，被[%s] 吃了！\" % (baozi, name))\n",
    "\n",
    "def producer(name):\n",
    "    c = consumer(\"A\")\n",
    "    c2 = consumer(\"B\")\n",
    "    y = c.__next__()\n",
    "    y1 = c2.__next__()\n",
    "    print(\"准备做包子！\", y, y1)\n",
    "    for i in range(10):\n",
    "        time.sleep(1)\n",
    "        print(\"做了2 个包子\")\n",
    "        c.send(i)\n",
    "        c2.send(i)\n",
    "\n",
    "producer(\"庄\")"
   ]
  },
  {
   "cell_type": "markdown",
   "metadata": {},
   "source": [
    "## 3. 迭代工具函数\n",
    "\n",
    "> 迭代工具函数的作用是生成一个个性化的可迭代对象\n",
    "\n",
    "- zip(iter[, iter,....]) 返回一个zip对象，此对象用于生成元组，此元组的个数由最小的可迭代对象决定"
   ]
  },
  {
   "cell_type": "code",
   "execution_count": 18,
   "metadata": {},
   "outputs": [
    {
     "name": "stdout",
     "output_type": "stream",
     "text": [
      "(10086, '中国移动')\n",
      "(10000, '中国电信')\n",
      "(10010, '中国联通')\n"
     ]
    }
   ],
   "source": [
    "numbers = [10086, 10000, 10010, 95588]\n",
    "names = ['中国移动', '中国电信', '中国联通']\n",
    "for x in zip(numbers, names):\n",
    "    print(x)"
   ]
  },
  {
   "cell_type": "markdown",
   "metadata": {},
   "source": [
    "- enumerate(iterator[, start]), 生成带索引的枚举对象，返回迭代类型为索引-值对（index, value）的元组，默认索引从零开始，也可以指定start"
   ]
  },
  {
   "cell_type": "code",
   "execution_count": 19,
   "metadata": {},
   "outputs": [
    {
     "name": "stdout",
     "output_type": "stream",
     "text": [
      "(0, '中国移动')\n",
      "(1, '中国电信')\n",
      "(2, '中国联通')\n",
      "0  -----> 中国移动\n",
      "1  -----> 中国电信\n",
      "2  -----> 中国联通\n"
     ]
    }
   ],
   "source": [
    "numbers = [10086, 10000, 10010, 95588]\n",
    "names = ['中国移动', '中国电信', '中国联通']\n",
    "# L = [(0, '中国移动'), (1, '中国电信'), (2, '中国联通')]\n",
    "for x in enumerate(names):\n",
    "    print(x)\n",
    "\n",
    "# 扩展\n",
    "for no, n in enumerate(names):  # (等同于序列赋值)\n",
    "    print(no, \" ----->\", n)"
   ]
  },
  {
   "cell_type": "markdown",
   "metadata": {},
   "source": [
    "`练习：写一个程序，输入任意行文字，当输入空行时结束输入打印带有行号的输出结果`\n",
    "\n",
    "```\n",
    "请输入：hello\n",
    "请输入：world\n",
    "请输入：bye\n",
    "请输入：<回车>\n",
    "\n",
    "输出如下：\n",
    "\n",
    "第1行：hello\n",
    "第2行：world\n",
    "第3行：bye\n",
    "```"
   ]
  },
  {
   "cell_type": "code",
   "execution_count": 21,
   "metadata": {},
   "outputs": [
    {
     "name": "stdout",
     "output_type": "stream",
     "text": [
      "请输入：hello\n",
      "请输入：world\n",
      "请输入：bye\n",
      "请输入：\n",
      "第1行：hello\n",
      "第2行：world\n",
      "第3行：bye\n"
     ]
    }
   ],
   "source": [
    "input_words = []\n",
    "while True:\n",
    "    input_word = input(\"请输入：\")\n",
    "    if not input_word:\n",
    "        break\n",
    "    input_words.append(input_word)\n",
    "\n",
    "for no, word in enumerate(input_words):\n",
    "    print(\"第%s行：%s\" % (no+1, word))"
   ]
  },
  {
   "cell_type": "markdown",
   "metadata": {},
   "source": [
    "`练习：用生成器函数，生成素数，给出起始值为begin和终止值end，此生成器函数为`"
   ]
  },
  {
   "cell_type": "code",
   "execution_count": 22,
   "metadata": {},
   "outputs": [
    {
     "name": "stdout",
     "output_type": "stream",
     "text": [
      "[11, 13, 17, 19]\n"
     ]
    }
   ],
   "source": [
    "def myprimes(n, m):\n",
    "    for y in range(n, m+1):\n",
    "        for x in range(2, int(y**0.5)+1):\n",
    "            if y % x == 0:\n",
    "                break\n",
    "        else:\n",
    "            yield y\n",
    "\n",
    "\n",
    "L = [x for x in myprimes(10, 20)]\n",
    "print(L)"
   ]
  },
  {
   "cell_type": "markdown",
   "metadata": {},
   "source": [
    "`练习: 写一个生成器函数，参数为n，生成斐波那契数列的前n个数`"
   ]
  },
  {
   "cell_type": "code",
   "execution_count": 23,
   "metadata": {},
   "outputs": [
    {
     "name": "stdout",
     "output_type": "stream",
     "text": [
      "[1, 1, 2, 3, 5, 8, 13]\n"
     ]
    }
   ],
   "source": [
    "def fibonacci(n):\n",
    "    L = [1, 1]\n",
    "    for x in range(n - 2):\n",
    "        s = 0\n",
    "        s = (L[x] + L[x + 1])\n",
    "        L.append(s)\n",
    "    for y in L:\n",
    "        yield y\n",
    "\n",
    "\n",
    "L = [x for x in fibonacci(7)]\n",
    "print(L)"
   ]
  },
  {
   "cell_type": "code",
   "execution_count": 25,
   "metadata": {},
   "outputs": [
    {
     "name": "stdout",
     "output_type": "stream",
     "text": [
      "1\n",
      "1\n",
      "2\n",
      "3\n",
      "5\n",
      "8\n",
      "Generator return value: None\n"
     ]
    }
   ],
   "source": [
    "def fib(max):\n",
    "    n, a, b = 0, 0, 1\n",
    "    while n < max:\n",
    "        # print(b)\n",
    "        yield b\n",
    "        a, b = b, a + b\n",
    "        n = n + 1\n",
    "    # return \"done\"\n",
    "\n",
    "\n",
    "g = fib(6)\n",
    "while True:\n",
    "    try:\n",
    "        x = next(g)\n",
    "        print(x)\n",
    "    except Exception as e:\n",
    "        print(\"Generator return value:\", e.value)\n",
    "        break"
   ]
  },
  {
   "cell_type": "code",
   "execution_count": null,
   "metadata": {},
   "outputs": [],
   "source": []
  }
 ],
 "metadata": {
  "kernelspec": {
   "display_name": "Python 3",
   "language": "python",
   "name": "python3"
  },
  "language_info": {
   "codemirror_mode": {
    "name": "ipython",
    "version": 3
   },
   "file_extension": ".py",
   "mimetype": "text/x-python",
   "name": "python",
   "nbconvert_exporter": "python",
   "pygments_lexer": "ipython3",
   "version": "3.9.2"
  },
  "toc": {
   "base_numbering": 1,
   "nav_menu": {},
   "number_sections": true,
   "sideBar": true,
   "skip_h1_title": false,
   "title_cell": "Table of Contents",
   "title_sidebar": "Contents",
   "toc_cell": false,
   "toc_position": {},
   "toc_section_display": true,
   "toc_window_display": false
  }
 },
 "nbformat": 4,
 "nbformat_minor": 4
}
