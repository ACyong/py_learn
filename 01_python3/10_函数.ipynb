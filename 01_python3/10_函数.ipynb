{
 "cells": [
  {
   "cell_type": "markdown",
   "metadata": {},
   "source": [
    "# 函数 function\n",
    "\n",
    "\n",
    "## 1. 函数定义\n",
    "\n",
    "> 函数是可以重复执行的语句块\n",
    "\n",
    "- 作用：\n",
    "\n",
    "```\n",
    "可以重复使用，提高代码的重用性, 定义用户级别的函数\n",
    "```\n",
    "\n",
    "- 函数定义的def 语句的语法：\n",
    "\n",
    "```\n",
    "def 函数名(参数列表)：\n",
    "    语句块(也叫代码块)\n",
    "```\n",
    "\n",
    "- 语法说明：\n",
    "\n",
    "```\n",
    "1、函数的名字是语句块的名称\n",
    "2、函数名必须是标识符（和变量的命名规则相同）\n",
    "3、函数名是一个变量（不要轻易对其赋值），函数与变量一样，需要先定义再调用\n",
    "4、函数有自己的名字空间，要让函数处理外部数据，需要用参数对此函数传入一些数据\n",
    "5、函数如果不需要传入参数，则参数列表可以为空\n",
    "6、语句部分不能为空，如果为空则需要填充pass语句\n",
    "```"
   ]
  },
  {
   "cell_type": "code",
   "execution_count": 2,
   "metadata": {},
   "outputs": [
    {
     "name": "stdout",
     "output_type": "stream",
     "text": [
      "hello world!\n"
     ]
    }
   ],
   "source": [
    "# 定义了一个叫myfun的函数\n",
    "def myfun():  #（def需要顶格写）\n",
    "    print(\"hello world!\")\n",
    "# 调用myfun函数\n",
    "myfun()"
   ]
  },
  {
   "cell_type": "markdown",
   "metadata": {},
   "source": [
    "- 函数要先创建再使用"
   ]
  },
  {
   "cell_type": "code",
   "execution_count": 63,
   "metadata": {},
   "outputs": [
    {
     "ename": "TypeError",
     "evalue": "f2() missing 2 required keyword-only arguments: 'a' and 'b'",
     "output_type": "error",
     "traceback": [
      "\u001b[0;31m---------------------------------------------------------------------------\u001b[0m",
      "\u001b[0;31mTypeError\u001b[0m                                 Traceback (most recent call last)",
      "\u001b[0;32m<ipython-input-63-a67c6d83f451>\u001b[0m in \u001b[0;36m<module>\u001b[0;34m\u001b[0m\n\u001b[1;32m      4\u001b[0m \u001b[0;34m\u001b[0m\u001b[0m\n\u001b[1;32m      5\u001b[0m \u001b[0;31m# ----------------------\u001b[0m\u001b[0;34m\u001b[0m\u001b[0;34m\u001b[0m\u001b[0;34m\u001b[0m\u001b[0m\n\u001b[0;32m----> 6\u001b[0;31m \u001b[0mf2\u001b[0m\u001b[0;34m(\u001b[0m\u001b[0;34m)\u001b[0m   \u001b[0;31m# 错误的调用，因为此时f2变量还没有绑定函数\u001b[0m\u001b[0;34m\u001b[0m\u001b[0;34m\u001b[0m\u001b[0m\n\u001b[0m\u001b[1;32m      7\u001b[0m \u001b[0;32mdef\u001b[0m \u001b[0mf2\u001b[0m\u001b[0;34m(\u001b[0m\u001b[0;34m)\u001b[0m\u001b[0;34m:\u001b[0m\u001b[0;34m\u001b[0m\u001b[0;34m\u001b[0m\u001b[0m\n\u001b[1;32m      8\u001b[0m     \u001b[0;32mpass\u001b[0m\u001b[0;34m\u001b[0m\u001b[0;34m\u001b[0m\u001b[0m\n",
      "\u001b[0;31mTypeError\u001b[0m: f2() missing 2 required keyword-only arguments: 'a' and 'b'"
     ]
    }
   ],
   "source": [
    "def f1():    # 相当与创建函数再绑定变量\n",
    "    pass\n",
    "f1()   # 正确的调用\n",
    "\n",
    "# ----------------------\n",
    "f2()   # 错误的调用，因为此时f2变量还没有绑定函数\n",
    "def f2():\n",
    "    pass"
   ]
  },
  {
   "cell_type": "markdown",
   "metadata": {},
   "source": [
    "## 2. 函数调用\n",
    "\n",
    "- 语法：\n",
    "\n",
    "```\n",
    "函数名(实际调用传递参数)  \n",
    "\n",
    "注:实际调用传递参数称为实参\n",
    "```\n",
    "\n",
    "`练习：写一个函数，def mysum(a, b): ,调用时传入两个数，把两数之和打印出来`"
   ]
  },
  {
   "cell_type": "code",
   "execution_count": 3,
   "metadata": {
    "scrolled": true
   },
   "outputs": [
    {
     "name": "stdout",
     "output_type": "stream",
     "text": [
      "a的值是： 2\n",
      "b的值是： 5\n",
      "两个数的和值： 7\n"
     ]
    }
   ],
   "source": [
    "def mysum(a, b):\n",
    "    print(\"a的值是：\", a)\n",
    "    print(\"b的值是：\", b)\n",
    "    print(\"两个数的和值：\", a + b)\n",
    "\n",
    "mysum(2, 5)"
   ]
  },
  {
   "cell_type": "markdown",
   "metadata": {},
   "source": [
    "- 函数变量：\n",
    "\n",
    "```\n",
    "函数名即变量，此变量在创建时绑定一个函数\n",
    "```"
   ]
  },
  {
   "cell_type": "code",
   "execution_count": 65,
   "metadata": {},
   "outputs": [
    {
     "name": "stdout",
     "output_type": "stream",
     "text": [
      "hello world!\n",
      "hello world!\n"
     ]
    }
   ],
   "source": [
    "def fn():\n",
    "    print(\"hello world!\")\n",
    "\n",
    "f1 = fn   # 这里没有括号，相当于给fn绑定的这个函数起了一个别名\n",
    "f1()    # 调用函数fn\n",
    "fn()    # 调用函数fn"
   ]
  },
  {
   "cell_type": "markdown",
   "metadata": {},
   "source": [
    "## 3. return 语句：\n",
    "\n",
    "- 语法：\n",
    "\n",
    "```\n",
    "return [表达式]\n",
    "\n",
    "注：[]  代表可以省略\n",
    "```\n",
    "\n",
    "- 作用：\n",
    "\n",
    "```\n",
    "用于函数中，结束当前函数的执行，返回到调用该函数的地方，同时返回一个值对象的引用关系\n",
    "```\n",
    "\n",
    "\n",
    "- 说明：\n",
    "\n",
    "```\n",
    "1、return 语句后跟的表达式可以省略，省略后相当于return None\n",
    "2、如果函数内没有return语句，则函数执行完最后一条语句后返回None，相当于在最后加了一条return None语句\n",
    "3、函数的调用能够用return 语句返回一个对象的引用\n",
    "```\n",
    "\n",
    "`练习: 写一个函数mymax，实现返回两个数的最大值`"
   ]
  },
  {
   "cell_type": "code",
   "execution_count": 4,
   "metadata": {},
   "outputs": [
    {
     "name": "stdout",
     "output_type": "stream",
     "text": [
      "200\n"
     ]
    }
   ],
   "source": [
    "def mymax2(a, b):\n",
    "    return a if a > b else b\n",
    "\n",
    "print(mymax2(100, 200))"
   ]
  },
  {
   "cell_type": "markdown",
   "metadata": {},
   "source": [
    "`练习: 假设有一个列表有很多数据，还有重复的，打印出列表中的数据，要求重复的只打印一次，打印的顺序要以列表中第一次出现的顺序为准`"
   ]
  },
  {
   "cell_type": "code",
   "execution_count": 8,
   "metadata": {},
   "outputs": [
    {
     "name": "stdout",
     "output_type": "stream",
     "text": [
      "[1, 2, 3, 4, 8, 6, 5]\n",
      "[1, 2, 3, 4, 8, 6, 5]\n",
      "[1, 2, 3, 4, 8, 6, 5]\n"
     ]
    }
   ],
   "source": [
    "L = [1, 1, 2, 3, 4, 8, 6, 6, 5, 4, 3]\n",
    "\n",
    "\n",
    "def remove_duplicates_1(L):\n",
    "    l1 = []\n",
    "    s = set()\n",
    "\n",
    "    for x in L:\n",
    "        if x in s:\n",
    "            continue\n",
    "        s.add(x)\n",
    "        l1.append(x)\n",
    "    return l1\n",
    "\n",
    "\n",
    "print(remove_duplicates_1(L))\n",
    "\n",
    "\n",
    "def remove_duplicates_2(L):\n",
    "    s = set(L)\n",
    "    l1 = []\n",
    "    for x in L:\n",
    "        if x in s:\n",
    "            s.remove(x)\n",
    "            l1.append(x)\n",
    "    return l1\n",
    "\n",
    "\n",
    "print(remove_duplicates_2(L))\n",
    "\n",
    "\n",
    "def remove_duplicates_3(L):\n",
    "    l1 = []\n",
    "    for x in L:\n",
    "        if x not in l1:\n",
    "            l1.append(x)\n",
    "    return l1\n",
    "\n",
    "\n",
    "print(remove_duplicates_3(L))"
   ]
  },
  {
   "cell_type": "markdown",
   "metadata": {},
   "source": [
    "`练习: 定义两个函数：sum3(a, b, c)用于返回三个数的和，pow(x) 用于返回x的三次方（立方`\n",
    "\n",
    "```\n",
    "(1)、用以上函数计算 1 的三次方加 2 的三次方加 3 的三次方的和\n",
    "(2)、计算1+2+3的立方\n",
    "```"
   ]
  },
  {
   "cell_type": "code",
   "execution_count": 9,
   "metadata": {},
   "outputs": [
    {
     "name": "stdout",
     "output_type": "stream",
     "text": [
      "36\n",
      "216\n"
     ]
    }
   ],
   "source": [
    "def sum3(a, b, c):\n",
    "    return (a + b + c)\n",
    "\n",
    "\n",
    "def pow(x):\n",
    "    return x ** 3\n",
    "\n",
    "\n",
    "print(sum3(pow(1), pow(2), pow(3)))\n",
    "print(pow(sum3(1, 2, 3)))"
   ]
  },
  {
   "cell_type": "markdown",
   "metadata": {},
   "source": [
    "## 4. 函数调用时的参数传递方式：（调用函数）\n",
    "\n",
    "```\n",
    "位置传参\n",
    "序列传参\n",
    "关键字传参\n",
    "字典关键字传参\n",
    "```\n",
    "\n",
    "- 位置传参：\n",
    "\n",
    "```\n",
    "实际参数(实参)的对应关系与形式参数(形参)对应关系是按位置依次对应的实参的个数和形参的个数要严格一致\n",
    "```"
   ]
  },
  {
   "cell_type": "code",
   "execution_count": 11,
   "metadata": {},
   "outputs": [
    {
     "name": "stdout",
     "output_type": "stream",
     "text": [
      "1\n",
      "2\n",
      "3\n"
     ]
    }
   ],
   "source": [
    "def myfun1(a, b, c):  # 形参\n",
    "    print(a)\n",
    "    print(b)\n",
    "    print(c)\n",
    "\n",
    "    \n",
    "# 调用\n",
    "myfun1(1, 2, 3)  # 实参"
   ]
  },
  {
   "cell_type": "markdown",
   "metadata": {},
   "source": [
    "- 序列传参\n",
    "\n",
    "```\n",
    "序列传参是指在函数调用过程中，用*将序列拆解后按位置进行传递的方式\n",
    "序列传参时，序列拆解的位置将与形参一一对应\n",
    "序列的位置信息对应相应的参数\n",
    "```"
   ]
  },
  {
   "cell_type": "code",
   "execution_count": 12,
   "metadata": {},
   "outputs": [
    {
     "name": "stdout",
     "output_type": "stream",
     "text": [
      "11\n",
      "22\n",
      "33\n",
      "4.4\n",
      "5.5\n",
      "6.6\n",
      "A\n",
      "B\n",
      "C\n"
     ]
    }
   ],
   "source": [
    "L1 = [11,22,33]\n",
    "T1 = (4.4,5.5,6.6)\n",
    "S1 = \"ABC\"\n",
    "myfun1(*L1)\n",
    "myfun1(*T1)\n",
    "myfun1(*S1)"
   ]
  },
  {
   "cell_type": "markdown",
   "metadata": {},
   "source": [
    "- 关键字传参：\n",
    "\n",
    "```\n",
    "关键字传参是指传参时，按形参的名称给形参赋值\n",
    "实参和形参按形参名进行匹配（可以不按位置顺序进行匹配）\n",
    "```"
   ]
  },
  {
   "cell_type": "code",
   "execution_count": 13,
   "metadata": {},
   "outputs": [
    {
     "name": "stdout",
     "output_type": "stream",
     "text": [
      "11\n",
      "22\n",
      "33\n"
     ]
    }
   ],
   "source": [
    "# 关键字传参\n",
    "myfun1(c = 33, b = 22, a = 11)"
   ]
  },
  {
   "cell_type": "markdown",
   "metadata": {},
   "source": [
    "- 字典关键字传参：\n",
    "\n",
    "```\n",
    "是指实参为字典，将字典用**拆解后进行关键字传参\n",
    "\n",
    "字典的键名和形参名必须一致\n",
    "字典的键名必须为字符串，并符合关键字的命名\n",
    "字典的键名要在形参中存在\n",
    "```"
   ]
  },
  {
   "cell_type": "code",
   "execution_count": 14,
   "metadata": {},
   "outputs": [
    {
     "name": "stdout",
     "output_type": "stream",
     "text": [
      "11\n",
      "22\n",
      "33\n"
     ]
    }
   ],
   "source": [
    "d1 = {\"c\":33, \"b\":22, \"a\":11}\n",
    "myfun1(**d1)"
   ]
  },
  {
   "cell_type": "markdown",
   "metadata": {},
   "source": [
    "- 函数的综合传参\n",
    "\n",
    "```\n",
    "在能确定每个形参否能唯一匹配一个实参的情况也可以任意传参\n",
    "传参时，位置传参和序列传参要先于关键字传参和字典关键子传参\n",
    "```"
   ]
  },
  {
   "cell_type": "code",
   "execution_count": 16,
   "metadata": {},
   "outputs": [
    {
     "name": "stdout",
     "output_type": "stream",
     "text": [
      "100\n",
      "200\n",
      "300\n",
      "10\n",
      "20\n",
      "30\n",
      "10\n",
      "20\n",
      "30\n",
      "100\n",
      "200\n",
      "300\n",
      "100\n",
      "200\n",
      "300\n"
     ]
    }
   ],
   "source": [
    "myfun1(100, *[200, 300])\n",
    "myfun1(*[10,20],30)\n",
    "myfun1(*[10], 20, *[30])\n",
    "myfun1(100, **{\"c\":300, \"b\":200})\n",
    "myfun1(**{\"c\":300, \"b\":200}, a = 100)"
   ]
  },
  {
   "cell_type": "code",
   "execution_count": 17,
   "metadata": {},
   "outputs": [
    {
     "ename": "SyntaxError",
     "evalue": "positional argument follows keyword argument (<ipython-input-17-6795ec2b1bb1>, line 1)",
     "output_type": "error",
     "traceback": [
      "\u001b[0;36m  File \u001b[0;32m\"<ipython-input-17-6795ec2b1bb1>\"\u001b[0;36m, line \u001b[0;32m1\u001b[0m\n\u001b[0;31m    myfun1(b = 200, c = 300, 100)   # 错的\u001b[0m\n\u001b[0m                            ^\u001b[0m\n\u001b[0;31mSyntaxError\u001b[0m\u001b[0;31m:\u001b[0m positional argument follows keyword argument\n"
     ]
    }
   ],
   "source": [
    "myfun1(b = 200, c = 300, 100)   # 错的"
   ]
  },
  {
   "cell_type": "markdown",
   "metadata": {},
   "source": [
    "- 注意传参时：\n",
    "\n",
    "```\n",
    "1、不可变类型的数据作为函数参数传入时，函数内部不会改变变量的原数据的值\n",
    "2、可变类型的数据作为函数参数传递时，函数内部可以改变原数据，多用与返回更多函数执行结果\n",
    "```"
   ]
  },
  {
   "cell_type": "markdown",
   "metadata": {},
   "source": [
    "`练习：写一个函数：def mymin(x, y, z):   这个函数传入三个参数，返回三个中最小值，尝试使用四种传参方式？`"
   ]
  },
  {
   "cell_type": "code",
   "execution_count": 18,
   "metadata": {},
   "outputs": [
    {
     "name": "stdout",
     "output_type": "stream",
     "text": [
      "1\n",
      "1\n",
      "1\n",
      "1\n"
     ]
    }
   ],
   "source": [
    "def mymin(a, b, c):\n",
    "    t = a\n",
    "    if t > b:\n",
    "        t = b\n",
    "    if t > c:\n",
    "        t = c\n",
    "    return t\n",
    "\n",
    "print(mymin(1, 2, 3))\n",
    "print(mymin(*[1, 2, 3]))\n",
    "print(mymin(a=1, b=2, c=3))\n",
    "print(mymin(**{'a': 1, 'b': 2, 'c': 3}))"
   ]
  },
  {
   "cell_type": "markdown",
   "metadata": {},
   "source": [
    "- 函数参数为可变类型的对象，传参问题"
   ]
  },
  {
   "cell_type": "code",
   "execution_count": 24,
   "metadata": {},
   "outputs": [
    {
     "name": "stdout",
     "output_type": "stream",
     "text": [
      "[] 4389963400\n",
      "[10] 4389737928\n",
      "[] 4389963400\n",
      "[1] 4389963400\n",
      "[1] 4389963400\n"
     ]
    }
   ],
   "source": [
    "L = []\n",
    "\n",
    "def fn(x):\n",
    "    # 创建一个局部变量，但不会修改全局的L变量\n",
    "    L = [x]\n",
    "    print(L, id(L))\n",
    "\n",
    "def fn2(l):\n",
    "    # 全局的L变量已经改变\n",
    "    l.append(1)\n",
    "    print(l, id(l))\n",
    "\n",
    "print(L, id(L))\n",
    "\n",
    "fn(10)\n",
    "print(L, id(L))\n",
    "\n",
    "fn2(L)\n",
    "print(L, id(L))"
   ]
  },
  {
   "cell_type": "markdown",
   "metadata": {},
   "source": [
    "`练习: 写一个函数，在函数内输入一些整数，把所有奇数放入全局列表odds中, 把所有的偶数放入全局的列表evens中`"
   ]
  },
  {
   "cell_type": "code",
   "execution_count": 25,
   "metadata": {},
   "outputs": [
    {
     "name": "stdout",
     "output_type": "stream",
     "text": [
      "请输入整数：5\n",
      "请输入整数：8\n",
      "请输入整数：1\n",
      "请输入整数：-1\n",
      "[5, 1]\n",
      "[8]\n"
     ]
    }
   ],
   "source": [
    "odds = []\n",
    "evens = []\n",
    "\n",
    "\n",
    "def input_number(o, e):\n",
    "    while True:\n",
    "        n = int(input(\"请输入整数：\"))\n",
    "        if n < 0:\n",
    "            break\n",
    "        # 如果n为奇数则添加列表odds中\n",
    "        if n % 2 == 1:\n",
    "            o.append(n)\n",
    "        else: # 如果n为偶数则添加到列表evens中\n",
    "            e.append(n)\n",
    "\n",
    "\n",
    "input_number(odds, evens)\n",
    "print(odds)   # 此列表将被修改\n",
    "print(evens)    # 此列表也将被修改"
   ]
  },
  {
   "cell_type": "markdown",
   "metadata": {},
   "source": [
    "## 5. 函数的参数定义方式(创建函数)：\n",
    "\n",
    "```\n",
    "位置形参\n",
    "星号元组形参\n",
    "命名关键字形参\n",
    "双星号字典形参\n",
    "```\n",
    "\n",
    "- 位置形参语法：\n",
    "\n",
    "```\n",
    "def 函数名(形参名1, 形参名2, 形参名3,......):\n",
    "    语句块\n",
    "```\n",
    "\n",
    "- 星号元组形参语法：(收集多余的位置传参)\n",
    "\n",
    "```\n",
    "def 函数名(*元组形参名):\n",
    "    语句块\n",
    "```"
   ]
  },
  {
   "cell_type": "code",
   "execution_count": 26,
   "metadata": {},
   "outputs": [
    {
     "name": "stdout",
     "output_type": "stream",
     "text": [
      "实参个数是： 0\n",
      "args绑定 ()\n",
      "实参个数是： 4\n",
      "args绑定 (1, 2, 3, 4)\n",
      "实参个数是： 4\n",
      "args绑定 ('ABC', 1, 2.3, (4+5j))\n"
     ]
    }
   ],
   "source": [
    "def funs(*args):\n",
    "    # args绑定一个元组，此元组内的元素是为了剩余的位置传参\n",
    "    print(\"实参个数是：\", len(args))\n",
    "    print(\"args绑定\", args)\n",
    "\n",
    "funs()  # 以无参调用\n",
    "funs(1, 2, 3, 4)\n",
    "funs(\"ABC\", 1, 2.3, 4+5J)"
   ]
  },
  {
   "cell_type": "markdown",
   "metadata": {},
   "source": [
    "`练习：写一个函数mysum2，实参可以传入任意个，返回所有实参的和`"
   ]
  },
  {
   "cell_type": "code",
   "execution_count": 27,
   "metadata": {},
   "outputs": [
    {
     "name": "stdout",
     "output_type": "stream",
     "text": [
      "10\n",
      "(6.2+4j)\n"
     ]
    }
   ],
   "source": [
    "def mysum2(*args):\n",
    "    s = 0\n",
    "    for x in args:\n",
    "        s += x\n",
    "    return s\n",
    "\n",
    "print(mysum2(1, 2, 3, 4))\n",
    "print(mysum2(1, 2.2, 3+4J))"
   ]
  },
  {
   "cell_type": "markdown",
   "metadata": {},
   "source": [
    "- 命名关键字形参语法：\n",
    "\n",
    "> 所有的命名关键字形参，必须用关键字传参或字典关键字传参进行参数传递\n",
    "\n",
    "```\n",
    "def 函数名(*, 命名关键字形参):  # 不允许传位置参数\n",
    "    语句块\n",
    "或:\n",
    "def 函数名(*args, 命名关键字形参):\n",
    "    语句块\n",
    "```"
   ]
  },
  {
   "cell_type": "code",
   "execution_count": 61,
   "metadata": {},
   "outputs": [
    {
     "name": "stdout",
     "output_type": "stream",
     "text": [
      "a的值为： 1\n",
      "b的值为： 2\n",
      "a的值为： 20\n",
      "b的值为： 0\n",
      "a的值为： 100\n",
      "b的值为： 200\n",
      "args= (1, 2, 3, 4)\n",
      "a= 100\n",
      "b= 200\n",
      "args= ()\n",
      "a= 100\n",
      "b= 200\n"
     ]
    }
   ],
   "source": [
    "def fn(*, a, b):\n",
    "    print(\"a的值为：\", a)\n",
    "    print(\"b的值为：\", b)\n",
    "\n",
    "# fn(1, 2)  # 错的，a和b　必须是用关键字传参\n",
    "fn(a = 1, b = 2)  #必须这么传\n",
    "fn(b = 0, a = 20)\n",
    "fn(**{\"b\":200, \"a\":100})\n",
    "\n",
    "def f2(*args, a, b):\n",
    "    print(\"args=\", args)\n",
    "    print(\"a=\", a)\n",
    "    print(\"b=\", b)\n",
    "\n",
    "f2(1, 2, 3, 4, a=100, b=200)\n",
    "f2(a=100, b=200)"
   ]
  },
  {
   "cell_type": "markdown",
   "metadata": {},
   "source": [
    "- 双星号字典形参语法：\n",
    "\n",
    "> 作用：收集多余的关键字传参（例如：dict()）,通常只有一个\n",
    "\n",
    "```\n",
    "def 函数名(**字典形参名):\n",
    "   语句块\n",
    "```           "
   ]
  },
  {
   "cell_type": "code",
   "execution_count": 33,
   "metadata": {},
   "outputs": [
    {
     "name": "stdout",
     "output_type": "stream",
     "text": [
      "参数个数： 3\n",
      "kwagrs的值为： {'name': 'zhuang', 'age': 25, 'address': 'dgas'}\n",
      "参数个数： 3\n",
      "kwagrs的值为： {'name': 'zhuang', 'age': 25, 'address': 'dgas'}\n",
      "参数个数： 0\n",
      "kwagrs的值为： {}\n"
     ]
    }
   ],
   "source": [
    "def func(**kwagrs):  # kwagrs绑定一个字典\n",
    "    print(\"参数个数：\", len(kwagrs))\n",
    "    print(\"kwagrs的值为：\", kwagrs)\n",
    "\n",
    "func(name=\"zhuang\", age=25, address=\"dgas\")\n",
    "func(**{\"name\": \"zhuang\", \"age\": 25, \"address\": \"dgas\"})\n",
    "func()"
   ]
  },
  {
   "cell_type": "markdown",
   "metadata": {},
   "source": [
    "- 函数的缺省参数：\n",
    "\n",
    "```\n",
    "def 函数名(形参名1 = 默认实参1, 形参名2 = 默认实参2, ....):\n",
    "    语句块\n",
    "```\n",
    "\n",
    "说明：\n",
    "```\n",
    "1. 缺省参数必须自右至左依次存在，如果一个参数有缺省参数，则其右侧的所有参数都必须有缺省参数, 如：\n",
    "def test_fn(a, b = 10, c):    # 是错的\n",
    "\n",
    "2. 缺省参数可以有0个或多个，甚至全部都有缺省参数\n",
    "\n",
    "3. 位置形参和命名关键字形参可以使用缺省参数\n",
    "```"
   ]
  },
  {
   "cell_type": "code",
   "execution_count": 30,
   "metadata": {},
   "outputs": [
    {
     "name": "stdout",
     "output_type": "stream",
     "text": [
      "庄AC 住在： 北京 今年： 23 岁\n",
      "庄AC 住在： 未填写 今年： 23 岁\n"
     ]
    }
   ],
   "source": [
    "def info(name, age=1, address=\"未填写\"):\n",
    "    print(name, \"住在：\", address, \"今年：\", age, \"岁\")\n",
    "\n",
    "info(\"庄AC\", 23,  \"北京\")\n",
    "info(\"庄AC\", 23)"
   ]
  },
  {
   "cell_type": "markdown",
   "metadata": {},
   "source": [
    "`练习：写一个函数myadd有三个参数，此函数可以计算两个数的和，也可以计算三个数的和`"
   ]
  },
  {
   "cell_type": "code",
   "execution_count": 31,
   "metadata": {},
   "outputs": [
    {
     "name": "stdout",
     "output_type": "stream",
     "text": [
      "30\n",
      "60\n"
     ]
    }
   ],
   "source": [
    "def myadd(a, b, c=0):\n",
    "    return a + b + c\n",
    "\n",
    "print(myadd(10, 20))\n",
    "print(myadd(10, 20, 30))"
   ]
  },
  {
   "cell_type": "markdown",
   "metadata": {},
   "source": [
    "- 函数参数自左至右的顺序为：\n",
    "\n",
    "```\n",
    "位置形参， 星号元组形参， 命名关键字形参， 双星号字典形参\n",
    "```"
   ]
  },
  {
   "cell_type": "code",
   "execution_count": 55,
   "metadata": {},
   "outputs": [
    {
     "name": "stdout",
     "output_type": "stream",
     "text": [
      "100 200 (300, 400) 5.5 8.8 {'d': 6.6, 'e': 7.7}\n",
      "10 A ('B', 20) 300 f {'d': 11, 'e': 33}\n"
     ]
    }
   ],
   "source": [
    "def fn(a, b=\"b\", *args, c, f=\"f\", **kwargs):\n",
    "    print(a, b, args, c, f, kwargs)\n",
    "\n",
    "fn(100,200,300,400,c=5.5,d=6.6,e=7.7, f=8.8)\n",
    "fn(10,*\"AB\",20,**{\"d\": 11, \"e\": 33, \"c\":300})\n",
    "\n",
    "# ----------以下函数可以接受任意的位置传参和关键字传参------------\n",
    "def fn(*args, **kwargs):\n",
    "    pass"
   ]
  },
  {
   "cell_type": "markdown",
   "metadata": {},
   "source": [
    "## 6. 函数的完整格式\n",
    "\n",
    "- 文档字符串：\n",
    "```\n",
    "def 函数名(形参列表)\n",
    "    函数文档字符串\n",
    "    语句块\n",
    "```\n",
    "\n",
    "- 说明：\n",
    "\n",
    "```\n",
    "1、函数的定义语句（def 语句）的第一次出现的没有赋值给任何变量的字符串为文档字符串\n",
    "2、文档字符串通常用来说明本函数的功能和使用方法\n",
    "3、在交互模式下，输入>>>help(函数名) 可以查看文档字符串\n",
    "```"
   ]
  },
  {
   "cell_type": "code",
   "execution_count": 69,
   "metadata": {},
   "outputs": [
    {
     "name": "stdout",
     "output_type": "stream",
     "text": [
      "Help on function myfun in module __main__:\n",
      "\n",
      "myfun()\n",
      "    我是文档字符串\n",
      "\n"
     ]
    }
   ],
   "source": [
    "def myfun():\n",
    "    \"\"\"我是文档字符串\"\"\"\n",
    "\n",
    "help(myfun)"
   ]
  },
  {
   "cell_type": "markdown",
   "metadata": {},
   "source": [
    "- 函数的参数注释：\n",
    "\n",
    "> 只能用在python3.5 之后的版本"
   ]
  },
  {
   "cell_type": "code",
   "execution_count": 71,
   "metadata": {},
   "outputs": [
    {
     "data": {
      "text/plain": [
       "'6'"
      ]
     },
     "execution_count": 71,
     "metadata": {},
     "output_type": "execute_result"
    }
   ],
   "source": [
    "def fn(a:\"第一个参数\", b:\"第二个参数\", c:int) -> str:\n",
    "    return str(a + b + c)\n",
    "\n",
    "fn(1, 2, 3)"
   ]
  },
  {
   "cell_type": "markdown",
   "metadata": {},
   "source": [
    "- 函数定义的完整语法\n",
    "\n",
    "> 详见：>>> help(\"def\")\n",
    "\n",
    "```\n",
    "[装饰器]\n",
    "def 函数名([位置形参], [*元组形参], [命名关键字形参], [**字典形参]) [-> 注释表达式]:\n",
    "    \"\"\"文档字符串\"\"\"\n",
    "    语句块\n",
    "```"
   ]
  },
  {
   "cell_type": "code",
   "execution_count": 72,
   "metadata": {},
   "outputs": [
    {
     "name": "stdout",
     "output_type": "stream",
     "text": [
      "Function definitions\n",
      "********************\n",
      "\n",
      "A function definition defines a user-defined function object (see\n",
      "section The standard type hierarchy):\n",
      "\n",
      "   funcdef                 ::= [decorators] \"def\" funcname \"(\" [parameter_list] \")\"\n",
      "               [\"->\" expression] \":\" suite\n",
      "   decorators              ::= decorator+\n",
      "   decorator               ::= \"@\" dotted_name [\"(\" [argument_list [\",\"]] \")\"] NEWLINE\n",
      "   dotted_name             ::= identifier (\".\" identifier)*\n",
      "   parameter_list          ::= defparameter (\",\" defparameter)* [\",\" [parameter_list_starargs]]\n",
      "                      | parameter_list_starargs\n",
      "   parameter_list_starargs ::= \"*\" [parameter] (\",\" defparameter)* [\",\" [\"**\" parameter [\",\"]]]\n",
      "                               | \"**\" parameter [\",\"]\n",
      "   parameter               ::= identifier [\":\" expression]\n",
      "   defparameter            ::= parameter [\"=\" expression]\n",
      "   funcname                ::= identifier\n",
      "\n",
      "A function definition is an executable statement.  Its execution binds\n",
      "the function name in the current local namespace to a function object\n",
      "(a wrapper around the executable code for the function).  This\n",
      "function object contains a reference to the current global namespace\n",
      "as the global namespace to be used when the function is called.\n",
      "\n",
      "The function definition does not execute the function body; this gets\n",
      "executed only when the function is called. [2]\n",
      "\n",
      "A function definition may be wrapped by one or more *decorator*\n",
      "expressions. Decorator expressions are evaluated when the function is\n",
      "defined, in the scope that contains the function definition.  The\n",
      "result must be a callable, which is invoked with the function object\n",
      "as the only argument. The returned value is bound to the function name\n",
      "instead of the function object.  Multiple decorators are applied in\n",
      "nested fashion. For example, the following code\n",
      "\n",
      "   @f1(arg)\n",
      "   @f2\n",
      "   def func(): pass\n",
      "\n",
      "is roughly equivalent to\n",
      "\n",
      "   def func(): pass\n",
      "   func = f1(arg)(f2(func))\n",
      "\n",
      "except that the original function is not temporarily bound to the name\n",
      "\"func\".\n",
      "\n",
      "When one or more *parameters* have the form *parameter* \"=\"\n",
      "*expression*, the function is said to have “default parameter values.”\n",
      "For a parameter with a default value, the corresponding *argument* may\n",
      "be omitted from a call, in which case the parameter’s default value is\n",
      "substituted.  If a parameter has a default value, all following\n",
      "parameters up until the “\"*\"” must also have a default value — this is\n",
      "a syntactic restriction that is not expressed by the grammar.\n",
      "\n",
      "**Default parameter values are evaluated from left to right when the\n",
      "function definition is executed.** This means that the expression is\n",
      "evaluated once, when the function is defined, and that the same “pre-\n",
      "computed” value is used for each call.  This is especially important\n",
      "to understand when a default parameter is a mutable object, such as a\n",
      "list or a dictionary: if the function modifies the object (e.g. by\n",
      "appending an item to a list), the default value is in effect modified.\n",
      "This is generally not what was intended.  A way around this is to use\n",
      "\"None\" as the default, and explicitly test for it in the body of the\n",
      "function, e.g.:\n",
      "\n",
      "   def whats_on_the_telly(penguin=None):\n",
      "       if penguin is None:\n",
      "           penguin = []\n",
      "       penguin.append(\"property of the zoo\")\n",
      "       return penguin\n",
      "\n",
      "Function call semantics are described in more detail in section Calls.\n",
      "A function call always assigns values to all parameters mentioned in\n",
      "the parameter list, either from position arguments, from keyword\n",
      "arguments, or from default values.  If the form “\"*identifier\"” is\n",
      "present, it is initialized to a tuple receiving any excess positional\n",
      "parameters, defaulting to the empty tuple. If the form\n",
      "“\"**identifier\"” is present, it is initialized to a new ordered\n",
      "mapping receiving any excess keyword arguments, defaulting to a new\n",
      "empty mapping of the same type.  Parameters after “\"*\"” or\n",
      "“\"*identifier\"” are keyword-only parameters and may only be passed\n",
      "used keyword arguments.\n",
      "\n",
      "Parameters may have an *annotation* of the form “\": expression\"”\n",
      "following the parameter name.  Any parameter may have an annotation,\n",
      "even those of the form \"*identifier\" or \"**identifier\".  Functions may\n",
      "have “return” annotation of the form “\"-> expression\"” after the\n",
      "parameter list.  These annotations can be any valid Python expression.\n",
      "The presence of annotations does not change the semantics of a\n",
      "function.  The annotation values are available as values of a\n",
      "dictionary keyed by the parameters’ names in the \"__annotations__\"\n",
      "attribute of the function object.  If the \"annotations\" import from\n",
      "\"__future__\" is used, annotations are preserved as strings at runtime\n",
      "which enables postponed evaluation.  Otherwise, they are evaluated\n",
      "when the function definition is executed.  In this case annotations\n",
      "may be evaluated in a different order than they appear in the source\n",
      "code.\n",
      "\n",
      "It is also possible to create anonymous functions (functions not bound\n",
      "to a name), for immediate use in expressions.  This uses lambda\n",
      "expressions, described in section Lambdas.  Note that the lambda\n",
      "expression is merely a shorthand for a simplified function definition;\n",
      "a function defined in a “\"def\"” statement can be passed around or\n",
      "assigned to another name just like a function defined by a lambda\n",
      "expression.  The “\"def\"” form is actually more powerful since it\n",
      "allows the execution of multiple statements and annotations.\n",
      "\n",
      "**Programmer’s note:** Functions are first-class objects.  A “\"def\"”\n",
      "statement executed inside a function definition defines a local\n",
      "function that can be returned or passed around.  Free variables used\n",
      "in the nested function can access the local variables of the function\n",
      "containing the def.  See section Naming and binding for details.\n",
      "\n",
      "See also:\n",
      "\n",
      "  **PEP 3107** - Function Annotations\n",
      "     The original specification for function annotations.\n",
      "\n",
      "  **PEP 484** - Type Hints\n",
      "     Definition of a standard meaning for annotations: type hints.\n",
      "\n",
      "  **PEP 526** - Syntax for Variable Annotations\n",
      "     Ability to type hint variable declarations, including class\n",
      "     variables and instance variables\n",
      "\n",
      "  **PEP 563** - Postponed Evaluation of Annotations\n",
      "     Support for forward references within annotations by preserving\n",
      "     annotations in a string form at runtime instead of eager\n",
      "     evaluation.\n",
      "\n"
     ]
    }
   ],
   "source": [
    "help(\"def\")"
   ]
  },
  {
   "cell_type": "markdown",
   "metadata": {},
   "source": [
    "## 7. 函数属性 attribute(部分)\n",
    "\n",
    "- __name__属性\n",
    "\n",
    "```\n",
    "作用：用来记录函数名\n",
    "说明：1、通常属性是指对象（实例）的变量\n",
    "     2、以双下划线开头，以双下划线结尾的标识符代表Python的特殊变量\n",
    "```"
   ]
  },
  {
   "cell_type": "code",
   "execution_count": 73,
   "metadata": {},
   "outputs": [
    {
     "name": "stdout",
     "output_type": "stream",
     "text": [
      "fn绑定的函数名是： abc\n"
     ]
    }
   ],
   "source": [
    "def abc():\n",
    "    pass\n",
    "\n",
    "fn = abc\n",
    "print(\"fn绑定的函数名是：\", fn.__name__)"
   ]
  },
  {
   "cell_type": "markdown",
   "metadata": {},
   "source": [
    "- __doc__属性：\n",
    "\n",
    "```\n",
    "作用：用于记录文档字符串\n",
    "```"
   ]
  },
  {
   "cell_type": "code",
   "execution_count": 76,
   "metadata": {},
   "outputs": [
    {
     "name": "stdout",
     "output_type": "stream",
     "text": [
      "这是一块文档字符串\n"
     ]
    }
   ],
   "source": [
    "def cba():\n",
    "    \"这是一块文档字符串\"\n",
    "    pass\n",
    "\n",
    "print(cba.__doc__)"
   ]
  },
  {
   "cell_type": "markdown",
   "metadata": {},
   "source": [
    "- __code__属性\n",
    "\n",
    "```\n",
    "Python创造了一个新的函数对象。在这个函数对象里，可以看到字节码，元数（也就是参数数量）和一些与函数相关的其他东西。大多数这些东西存在于函数对象的__code__属性里。事实上，研究__code__是了解Python函数如何运行的最好办法。\n",
    "```"
   ]
  },
  {
   "cell_type": "code",
   "execution_count": 85,
   "metadata": {},
   "outputs": [
    {
     "name": "stdout",
     "output_type": "stream",
     "text": [
      "0 b'd\\x01S\\x00'\n"
     ]
    },
    {
     "data": {
      "text/plain": [
       "\"I'm bar!\""
      ]
     },
     "execution_count": 85,
     "metadata": {},
     "output_type": "execute_result"
    }
   ],
   "source": [
    "def foo():\n",
    "      return \"I'm foo!\"\n",
    "\n",
    "# 函数foo的元数是由foo.__code__.co_argcount获得，而字码节存在于foo.__code__.co_code中。\n",
    "print(foo.__code__.co_argcount, foo.__code__.co_code)\n",
    "\n",
    "def bar():\n",
    "      return \"I'm bar!\"\n",
    "\n",
    "# __code__对象的属性是只读，但是__code__属性本身不是\n",
    "foo.__code__ = bar.__code__\n",
    "\n",
    "foo()"
   ]
  },
  {
   "cell_type": "markdown",
   "metadata": {},
   "source": [
    "`练习：仿造max，写一个mymax函数，功能与max完全相同(要求，不允许调用max函数)`"
   ]
  },
  {
   "cell_type": "code",
   "execution_count": 86,
   "metadata": {},
   "outputs": [
    {
     "name": "stdout",
     "output_type": "stream",
     "text": [
      "8\n",
      "200\n"
     ]
    }
   ],
   "source": [
    "def mymax(a, *args):\n",
    "    if len(args) != 0:\n",
    "        m = a\n",
    "        for x in args:\n",
    "            if x > m:\n",
    "                m = x\n",
    "    else:\n",
    "        m = a[0]\n",
    "        for i in range(1, len(a)):\n",
    "            if a[i] > m:\n",
    "                m = a[i]\n",
    "    return m\n",
    "\n",
    "\n",
    "print(mymax([6, 8, 3, 5]))\n",
    "print(mymax(100, 200))"
   ]
  },
  {
   "cell_type": "markdown",
   "metadata": {},
   "source": [
    "`练习：写一个myrange函数，参数可以传入1-3个，实际含义同range函数规则相同, 此函数返回符合range(....)  函数规则的列表`\n",
    "```\n",
    "如：\n",
    "L = myrange(4)   # L = [0, 1, 2, 3]\n",
    "L = myrange(4, 6)   # L = [4, 5]\n",
    "L = myrange(1, 10, 3)   # L = [1, 4, 7]\n",
    "print(L)   # [1, 4, 7]\n",
    "```"
   ]
  },
  {
   "cell_type": "code",
   "execution_count": 89,
   "metadata": {},
   "outputs": [
    {
     "name": "stdout",
     "output_type": "stream",
     "text": [
      "[0, 1, 2, 3, 4]\n",
      "[2, 3, 4, 5]\n",
      "[5, 7, 9]\n",
      "[]\n"
     ]
    }
   ],
   "source": [
    "def myrange(*args, x=1):\n",
    "    L = []\n",
    "    if len(args) == 1:\n",
    "        i = 0\n",
    "        while i < args[0]:\n",
    "            L.append(i)\n",
    "            i += x\n",
    "    elif len(args) == 2:\n",
    "        if args[0] > args[1]:\n",
    "            return L\n",
    "        i = args[0]\n",
    "        while i < args[1]:\n",
    "            L.append(i)\n",
    "            i += x\n",
    "    elif len(args) == 3:\n",
    "        i = args[0]\n",
    "        x = args[2]\n",
    "        while i < args[1]:\n",
    "            L.append(i)\n",
    "            i += x\n",
    "    else:\n",
    "        return (\"TypeError: range expected at most 3 arguments\")\n",
    "    return L\n",
    "\n",
    "print(myrange(5))\n",
    "print(myrange(2, 6))\n",
    "print(myrange(5, 10, 2))\n",
    "print(myrange(5, 5))"
   ]
  },
  {
   "cell_type": "markdown",
   "metadata": {},
   "source": [
    "`练习: 写一个函数isprime(x),判断x是否为素数，如果为素数返回True，否则返回False`"
   ]
  },
  {
   "cell_type": "code",
   "execution_count": 90,
   "metadata": {},
   "outputs": [
    {
     "data": {
      "text/plain": [
       "True"
      ]
     },
     "execution_count": 90,
     "metadata": {},
     "output_type": "execute_result"
    }
   ],
   "source": [
    "def isprime(x):\n",
    "    if x <= 1:\n",
    "        return False\n",
    "    for i in range(2, x):\n",
    "        if x % i == 0:\n",
    "            return False\n",
    "    return True\n",
    "\n",
    "isprime(3)"
   ]
  },
  {
   "cell_type": "markdown",
   "metadata": {},
   "source": [
    "`练习: 写一个函数prime_m2n(m, n)返回从m开始，到n结束内所有的素数的列表`"
   ]
  },
  {
   "cell_type": "code",
   "execution_count": 91,
   "metadata": {},
   "outputs": [
    {
     "name": "stdout",
     "output_type": "stream",
     "text": [
      "[101, 103, 107, 109, 113, 127, 131, 137, 139, 149, 151, 157, 163, 167, 173, 179, 181, 191, 193, 197, 199]\n"
     ]
    }
   ],
   "source": [
    "def primes(start, stop):\n",
    "    L = []\n",
    "    for a in range(start, stop):\n",
    "        if isprime(a):\n",
    "            L.append(a)\n",
    "    print(L)\n",
    "\n",
    "primes(100, 200)"
   ]
  },
  {
   "cell_type": "code",
   "execution_count": null,
   "metadata": {},
   "outputs": [],
   "source": []
  }
 ],
 "metadata": {
  "kernelspec": {
   "display_name": "Python 3",
   "language": "python",
   "name": "python3"
  },
  "language_info": {
   "codemirror_mode": {
    "name": "ipython",
    "version": 3
   },
   "file_extension": ".py",
   "mimetype": "text/x-python",
   "name": "python",
   "nbconvert_exporter": "python",
   "pygments_lexer": "ipython3",
   "version": "3.9.2"
  },
  "toc": {
   "base_numbering": 1,
   "nav_menu": {},
   "number_sections": true,
   "sideBar": true,
   "skip_h1_title": false,
   "title_cell": "Table of Contents",
   "title_sidebar": "Contents",
   "toc_cell": false,
   "toc_position": {},
   "toc_section_display": true,
   "toc_window_display": false
  }
 },
 "nbformat": 4,
 "nbformat_minor": 4
}
