{
 "cells": [
  {
   "cell_type": "markdown",
   "metadata": {},
   "source": [
    "# python 的核心数据类型：\n",
    "\n",
    "* Number      数字（整数，浮点数，复数，布尔型数）\n",
    "* String      字符串\n",
    "* List        列表\n",
    "* Tuple       元组\n",
    "* **Dictionary 字典**\n",
    "* Set        集合"
   ]
  },
  {
   "cell_type": "markdown",
   "metadata": {},
   "source": [
    "## 1. 字典 dict\n",
    "\n",
    "- 什么是字典：\n",
    "\n",
    "```\n",
    "1、字典是一种可变的容器，可以存储任意类型的数据\n",
    "2、字典中每个数据都是用\"键\"(key) 进行索引的，不像序列（字符串，列表，元组）可以用下标来索引，键不能是可变的，值可以是任意类型\n",
    "3、字典的数据没有先后顺序关系，字典的存储是无序的\n",
    "4、字典中的数据以键(key)-值(value)对的形式进行存储\n",
    "5、字典的键不能重复（键是唯一的），且只能用不可变类型作为字典的键\n",
    "```\n",
    "\n",
    "- 字典的字面值表示方法：\n",
    "\n",
    "```\n",
    "以{}括起来，用\":\" 分隔键值对，各键值对用逗号分隔\n",
    "```\n",
    "\n",
    "- 创建空字典：\n",
    "\n",
    "```\n",
    "d = {}   #空字典 \n",
    "或\n",
    "d = dict()\n",
    "```\n",
    "\n",
    "- 创建非空字典：\n",
    "\n",
    "```\n",
    "       键  :   值\n",
    "d = {\"name\": \"zyz\", \"age\": 25}\n",
    "\n",
    "d = {1: \"one\", 2: \"two\",3: 3.3333}\n",
    "\n",
    "########以下是错的#######\n",
    "\n",
    "d = {[1, 2, 3]: \"ABC\"}   # 可变类型不能做字典的键\n",
    "d = {1: \"one\", 1: \"yi\"}   # 键冲突，只保留最后一个\n",
    "```\n",
    "\n",
    "- 构造函数创建字典\n",
    "\n",
    "```\n",
    "dict()   创建空字典\n",
    "dict(iterable)   用可迭代对象创建一个字典\n",
    "dict(**kwargs)   用关键字传参来创建一个字典\n",
    "```"
   ]
  },
  {
   "cell_type": "code",
   "execution_count": 1,
   "metadata": {},
   "outputs": [
    {
     "name": "stdout",
     "output_type": "stream",
     "text": [
      "{}\n",
      "{1: 2, 3: 4, 5: 6}\n",
      "{1: 2, 3: 4, 'A': 'B', 5: 6}\n",
      "{'name': 'zyz', 'age': 25}\n"
     ]
    }
   ],
   "source": [
    "d = dict()\n",
    "print(d)\n",
    "d = dict([(1, 2), (3, 4), (5, 6)])\n",
    "print(d)\n",
    "d = dict([(1, 2), (3, 4), \"AB\", [5, 6]])\n",
    "print(d)\n",
    "d = dict(name = \"zyz\", age = 25)   # 只有这样赋值的时候键不能是数字\n",
    "print(d)"
   ]
  },
  {
   "cell_type": "markdown",
   "metadata": {},
   "source": [
    "## 2. 字典的基本操作：\n",
    "\n",
    "- 字典的键索引语法：通过键获取键所对应的值\n",
    "\n",
    "```\n",
    "字典[键]\n",
    "```"
   ]
  },
  {
   "cell_type": "code",
   "execution_count": 2,
   "metadata": {},
   "outputs": [
    {
     "name": "stdout",
     "output_type": "stream",
     "text": [
      "zyz\n"
     ]
    }
   ],
   "source": [
    "d = dict(name = \"zyz\", age = 25)\n",
    "print(d['name'])"
   ]
  },
  {
   "cell_type": "markdown",
   "metadata": {},
   "source": [
    "- 添加和修改字典的元素：\n",
    "\n",
    "```\n",
    "语法：字典[键] = 对象\n",
    "实例 = {}\n",
    "\n",
    "说明：键不存在，则创建键值对，键存在，则修改键绑定的值, 键存在，则修改键绑定的值\n",
    "```\n"
   ]
  },
  {
   "cell_type": "code",
   "execution_count": 3,
   "metadata": {},
   "outputs": [
    {
     "name": "stdout",
     "output_type": "stream",
     "text": [
      "{}\n",
      "{'name': 'zyz'}\n",
      "{'name': 'zyz', 'age': 15}\n",
      "{'name': 'zyz', 'age': 25}\n",
      "{'name': 'zyz', 'age': 25, 2008: '润年'}\n",
      "{'name': 'zyz', 'age': 25, 2008: '润年', 3.14: {'pi': 3.1415926}}\n"
     ]
    }
   ],
   "source": [
    "d = {}\n",
    "print(d)\n",
    "d['name'] = \"zyz\"\n",
    "print(d)\n",
    "d['age'] = 15   # 创建新的键-值对\n",
    "print(d)\n",
    "d['age'] = 25   # 修改原键\"age\" 所对应的值\n",
    "print(d)\n",
    "d[2008] = '润年'\n",
    "print(d)\n",
    "d[3.14] = {\"pi\":3.1415926}\n",
    "print(d)"
   ]
  },
  {
   "cell_type": "markdown",
   "metadata": {},
   "source": [
    "- 删除字典的元素 del 语句\n",
    "\n",
    "```\n",
    "del 语句（删除变量，删除列表中的元素，删除字典的键值对）\n",
    "del 字典[键]   # 注意键的类型\n",
    "```\n",
    "\n",
    "- in/not in 运算符（字典的成员资格运算符）\n",
    "\n",
    "```\n",
    "可以用 in 运算符来判断一个键是否存在于字典中\n",
    "not in 与 in 返回结果相反\n",
    "```"
   ]
  },
  {
   "cell_type": "code",
   "execution_count": 4,
   "metadata": {},
   "outputs": [
    {
     "name": "stdout",
     "output_type": "stream",
     "text": [
      "True False\n"
     ]
    }
   ],
   "source": [
    "d = {'name': 'zyz', 'age': 25}\n",
    "print(\"name\" in d, 15 in d)"
   ]
  },
  {
   "cell_type": "markdown",
   "metadata": {},
   "source": [
    "- 字典的迭代访问：\n",
    "\n",
    "```\n",
    "字典是可迭代对象，字典只能对键进行迭代访问\n",
    "```"
   ]
  },
  {
   "cell_type": "code",
   "execution_count": 5,
   "metadata": {},
   "outputs": [
    {
     "name": "stdout",
     "output_type": "stream",
     "text": [
      "1\n",
      "2\n",
      "三\n"
     ]
    }
   ],
   "source": [
    "d = {1:\"One\", 2:\"Two\", \"三\":\"tree\"}\n",
    "for k in d:\n",
    "    print(k)"
   ]
  },
  {
   "cell_type": "markdown",
   "metadata": {},
   "source": [
    "`练习: 输入一段字符串，打印出这个字符串中出现过字符及出现过的次数`\n",
    "\n",
    "```\n",
    "如：请输入：abcdabcaba\n",
    "打印结果如下：\n",
    "a : 4\n",
    "b : 3\n",
    "d : 1\n",
    "c : 2\n",
    "```"
   ]
  },
  {
   "cell_type": "code",
   "execution_count": 6,
   "metadata": {},
   "outputs": [
    {
     "name": "stdout",
     "output_type": "stream",
     "text": [
      "请输入：abcdabcaba\n",
      "{'a': 4, 'b': 3, 'c': 2, 'd': 1}\n",
      "a : 4\n",
      "b : 3\n",
      "c : 2\n",
      "d : 1\n"
     ]
    }
   ],
   "source": [
    "s = input(\"请输入：\")\n",
    "d = {}\n",
    "\n",
    "for ch in s:\n",
    "    if ch in d:\n",
    "        d[ch] += 1\n",
    "    else:  # ch不在字典中，加入字典\n",
    "        d[ch] = 1\n",
    "print(d)\n",
    "for k in d:\n",
    "    print(\"%s : %d\" % (k, d[k]))"
   ]
  },
  {
   "cell_type": "markdown",
   "metadata": {},
   "source": [
    "## 3. 字典的方法：\n",
    "\n",
    "```\n",
    "D代表字典\n",
    "D.clear()   清空字典\n",
    "D.pop(key[,default])   移除键，同时返回此键对应的值，如果没有 key，返回 default 值\n",
    "D.copy()   返回字典D的副本，只复制一层（浅拷贝）\n",
    "D.item()   将字典的键值对以元组的方式形成一个列表\n",
    "D.update(D1)  将字典D1合并到D中，如果键相同，则此键的值取D1的值作为新值\n",
    "D.get(key, default)   返回键key所对应的值，如果没有此键，则返回default\n",
    "```"
   ]
  },
  {
   "cell_type": "markdown",
   "metadata": {},
   "source": [
    "## 4. 字典推导式：使用可迭代对象依次生成字典内的键值对的简单方式\n",
    "\n",
    "- 语法：\n",
    "\n",
    "```\n",
    "{键表达式:值表达式 for 变量 in 可迭代对象 [if真值表达式]}\n",
    "\n",
    "注：[] 的内容代表可省略\n",
    "```        "
   ]
  },
  {
   "cell_type": "markdown",
   "metadata": {},
   "source": [
    "`实例：要想生成一个字典，键为数字(1-10)，值为键的平方`"
   ]
  },
  {
   "cell_type": "code",
   "execution_count": 8,
   "metadata": {},
   "outputs": [
    {
     "name": "stdout",
     "output_type": "stream",
     "text": [
      "{1: 1, 2: 4, 3: 9, 4: 16, 5: 25, 6: 36, 7: 49, 8: 64, 9: 81}\n"
     ]
    }
   ],
   "source": [
    "d = { x : x**2 for x in range(1, 10)}\n",
    "print(d)"
   ]
  },
  {
   "cell_type": "markdown",
   "metadata": {},
   "source": [
    "- 字典推导式可以嵌套\n",
    "\n",
    "```\n",
    "语法如下：\n",
    "{键表达式:值表达式\n",
    "    for 变量1 in 可迭代对象1 [if 真值表达式1]\n",
    "    for 变量2 in 迭代对象2 [if 真值表达式2]\n",
    "}\n",
    "```\n",
    "\n",
    "`练习：有字符串列表如下：`\n",
    "\n",
    "```\n",
    "L = ['zyz', 'xiaozhuang', 'hello']\n",
    "\n",
    "生成如下字典：\n",
    "\n",
    "d = {'zyz': 3, 'xiaozhuang': 10, 'hello': 5}\n",
    "```"
   ]
  },
  {
   "cell_type": "code",
   "execution_count": 9,
   "metadata": {},
   "outputs": [
    {
     "name": "stdout",
     "output_type": "stream",
     "text": [
      "{'zyz': 3, 'xiaozhuang': 10, 'hello': 5}\n"
     ]
    }
   ],
   "source": [
    "L = ['zyz', 'xiaozhuang', 'hello']\n",
    "D = {k: len(k) for k in L}\n",
    "print(D)"
   ]
  },
  {
   "cell_type": "markdown",
   "metadata": {},
   "source": [
    "## 5. 内置函数(6)  可用于dict 的内建函数\n",
    "\n",
    "```\n",
    "len(x)   返回字典的键值对个数\n",
    "max(x)   返回键的最大值\n",
    "min(x)   返回键的最小值\n",
    "sum(x)   返回字典中所有键的和\n",
    "any(x)   真值测试（针对所有的键）\n",
    "all(x)   真值测试（针对所有的键）\n",
    "```"
   ]
  },
  {
   "cell_type": "markdown",
   "metadata": {},
   "source": [
    "`练习：已知有两个列表：Nubers = [1001, 1002, 1003, 1004]，names = ['Tom', 'Jerry', 'Spike', 'Tyke'], 要生成一个字典：d = {1001:'Tom', 1002:'Jerry',.....}`"
   ]
  },
  {
   "cell_type": "code",
   "execution_count": 10,
   "metadata": {},
   "outputs": [
    {
     "name": "stdout",
     "output_type": "stream",
     "text": [
      "{1001: 'Tom', 1002: 'Jerry', 1003: 'Spike', 1004: 'Tyke'}\n"
     ]
    }
   ],
   "source": [
    "Nubers = [1001, 1002, 1003, 1004]\n",
    "names = ['Tom', 'Jerry', 'Spike', 'Tyke']\n",
    "D = {Nubers[x]: names[x] for x in range(len(Nubers))}\n",
    "print(D)"
   ]
  },
  {
   "cell_type": "code",
   "execution_count": null,
   "metadata": {},
   "outputs": [],
   "source": []
  }
 ],
 "metadata": {
  "kernelspec": {
   "display_name": "Python 3",
   "language": "python",
   "name": "python3"
  },
  "language_info": {
   "codemirror_mode": {
    "name": "ipython",
    "version": 3
   },
   "file_extension": ".py",
   "mimetype": "text/x-python",
   "name": "python",
   "nbconvert_exporter": "python",
   "pygments_lexer": "ipython3",
   "version": "3.7.3"
  }
 },
 "nbformat": 4,
 "nbformat_minor": 4
}
