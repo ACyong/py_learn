{
 "cells": [
  {
   "cell_type": "markdown",
   "metadata": {},
   "source": [
    "# python 中的switch 语法实现"
   ]
  },
  {
   "cell_type": "code",
   "execution_count": 4,
   "metadata": {},
   "outputs": [
    {
     "data": {
      "text/plain": [
       "'???'"
      ]
     },
     "execution_count": 4,
     "metadata": {},
     "output_type": "execute_result"
    }
   ],
   "source": [
    "def pyswitch(x): \n",
    "    return {\n",
    "        1: '1',\n",
    "        2: '2',\n",
    "        3: '3',\n",
    "    }.get(x, '???')\n",
    "\n",
    "\n",
    "pyswitch(5)"
   ]
  },
  {
   "cell_type": "markdown",
   "metadata": {},
   "source": [
    "***"
   ]
  },
  {
   "cell_type": "markdown",
   "metadata": {},
   "source": [
    "# 将存放常量的文件命名为content.py"
   ]
  },
  {
   "cell_type": "code",
   "execution_count": 13,
   "metadata": {},
   "outputs": [],
   "source": [
    "class _const:\n",
    "    class ConstError(TypeError):\n",
    "        pass\n",
    "\n",
    "    class ConstCaseError(ConstError):\n",
    "        pass\n",
    "\n",
    "    def __setattr__(self, name, value):\n",
    "        if name in self.__dict__:\n",
    "            raise self.ConstError(\"can't change const %s\" % name)\n",
    "        if not name.isupper():\n",
    "            raise self.ConstCaseError(\n",
    "                'const name \"%s\" is not all uppercase' % name)\n",
    "        self.__dict__[name] = value\n",
    "\n",
    "\n",
    "const = _const()\n",
    "const.PI = 3.14"
   ]
  },
  {
   "cell_type": "markdown",
   "metadata": {},
   "source": [
    "使用常量"
   ]
  },
  {
   "cell_type": "code",
   "execution_count": null,
   "metadata": {},
   "outputs": [],
   "source": [
    "from constant import const\n",
    "\n",
    "print(const.PI)"
   ]
  },
  {
   "cell_type": "markdown",
   "metadata": {},
   "source": [
    "***"
   ]
  },
  {
   "cell_type": "markdown",
   "metadata": {},
   "source": [
    "# 充分利用Lazy evaluation 的特性"
   ]
  },
  {
   "cell_type": "code",
   "execution_count": 2,
   "metadata": {},
   "outputs": [
    {
     "name": "stdout",
     "output_type": "stream",
     "text": [
      "0.09370064735412598\n"
     ]
    }
   ],
   "source": [
    "from time import  time\n",
    "\n",
    "t = time()\n",
    "abbreviations = ['cf.', 'e.g.', 'ex.', 'etc.', 'flg.']\n",
    "for i in range(100000):\n",
    "    for w in ('Mr.', 'Hat', 'is', 'chasing', '.'):\n",
    "        if w in abbreviations and w[-1] == '.':\n",
    "        # if w[-1] == '.' and w in abbreviations:\n",
    "            pass\n",
    "print(time() - t)"
   ]
  },
  {
   "cell_type": "markdown",
   "metadata": {},
   "source": [
    "***"
   ]
  },
  {
   "cell_type": "code",
   "execution_count": null,
   "metadata": {},
   "outputs": [],
   "source": []
  },
  {
   "cell_type": "code",
   "execution_count": null,
   "metadata": {},
   "outputs": [],
   "source": []
  },
  {
   "cell_type": "code",
   "execution_count": null,
   "metadata": {},
   "outputs": [],
   "source": []
  },
  {
   "cell_type": "code",
   "execution_count": null,
   "metadata": {},
   "outputs": [],
   "source": []
  },
  {
   "cell_type": "code",
   "execution_count": null,
   "metadata": {},
   "outputs": [],
   "source": []
  },
  {
   "cell_type": "code",
   "execution_count": null,
   "metadata": {},
   "outputs": [],
   "source": []
  },
  {
   "cell_type": "code",
   "execution_count": null,
   "metadata": {},
   "outputs": [],
   "source": []
  },
  {
   "cell_type": "code",
   "execution_count": null,
   "metadata": {},
   "outputs": [],
   "source": []
  }
 ],
 "metadata": {
  "kernelspec": {
   "display_name": "Python 3",
   "language": "python",
   "name": "python3"
  },
  "language_info": {
   "codemirror_mode": {
    "name": "ipython",
    "version": 3
   },
   "file_extension": ".py",
   "mimetype": "text/x-python",
   "name": "python",
   "nbconvert_exporter": "python",
   "pygments_lexer": "ipython3",
   "version": "3.6.5"
  }
 },
 "nbformat": 4,
 "nbformat_minor": 2
}
