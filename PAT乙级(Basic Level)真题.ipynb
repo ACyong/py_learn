{
 "cells": [
  {
   "cell_type": "markdown",
   "metadata": {},
   "source": [
    "# 个位数统计 (15)\n",
    "```时间限制 1000 ms     内存限制 32768 KB     代码长度限制 100 KB     判断程序 Standard     (来自 小小)```\n",
    "***\n",
    "### 题目描述\n",
    "> 给定一个k位整数N = dk-1*10k-1 + ... + d1*101 + d0 (0<=di<=9, i=0,...,k-1, dk-1>0)，请编写程序统计每种不同的个位数字出现的次数。例如：给定N = 100311，则有2个0，3个1，和1个3。\n",
    "\n",
    "### 输入描述:\n",
    "> 每个输入包含1个测试用例，即一个不超过1000位的正整数N。\n",
    "\n",
    "### 输出描述:\n",
    "> 对N中每一种不同的个位数字，以D:M的格式在一行中输出该位数字D及其在N中出现的次数M。要求按D的升序输出。\n",
    "\n",
    "### 输入例子:\n",
    "> 100311\n",
    "\n",
    "### 输出例子:\n",
    "> 0:2\n",
    "> 1:3\n",
    "> 3:1"
   ]
  },
  {
   "cell_type": "code",
   "execution_count": 5,
   "metadata": {},
   "outputs": [
    {
     "name": "stdout",
     "output_type": "stream",
     "text": [
      "95729475892\n",
      "2:2\n",
      "4:1\n",
      "5:2\n",
      "7:2\n",
      "8:1\n",
      "9:3\n"
     ]
    }
   ],
   "source": [
    "def bucket(num):\n",
    "    L = [0] * 10\n",
    "    for i in num:\n",
    "        L[int(i)] += 1\n",
    "    return L\n",
    "\n",
    "\n",
    "num = input()\n",
    "List = bucket(num)\n",
    "count = 0\n",
    "\n",
    "for i in List:\n",
    "    if i:\n",
    "        print(count, ':', i, sep='')\n",
    "    count += 1"
   ]
  },
  {
   "cell_type": "markdown",
   "metadata": {},
   "source": [
    "***"
   ]
  },
  {
   "cell_type": "markdown",
   "metadata": {},
   "source": [
    "# 组个最小数 (20)\n",
    "```时间限制 1000 ms     内存限制 32768 KB     代码长度限制 100 KB     判断程序 Standard     (来自 小小)```\n",
    "***\n",
    "### 题目描述\n",
    "> 给定数字0-9各若干个。你可以以任意顺序排列这些数字，但必须全部使用。目标是使得最后得到的数尽可能小（注意0不能做首位）。例如：给定两个0，两个1，三个5，一个8，我们得到的最小的数就是10015558。现给定数字，请编写程序输出能够组成的最小的数。\n",
    "\n",
    "### 输入描述:\n",
    "> 每个输入包含1个测试用例。每个测试用例在一行中给出10个非负整数，顺序表示我们拥有数字0、数字1、……数字9的个数。整数间用一个空格分隔。10个数字的总个数不超过50，且至少拥有1个非0的数字。\n",
    "\n",
    "### 输出描述:\n",
    "> 在一行中输出能够组成的最小的数。\n",
    "\n",
    "### 输入例子:\n",
    "> 2 2 0 0 0 3 0 0 1 0\n",
    "\n",
    "### 输出例子:\n",
    "> 10015558"
   ]
  },
  {
   "cell_type": "code",
   "execution_count": 12,
   "metadata": {},
   "outputs": [
    {
     "name": "stdout",
     "output_type": "stream",
     "text": [
      "2 2 0 0 0 3 0 0 1 0\n",
      "10015558\n"
     ]
    }
   ],
   "source": [
    "s = input()\n",
    "L = s.split()\n",
    "c = ''\n",
    "\n",
    "for i in range(10):\n",
    "    if not int(L[i]):\n",
    "        continue\n",
    "    i = str(i) * int(L[i])\n",
    "    c += i\n",
    "    \n",
    "L1 = list(c)\n",
    "n = L1.count('0')\n",
    "L2 = L1[:n]\n",
    "L1[n+1: n+1] = L2\n",
    "print(''.join(L1[n:]))"
   ]
  },
  {
   "cell_type": "code",
   "execution_count": 6,
   "metadata": {},
   "outputs": [
    {
     "name": "stdout",
     "output_type": "stream",
     "text": [
      "[1, 2, 3, 12, 5, 6, 8, 9]\n"
     ]
    }
   ],
   "source": [
    "a = [1, 2, 3, 12, 12, 5, 6, 6, 8, 9]\n",
    "for i in a:\n",
    "    if i % 2 == 0 and i % 3 == 0:\n",
    "      a.remove(i)\n",
    "print(a)"
   ]
  },
  {
   "cell_type": "code",
   "execution_count": 19,
   "metadata": {},
   "outputs": [
    {
     "data": {
      "text/plain": [
       "[1, 2, 3, 4]"
      ]
     },
     "execution_count": 19,
     "metadata": {},
     "output_type": "execute_result"
    }
   ],
   "source": [
    "L = [2,3,1,4]\n",
    "L.sort()\n",
    "L"
   ]
  },
  {
   "cell_type": "code",
   "execution_count": 4,
   "metadata": {},
   "outputs": [
    {
     "name": "stdout",
     "output_type": "stream",
     "text": [
      "[1, 2, 3, 5, 8, 9]\n"
     ]
    }
   ],
   "source": [
    "a = [1, 2, 3, 12, 12, 5, 6, 8, 9]\n",
    "b = a[:]\n",
    "for i in a:\n",
    "    if i % 2 == 0 and i % 3 == 0:\n",
    "      b.remove(i)\n",
    "a = b\n",
    "print(a)"
   ]
  },
  {
   "cell_type": "code",
   "execution_count": 7,
   "metadata": {},
   "outputs": [
    {
     "name": "stdout",
     "output_type": "stream",
     "text": [
      "[1, 2, 3, 5, 8, 9]\n"
     ]
    }
   ],
   "source": [
    "b = [1, 2, 3, 12, 12, 5, 6, 8, 9]\n",
    "b = [i for i in b if not(i % 3 == 0 and i % 2 == 0)]\n",
    "print(b)"
   ]
  },
  {
   "cell_type": "code",
   "execution_count": 9,
   "metadata": {},
   "outputs": [
    {
     "name": "stdout",
     "output_type": "stream",
     "text": [
      "[1, 2, 3, 5, 6, 6, 8, 9]\n"
     ]
    }
   ],
   "source": [
    "a = [1, 2, 3, 12, 12, 5, 6, 6, 8, 9]\n",
    "a.remove(12)\n",
    "a.remove(12)\n",
    "print(a)"
   ]
  },
  {
   "cell_type": "code",
   "execution_count": null,
   "metadata": {},
   "outputs": [],
   "source": []
  },
  {
   "cell_type": "code",
   "execution_count": null,
   "metadata": {},
   "outputs": [],
   "source": []
  },
  {
   "cell_type": "code",
   "execution_count": null,
   "metadata": {},
   "outputs": [],
   "source": []
  },
  {
   "cell_type": "code",
   "execution_count": null,
   "metadata": {},
   "outputs": [],
   "source": []
  },
  {
   "cell_type": "code",
   "execution_count": null,
   "metadata": {},
   "outputs": [],
   "source": []
  },
  {
   "cell_type": "code",
   "execution_count": null,
   "metadata": {},
   "outputs": [],
   "source": []
  },
  {
   "cell_type": "code",
   "execution_count": null,
   "metadata": {},
   "outputs": [],
   "source": []
  },
  {
   "cell_type": "code",
   "execution_count": null,
   "metadata": {},
   "outputs": [],
   "source": []
  },
  {
   "cell_type": "code",
   "execution_count": null,
   "metadata": {},
   "outputs": [],
   "source": []
  },
  {
   "cell_type": "code",
   "execution_count": null,
   "metadata": {},
   "outputs": [],
   "source": []
  },
  {
   "cell_type": "code",
   "execution_count": null,
   "metadata": {},
   "outputs": [],
   "source": []
  }
 ],
 "metadata": {
  "kernelspec": {
   "display_name": "Python 3",
   "language": "python",
   "name": "python3"
  },
  "language_info": {
   "codemirror_mode": {
    "name": "ipython",
    "version": 3
   },
   "file_extension": ".py",
   "mimetype": "text/x-python",
   "name": "python",
   "nbconvert_exporter": "python",
   "pygments_lexer": "ipython3",
   "version": "3.6.5"
  }
 },
 "nbformat": 4,
 "nbformat_minor": 2
}
