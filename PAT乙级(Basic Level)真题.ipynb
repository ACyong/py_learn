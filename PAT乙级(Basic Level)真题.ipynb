{
 "cells": [
  {
   "cell_type": "markdown",
   "metadata": {},
   "source": [
    "# A+B和C (15)\n",
    "```时间限制 1000 ms 内存限制 32768 KB 代码长度限制 100 KB 判断程序 Standard (来自 小小)```\n",
    "\n",
    "### 题目描述\n",
    "> 给定区间[-2的31次方, 2的31次方]内的3个整数A、B和C，请判断A+B是否大于C。\n",
    "\n",
    "### 输入描述:\n",
    "> 输入第1行给出正整数T(<=10)，是测试用例的个数。随后给出T组测试用例，每组占一行，顺序给出A、B和C。整数间以空格分隔。\n",
    "\n",
    "### 输出描述:\n",
    "> 对每组测试用例，在一行中输出“Case #X: true”如果A+B>C，否则输出“Case #X: false”，其中X是测试用例的编号（从1开始）。\n",
    "\n",
    "### 输入例子:\n",
    "> 4\n",
    "> 1 2 3\n",
    "> 2 3 4\n",
    "> 2147483647 0 2147483646\n",
    "> 0 -2147483648 -2147483647\n",
    "\n",
    "### 输出例子:\n",
    "> Case #1: false\n",
    "> Case #2: true\n",
    "> Case #3: true\n",
    "> Case #4: false"
   ]
  },
  {
   "cell_type": "code",
   "execution_count": 1,
   "metadata": {},
   "outputs": [
    {
     "name": "stdout",
     "output_type": "stream",
     "text": [
      "4\n",
      "1 2 3\n",
      "2 3 4\n",
      "2147483647 0 2147483646\n",
      "0 -2147483648 -2147483647\n",
      "Case #1: false\n",
      "Case #2: true\n",
      "Case #3: true\n",
      "Case #4: false\n"
     ]
    }
   ],
   "source": [
    "n = int(input())\n",
    "L = []\n",
    "\n",
    "i = 1\n",
    "while i <= n:\n",
    "    s = input()\n",
    "    l = [int(x) for x in s.split()]\n",
    "    L.append(l)\n",
    "    i += 1\n",
    "else:\n",
    "    i = 1\n",
    "    for x in L:\n",
    "        if x[0] + x[1] > x[2]:\n",
    "            print(\"Case #%d: true\" % i)\n",
    "        else:\n",
    "            print(\"Case #%d: false\" % i)\n",
    "        i += 1"
   ]
  },
  {
   "cell_type": "markdown",
   "metadata": {},
   "source": [
    "***"
   ]
  },
  {
   "cell_type": "markdown",
   "metadata": {},
   "source": [
    "# 数字分类 (20)\n",
    "```时间限制 1000 ms 内存限制 32768 KB 代码长度限制 100 KB 判断程序 Standard (来自 小小)```\n",
    "\n",
    "### 题目描述\n",
    "> 给定一系列正整数，请按要求对数字进行分类，并输出以下5个数字：\n",
    "> A1 = 能被5整除的数字中所有偶数的和；\n",
    "> A2 = 将被5除后余1的数字按给出顺序进行交错求和，即计算n1-n2+n3-n4...；\n",
    "> A3 = 被5除后余2的数字的个数；\n",
    "> A4 = 被5除后余3的数字的平均数，精确到小数点后1位；\n",
    "> A5 = 被5除后余4的数字中最大数字。\n",
    "\n",
    "### 输入描述:\n",
    "> 每个输入包含1个测试用例。每个测试用例先给出一个不超过1000的正整数N，随后给出N个不超过1000的待分类的正整数。数字间以空格分隔。\n",
    "\n",
    "### 输出描述:\n",
    "> 对给定的N个正整数，按题目要求计算A1~A5并在一行中顺序输出。数字间以空格分隔，但行末不得有多余空格。若其中某一类数字不存在，则在相应位置输出“N”。\n",
    "\n",
    "### 输入例子:\n",
    "> 13 1 2 3 4 5 6 7 8 9 10 20 16 18\n",
    "\n",
    "### 输出例子:\n",
    "> 30 11 2 9.7 9"
   ]
  },
  {
   "cell_type": "code",
   "execution_count": 3,
   "metadata": {},
   "outputs": [
    {
     "name": "stdout",
     "output_type": "stream",
     "text": [
      "13 1 2 3 4 5 6 7 8 9 10 20 16 18\n",
      "30 11 2 9.7 9\n"
     ]
    }
   ],
   "source": [
    "a1 = []\n",
    "a2 = []\n",
    "a3 = []\n",
    "a4 = []\n",
    "a5 = []\n",
    "L = []\n",
    "S = \"\"\n",
    "\n",
    "s = input()\n",
    "l = [int(x) for x in s.split()][1:]\n",
    "\n",
    "for x in l:\n",
    "    if x % 10 == 0:\n",
    "        a1.append(x)\n",
    "    elif x % 5 == 1:\n",
    "        a2.append(x)\n",
    "    elif x % 5 == 2:\n",
    "        a3.append(x)\n",
    "    elif x % 5 == 3:\n",
    "        a4.append(x)\n",
    "    elif x % 5 == 4:\n",
    "        a5.append(x)\n",
    "\n",
    "if a1 == []:\n",
    "    L.append(\"N\")\n",
    "else:\n",
    "    L.append(sum(a1))\n",
    "\n",
    "if a2 == []:\n",
    "    L.append(\"N\")\n",
    "else:\n",
    "    a2_ans = 0\n",
    "    for i in range(len(a2)):\n",
    "        if i % 2 == 0:\n",
    "            a2_ans = a2_ans + a2[i]\n",
    "        else:\n",
    "            a2_ans = a2_ans - a2[i]\n",
    "    L.append(a2_ans)\n",
    "\n",
    "if a3 == []:\n",
    "    L.append(\"N\")\n",
    "else:\n",
    "    L.append(len(a3)),\n",
    "\n",
    "if a4 == []:\n",
    "    L.append(\"N\")\n",
    "else:\n",
    "    L.append(round(float(sum(a4)) / len(a4), 1))\n",
    "\n",
    "if a5 == []:\n",
    "    L.append(\"N\")\n",
    "else:\n",
    "    L.append(max(a5))\n",
    "\n",
    "for j in L:\n",
    "    S += (' ' + str(j))\n",
    "print(S[1:])"
   ]
  },
  {
   "cell_type": "markdown",
   "metadata": {},
   "source": [
    "***"
   ]
  },
  {
   "cell_type": "markdown",
   "metadata": {},
   "source": [
    "# 个位数统计 (15)\n",
    "```时间限制 1000 ms     内存限制 32768 KB     代码长度限制 100 KB     判断程序 Standard     (来自 小小)```\n",
    "\n",
    "### 题目描述\n",
    "> 给定一个k位整数N = dk-1*10k-1 + ... + d1*101 + d0 (0<=di<=9, i=0,...,k-1, dk-1>0)，请编写程序统计每种不同的个位数字出现的次数。例如：给定N = 100311，则有2个0，3个1，和1个3。\n",
    "\n",
    "### 输入描述:\n",
    "> 每个输入包含1个测试用例，即一个不超过1000位的正整数N。\n",
    "\n",
    "### 输出描述:\n",
    "> 对N中每一种不同的个位数字，以D:M的格式在一行中输出该位数字D及其在N中出现的次数M。要求按D的升序输出。\n",
    "\n",
    "### 输入例子:\n",
    "> 100311\n",
    "\n",
    "### 输出例子:\n",
    "> 0:2\n",
    "> 1:3\n",
    "> 3:1"
   ]
  },
  {
   "cell_type": "code",
   "execution_count": 5,
   "metadata": {},
   "outputs": [
    {
     "name": "stdout",
     "output_type": "stream",
     "text": [
      "95729475892\n",
      "2:2\n",
      "4:1\n",
      "5:2\n",
      "7:2\n",
      "8:1\n",
      "9:3\n"
     ]
    }
   ],
   "source": [
    "def bucket(num):\n",
    "    L = [0] * 10\n",
    "    for i in num:\n",
    "        L[int(i)] += 1\n",
    "    return L\n",
    "\n",
    "\n",
    "num = input()\n",
    "List = bucket(num)\n",
    "count = 0\n",
    "\n",
    "for i in List:\n",
    "    if i:\n",
    "        print(count, ':', i, sep='')\n",
    "    count += 1"
   ]
  },
  {
   "cell_type": "markdown",
   "metadata": {},
   "source": [
    "***"
   ]
  },
  {
   "cell_type": "markdown",
   "metadata": {},
   "source": [
    "# 组个最小数 (20)\n",
    "```时间限制 1000 ms     内存限制 32768 KB     代码长度限制 100 KB     判断程序 Standard     (来自 小小)```\n",
    "\n",
    "### 题目描述\n",
    "> 给定数字0-9各若干个。你可以以任意顺序排列这些数字，但必须全部使用。目标是使得最后得到的数尽可能小（注意0不能做首位）。例如：给定两个0，两个1，三个5，一个8，我们得到的最小的数就是10015558。现给定数字，请编写程序输出能够组成的最小的数。\n",
    "\n",
    "### 输入描述:\n",
    "> 每个输入包含1个测试用例。每个测试用例在一行中给出10个非负整数，顺序表示我们拥有数字0、数字1、……数字9的个数。整数间用一个空格分隔。10个数字的总个数不超过50，且至少拥有1个非0的数字。\n",
    "\n",
    "### 输出描述:\n",
    "> 在一行中输出能够组成的最小的数。\n",
    "\n",
    "### 输入例子:\n",
    "> 2 2 0 0 0 3 0 0 1 0\n",
    "\n",
    "### 输出例子:\n",
    "> 10015558"
   ]
  },
  {
   "cell_type": "code",
   "execution_count": 12,
   "metadata": {},
   "outputs": [
    {
     "name": "stdout",
     "output_type": "stream",
     "text": [
      "2 2 0 0 0 3 0 0 1 0\n",
      "10015558\n"
     ]
    }
   ],
   "source": [
    "s = input()\n",
    "L = s.split()\n",
    "c = ''\n",
    "\n",
    "for i in range(10):\n",
    "    if not int(L[i]):\n",
    "        continue\n",
    "    i = str(i) * int(L[i])\n",
    "    c += i\n",
    "    \n",
    "L1 = list(c)\n",
    "n = L1.count('0')\n",
    "L2 = L1[:n]\n",
    "L1[n+1: n+1] = L2\n",
    "print(''.join(L1[n:]))"
   ]
  },
  {
   "cell_type": "markdown",
   "metadata": {},
   "source": [
    "***"
   ]
  },
  {
   "cell_type": "code",
   "execution_count": 6,
   "metadata": {},
   "outputs": [
    {
     "name": "stdout",
     "output_type": "stream",
     "text": [
      "[1, 2, 3, 12, 5, 6, 8, 9]\n"
     ]
    }
   ],
   "source": [
    "a = [1, 2, 3, 12, 12, 5, 6, 6, 8, 9]\n",
    "for i in a:\n",
    "    if i % 2 == 0 and i % 3 == 0:\n",
    "      a.remove(i)\n",
    "print(a)"
   ]
  },
  {
   "cell_type": "code",
   "execution_count": 19,
   "metadata": {},
   "outputs": [
    {
     "data": {
      "text/plain": [
       "[1, 2, 3, 4]"
      ]
     },
     "execution_count": 19,
     "metadata": {},
     "output_type": "execute_result"
    }
   ],
   "source": [
    "L = [2,3,1,4]\n",
    "L.sort()\n",
    "L"
   ]
  },
  {
   "cell_type": "code",
   "execution_count": 4,
   "metadata": {},
   "outputs": [
    {
     "name": "stdout",
     "output_type": "stream",
     "text": [
      "[1, 2, 3, 5, 8, 9]\n"
     ]
    }
   ],
   "source": [
    "a = [1, 2, 3, 12, 12, 5, 6, 8, 9]\n",
    "b = a[:]\n",
    "for i in a:\n",
    "    if i % 2 == 0 and i % 3 == 0:\n",
    "      b.remove(i)\n",
    "a = b\n",
    "print(a)"
   ]
  },
  {
   "cell_type": "code",
   "execution_count": 7,
   "metadata": {},
   "outputs": [
    {
     "name": "stdout",
     "output_type": "stream",
     "text": [
      "[1, 2, 3, 5, 8, 9]\n"
     ]
    }
   ],
   "source": [
    "b = [1, 2, 3, 12, 12, 5, 6, 8, 9]\n",
    "b = [i for i in b if not(i % 3 == 0 and i % 2 == 0)]\n",
    "print(b)"
   ]
  },
  {
   "cell_type": "code",
   "execution_count": 9,
   "metadata": {},
   "outputs": [
    {
     "name": "stdout",
     "output_type": "stream",
     "text": [
      "[1, 2, 3, 5, 6, 6, 8, 9]\n"
     ]
    }
   ],
   "source": [
    "a = [1, 2, 3, 12, 12, 5, 6, 6, 8, 9]\n",
    "a.remove(12)\n",
    "a.remove(12)\n",
    "print(a)"
   ]
  },
  {
   "cell_type": "code",
   "execution_count": null,
   "metadata": {},
   "outputs": [],
   "source": []
  },
  {
   "cell_type": "code",
   "execution_count": null,
   "metadata": {},
   "outputs": [],
   "source": []
  },
  {
   "cell_type": "code",
   "execution_count": null,
   "metadata": {},
   "outputs": [],
   "source": []
  },
  {
   "cell_type": "code",
   "execution_count": null,
   "metadata": {},
   "outputs": [],
   "source": []
  },
  {
   "cell_type": "code",
   "execution_count": null,
   "metadata": {},
   "outputs": [],
   "source": []
  },
  {
   "cell_type": "code",
   "execution_count": null,
   "metadata": {},
   "outputs": [],
   "source": []
  },
  {
   "cell_type": "code",
   "execution_count": null,
   "metadata": {},
   "outputs": [],
   "source": []
  },
  {
   "cell_type": "code",
   "execution_count": null,
   "metadata": {},
   "outputs": [],
   "source": []
  },
  {
   "cell_type": "code",
   "execution_count": null,
   "metadata": {},
   "outputs": [],
   "source": []
  },
  {
   "cell_type": "code",
   "execution_count": null,
   "metadata": {},
   "outputs": [],
   "source": []
  },
  {
   "cell_type": "code",
   "execution_count": null,
   "metadata": {},
   "outputs": [],
   "source": []
  }
 ],
 "metadata": {
  "kernelspec": {
   "display_name": "Python 3",
   "language": "python",
   "name": "python3"
  },
  "language_info": {
   "codemirror_mode": {
    "name": "ipython",
    "version": 3
   },
   "file_extension": ".py",
   "mimetype": "text/x-python",
   "name": "python",
   "nbconvert_exporter": "python",
   "pygments_lexer": "ipython3",
   "version": "3.6.5"
  }
 },
 "nbformat": 4,
 "nbformat_minor": 2
}
