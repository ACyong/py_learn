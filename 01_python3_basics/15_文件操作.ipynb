{
 "cells": [
  {
   "cell_type": "markdown",
   "metadata": {},
   "source": [
    "## 文件操作\n",
    "\n",
    "> 文件是指用于数据存储的基本单位，通常用于长期存储数据（任何计算机系统同时打开的文件是有最大数限制的）\n",
    "\n",
    "\n",
    "### 1. 文件操作的步骤：\n",
    "\n",
    "1. 打开文件\n",
    "\n",
    "```\n",
    "# 打开一个文件，返回文件流对象，是按行可迭代的(迭代器)，如果打开失败则会触发IOError错误\n",
    "f = open(路径+文件名, mode = 'rt', [encoding='字符集']) \n",
    "\n",
    "mode 模式字符的含义：\n",
    "    'r' 以只读方式打开（默认）\n",
    "    'w' 以只写方式打开, 删除原有文件内容（如果文件不存在则创建此文件并以只写方式打开）\n",
    "    'x' 创建一个新文件，并以写模式打开，如果文件已存在，则产生FileExistError错误\n",
    "    'a' 以只写方式打开，如果原文件有内容，则追加到文件末尾\n",
    "    'b' 以二进制模式打开\n",
    "    't' 以文本模式打开（默认）\n",
    "    '+' 为更新内容打开一个磁盘文件（可读可写）\n",
    "    'r+' 可读可写可追加\n",
    "    'w+' 可写可读\n",
    "    'U' 表示在读取时，可以将 \\r \\n \\r\\n 自动转换为\\n，配合r r+ 使用\n",
    "\n",
    "encoding参数:\n",
    "    要读取非UTF-8编码的文本文件，需要给open()函数传入encoding参数，例如，读取GBK编码的文件：\n",
    "f = open('/Users/michael/gbk.txt', 'r', encoding='gbk')\n",
    "```\n",
    "\n",
    "2. 读/写文件\n",
    "\n",
    "```\n",
    "常用的方法：\n",
    "F.read([size=-1])  从一个文件流中最多读取size个字符（或字节）中文与英文都占一个字符，默认读取全部\n",
    "F.readline()  读取一行数据，如果到达文件尾则返回空行\n",
    "F.readlines([max_chars = -1])  返回每行字符串的列表，max_chars为最大字符（或字节）数\n",
    "F.write(data)  写一个字符串（或字节串），返回写入的个数\n",
    "F.writelines(lines)  将字符串的列表写入文件\n",
    "F.flush()  把文件写入文件对象的缓存内容写入磁盘\n",
    "F.tell()  返回当前文件流的绝对位置(文件的读写位置是以字节为单位的，一般不对文本文件进行操作)\n",
    "F.seek(offset, whence = 0)  改变数据流的位置，返回新的绝对位置\n",
    "       offset 偏移量 （大于0的数，代表向文件末尾方向移动，小于0的数 ，代表向文件头方向移动）\n",
    "       whence 相对位置 （0 代表从文件头开始偏移 1 代表从当前位置开始偏移 2 代表从文件尾开始偏移）\n",
    "```\n",
    "\n",
    "3. 关闭文件\n",
    "\n",
    "```\n",
    "F.close()  # F代表open返回的文件流对象\n",
    "F.closed()  # 返回文件是否关闭\n",
    "```\n"
   ]
  },
  {
   "cell_type": "markdown",
   "metadata": {},
   "source": [
    "### 2. 对文件的增删改查\n",
    "\n",
    "直接使用文件对象的方法只能做到对文本文件的追加和清空，使用以下方法可以实现对指定内容的增删改查："
   ]
  },
  {
   "cell_type": "code",
   "execution_count": null,
   "metadata": {},
   "outputs": [],
   "source": [
    "import sys\n",
    "\n",
    "find_str = sys.argv[1]\n",
    "replase_str = sys.argv[2]\n",
    "\n",
    "f = open(\"data2.txt\", 'r')\n",
    "f_new = open(\"data3.txt\", \"w\")\n",
    "\n",
    "for line in f:\n",
    "    if find_str in line:\n",
    "        line = line.replace(find_str, replase_str)\n",
    "    f_new.write(line)\n",
    "\n",
    "f.close()\n",
    "f_new.close()"
   ]
  },
  {
   "cell_type": "markdown",
   "metadata": {},
   "source": [
    "### 3. with 语句：\n",
    "\n",
    "> 为了避免打开文件后忘记关闭，可以通过管理上下文，即：\n",
    "\n",
    "```\n",
    "with open(\"text.txt\", \"r\") as f:\n",
    "    pass\n",
    "```\n",
    "\n",
    "> 如此方式，当用with 代码块执行完毕时，内部会自动关闭并释放文件资源; \n",
    "在python2.7 后，with 支持同时对多个文件的上下文进行管理，即：\n",
    "\n",
    "```\n",
    "with open(\"text1.txt\", \"r\") as f1, open(\"test2.txt\", \"r\") as f2:\n",
    "    pass\n",
    "```"
   ]
  },
  {
   "cell_type": "code",
   "execution_count": null,
   "metadata": {},
   "outputs": [],
   "source": []
  }
 ],
 "metadata": {
  "kernelspec": {
   "display_name": "Python 3",
   "language": "python",
   "name": "python3"
  },
  "language_info": {
   "codemirror_mode": {
    "name": "ipython",
    "version": 3
   },
   "file_extension": ".py",
   "mimetype": "text/x-python",
   "name": "python",
   "nbconvert_exporter": "python",
   "pygments_lexer": "ipython3",
   "version": "3.9.2"
  },
  "toc": {
   "base_numbering": 1,
   "nav_menu": {},
   "number_sections": true,
   "sideBar": true,
   "skip_h1_title": false,
   "title_cell": "Table of Contents",
   "title_sidebar": "Contents",
   "toc_cell": false,
   "toc_position": {},
   "toc_section_display": true,
   "toc_window_display": false
  }
 },
 "nbformat": 4,
 "nbformat_minor": 4
}
