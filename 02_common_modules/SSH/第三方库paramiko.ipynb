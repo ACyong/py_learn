{
 "cells": [
  {
   "cell_type": "markdown",
   "id": "b6026523-8f98-4d60-818b-eecf178920a3",
   "metadata": {},
   "source": [
    "https://docs.paramiko.org/en/latest/"
   ]
  },
  {
   "cell_type": "code",
   "execution_count": null,
   "id": "33952c72-8c2b-4137-8cf6-1cd5c79e82f1",
   "metadata": {},
   "outputs": [],
   "source": []
  }
 ],
 "metadata": {
  "kernelspec": {
   "display_name": "Python 3 (ipykernel)",
   "language": "python",
   "name": "python3"
  },
  "language_info": {
   "codemirror_mode": {
    "name": "ipython",
    "version": 3
   },
   "file_extension": ".py",
   "mimetype": "text/x-python",
   "name": "python",
   "nbconvert_exporter": "python",
   "pygments_lexer": "ipython3",
   "version": "3.10.12"
  }
 },
 "nbformat": 4,
 "nbformat_minor": 5
}
