{
 "cells": [
  {
   "cell_type": "markdown",
   "metadata": {},
   "source": [
    "python中变量不存储任何数据，不需要声明，没有任何数据类型，类型是指变量所引用的内存中对象的类型。\n",
    "变量只是关联一个对象的符号，每个变量在使用之前都必须赋值，变量赋值以后该变量才会被创建。"
   ]
  },
  {
   "cell_type": "code",
   "execution_count": 4,
   "metadata": {},
   "outputs": [
    {
     "name": "stdout",
     "output_type": "stream",
     "text": [
      "zhangsan zhangsan True\n",
      "lisi zhangsan False\n"
     ]
    }
   ],
   "source": [
    "name = 'zhangsan'\n",
    "mingzi = name\n",
    "print(name, mingzi, name is mingzi)\n",
    "name = 'lisi'\n",
    "print(name, mingzi, name is mingzi)"
   ]
  },
  {
   "cell_type": "markdown",
   "metadata": {},
   "source": [
    "对于CPython 整数-5至256用于存于内存中，不会释放并一直重复使用"
   ]
  },
  {
   "cell_type": "code",
   "execution_count": 5,
   "metadata": {},
   "outputs": [
    {
     "name": "stdout",
     "output_type": "stream",
     "text": [
      "False\n",
      "True\n",
      "True\n",
      "True\n"
     ]
    }
   ],
   "source": [
    "a = 3000\n",
    "b = 1000 + 2000\n",
    "print(a is b)      # False\n",
    "print(a is not b)  # True\n",
    "b = a              # 让b绑定和a一样的对象\n",
    "print(a is b)      # True\n",
    "a = 3\n",
    "b = 1 + 2\n",
    "print(a is b)      # True"
   ]
  },
  {
   "cell_type": "markdown",
   "metadata": {},
   "source": [
    "模拟打印进度条"
   ]
  },
  {
   "cell_type": "code",
   "execution_count": 6,
   "metadata": {},
   "outputs": [
    {
     "name": "stdout",
     "output_type": "stream",
     "text": [
      "####################\n"
     ]
    }
   ],
   "source": [
    "import sys\n",
    "import time\n",
    "\n",
    "for i in range(20):\n",
    "    sys.stdout.write(\"#\")\n",
    "    sys.stdout.flush()\n",
    "    time.sleep(0.1)\n",
    "else:\n",
    "    print()"
   ]
  },
  {
   "cell_type": "markdown",
   "metadata": {},
   "source": [
    "给了一个年份，判断是否为闰年并打印每四年一闰，每百年不闰，四百年又闰"
   ]
  },
  {
   "cell_type": "code",
   "execution_count": 7,
   "metadata": {},
   "outputs": [
    {
     "name": "stdout",
     "output_type": "stream",
     "text": [
      "请输入年份：2008\n",
      "闰年\n"
     ]
    }
   ],
   "source": [
    "year = int(input(\"请输入年份：\"))\n",
    "\n",
    "if (year % 4 == 0 and year % 100 != 0) or (year % 400 == 0):\n",
    "    print(\"闰年\")\n",
    "else:\n",
    "    print(\"非闰年\")"
   ]
  },
  {
   "cell_type": "markdown",
   "metadata": {},
   "source": []
  },
  {
   "cell_type": "code",
   "execution_count": 1,
   "metadata": {},
   "outputs": [
    {
     "name": "stdout",
     "output_type": "stream",
     "text": [
      "y的值是： 2\n",
      "25\n"
     ]
    }
   ],
   "source": [
    "def make_power(y):\n",
    "    print(\"y的值是：\", y)\n",
    "    def f(x):\n",
    "        return x ** y  # <<<---注意此处的y为外部嵌套函数内的y\n",
    "    return f\n",
    "pow2 = make_power(2)\n",
    "print(pow2(5))"
   ]
  },
  {
   "cell_type": "code",
   "execution_count": 2,
   "metadata": {},
   "outputs": [
    {
     "data": {
      "text/plain": [
       "['A', 2, 'B', 4, 'C', 6]"
      ]
     },
     "execution_count": 2,
     "metadata": {},
     "output_type": "execute_result"
    }
   ],
   "source": [
    "L = [1, 2, 3, 4, 5, 6]\n",
    "L[::2] = 'ABC'\n",
    "L"
   ]
  },
  {
   "cell_type": "code",
   "execution_count": 15,
   "metadata": {},
   "outputs": [
    {
     "data": {
      "text/plain": [
       "[1, 2, 3, 4, 5, 6, 'A', 'B', 7, 8, 9]"
      ]
     },
     "execution_count": 15,
     "metadata": {},
     "output_type": "execute_result"
    }
   ],
   "source": [
    "L = [2, 3, 4]\n",
    "L[0: 1] = [1.1, 2.2]\n",
    "L[2: ] = [3.3, 4.4, 5.5]\n",
    "L[: ] = [3, 4]\n",
    "L[0: 0] = [1, 2]\n",
    "L[4: ] = [5, 6]\n",
    "L[6: ] = \"AB\" \n",
    "L[8: ] = range(7, 10) \n",
    "L"
   ]
  },
  {
   "cell_type": "code",
   "execution_count": 11,
   "metadata": {},
   "outputs": [
    {
     "name": "stdout",
     "output_type": "stream",
     "text": [
      "['a', 'b', 'c']\n",
      "['a', 'b', 'c']\n"
     ]
    }
   ],
   "source": [
    "my_dict = {\"a\":\"2\", \"c\":\"5\", \"b\":\"1\"}\n",
    "\n",
    "result = sorted(my_dict)\n",
    "print(result)\n",
    "#默认对dict排序，不指定key参数,会默认对dict的key值进行比较排序\n",
    "#result输出: ['a', 'b', 'c']\n",
    "\n",
    "result2 = sorted(my_dict, key=lambda x:x[0])\n",
    "print(result2)\n",
    "#指定key参数，根据dict的value排序\n",
    "#result2输出:['b', 'a', 'c']"
   ]
  },
  {
   "cell_type": "code",
   "execution_count": 4,
   "metadata": {},
   "outputs": [
    {
     "data": {
      "text/plain": [
       "[('john', 'A', 15), ('jane', 'B', 12), ('dave', 'B', 10)]"
      ]
     },
     "execution_count": 4,
     "metadata": {},
     "output_type": "execute_result"
    }
   ],
   "source": [
    "a = [5,7,6,3,4,1,2]\n",
    "b = sorted(a)       # 保留原列表\n",
    "a \n",
    "b\n",
    " \n",
    "L=[('b',2),('a',1),('c',3),('d',4)]\n",
    "sorted(L, key=lambda x:x[1])               # 利用key\n",
    " \n",
    " \n",
    "students = [('john', 'A', 15), ('jane', 'B', 12), ('dave', 'B', 10)]\n",
    "sorted(students, key=lambda s: s[2])            # 按年龄排序\n",
    "\n",
    "sorted(students, key=lambda s: s[2], reverse=True)       # 按降序"
   ]
  },
  {
   "cell_type": "code",
   "execution_count": null,
   "metadata": {},
   "outputs": [],
   "source": []
  },
  {
   "cell_type": "code",
   "execution_count": null,
   "metadata": {},
   "outputs": [],
   "source": []
  },
  {
   "cell_type": "code",
   "execution_count": null,
   "metadata": {},
   "outputs": [],
   "source": []
  },
  {
   "cell_type": "code",
   "execution_count": null,
   "metadata": {},
   "outputs": [],
   "source": []
  },
  {
   "cell_type": "code",
   "execution_count": null,
   "metadata": {},
   "outputs": [],
   "source": []
  },
  {
   "cell_type": "code",
   "execution_count": null,
   "metadata": {},
   "outputs": [],
   "source": []
  },
  {
   "cell_type": "code",
   "execution_count": null,
   "metadata": {},
   "outputs": [],
   "source": []
  },
  {
   "cell_type": "code",
   "execution_count": null,
   "metadata": {},
   "outputs": [],
   "source": []
  },
  {
   "cell_type": "code",
   "execution_count": null,
   "metadata": {},
   "outputs": [],
   "source": []
  },
  {
   "cell_type": "code",
   "execution_count": null,
   "metadata": {},
   "outputs": [],
   "source": []
  }
 ],
 "metadata": {
  "kernelspec": {
   "display_name": "Python 3",
   "language": "python",
   "name": "python3"
  },
  "language_info": {
   "codemirror_mode": {
    "name": "ipython",
    "version": 3
   },
   "file_extension": ".py",
   "mimetype": "text/x-python",
   "name": "python",
   "nbconvert_exporter": "python",
   "pygments_lexer": "ipython3",
   "version": "3.6.5"
  }
 },
 "nbformat": 4,
 "nbformat_minor": 2
}
