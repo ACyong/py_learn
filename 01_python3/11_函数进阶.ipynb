{
 "cells": [
  {
   "cell_type": "markdown",
   "metadata": {},
   "source": [
    "# 函数进阶"
   ]
  },
  {
   "cell_type": "markdown",
   "metadata": {},
   "source": [
    "## 1. 全局变量和局部变量\n",
    "\n",
    "- 局部变量：\n",
    "\n",
    "```\n",
    "定义在函数内部的变量称为局部变量（函数的形参也是局部变量）\n",
    "局部变量只能在函数内部使用\n",
    "局部变量在函数调用时被自动创建\n",
    "```\n",
    "\n",
    "- 全局变量：\n",
    "\n",
    "```\n",
    "定义在函数外部的变量称为全局变量\n",
    "全局变量，所有函数都可以直接访问，但函数内不能将其直接改变\n",
    "```"
   ]
  },
  {
   "cell_type": "code",
   "execution_count": 3,
   "metadata": {},
   "outputs": [
    {
     "name": "stdout",
     "output_type": "stream",
     "text": [
      "100 200 300\n",
      "100 200 30\n"
     ]
    }
   ],
   "source": [
    "# 局部变量和全局变量创建和销毁实例：\n",
    "def myadd(x, y):\n",
    "    m = x + y\n",
    "    return m\n",
    "\n",
    "x = 100\n",
    "y = 200\n",
    "z = myadd(x, y)\n",
    "print(x, y, z)\n",
    "a = 10\n",
    "b = 20\n",
    "z = myadd(a, b)\n",
    "print(x, y, z)"
   ]
  },
  {
   "cell_type": "markdown",
   "metadata": {},
   "source": [
    "## 2. 函数的嵌套：\n",
    "\n",
    "> 函数嵌套是指在一个函数里用def语句来创建其他函数的情况"
   ]
  },
  {
   "cell_type": "code",
   "execution_count": 4,
   "metadata": {},
   "outputs": [
    {
     "name": "stdout",
     "output_type": "stream",
     "text": [
      "fn_outter被调用\n",
      "fn_inner被调用\n"
     ]
    },
    {
     "ename": "NameError",
     "evalue": "name 'fn_inner' is not defined",
     "output_type": "error",
     "traceback": [
      "\u001b[0;31m---------------------------------------------------------------------------\u001b[0m",
      "\u001b[0;31mNameError\u001b[0m                                 Traceback (most recent call last)",
      "\u001b[0;32m<ipython-input-4-80b60bddee2e>\u001b[0m in \u001b[0;36m<module>\u001b[0;34m\u001b[0m\n\u001b[1;32m     10\u001b[0m \u001b[0;34m\u001b[0m\u001b[0m\n\u001b[1;32m     11\u001b[0m \u001b[0mfn_outter\u001b[0m\u001b[0;34m(\u001b[0m\u001b[0;34m)\u001b[0m\u001b[0;34m\u001b[0m\u001b[0;34m\u001b[0m\u001b[0m\n\u001b[0;32m---> 12\u001b[0;31m \u001b[0mfn_inner\u001b[0m\u001b[0;34m(\u001b[0m\u001b[0;34m)\u001b[0m  \u001b[0;31m# 调用是错误的，因为没有fn_inner这个变量名\u001b[0m\u001b[0;34m\u001b[0m\u001b[0;34m\u001b[0m\u001b[0m\n\u001b[0m",
      "\u001b[0;31mNameError\u001b[0m: name 'fn_inner' is not defined"
     ]
    }
   ],
   "source": [
    "# 函数内部创建函数，并将其返回\n",
    "def fn_outter():\n",
    "    print(\"fn_outter被调用\")\n",
    "\n",
    "    def fn_inner():\n",
    "        print(\"fn_inner被调用\")\n",
    "\n",
    "    fn_inner()  # 可以调用内部的fn_inner函数\n",
    "\n",
    "\n",
    "fn_outter()\n",
    "fn_inner()  # 调用是错误的，因为没有fn_inner这个变量名"
   ]
  },
  {
   "cell_type": "code",
   "execution_count": 5,
   "metadata": {},
   "outputs": [
    {
     "name": "stdout",
     "output_type": "stream",
     "text": [
      "fn_outter被调用\n",
      "fn_inner被调用\n"
     ]
    }
   ],
   "source": [
    "# 思考，能否在此处调用fn_inner?\n",
    "def fn_outter():\n",
    "    print(\"fn_outter被调用\")\n",
    "\n",
    "    def fn_inner():\n",
    "        print(\"fn_inner被调用\")\n",
    "\n",
    "    return fn_inner\n",
    "\n",
    "\n",
    "f = fn_outter()   # f绑定fn_inner这个函数\n",
    "f()   # 调用"
   ]
  },
  {
   "cell_type": "code",
   "execution_count": 10,
   "metadata": {},
   "outputs": [
    {
     "name": "stdout",
     "output_type": "stream",
     "text": [
      "100 200\n",
      "200\n",
      "100\n"
     ]
    },
    {
     "ename": "NameError",
     "evalue": "name 'a1' is not defined",
     "output_type": "error",
     "traceback": [
      "\u001b[0;31m---------------------------------------------------------------------------\u001b[0m",
      "\u001b[0;31mNameError\u001b[0m                                 Traceback (most recent call last)",
      "\u001b[0;32m<ipython-input-10-95d18be325ac>\u001b[0m in \u001b[0;36m<module>\u001b[0;34m\u001b[0m\n\u001b[1;32m      9\u001b[0m \u001b[0mf\u001b[0m\u001b[0;34m(\u001b[0m\u001b[0;36m100\u001b[0m\u001b[0;34m,\u001b[0m \u001b[0;36m200\u001b[0m\u001b[0;34m)\u001b[0m\u001b[0;34m\u001b[0m\u001b[0;34m\u001b[0m\u001b[0m\n\u001b[1;32m     10\u001b[0m \u001b[0mprint\u001b[0m\u001b[0;34m(\u001b[0m\u001b[0mn\u001b[0m\u001b[0;34m)\u001b[0m\u001b[0;34m\u001b[0m\u001b[0;34m\u001b[0m\u001b[0m\n\u001b[0;32m---> 11\u001b[0;31m \u001b[0mprint\u001b[0m\u001b[0;34m(\u001b[0m\u001b[0ma1\u001b[0m\u001b[0;34m)\u001b[0m  \u001b[0;31m# 错的\u001b[0m\u001b[0;34m\u001b[0m\u001b[0;34m\u001b[0m\u001b[0m\n\u001b[0m\u001b[1;32m     12\u001b[0m \u001b[0mprint\u001b[0m\u001b[0;34m(\u001b[0m\u001b[0mm\u001b[0m\u001b[0;34m)\u001b[0m  \u001b[0;31m# 也是错的\u001b[0m\u001b[0;34m\u001b[0m\u001b[0;34m\u001b[0m\u001b[0m\n",
      "\u001b[0;31mNameError\u001b[0m: name 'a1' is not defined"
     ]
    }
   ],
   "source": [
    "n = 100  # 全局变量\n",
    "\n",
    "def f(a1, b):\n",
    "    print(a1, b)\n",
    "    n = 200  # 此函数内a, b, n 都为局部变量，只在函数调用是起作用（函数的形参也是局部变量）\n",
    "    print(n)\n",
    "    m = 300\n",
    "\n",
    "f(100, 200)\n",
    "print(n)\n",
    "print(a1)  # 错的\n",
    "print(m)  # 也是错的"
   ]
  },
  {
   "cell_type": "markdown",
   "metadata": {},
   "source": [
    "## 3. python 的作用域：\n",
    "\n",
    "> 作用域也叫名字空间，是访问变量时查找变量的范围空间\n",
    "\n",
    "- Python的四个作用域 LEGB\n",
    "\n",
    "```\n",
    "局部作用域  Local function\n",
    "外部嵌套函数作用域  Enclosing function local\n",
    "全局作用域（文件作用域）  Global（Module）\n",
    "Python内置模块作用域     Builtin（Python）\n",
    "```\n",
    "\n",
    "-  变量名查找的规则是：\n",
    "\n",
    "```\n",
    "局部变量 --> 外部嵌套函数变量 --> 全局作用域 --> 内置模块作用域\n",
    "```"
   ]
  },
  {
   "cell_type": "code",
   "execution_count": 13,
   "metadata": {},
   "outputs": [
    {
     "name": "stdout",
     "output_type": "stream",
     "text": [
      "f1内的V =  200\n",
      "f2内的V =  300\n",
      "全局的V =  100\n"
     ]
    }
   ],
   "source": [
    "v = 100\n",
    "def f1():\n",
    "    v = 200\n",
    "    print(\"f1内的V = \", v)\n",
    "\n",
    "\n",
    "def f2():\n",
    "    v = 300\n",
    "    print(\"f2内的V = \", v)\n",
    "\n",
    "\n",
    "f1()\n",
    "f2()\n",
    "print(\"全局的V = \", v)"
   ]
  },
  {
   "cell_type": "markdown",
   "metadata": {},
   "source": [
    "- global 语句\n",
    "\n",
    "```\n",
    "1、告诉解释器，global语句声明的一个后多个变量，这些变量的作用域为模块级的作用域，也称为全局作用域\n",
    "2、全局声明global将赋值变量映射到模块文件内部的作用\n",
    "\n",
    "语法：global 变量1, 变量2,......\n",
    "```"
   ]
  },
  {
   "cell_type": "code",
   "execution_count": 14,
   "metadata": {},
   "outputs": [
    {
     "name": "stdout",
     "output_type": "stream",
     "text": [
      "100\n",
      "200\n"
     ]
    }
   ],
   "source": [
    "v = 100\n",
    "def f1():\n",
    "    global v  # 声明v为全局作用域的v\n",
    "    v = 200   # 想要此语句对全局变量v进行修改\n",
    "\n",
    "\n",
    "print(v)    # 100\n",
    "f1()   # 调用\n",
    "print(v)    # 200"
   ]
  },
  {
   "cell_type": "markdown",
   "metadata": {},
   "source": [
    "```\n",
    "3、全局变量如果要在函数内部改变绑定关系，则必须经过全局声明，否则会被认为是局部变量\n",
    "4、全局变量在函数内部不经过声明就可以访问,不可改变\n",
    "5、不能先声明局部变量，再用global声明为全局变量（此做发不符合规则）\n",
    "6、global变量的列表里的变量名不能出现在此作用域的形参列表里\n",
    "```"
   ]
  },
  {
   "cell_type": "code",
   "execution_count": 15,
   "metadata": {},
   "outputs": [
    {
     "ename": "SyntaxError",
     "evalue": "name 'v' is assigned to before global declaration (<ipython-input-15-327fd9ccebc6>, line 7)",
     "output_type": "error",
     "traceback": [
      "\u001b[0;36m  File \u001b[0;32m\"<ipython-input-15-327fd9ccebc6>\"\u001b[0;36m, line \u001b[0;32m7\u001b[0m\n\u001b[0;31mSyntaxError\u001b[0m\u001b[0;31m:\u001b[0m name 'v' is assigned to before global declaration\n"
     ]
    }
   ],
   "source": [
    "v = 100\n",
    "def f1():\n",
    "    v = 200\n",
    "    global v"
   ]
  },
  {
   "cell_type": "code",
   "execution_count": 48,
   "metadata": {},
   "outputs": [
    {
     "ename": "SyntaxError",
     "evalue": "name 's' is used prior to global declaration (<ipython-input-48-eab7406b633e>, line 15)",
     "output_type": "error",
     "traceback": [
      "\u001b[0;36m  File \u001b[0;32m\"<ipython-input-48-eab7406b633e>\"\u001b[0;36m, line \u001b[0;32m15\u001b[0m\n\u001b[0;31mSyntaxError\u001b[0m\u001b[0;31m:\u001b[0m name 's' is used prior to global declaration\n"
     ]
    }
   ],
   "source": [
    "s = \"ABC\"\n",
    "string = \"hello\"\n",
    "\n",
    "def f1(string):\n",
    "    global s\n",
    "    s += string\n",
    "\n",
    "print(s)  # 访问不等于可以改变\n",
    "f1(string)\n",
    "print(s)\n",
    "\n",
    "global s"
   ]
  },
  {
   "cell_type": "markdown",
   "metadata": {},
   "source": [
    "- nonlocal 语句\n",
    "\n",
    "> 告诉解释器，声明的变量不是局部变量，也不是全局变量，而是外部嵌套函数内的变量\n",
    "\n",
    "```\n",
    "语法：nonlocal 变量1, 变量2,.....\n",
    "\n",
    "1、nonlocal只能在被嵌套函数内部进行使用\n",
    "2、当有两层或两层以上函数嵌套时，访问nonlocal变量只对最近一层的变量进行操作\n",
    "3、nonlocal语句的变量列表中的变量名，不能出现在此函数的参数列表里\n",
    "```"
   ]
  },
  {
   "cell_type": "code",
   "execution_count": 29,
   "metadata": {},
   "outputs": [
    {
     "name": "stdout",
     "output_type": "stream",
     "text": [
      "全局的v： 100\n",
      "f2的v值： 400\n",
      "f1的v值： 300\n",
      "全局的v： 300\n"
     ]
    }
   ],
   "source": [
    "v = 100\n",
    "\n",
    "def f1():\n",
    "    v1 = 200\n",
    "    def f2():\n",
    "        global v\n",
    "        v = 300  # 此时修改全局的v\n",
    "\n",
    "        nonlocal v1\n",
    "        v1 = 400  # 此时修改外部嵌套函数的作用域中的v\n",
    "        print(\"f2的v值：\", v1)\n",
    "    f2()\n",
    "    print(\"f1的v值：\", v)\n",
    "\n",
    "print(\"全局的v：\", v)\n",
    "f1()\n",
    "print(\"全局的v：\", v)"
   ]
  },
  {
   "cell_type": "markdown",
   "metadata": {},
   "source": [
    "## 4. lambda 表达式\n",
    "\n",
    "> 创建一个匿名函数对象，同def类似，但不提供函数名\n",
    "\n",
    "```\n",
    "语法：lambda [形参名1, 形参2, ...]: 只有一条表达式（语句也不能用）\n",
    "```"
   ]
  },
  {
   "cell_type": "code",
   "execution_count": 32,
   "metadata": {},
   "outputs": [
    {
     "name": "stdout",
     "output_type": "stream",
     "text": [
      "20+30 =  50\n",
      "3.1+4.2 =  7.300000000000001\n"
     ]
    }
   ],
   "source": [
    "def myadd(x, y):\n",
    "    return x + y\n",
    "\n",
    "myadd1 = lambda x, y : x + y\n",
    "print(\"20+30 = \", myadd(20, 30))\n",
    "print(\"3.1+4.2 = \", myadd1(3.1, 4.2))"
   ]
  },
  {
   "cell_type": "markdown",
   "metadata": {},
   "source": [
    "```\n",
    "1、lambda只是一个表达式，它用来创建一个函数对象，当lambda表达式执行时，返回的是冒号后表达式的值\n",
    "2、lambda表达式创建的函数只能包含一条表达式\n",
    "3、lambda比函数简单且可以随时创建和销毁，有利于减少程序的耦合度\n",
    "```"
   ]
  },
  {
   "cell_type": "markdown",
   "metadata": {},
   "source": [
    "`练习：写一个lambda表达式，传入两个数x, y， 返回x的平方对y求余的值`\n",
    "\n",
    "```\n",
    "mymod = lambda.....\n",
    "print(mymod(4,5))\n",
    "# 跟函数调用是一样的\n",
    "```"
   ]
  },
  {
   "cell_type": "code",
   "execution_count": 35,
   "metadata": {},
   "outputs": [
    {
     "name": "stdout",
     "output_type": "stream",
     "text": [
      "请输入x:2\n",
      "请输入y:3\n",
      "1\n"
     ]
    }
   ],
   "source": [
    "x = int(input(\"请输入x:\"))\n",
    "y = int(input(\"请输入y:\"))\n",
    "z = lambda x, y: x**2 % y\n",
    "print(z(x, y))"
   ]
  },
  {
   "cell_type": "markdown",
   "metadata": {},
   "source": [
    "## 5. 内置函数(7) \n",
    "\n",
    "- globals()\n",
    "\n",
    "```\n",
    "返回当前全局作用域内变量的字典\n",
    "```\n",
    "\n",
    "- locals()\n",
    "\n",
    "```\n",
    "返回当前局部作用域内变量的字典\n",
    "```"
   ]
  },
  {
   "cell_type": "code",
   "execution_count": 37,
   "metadata": {
    "scrolled": true
   },
   "outputs": [
    {
     "name": "stdout",
     "output_type": "stream",
     "text": [
      "locals返回： {'c': 100, 'd': 200, 'e': 300}\n",
      "globals返回： {'__name__': '__main__', '__doc__': 'Automatically created module for IPython interactive environment', '__package__': None, '__loader__': None, '__spec__': None, '__builtin__': <module 'builtins' (built-in)>, '__builtins__': <module 'builtins' (built-in)>, '_ih': ['', '# 局部变量和全局变量创建和销毁实例：\\ndef myadd(x, y):\\n    m = x + y\\n    return m\\n\\nx = 100\\ny = 200\\nz = myadd(x, y)\\na = 10\\nb = 20\\nz = myadd(a, b)', '# 局部变量和全局变量创建和销毁实例：\\ndef myadd(x, y):\\n    m = x + y\\n    return m\\n\\nx = 100\\ny = 200\\nz = myadd(x, y)\\nprint(z)\\na = 10\\nb = 20\\nz = myadd(a, b)\\nprint(z)', '# 局部变量和全局变量创建和销毁实例：\\ndef myadd(x, y):\\n    m = x + y\\n    return m\\n\\nx = 100\\ny = 200\\nz = myadd(x, y)\\nprint(x, y, z)\\na = 10\\nb = 20\\nz = myadd(a, b)\\nprint(x, y, z)', '# 函数内部创建函数，并将其返回\\ndef fn_outter():\\n    print(\"fn_outter被调用\")\\n\\n    def fn_inner():\\n        print(\"fn_inner被调用\")\\n\\n    fn_inner()  # 可以调用内部的fn_inner函数\\n\\n\\nfn_outter()\\nfn_inner()  # 调用是错误的，因为没有fn_inner这个变量名', '# 思考，能否在此处调用fn_inner?\\ndef fn_outter():\\n    print(\"fn_outter被调用\")\\n\\n    def fn_inner():\\n        print(\"fn_inner被调用\")\\n\\n    return fn_inner\\n\\n\\nf = fn_outter()   # f绑定fn_inner这个函数\\nf()   # 调用', 'n = 100  # 全局变量\\n\\ndef f(a, b):\\n    print(a, b)\\n    n = 200  # 此函数内a, b, n 都为局部变量，只在函数调用是起作用（函数的形参也是局部变量）\\n    print(n)\\n    m = 300\\n\\nf(100, 200)\\nprint(a)    # 错的\\nprint(m)    # 也是错的\\nprint(n)    # 100', 'n = 100  # 全局变量\\n\\ndef f(a1, b):\\n    print(a, b)\\n    n = 200  # 此函数内a, b, n 都为局部变量，只在函数调用是起作用（函数的形参也是局部变量）\\n    print(n)\\n    m = 300\\n\\nf(100, 200)\\nprint(a1)    # 错的\\nprint(m)    # 也是错的\\nprint(n)    # 100', 'n = 100  # 全局变量\\n\\ndef f(a1, b):\\n    print(a1, b)\\n    n = 200  # 此函数内a, b, n 都为局部变量，只在函数调用是起作用（函数的形参也是局部变量）\\n    print(n)\\n    m = 300\\n\\nf(100, 200)\\nprint(a1)    # 错的\\nprint(m)    # 也是错的\\nprint(n)    # 100', 'n = 100  # 全局变量\\n\\ndef f(a1, b):\\n    print(a1, b)\\n    n = 200  # 此函数内a, b, n 都为局部变量，只在函数调用是起作用（函数的形参也是局部变量）\\n    print(n)\\n    m = 300\\n\\nf(100, 200)\\nprint(a1)  # 错的\\nprint(m)  # 也是错的\\nprint(n)  # 100', 'n = 100  # 全局变量\\n\\ndef f(a1, b):\\n    print(a1, b)\\n    n = 200  # 此函数内a, b, n 都为局部变量，只在函数调用是起作用（函数的形参也是局部变量）\\n    print(n)\\n    m = 300\\n\\nf(100, 200)\\nprint(n)\\nprint(a1)  # 错的\\nprint(m)  # 也是错的', 'v = 100\\ndef f1():\\n    v = 200\\n\\n    \\nprint(\"f1内的V = \", v)\\ndef f2():\\n    v = 200\\n    print(\"f2内的V = \", v)\\n\\n\\nf2()\\nprint(\"全局的V = \", v)\\nf1()', 'v = 100\\ndef f1():\\n    v = 200\\n    print(\"f1内的V = \", v)\\n\\n\\ndef f2():\\n    v = 200\\n    print(\"f2内的V = \", v)\\n\\n\\nf1()\\nf2()\\nprint(\"全局的V = \", v)', 'v = 100\\ndef f1():\\n    v = 200\\n    print(\"f1内的V = \", v)\\n\\n\\ndef f2():\\n    v = 300\\n    print(\"f2内的V = \", v)\\n\\n\\nf1()\\nf2()\\nprint(\"全局的V = \", v)', 'v = 100\\ndef f1():\\n    global v  # 声明v为全局作用域的v\\n    v = 200   # 想要此语句对全局变量v进行修改\\n\\n\\nprint(v)    # 100\\nf1()   # 调用\\nprint(v)    # 200', 'v = 100\\ndef f1():\\n    v = 200   # 想要此语句对全局变量v进行修改\\n    global v', 's = \"ABC\"\\nstring = \"hello\"\\ndef f1(string):\\n    global s\\n    s += string\\n\\nprint(s)   # 访问不等于可以改变\\n\\nglobal s   # 警告不建议这么用\\nglobal string   # 错误\\nf1()\\nprint(s)', 's = \"ABC\"\\nstring = \"hello\"\\ndef f1(string):\\n    global s\\n    s += string\\n\\nprint(s)  # 访问不等于可以改变\\n\\nglobal s   # 警告不建议这么用\\nglobal string   # 错误\\nf1()\\nprint(s)', 's = \"ABC\"\\nstring = \"hello\"\\n\\ndef f1(string):\\n    global s\\n    s += string\\n\\nprint(s)  # 访问不等于可以改变\\n\\nglobal s   # 警告不建议这么用\\nglobal string   # 错误\\nf1()\\nprint(s)', 's = \"ABC\"\\nstring = \"hello\"\\n\\ndef f1(string):\\n    global s\\n    s += string\\n\\nprint(s)  # 访问不等于可以改变\\n\\n# global s   # 警告不建议这么用\\n# global string   # 错误\\nf1()\\nprint(s)', 's = \"ABC\"\\nstring = \"hello\"\\n\\ndef f1(string):\\n    global s\\n    s += string\\n\\nprint(s)  # 访问不等于可以改变\\n\\n# global s   # 警告不建议这么用\\n# global string   # 错误\\nf1(string)\\nprint(s)', 's = \"ABC\"\\nstring = \"hello\"\\n\\ndef f1(string):\\n    global s\\n    s += string\\n\\nprint(s)  # 访问不等于可以改变\\n\\nglobal s   # 警告不建议这么用\\nglobal string   # 错误\\nf1(string)\\nprint(s)', 's = \"ABC\"\\nstring = \"hello\"\\n\\ndef f1(string):\\n    global s\\n    s += string\\n\\nprint(s)  # 访问不等于可以改变\\nglobal s   # 警告不建议这么用\\nglobal string   # 错误\\nf1(string)\\nprint(s)', 'v = 100\\n\\ndef f1():\\n    v = 200\\n    def f2()\\n        v = 400\\n        print(v)\\n        # global v\\n        # v = 300   # 此时修改全局的v\\n        nonlocal v\\n        v = 300   # 此时修改外部嵌套函数的作用域中的v\\n        print(v)\\n    f2()\\n    print(\"f1的v值：\", v)\\n\\nf1()\\nprint(\"全局的v：\", v)', 'v = 100\\n\\ndef f1():\\n    v = 200\\n    def f2():\\n        v = 400\\n        print(v)\\n        # global v\\n        # v = 300   # 此时修改全局的v\\n        nonlocal v\\n        v = 300   # 此时修改外部嵌套函数的作用域中的v\\n        print(v)\\n    f2()\\n    print(\"f1的v值：\", v)\\n\\nf1()\\nprint(\"全局的v：\", v)', 'v = 100\\n\\ndef f1():\\n    v = 200\\n    def f2():\\n        # global v\\n        # v = 300   # 此时修改全局的v\\n        print(v)\\n        nonlocal v\\n        v = 300   # 此时修改外部嵌套函数的作用域中的v\\n        print(v)\\n    f2()\\n    print(\"f1的v值：\", v)\\n\\nf1()\\nprint(\"全局的v：\", v)', 'v = 100\\n\\ndef f1():\\n    v = 200\\n    def f2():\\n        # global v\\n        # v = 300   # 此时修改全局的v\\n        nonlocal v\\n        v = 300   # 此时修改外部嵌套函数的作用域中的v\\n        print(v)\\n    f2()\\n    print(\"f1的v值：\", v)\\n\\nf1()\\nprint(\"全局的v：\", v)', 'v = 100\\n\\ndef f1():\\n    v1 = 200\\n    def f2():\\n        global v\\n        v = 300   # 此时修改全局的v\\n\\n        nonlocal v1\\n        v1 = 400   # 此时修改外部嵌套函数的作用域中的v\\n        print(v1)\\n    f2()\\n    print(\"f1的v值：\", v)\\n\\nf1()\\nprint(\"全局的v：\", v)', 'v = 100\\n\\ndef f1():\\n    v1 = 200\\n    def f2():\\n        global v\\n        v = 300   # 此时修改全局的v\\n\\n        nonlocal v1\\n        v1 = 400   # 此时修改外部嵌套函数的作用域中的v\\n        print(\"f2的v值：\", v1)\\n    f2()\\n    print(\"f1的v值：\", v)\\n\\nf1()\\nprint(\"全局的v：\", v)', 'v = 100\\n\\ndef f1():\\n    v1 = 200\\n    def f2():\\n        global v\\n        v = 300   # 此时修改全局的v\\n\\n        nonlocal v1\\n        v1 = 400   # 此时修改外部嵌套函数的作用域中的v\\n        print(\"f2的v值：\", v1)\\n    f2()\\n    print(\"f1的v值：\", v)\\n\\nprint(\"全局的v：\", v)\\nf1()\\nprint(\"全局的v：\", v)', 'def myadd(x, y)\\n    return x + y\\n\\nmyadd1 = lambda x, y : x + y\\nprint(\"20+30 = \", myadd(20, l30))\\nprint(\"3.1+4.2 = \", myadd1(3.1, 4.2))', 'def myadd(x, y):\\n    return x + y\\n\\nmyadd1 = lambda x, y : x + y\\nprint(\"20+30 = \", myadd(20, l30))\\nprint(\"3.1+4.2 = \", myadd1(3.1, 4.2))', 'def myadd(x, y):\\n    return x + y\\n\\nmyadd1 = lambda x, y : x + y\\nprint(\"20+30 = \", myadd(20, 30))\\nprint(\"3.1+4.2 = \", myadd1(3.1, 4.2))', 'x = int(input(\"请输入x:\"))\\ny = int(input(\"请输入y:\"))\\nprint(lambda x, y: x**2 % y)', 'x = int(input(\"请输入x:\"))\\ny = int(input(\"请输入y:\"))\\nz = lambda x, y: x**2 % y\\nprint(z(x, y))', 'x = int(input(\"请输入x:\"))\\ny = int(input(\"请输入y:\"))\\nz = lambda x, y: x**2 % y\\nprint(z(x, y))', 'a = 1\\nb = 2\\nc = 3\\n\\ndef fn(c, d):\\n    e = 300\\n    print(\"locals返回：\", locals())\\n    print(\"globals返回：\", globals())\\n    print(\"全局的c：\", globals()[\\'c\\'])\\n    print(\"局部的c：\", locals()[\\'c\\'])\\n\\nfn(100, 200)', 'a = 1\\nb = 2\\nc = 3\\n\\ndef fn(c, d):\\n    e = 300\\n    print(\"locals返回：\", locals())\\n    print(\"globals返回：\", globals())\\n    print(\"全局的c：\", globals()[\\'c\\'])\\n    print(\"局部的c：\", locals()[\\'c\\'])\\n\\nfn(100, 200)'], '_oh': {}, '_dh': ['/Users/zyz/work/py_learn/01_python3'], 'In': ['', '# 局部变量和全局变量创建和销毁实例：\\ndef myadd(x, y):\\n    m = x + y\\n    return m\\n\\nx = 100\\ny = 200\\nz = myadd(x, y)\\na = 10\\nb = 20\\nz = myadd(a, b)', '# 局部变量和全局变量创建和销毁实例：\\ndef myadd(x, y):\\n    m = x + y\\n    return m\\n\\nx = 100\\ny = 200\\nz = myadd(x, y)\\nprint(z)\\na = 10\\nb = 20\\nz = myadd(a, b)\\nprint(z)', '# 局部变量和全局变量创建和销毁实例：\\ndef myadd(x, y):\\n    m = x + y\\n    return m\\n\\nx = 100\\ny = 200\\nz = myadd(x, y)\\nprint(x, y, z)\\na = 10\\nb = 20\\nz = myadd(a, b)\\nprint(x, y, z)', '# 函数内部创建函数，并将其返回\\ndef fn_outter():\\n    print(\"fn_outter被调用\")\\n\\n    def fn_inner():\\n        print(\"fn_inner被调用\")\\n\\n    fn_inner()  # 可以调用内部的fn_inner函数\\n\\n\\nfn_outter()\\nfn_inner()  # 调用是错误的，因为没有fn_inner这个变量名', '# 思考，能否在此处调用fn_inner?\\ndef fn_outter():\\n    print(\"fn_outter被调用\")\\n\\n    def fn_inner():\\n        print(\"fn_inner被调用\")\\n\\n    return fn_inner\\n\\n\\nf = fn_outter()   # f绑定fn_inner这个函数\\nf()   # 调用', 'n = 100  # 全局变量\\n\\ndef f(a, b):\\n    print(a, b)\\n    n = 200  # 此函数内a, b, n 都为局部变量，只在函数调用是起作用（函数的形参也是局部变量）\\n    print(n)\\n    m = 300\\n\\nf(100, 200)\\nprint(a)    # 错的\\nprint(m)    # 也是错的\\nprint(n)    # 100', 'n = 100  # 全局变量\\n\\ndef f(a1, b):\\n    print(a, b)\\n    n = 200  # 此函数内a, b, n 都为局部变量，只在函数调用是起作用（函数的形参也是局部变量）\\n    print(n)\\n    m = 300\\n\\nf(100, 200)\\nprint(a1)    # 错的\\nprint(m)    # 也是错的\\nprint(n)    # 100', 'n = 100  # 全局变量\\n\\ndef f(a1, b):\\n    print(a1, b)\\n    n = 200  # 此函数内a, b, n 都为局部变量，只在函数调用是起作用（函数的形参也是局部变量）\\n    print(n)\\n    m = 300\\n\\nf(100, 200)\\nprint(a1)    # 错的\\nprint(m)    # 也是错的\\nprint(n)    # 100', 'n = 100  # 全局变量\\n\\ndef f(a1, b):\\n    print(a1, b)\\n    n = 200  # 此函数内a, b, n 都为局部变量，只在函数调用是起作用（函数的形参也是局部变量）\\n    print(n)\\n    m = 300\\n\\nf(100, 200)\\nprint(a1)  # 错的\\nprint(m)  # 也是错的\\nprint(n)  # 100', 'n = 100  # 全局变量\\n\\ndef f(a1, b):\\n    print(a1, b)\\n    n = 200  # 此函数内a, b, n 都为局部变量，只在函数调用是起作用（函数的形参也是局部变量）\\n    print(n)\\n    m = 300\\n\\nf(100, 200)\\nprint(n)\\nprint(a1)  # 错的\\nprint(m)  # 也是错的', 'v = 100\\ndef f1():\\n    v = 200\\n\\n    \\nprint(\"f1内的V = \", v)\\ndef f2():\\n    v = 200\\n    print(\"f2内的V = \", v)\\n\\n\\nf2()\\nprint(\"全局的V = \", v)\\nf1()', 'v = 100\\ndef f1():\\n    v = 200\\n    print(\"f1内的V = \", v)\\n\\n\\ndef f2():\\n    v = 200\\n    print(\"f2内的V = \", v)\\n\\n\\nf1()\\nf2()\\nprint(\"全局的V = \", v)', 'v = 100\\ndef f1():\\n    v = 200\\n    print(\"f1内的V = \", v)\\n\\n\\ndef f2():\\n    v = 300\\n    print(\"f2内的V = \", v)\\n\\n\\nf1()\\nf2()\\nprint(\"全局的V = \", v)', 'v = 100\\ndef f1():\\n    global v  # 声明v为全局作用域的v\\n    v = 200   # 想要此语句对全局变量v进行修改\\n\\n\\nprint(v)    # 100\\nf1()   # 调用\\nprint(v)    # 200', 'v = 100\\ndef f1():\\n    v = 200   # 想要此语句对全局变量v进行修改\\n    global v', 's = \"ABC\"\\nstring = \"hello\"\\ndef f1(string):\\n    global s\\n    s += string\\n\\nprint(s)   # 访问不等于可以改变\\n\\nglobal s   # 警告不建议这么用\\nglobal string   # 错误\\nf1()\\nprint(s)', 's = \"ABC\"\\nstring = \"hello\"\\ndef f1(string):\\n    global s\\n    s += string\\n\\nprint(s)  # 访问不等于可以改变\\n\\nglobal s   # 警告不建议这么用\\nglobal string   # 错误\\nf1()\\nprint(s)', 's = \"ABC\"\\nstring = \"hello\"\\n\\ndef f1(string):\\n    global s\\n    s += string\\n\\nprint(s)  # 访问不等于可以改变\\n\\nglobal s   # 警告不建议这么用\\nglobal string   # 错误\\nf1()\\nprint(s)', 's = \"ABC\"\\nstring = \"hello\"\\n\\ndef f1(string):\\n    global s\\n    s += string\\n\\nprint(s)  # 访问不等于可以改变\\n\\n# global s   # 警告不建议这么用\\n# global string   # 错误\\nf1()\\nprint(s)', 's = \"ABC\"\\nstring = \"hello\"\\n\\ndef f1(string):\\n    global s\\n    s += string\\n\\nprint(s)  # 访问不等于可以改变\\n\\n# global s   # 警告不建议这么用\\n# global string   # 错误\\nf1(string)\\nprint(s)', 's = \"ABC\"\\nstring = \"hello\"\\n\\ndef f1(string):\\n    global s\\n    s += string\\n\\nprint(s)  # 访问不等于可以改变\\n\\nglobal s   # 警告不建议这么用\\nglobal string   # 错误\\nf1(string)\\nprint(s)', 's = \"ABC\"\\nstring = \"hello\"\\n\\ndef f1(string):\\n    global s\\n    s += string\\n\\nprint(s)  # 访问不等于可以改变\\nglobal s   # 警告不建议这么用\\nglobal string   # 错误\\nf1(string)\\nprint(s)', 'v = 100\\n\\ndef f1():\\n    v = 200\\n    def f2()\\n        v = 400\\n        print(v)\\n        # global v\\n        # v = 300   # 此时修改全局的v\\n        nonlocal v\\n        v = 300   # 此时修改外部嵌套函数的作用域中的v\\n        print(v)\\n    f2()\\n    print(\"f1的v值：\", v)\\n\\nf1()\\nprint(\"全局的v：\", v)', 'v = 100\\n\\ndef f1():\\n    v = 200\\n    def f2():\\n        v = 400\\n        print(v)\\n        # global v\\n        # v = 300   # 此时修改全局的v\\n        nonlocal v\\n        v = 300   # 此时修改外部嵌套函数的作用域中的v\\n        print(v)\\n    f2()\\n    print(\"f1的v值：\", v)\\n\\nf1()\\nprint(\"全局的v：\", v)', 'v = 100\\n\\ndef f1():\\n    v = 200\\n    def f2():\\n        # global v\\n        # v = 300   # 此时修改全局的v\\n        print(v)\\n        nonlocal v\\n        v = 300   # 此时修改外部嵌套函数的作用域中的v\\n        print(v)\\n    f2()\\n    print(\"f1的v值：\", v)\\n\\nf1()\\nprint(\"全局的v：\", v)', 'v = 100\\n\\ndef f1():\\n    v = 200\\n    def f2():\\n        # global v\\n        # v = 300   # 此时修改全局的v\\n        nonlocal v\\n        v = 300   # 此时修改外部嵌套函数的作用域中的v\\n        print(v)\\n    f2()\\n    print(\"f1的v值：\", v)\\n\\nf1()\\nprint(\"全局的v：\", v)', 'v = 100\\n\\ndef f1():\\n    v1 = 200\\n    def f2():\\n        global v\\n        v = 300   # 此时修改全局的v\\n\\n        nonlocal v1\\n        v1 = 400   # 此时修改外部嵌套函数的作用域中的v\\n        print(v1)\\n    f2()\\n    print(\"f1的v值：\", v)\\n\\nf1()\\nprint(\"全局的v：\", v)', 'v = 100\\n\\ndef f1():\\n    v1 = 200\\n    def f2():\\n        global v\\n        v = 300   # 此时修改全局的v\\n\\n        nonlocal v1\\n        v1 = 400   # 此时修改外部嵌套函数的作用域中的v\\n        print(\"f2的v值：\", v1)\\n    f2()\\n    print(\"f1的v值：\", v)\\n\\nf1()\\nprint(\"全局的v：\", v)', 'v = 100\\n\\ndef f1():\\n    v1 = 200\\n    def f2():\\n        global v\\n        v = 300   # 此时修改全局的v\\n\\n        nonlocal v1\\n        v1 = 400   # 此时修改外部嵌套函数的作用域中的v\\n        print(\"f2的v值：\", v1)\\n    f2()\\n    print(\"f1的v值：\", v)\\n\\nprint(\"全局的v：\", v)\\nf1()\\nprint(\"全局的v：\", v)', 'def myadd(x, y)\\n    return x + y\\n\\nmyadd1 = lambda x, y : x + y\\nprint(\"20+30 = \", myadd(20, l30))\\nprint(\"3.1+4.2 = \", myadd1(3.1, 4.2))', 'def myadd(x, y):\\n    return x + y\\n\\nmyadd1 = lambda x, y : x + y\\nprint(\"20+30 = \", myadd(20, l30))\\nprint(\"3.1+4.2 = \", myadd1(3.1, 4.2))', 'def myadd(x, y):\\n    return x + y\\n\\nmyadd1 = lambda x, y : x + y\\nprint(\"20+30 = \", myadd(20, 30))\\nprint(\"3.1+4.2 = \", myadd1(3.1, 4.2))', 'x = int(input(\"请输入x:\"))\\ny = int(input(\"请输入y:\"))\\nprint(lambda x, y: x**2 % y)', 'x = int(input(\"请输入x:\"))\\ny = int(input(\"请输入y:\"))\\nz = lambda x, y: x**2 % y\\nprint(z(x, y))', 'x = int(input(\"请输入x:\"))\\ny = int(input(\"请输入y:\"))\\nz = lambda x, y: x**2 % y\\nprint(z(x, y))', 'a = 1\\nb = 2\\nc = 3\\n\\ndef fn(c, d):\\n    e = 300\\n    print(\"locals返回：\", locals())\\n    print(\"globals返回：\", globals())\\n    print(\"全局的c：\", globals()[\\'c\\'])\\n    print(\"局部的c：\", locals()[\\'c\\'])\\n\\nfn(100, 200)', 'a = 1\\nb = 2\\nc = 3\\n\\ndef fn(c, d):\\n    e = 300\\n    print(\"locals返回：\", locals())\\n    print(\"globals返回：\", globals())\\n    print(\"全局的c：\", globals()[\\'c\\'])\\n    print(\"局部的c：\", locals()[\\'c\\'])\\n\\nfn(100, 200)'], 'Out': {}, 'get_ipython': <bound method InteractiveShell.get_ipython of <ipykernel.zmqshell.ZMQInteractiveShell object at 0x10bb51278>>, 'exit': <IPython.core.autocall.ZMQExitAutocall object at 0x10bb84da0>, 'quit': <IPython.core.autocall.ZMQExitAutocall object at 0x10bb84da0>, '_': '', '__': '', '___': '', '_i': 'a = 1\\nb = 2\\nc = 3\\n\\ndef fn(c, d):\\n    e = 300\\n    print(\"locals返回：\", locals())\\n    print(\"globals返回：\", globals())\\n    print(\"全局的c：\", globals()[\\'c\\'])\\n    print(\"局部的c：\", locals()[\\'c\\'])\\n\\nfn(100, 200)', '_ii': 'x = int(input(\"请输入x:\"))\\ny = int(input(\"请输入y:\"))\\nz = lambda x, y: x**2 % y\\nprint(z(x, y))', '_iii': 'x = int(input(\"请输入x:\"))\\ny = int(input(\"请输入y:\"))\\nz = lambda x, y: x**2 % y\\nprint(z(x, y))', '_i1': '# 局部变量和全局变量创建和销毁实例：\\ndef myadd(x, y):\\n    m = x + y\\n    return m\\n\\nx = 100\\ny = 200\\nz = myadd(x, y)\\na = 10\\nb = 20\\nz = myadd(a, b)', 'myadd': <function myadd at 0x10e80d620>, 'x': 2, 'y': 3, 'z': <function <lambda> at 0x10bca8950>, 'a': 1, 'b': 2, '_i2': '# 局部变量和全局变量创建和销毁实例：\\ndef myadd(x, y):\\n    m = x + y\\n    return m\\n\\nx = 100\\ny = 200\\nz = myadd(x, y)\\nprint(z)\\na = 10\\nb = 20\\nz = myadd(a, b)\\nprint(z)', '_i3': '# 局部变量和全局变量创建和销毁实例：\\ndef myadd(x, y):\\n    m = x + y\\n    return m\\n\\nx = 100\\ny = 200\\nz = myadd(x, y)\\nprint(x, y, z)\\na = 10\\nb = 20\\nz = myadd(a, b)\\nprint(x, y, z)', '_i4': '# 函数内部创建函数，并将其返回\\ndef fn_outter():\\n    print(\"fn_outter被调用\")\\n\\n    def fn_inner():\\n        print(\"fn_inner被调用\")\\n\\n    fn_inner()  # 可以调用内部的fn_inner函数\\n\\n\\nfn_outter()\\nfn_inner()  # 调用是错误的，因为没有fn_inner这个变量名', 'fn_outter': <function fn_outter at 0x10bd8fae8>, '_i5': '# 思考，能否在此处调用fn_inner?\\ndef fn_outter():\\n    print(\"fn_outter被调用\")\\n\\n    def fn_inner():\\n        print(\"fn_inner被调用\")\\n\\n    return fn_inner\\n\\n\\nf = fn_outter()   # f绑定fn_inner这个函数\\nf()   # 调用', 'f': <function f at 0x10bd65e18>, '_i6': 'n = 100  # 全局变量\\n\\ndef f(a, b):\\n    print(a, b)\\n    n = 200  # 此函数内a, b, n 都为局部变量，只在函数调用是起作用（函数的形参也是局部变量）\\n    print(n)\\n    m = 300\\n\\nf(100, 200)\\nprint(a)    # 错的\\nprint(m)    # 也是错的\\nprint(n)    # 100', 'n': 100, '_i7': 'n = 100  # 全局变量\\n\\ndef f(a1, b):\\n    print(a, b)\\n    n = 200  # 此函数内a, b, n 都为局部变量，只在函数调用是起作用（函数的形参也是局部变量）\\n    print(n)\\n    m = 300\\n\\nf(100, 200)\\nprint(a1)    # 错的\\nprint(m)    # 也是错的\\nprint(n)    # 100', '_i8': 'n = 100  # 全局变量\\n\\ndef f(a1, b):\\n    print(a1, b)\\n    n = 200  # 此函数内a, b, n 都为局部变量，只在函数调用是起作用（函数的形参也是局部变量）\\n    print(n)\\n    m = 300\\n\\nf(100, 200)\\nprint(a1)    # 错的\\nprint(m)    # 也是错的\\nprint(n)    # 100', '_i9': 'n = 100  # 全局变量\\n\\ndef f(a1, b):\\n    print(a1, b)\\n    n = 200  # 此函数内a, b, n 都为局部变量，只在函数调用是起作用（函数的形参也是局部变量）\\n    print(n)\\n    m = 300\\n\\nf(100, 200)\\nprint(a1)  # 错的\\nprint(m)  # 也是错的\\nprint(n)  # 100', '_i10': 'n = 100  # 全局变量\\n\\ndef f(a1, b):\\n    print(a1, b)\\n    n = 200  # 此函数内a, b, n 都为局部变量，只在函数调用是起作用（函数的形参也是局部变量）\\n    print(n)\\n    m = 300\\n\\nf(100, 200)\\nprint(n)\\nprint(a1)  # 错的\\nprint(m)  # 也是错的', '_i11': 'v = 100\\ndef f1():\\n    v = 200\\n\\n    \\nprint(\"f1内的V = \", v)\\ndef f2():\\n    v = 200\\n    print(\"f2内的V = \", v)\\n\\n\\nf2()\\nprint(\"全局的V = \", v)\\nf1()', 'v': 300, 'f1': <function f1 at 0x10ec791e0>, 'f2': <function f2 at 0x10bd74598>, '_i12': 'v = 100\\ndef f1():\\n    v = 200\\n    print(\"f1内的V = \", v)\\n\\n\\ndef f2():\\n    v = 200\\n    print(\"f2内的V = \", v)\\n\\n\\nf1()\\nf2()\\nprint(\"全局的V = \", v)', '_i13': 'v = 100\\ndef f1():\\n    v = 200\\n    print(\"f1内的V = \", v)\\n\\n\\ndef f2():\\n    v = 300\\n    print(\"f2内的V = \", v)\\n\\n\\nf1()\\nf2()\\nprint(\"全局的V = \", v)', '_i14': 'v = 100\\ndef f1():\\n    global v  # 声明v为全局作用域的v\\n    v = 200   # 想要此语句对全局变量v进行修改\\n\\n\\nprint(v)    # 100\\nf1()   # 调用\\nprint(v)    # 200', '_i15': 'v = 100\\ndef f1():\\n    v = 200   # 想要此语句对全局变量v进行修改\\n    global v', '_i16': 's = \"ABC\"\\nstring = \"hello\"\\ndef f1(string):\\n    global s\\n    s += string\\n\\nprint(s)   # 访问不等于可以改变\\n\\nglobal s   # 警告不建议这么用\\nglobal string   # 错误\\nf1()\\nprint(s)', '_i17': 's = \"ABC\"\\nstring = \"hello\"\\ndef f1(string):\\n    global s\\n    s += string\\n\\nprint(s)  # 访问不等于可以改变\\n\\nglobal s   # 警告不建议这么用\\nglobal string   # 错误\\nf1()\\nprint(s)', '_i18': 's = \"ABC\"\\nstring = \"hello\"\\n\\ndef f1(string):\\n    global s\\n    s += string\\n\\nprint(s)  # 访问不等于可以改变\\n\\nglobal s   # 警告不建议这么用\\nglobal string   # 错误\\nf1()\\nprint(s)', '_i19': 's = \"ABC\"\\nstring = \"hello\"\\n\\ndef f1(string):\\n    global s\\n    s += string\\n\\nprint(s)  # 访问不等于可以改变\\n\\n# global s   # 警告不建议这么用\\n# global string   # 错误\\nf1()\\nprint(s)', 's': 'ABChello', 'string': 'hello', '_i20': 's = \"ABC\"\\nstring = \"hello\"\\n\\ndef f1(string):\\n    global s\\n    s += string\\n\\nprint(s)  # 访问不等于可以改变\\n\\n# global s   # 警告不建议这么用\\n# global string   # 错误\\nf1(string)\\nprint(s)', '_i21': 's = \"ABC\"\\nstring = \"hello\"\\n\\ndef f1(string):\\n    global s\\n    s += string\\n\\nprint(s)  # 访问不等于可以改变\\n\\nglobal s   # 警告不建议这么用\\nglobal string   # 错误\\nf1(string)\\nprint(s)', '_i22': 's = \"ABC\"\\nstring = \"hello\"\\n\\ndef f1(string):\\n    global s\\n    s += string\\n\\nprint(s)  # 访问不等于可以改变\\nglobal s   # 警告不建议这么用\\nglobal string   # 错误\\nf1(string)\\nprint(s)', '_i23': 'v = 100\\n\\ndef f1():\\n    v = 200\\n    def f2()\\n        v = 400\\n        print(v)\\n        # global v\\n        # v = 300   # 此时修改全局的v\\n        nonlocal v\\n        v = 300   # 此时修改外部嵌套函数的作用域中的v\\n        print(v)\\n    f2()\\n    print(\"f1的v值：\", v)\\n\\nf1()\\nprint(\"全局的v：\", v)', '_i24': 'v = 100\\n\\ndef f1():\\n    v = 200\\n    def f2():\\n        v = 400\\n        print(v)\\n        # global v\\n        # v = 300   # 此时修改全局的v\\n        nonlocal v\\n        v = 300   # 此时修改外部嵌套函数的作用域中的v\\n        print(v)\\n    f2()\\n    print(\"f1的v值：\", v)\\n\\nf1()\\nprint(\"全局的v：\", v)', '_i25': 'v = 100\\n\\ndef f1():\\n    v = 200\\n    def f2():\\n        # global v\\n        # v = 300   # 此时修改全局的v\\n        print(v)\\n        nonlocal v\\n        v = 300   # 此时修改外部嵌套函数的作用域中的v\\n        print(v)\\n    f2()\\n    print(\"f1的v值：\", v)\\n\\nf1()\\nprint(\"全局的v：\", v)', '_i26': 'v = 100\\n\\ndef f1():\\n    v = 200\\n    def f2():\\n        # global v\\n        # v = 300   # 此时修改全局的v\\n        nonlocal v\\n        v = 300   # 此时修改外部嵌套函数的作用域中的v\\n        print(v)\\n    f2()\\n    print(\"f1的v值：\", v)\\n\\nf1()\\nprint(\"全局的v：\", v)', '_i27': 'v = 100\\n\\ndef f1():\\n    v1 = 200\\n    def f2():\\n        global v\\n        v = 300   # 此时修改全局的v\\n\\n        nonlocal v1\\n        v1 = 400   # 此时修改外部嵌套函数的作用域中的v\\n        print(v1)\\n    f2()\\n    print(\"f1的v值：\", v)\\n\\nf1()\\nprint(\"全局的v：\", v)', '_i28': 'v = 100\\n\\ndef f1():\\n    v1 = 200\\n    def f2():\\n        global v\\n        v = 300   # 此时修改全局的v\\n\\n        nonlocal v1\\n        v1 = 400   # 此时修改外部嵌套函数的作用域中的v\\n        print(\"f2的v值：\", v1)\\n    f2()\\n    print(\"f1的v值：\", v)\\n\\nf1()\\nprint(\"全局的v：\", v)', '_i29': 'v = 100\\n\\ndef f1():\\n    v1 = 200\\n    def f2():\\n        global v\\n        v = 300   # 此时修改全局的v\\n\\n        nonlocal v1\\n        v1 = 400   # 此时修改外部嵌套函数的作用域中的v\\n        print(\"f2的v值：\", v1)\\n    f2()\\n    print(\"f1的v值：\", v)\\n\\nprint(\"全局的v：\", v)\\nf1()\\nprint(\"全局的v：\", v)', '_i30': 'def myadd(x, y)\\n    return x + y\\n\\nmyadd1 = lambda x, y : x + y\\nprint(\"20+30 = \", myadd(20, l30))\\nprint(\"3.1+4.2 = \", myadd1(3.1, 4.2))', '_i31': 'def myadd(x, y):\\n    return x + y\\n\\nmyadd1 = lambda x, y : x + y\\nprint(\"20+30 = \", myadd(20, l30))\\nprint(\"3.1+4.2 = \", myadd1(3.1, 4.2))', 'myadd1': <function <lambda> at 0x10e80d268>, '_i32': 'def myadd(x, y):\\n    return x + y\\n\\nmyadd1 = lambda x, y : x + y\\nprint(\"20+30 = \", myadd(20, 30))\\nprint(\"3.1+4.2 = \", myadd1(3.1, 4.2))', '_i33': 'x = int(input(\"请输入x:\"))\\ny = int(input(\"请输入y:\"))\\nprint(lambda x, y: x**2 % y)', '_i34': 'x = int(input(\"请输入x:\"))\\ny = int(input(\"请输入y:\"))\\nz = lambda x, y: x**2 % y\\nprint(z(x, y))', '_i35': 'x = int(input(\"请输入x:\"))\\ny = int(input(\"请输入y:\"))\\nz = lambda x, y: x**2 % y\\nprint(z(x, y))', '_i36': 'a = 1\\nb = 2\\nc = 3\\n\\ndef fn(c, d):\\n    e = 300\\n    print(\"locals返回：\", locals())\\n    print(\"globals返回：\", globals())\\n    print(\"全局的c：\", globals()[\\'c\\'])\\n    print(\"局部的c：\", locals()[\\'c\\'])\\n\\nfn(100, 200)', 'c': 3, 'fn': <function fn at 0x10e80dbf8>, '_i37': 'a = 1\\nb = 2\\nc = 3\\n\\ndef fn(c, d):\\n    e = 300\\n    print(\"locals返回：\", locals())\\n    print(\"globals返回：\", globals())\\n    print(\"全局的c：\", globals()[\\'c\\'])\\n    print(\"局部的c：\", locals()[\\'c\\'])\\n\\nfn(100, 200)'}\n",
      "全局的c： 3\n",
      "局部的c： 100\n"
     ]
    }
   ],
   "source": [
    "a = 1\n",
    "b = 2\n",
    "c = 3\n",
    "\n",
    "def fn(c, d):\n",
    "    e = 300\n",
    "    print(\"locals返回：\", locals())\n",
    "    print(\"globals返回：\", globals())\n",
    "    print(\"全局的c：\", globals()['c'])\n",
    "    print(\"局部的c：\", locals()['c'])\n",
    "\n",
    "fn(100, 200)"
   ]
  },
  {
   "cell_type": "markdown",
   "metadata": {},
   "source": [
    "- eval() 函数\n",
    "\n",
    "```\n",
    "作用：把一个字符串当成一个表达式来执行，返回表达式执行后的结果\n",
    "格式：eval(source, globals = None, local = None)\n",
    "```"
   ]
  },
  {
   "cell_type": "code",
   "execution_count": 40,
   "metadata": {},
   "outputs": [
    {
     "name": "stdout",
     "output_type": "stream",
     "text": [
      "300\n",
      "30\n",
      "3\n",
      "1020\n"
     ]
    }
   ],
   "source": [
    "x = 100\n",
    "y = 200\n",
    "s = \"x+y\"   # s为字符串\n",
    "v = eval(s)   # 把s绑定的字符串当成程序语句来执行\n",
    "print(v)\n",
    "\n",
    "gs = {\"x\":10, \"y\":20}\n",
    "v = eval(\"x+y\", gs)\n",
    "print(v)\n",
    "\n",
    "ls = {\"x\":1, \"y\":2}\n",
    "v = eval(\"x+y\", gs, ls)\n",
    "print(v)\n",
    "\n",
    "ls = {\"x\":1000}\n",
    "v = eval(\"x+y\", gs, ls)\n",
    "print(v)"
   ]
  },
  {
   "cell_type": "markdown",
   "metadata": {},
   "source": [
    "- exec() 函数\n",
    "\n",
    "```\n",
    "作用：把一个字符串当成程序来执行\n",
    "格式：exec(source, globals = None, local = None)\n",
    "```"
   ]
  },
  {
   "cell_type": "code",
   "execution_count": 44,
   "metadata": {},
   "outputs": [
    {
     "name": "stdout",
     "output_type": "stream",
     "text": [
      "hello 100 200 300\n",
      "hello 100 200 300\n"
     ]
    }
   ],
   "source": [
    "x = 100\n",
    "y = 200\n",
    "s = \"z = x + y; print('hello', x, y, z)\"\n",
    "exec(s)\n",
    "\n",
    "# 以上两句等同于此句的作用\n",
    "z = x + y\n",
    "print(\"hello\", x, y, z)"
   ]
  },
  {
   "cell_type": "markdown",
   "metadata": {},
   "source": [
    "> 注：globals参数和locals参数作用相同，用来设置执行的作用域"
   ]
  },
  {
   "cell_type": "code",
   "execution_count": null,
   "metadata": {},
   "outputs": [],
   "source": []
  }
 ],
 "metadata": {
  "kernelspec": {
   "display_name": "Python 3",
   "language": "python",
   "name": "python3"
  },
  "language_info": {
   "codemirror_mode": {
    "name": "ipython",
    "version": 3
   },
   "file_extension": ".py",
   "mimetype": "text/x-python",
   "name": "python",
   "nbconvert_exporter": "python",
   "pygments_lexer": "ipython3",
   "version": "3.9.2"
  }
 },
 "nbformat": 4,
 "nbformat_minor": 4
}
