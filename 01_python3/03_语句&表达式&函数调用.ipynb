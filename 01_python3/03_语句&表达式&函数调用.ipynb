{
 "cells": [
  {
   "cell_type": "markdown",
   "metadata": {},
   "source": [
    "# 语句&表达式&函数调用\n",
    "\n",
    "## 1. 语句：\n",
    "\n",
    "语句是由一些表达式组成的，通常一条语句可以独立完成一部分事情并形成结果\n",
    "\n",
    "> 注：虽然多条语句写在一行内可以用分号 ; 分开，但是建议一条语句写在一行内\n",
    "\n",
    "### 1. 赋值语句\n",
    "\n",
    "语法：\n",
    "```\n",
    "变量名 赋值运算符 表达式\n",
    "```\n",
    "\n",
    "作用：\n",
    "```\n",
    "1、没有此变量时，创建一个变量，同时将变量绑定（bound）到表达式返回的对象上\n",
    "2、变量存在时，改变此变量的关联的对象\n",
    "3、用变量访问此变量关联的对象\n",
    "```\n",
    "\n",
    "> 说明：一个变量只能绑定在一个对象上，两个变量可以同时绑定在一个对象，引用计数\n",
    "\n",
    "序列赋值的语法：\n",
    "```\n",
    "变量名1, 变量名2, ... = 对象1, 对象2, ...\n",
    "变量名1, 变量名2, ... = 序列\n",
    "```"
   ]
  },
  {
   "cell_type": "code",
   "execution_count": 1,
   "metadata": {},
   "outputs": [
    {
     "name": "stdout",
     "output_type": "stream",
     "text": [
      "100 200\n"
     ]
    }
   ],
   "source": [
    "a, b = 100, 200\n",
    "print (a, b)"
   ]
  },
  {
   "cell_type": "code",
   "execution_count": 2,
   "metadata": {},
   "outputs": [
    {
     "name": "stdout",
     "output_type": "stream",
     "text": [
      "100 200\n"
     ]
    }
   ],
   "source": [
    "a, b = [100, 200]\n",
    "print(a, b)"
   ]
  },
  {
   "cell_type": "markdown",
   "metadata": {},
   "source": [
    "> 注：变量名于序列个数必须严格一直\n",
    "\n",
    "连续赋值\n",
    "```\n",
    "或 变量1， 变量2，。。。= 对象\n",
    "```"
   ]
  },
  {
   "cell_type": "code",
   "execution_count": 3,
   "metadata": {},
   "outputs": [
    {
     "name": "stdout",
     "output_type": "stream",
     "text": [
      "100 100 100\n"
     ]
    }
   ],
   "source": [
    "a = b = c = 100\n",
    "print(a, b, c)"
   ]
  },
  {
   "cell_type": "code",
   "execution_count": 4,
   "metadata": {},
   "outputs": [
    {
     "name": "stdout",
     "output_type": "stream",
     "text": [
      "2 1\n"
     ]
    }
   ],
   "source": [
    "x, y, z = 1, 2, 3\n",
    "x, y = y, x    #交换两个变量的关联关系\n",
    "print(x, y)"
   ]
  },
  {
   "cell_type": "markdown",
   "metadata": {},
   "source": [
    "在交互模式下，查看当前作用域的变量："
   ]
  },
  {
   "cell_type": "code",
   "execution_count": 5,
   "metadata": {},
   "outputs": [
    {
     "name": "stdout",
     "output_type": "stream",
     "text": [
      "Help on module __main__:\n",
      "\n",
      "NAME\n",
      "    __main__ - Automatically created module for IPython interactive environment\n",
      "\n",
      "DATA\n",
      "    In = ['', 'a, b = 100, 200\\nprint (a, b)', 'a, b = [100, 200]\\nprint(a...\n",
      "    Out = {}\n",
      "    __ = ''\n",
      "    ___ = ''\n",
      "    a = 100\n",
      "    b = 100\n",
      "    c = 100\n",
      "    exit = <IPython.core.autocall.ZMQExitAutocall object>\n",
      "    quit = <IPython.core.autocall.ZMQExitAutocall object>\n",
      "    x = 2\n",
      "    y = 1\n",
      "    z = 3\n",
      "\n",
      "FILE\n",
      "    (built-in)\n",
      "\n",
      "\n"
     ]
    }
   ],
   "source": [
    "help(\"__main__\")"
   ]
  },
  {
   "cell_type": "markdown",
   "metadata": {},
   "source": [
    "### 2. del 语句\n",
    "\n",
    "> 用于删除单个或多个变量，同时解除与对象的关联关系，如果可能，则释放对象\n",
    "\n",
    "语法：\n",
    "```\n",
    "del 变量名1, 变量名2, ...\n",
    "```"
   ]
  },
  {
   "cell_type": "code",
   "execution_count": 6,
   "metadata": {},
   "outputs": [
    {
     "name": "stdout",
     "output_type": "stream",
     "text": [
      "3 10000\n"
     ]
    },
    {
     "ename": "NameError",
     "evalue": "name 'b' is not defined",
     "output_type": "error",
     "traceback": [
      "\u001b[0;31m---------------------------------------------------------------------------\u001b[0m",
      "\u001b[0;31mNameError\u001b[0m                                 Traceback (most recent call last)",
      "\u001b[0;32m<ipython-input-6-f81e395cb5b7>\u001b[0m in \u001b[0;36m<module>\u001b[0;34m\u001b[0m\n\u001b[1;32m      3\u001b[0m \u001b[0mprint\u001b[0m\u001b[0;34m(\u001b[0m\u001b[0ma\u001b[0m\u001b[0;34m,\u001b[0m \u001b[0mb\u001b[0m\u001b[0;34m)\u001b[0m\u001b[0;34m\u001b[0m\u001b[0;34m\u001b[0m\u001b[0m\n\u001b[1;32m      4\u001b[0m \u001b[0;32mdel\u001b[0m \u001b[0mb\u001b[0m\u001b[0;34m\u001b[0m\u001b[0;34m\u001b[0m\u001b[0m\n\u001b[0;32m----> 5\u001b[0;31m \u001b[0mprint\u001b[0m\u001b[0;34m(\u001b[0m\u001b[0mb\u001b[0m\u001b[0;34m)\u001b[0m \u001b[0;31m# 出错\u001b[0m\u001b[0;34m\u001b[0m\u001b[0;34m\u001b[0m\u001b[0m\n\u001b[0m",
      "\u001b[0;31mNameError\u001b[0m: name 'b' is not defined"
     ]
    }
   ],
   "source": [
    "a = 3\n",
    "b = 10000\n",
    "print(a, b)\n",
    "del b\n",
    "print(b) # 出错"
   ]
  },
  {
   "cell_type": "markdown",
   "metadata": {},
   "source": [
    "### 3. if 语句\n",
    "\n",
    "> 让程序根据条件有选择性的执行某条语句或某些语句\n",
    "\n",
    "语法：\n",
    "```\n",
    "if 真值表达式1：\n",
    "    语句1。。。。\n",
    "elif 真值表达式2：\n",
    "    语句2。。。。\n",
    "elif 真值表达式3：\n",
    "    语句3。。。。\n",
    "else：\n",
    "    语句4\n",
    "```\n",
    "\n",
    "语法说明：\n",
    "```\n",
    "1、elif子句可有0个，1个或多个\n",
    "2、else 子句可有1个，也可以没有，且只能放在最后\n",
    "3、所有的真值表达式自上而下进行判断，只要有一个为真值，则执行内部语句，然后结束当前的if语句的执行\n",
    "```\n",
    "    \n",
    "if 语句的嵌套：\n",
    "```\n",
    "if 语句本身是由多条语句组成的一条复合语句\n",
    "if 语句可以作为语句且套到另一个语句内部\n",
    "```\n",
    "\n",
    "三元运算符\n",
    "\n",
    "语法：\n",
    "```\n",
    "表达式1 if 真值表达式 else 表达式2\n",
    "```\n",
    "\n",
    "语法说明：\n",
    "```\n",
    "根据真值表达式返回的结果不确定是执行表达式1 还是表达式2，并返回结果\n",
    "```"
   ]
  },
  {
   "cell_type": "markdown",
   "metadata": {},
   "source": [
    "`实例：商场促销，满100减20`"
   ]
  },
  {
   "cell_type": "code",
   "execution_count": 3,
   "metadata": {},
   "outputs": [
    {
     "name": "stdout",
     "output_type": "stream",
     "text": [
      "请输入商品的总金额：120\n",
      "100\n"
     ]
    }
   ],
   "source": [
    "s = input(\"请输入商品的总金额：\")\n",
    "money = int(s)\n",
    "pay = money - 20 if money >= 100 else money\n",
    "print(pay)"
   ]
  },
  {
   "cell_type": "markdown",
   "metadata": {},
   "source": [
    "`练习：输入一个数，打印这个数的绝对值（要求用条件表达式，不允许用abs函数）`"
   ]
  },
  {
   "cell_type": "code",
   "execution_count": 2,
   "metadata": {},
   "outputs": [
    {
     "name": "stdout",
     "output_type": "stream",
     "text": [
      "输入一个数：129\n",
      "这个数的绝对值为： 129\n"
     ]
    }
   ],
   "source": [
    "a = int(input(\"输入一个数：\"))\n",
    "b = a if a >= 0 else -a\n",
    "print(\"这个数的绝对值为：\", b)"
   ]
  },
  {
   "cell_type": "markdown",
   "metadata": {},
   "source": [
    "`练习: 给了一个年份，判断是否为闰年并打印每四年一闰，每百年不闰，四百年又闰`"
   ]
  },
  {
   "cell_type": "code",
   "execution_count": 3,
   "metadata": {},
   "outputs": [
    {
     "name": "stdout",
     "output_type": "stream",
     "text": [
      "请输入年份：2020\n",
      "闰年\n"
     ]
    }
   ],
   "source": [
    "year = int(input(\"请输入年份：\"))\n",
    "\n",
    "if (year % 4 == 0 and year % 100 != 0) or (year % 400 == 0):\n",
    "  print(\"闰年\")\n",
    "else:\n",
    "  print(\"非闰年\")"
   ]
  },
  {
   "cell_type": "markdown",
   "metadata": {},
   "source": [
    "### 4. pass 语句：\n",
    "\n",
    "> 通常用来填充语法空白, pass 又名空语句\n",
    "\n",
    "语法：\n",
    "```\n",
    "pass\n",
    "```"
   ]
  },
  {
   "cell_type": "markdown",
   "metadata": {},
   "source": [
    "`实例：判断一个学生的成绩，如果不再0-100之间，提示不合法的输入`"
   ]
  },
  {
   "cell_type": "code",
   "execution_count": null,
   "metadata": {},
   "outputs": [],
   "source": [
    "s = input(\"请输入学生成绩：\")\n",
    "score = int(s)\n",
    "if 0 <= score <= 100:\n",
    "    # 啥也不做\n",
    "    pass\n",
    "else:\n",
    "    print(\"不合法的输入！\")"
   ]
  },
  {
   "cell_type": "markdown",
   "metadata": {},
   "source": [
    "### 5. 循环语句：\n",
    "> while 语句、for 语句\n",
    "\n",
    "思考一个问题：\n",
    "```\n",
    "如何打印100行hello world！\n",
    "print(\"hello world!\" * 100, end = \"\")\n",
    "```\n",
    "\n",
    "while 语句\n",
    "> 根据一定条件，重复的执行一条或多条语句\n",
    "\n",
    "语法：\n",
    "```\n",
    "while 真值表达式:\n",
    "    语句块1\n",
    "else:   # 可写可不写\n",
    "    语句块2\n",
    "```\n",
    "\n",
    "语法说明：\n",
    "```\n",
    "1、先执行真值表达式，测试布尔值为True或False\n",
    "2、如果真值表达式的值为True，则执行语句块1，然后再返回到第一步，重复进行测试\n",
    "3、如果真值表达式值为为False，则执行else子语句的语句块2，然后结束while语句的执行\n",
    "```\n",
    "> 注：else 部分可以省略，ctrl + c 强行终止程序"
   ]
  },
  {
   "cell_type": "markdown",
   "metadata": {},
   "source": [
    "`练习：输入一个数，用变量x绑定，根据x的值，打印x行 hello world！(用while语句来做 ,快捷注释的方法 ctrl + /)`"
   ]
  },
  {
   "cell_type": "code",
   "execution_count": 5,
   "metadata": {},
   "outputs": [
    {
     "name": "stdout",
     "output_type": "stream",
     "text": [
      "输入一个数: 3\n",
      "hello world\n",
      "hello world\n",
      "hello world\n"
     ]
    }
   ],
   "source": [
    "x = int(input(\"输入一个数: \"))\n",
    "while x:\n",
    "    print(\"hello world\")\n",
    "    x -= 1"
   ]
  },
  {
   "cell_type": "markdown",
   "metadata": {},
   "source": [
    "`练习: 打印1-20的整数，打印在一行显示，每一个数字之间用一个空格隔开,如 ：1 2 3 4 5 6 7 8 9 ⋯⋯`"
   ]
  },
  {
   "cell_type": "code",
   "execution_count": 15,
   "metadata": {},
   "outputs": [
    {
     "name": "stdout",
     "output_type": "stream",
     "text": [
      "1 2 3 4 5 6 7 8 9 10 11 12 13 14 15 16 17 18 19 20 "
     ]
    }
   ],
   "source": [
    "x = 1\n",
    "while x <= 20:\n",
    "    print(x, end=\" \")\n",
    "    x += 1"
   ]
  },
  {
   "cell_type": "markdown",
   "metadata": {},
   "source": [
    "`练习: 打印1-20的整数，每行打印5个，打印四行，如：`\n",
    "```\n",
    "1 2 3 4 5\n",
    "6 7 8 9 10\n",
    "   ⋯⋯\n",
    "```"
   ]
  },
  {
   "cell_type": "code",
   "execution_count": 18,
   "metadata": {},
   "outputs": [
    {
     "name": "stdout",
     "output_type": "stream",
     "text": [
      "1 2 3 4 5 \n",
      "6 7 8 9 10 \n",
      "11 12 13 14 15 \n",
      "16 17 18 19 20 "
     ]
    }
   ],
   "source": [
    "x = 1\n",
    "while x <= 20:\n",
    "    if x > 5 and x % 5 == 1:\n",
    "        print()\n",
    "    print(x, end=\" \")\n",
    "    x += 1"
   ]
  },
  {
   "cell_type": "markdown",
   "metadata": {},
   "source": [
    "## 2. 表达式express\n",
    "\n",
    "> 由一个数字 或 数字和运算符组成，通常让计算机做一些事情并返回结果\n",
    "\n",
    "```\n",
    "实例：1 + 2   # 将生成一个3这个整型值\n",
    "```"
   ]
  },
  {
   "cell_type": "markdown",
   "metadata": {},
   "source": [
    "## 3. 函数调用（函数调用是“表达式”）\n",
    "\n",
    "语法：\n",
    "```\n",
    "函数名(传参列表)\n",
    "```\n",
    "\n",
    "语法说明：\n",
    "```\n",
    "函数调用是表达式，通常用于返回一个对象\n",
    "```"
   ]
  },
  {
   "cell_type": "markdown",
   "metadata": {},
   "source": [
    "`练习：如何把字符串“6.6”转换为浮点型，请写出语句`"
   ]
  },
  {
   "cell_type": "code",
   "execution_count": 13,
   "metadata": {},
   "outputs": [
    {
     "data": {
      "text/plain": [
       "6.6"
      ]
     },
     "execution_count": 13,
     "metadata": {},
     "output_type": "execute_result"
    }
   ],
   "source": [
    "float('6.6')"
   ]
  },
  {
   "cell_type": "markdown",
   "metadata": {},
   "source": [
    "## 4. 内置函数（3）\n",
    "\n",
    "- 数值计算函数\n",
    "\n",
    "```\n",
    "abs(x)                    # 取x的绝对值\n",
    "round(number[，ndigits])  # 对小数数值进行四舍五入，ndigits是小数向右取整的位数，负数向左取整\n",
    "pow(x，y，z=None)          # 相当于 x ** y 或 x ** y % z\n",
    "hash(x)                   # 用于获取取一个对象（字符串或者数值等）的哈希值\n",
    "```"
   ]
  },
  {
   "cell_type": "markdown",
   "metadata": {},
   "source": [
    "- help()  # 查看函数帮助："
   ]
  },
  {
   "cell_type": "code",
   "execution_count": 8,
   "metadata": {},
   "outputs": [
    {
     "name": "stdout",
     "output_type": "stream",
     "text": [
      "Help on built-in function abs in module builtins:\n",
      "\n",
      "abs(x, /)\n",
      "    Return the absolute value of the argument.\n",
      "\n"
     ]
    }
   ],
   "source": [
    "help(abs)"
   ]
  },
  {
   "cell_type": "markdown",
   "metadata": {},
   "source": [
    "- 基本输入: input 函数：（python2 中使用raw_input）\n",
    "\n",
    "作用：\n",
    "```\n",
    "从标准输入设备上读取一个字符串（末尾的换行字符会被删除）\n",
    "```\n",
    "\n",
    "格式：\n",
    "```\n",
    "input(\"提示字符串\")\n",
    "```\n",
    "\n",
    "> 注：返回输入的字符串\n",
    "\n",
    "- 基本输出函数 print函数\n",
    "\n",
    "作用：\n",
    "```\n",
    "将一系列的值以字符串的形式输出到标准输设备上（默认为终端）默认打印换行\n",
    "```\n",
    "\n",
    "格式：\n",
    "```\n",
    "print(value,....,sep=' ', end='\\n', flush=Flase, file=sys.stdout)\n",
    "```\n",
    "\n",
    "关键字参数详解：\n",
    "```\n",
    "sep 两个值之间的分隔符，默认为一个空格\n",
    "end 输出完毕后在字符串流末尾自动追加一个字符串，默认为换行符号‘/n’\n",
    "flush  是否立即输出\n",
    "file   文件流对象，默认为sys.stdout\n",
    "```"
   ]
  },
  {
   "cell_type": "code",
   "execution_count": null,
   "metadata": {},
   "outputs": [],
   "source": []
  }
 ],
 "metadata": {
  "kernelspec": {
   "display_name": "Python 3",
   "language": "python",
   "name": "python3"
  },
  "language_info": {
   "codemirror_mode": {
    "name": "ipython",
    "version": 3
   },
   "file_extension": ".py",
   "mimetype": "text/x-python",
   "name": "python",
   "nbconvert_exporter": "python",
   "pygments_lexer": "ipython3",
   "version": "3.7.3"
  }
 },
 "nbformat": 4,
 "nbformat_minor": 2
}
