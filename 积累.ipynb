{
 "cells": [
  {
   "cell_type": "markdown",
   "metadata": {},
   "source": [
    "## Web 应用的机制"
   ]
  },
  {
   "cell_type": "markdown",
   "metadata": {},
   "source": [
    "从我们在 Web 浏览器中输入 URL 到显示出页面，其间要进行下述处理。 \n",
    "1. 用户在 Web 浏览器中输入 URL\n",
    "2. 向 DNS 服务器询问该 URL 中的域名，获取 IP 地址\n",
    "3. Web 浏览器连接该 IP 地址的 Web 服务器，开始 HTTP 通信\n",
    "4. Web 服务器根据 HTTP 发送来的信息运行 Web 应用，获取相应内容\n",
    "5. Web 服务器响应，返回执行应用后得到的 HTML、CSS、JavaScript、图片文件等内容 6 Web 浏览器将收到的内容显示在页面中"
   ]
  },
  {
   "cell_type": "code",
   "execution_count": null,
   "metadata": {},
   "outputs": [],
   "source": [
    "jflajdfjalkkahg"
   ]
  },
  {
   "cell_type": "code",
   "execution_count": 1,
   "metadata": {},
   "outputs": [
    {
     "data": {
      "text/plain": [
       "'ç§¯ç´¯'"
      ]
     },
     "execution_count": 1,
     "metadata": {},
     "output_type": "execute_result"
    }
   ],
   "source": [
    "'\\347\\247\\257\\347\\264\\257'"
   ]
  },
  {
   "cell_type": "code",
   "execution_count": 1,
   "metadata": {},
   "outputs": [
    {
     "data": {
      "text/plain": [
       "'七里'"
      ]
     },
     "execution_count": 1,
     "metadata": {},
     "output_type": "execute_result"
    }
   ],
   "source": [
    "\"\\u4e03\\u91cc\""
   ]
  },
  {
   "cell_type": "code",
   "execution_count": 3,
   "metadata": {},
   "outputs": [
    {
     "data": {
      "text/plain": [
       "7"
      ]
     },
     "execution_count": 3,
     "metadata": {},
     "output_type": "execute_result"
    }
   ],
   "source": [
    "L = [1, 2, 3, 4, 5, 6, 7]\n",
    "len(L[: 100])"
   ]
  },
  {
   "cell_type": "code",
   "execution_count": 5,
   "metadata": {},
   "outputs": [
    {
     "data": {
      "text/plain": [
       "str"
      ]
     },
     "execution_count": 5,
     "metadata": {},
     "output_type": "execute_result"
    }
   ],
   "source": [
    "import datetime\n",
    "now = datetime.datetime.now()\n",
    "type(now)\n",
    "now = datetime.datetime.now().strftime(\"%Y-%m-%d\")\n",
    "type(now)"
   ]
  },
  {
   "cell_type": "code",
   "execution_count": 12,
   "metadata": {},
   "outputs": [
    {
     "name": "stdout",
     "output_type": "stream",
     "text": [
      "<class 'str'>\n",
      "2018-06-11\n"
     ]
    }
   ],
   "source": [
    "import time \n",
    "t = time.time()\n",
    "now = time.strftime('%Y-%m-%d', time.localtime(time.time()))\n",
    "now_30 = time.strftime('%Y-%m-%d', time.localtime(time.time() - 30 * 60 * 60 * 24))\n",
    "print(type(now))\n",
    "print(now_30)"
   ]
  },
  {
   "cell_type": "code",
   "execution_count": null,
   "metadata": {},
   "outputs": [],
   "source": []
  }
 ],
 "metadata": {
  "kernelspec": {
   "display_name": "Python 3",
   "language": "python",
   "name": "python3"
  },
  "language_info": {
   "codemirror_mode": {
    "name": "ipython",
    "version": 3
   },
   "file_extension": ".py",
   "mimetype": "text/x-python",
   "name": "python",
   "nbconvert_exporter": "python",
   "pygments_lexer": "ipython3",
   "version": "3.6.5"
  }
 },
 "nbformat": 4,
 "nbformat_minor": 2
}
