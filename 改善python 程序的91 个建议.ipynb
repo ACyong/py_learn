{
 "cells": [
  {
   "cell_type": "markdown",
   "metadata": {},
   "source": [
    "# 快速排序"
   ]
  },
  {
   "cell_type": "code",
   "execution_count": 1,
   "metadata": {},
   "outputs": [
    {
     "data": {
      "text/plain": [
       "[0, 1, 2, 4, 5, 8, 9, 10, 19, 27, 32, 64]"
      ]
     },
     "execution_count": 1,
     "metadata": {},
     "output_type": "execute_result"
    }
   ],
   "source": [
    "def quick_sort(array):\n",
    "    less = []\n",
    "    greater = []\n",
    "    if len(array) <= 1:\n",
    "        return array\n",
    "    pivot = array.pop()\n",
    "    for x in array:\n",
    "        if x <=pivot:\n",
    "            less.append(x)\n",
    "        else:\n",
    "            greater.append(x)\n",
    "    return quick_sort(less)+[pivot]+quick_sort(greater)\n",
    "\n",
    "quick_sort([9, 8, 4, 5, 32, 64, 2, 1, 0, 10, 19, 27])"
   ]
  },
  {
   "cell_type": "markdown",
   "metadata": {},
   "source": [
    "***"
   ]
  },
  {
   "cell_type": "markdown",
   "metadata": {},
   "source": [
    "# python 中的switch 语法实现"
   ]
  },
  {
   "cell_type": "code",
   "execution_count": 2,
   "metadata": {},
   "outputs": [
    {
     "data": {
      "text/plain": [
       "'1'"
      ]
     },
     "execution_count": 2,
     "metadata": {},
     "output_type": "execute_result"
    }
   ],
   "source": [
    "def pyswitch(x): \n",
    "    return {\n",
    "        1: '1',\n",
    "        2: '2',\n",
    "        3: '3',\n",
    "    }.get(x, '???')\n",
    "\n",
    "\n",
    "pyswitch(1)"
   ]
  },
  {
   "cell_type": "markdown",
   "metadata": {},
   "source": [
    "***"
   ]
  },
  {
   "cell_type": "markdown",
   "metadata": {},
   "source": [
    "# 将存放常量的文件命名为content.py"
   ]
  },
  {
   "cell_type": "code",
   "execution_count": 5,
   "metadata": {},
   "outputs": [
    {
     "ename": "ConstError",
     "evalue": "can't change const PI",
     "output_type": "error",
     "traceback": [
      "\u001b[0;31m---------------------------------------------------------------------------\u001b[0m",
      "\u001b[0;31mConstError\u001b[0m                                Traceback (most recent call last)",
      "\u001b[0;32m<ipython-input-5-4f6dff7cb767>\u001b[0m in \u001b[0;36m<module>\u001b[0;34m()\u001b[0m\n\u001b[1;32m     19\u001b[0m \u001b[0;34m\u001b[0m\u001b[0m\n\u001b[1;32m     20\u001b[0m \u001b[0;34m\u001b[0m\u001b[0m\n\u001b[0;32m---> 21\u001b[0;31m \u001b[0mconst\u001b[0m\u001b[0;34m.\u001b[0m\u001b[0mPI\u001b[0m \u001b[0;34m=\u001b[0m \u001b[0;36m5\u001b[0m\u001b[0;34m\u001b[0m\u001b[0m\n\u001b[0m",
      "\u001b[0;32m<ipython-input-5-4f6dff7cb767>\u001b[0m in \u001b[0;36m__setattr__\u001b[0;34m(self, name, value)\u001b[0m\n\u001b[1;32m      8\u001b[0m     \u001b[0;32mdef\u001b[0m \u001b[0m__setattr__\u001b[0m\u001b[0;34m(\u001b[0m\u001b[0mself\u001b[0m\u001b[0;34m,\u001b[0m \u001b[0mname\u001b[0m\u001b[0;34m,\u001b[0m \u001b[0mvalue\u001b[0m\u001b[0;34m)\u001b[0m\u001b[0;34m:\u001b[0m\u001b[0;34m\u001b[0m\u001b[0m\n\u001b[1;32m      9\u001b[0m         \u001b[0;32mif\u001b[0m \u001b[0mname\u001b[0m \u001b[0;32min\u001b[0m \u001b[0mself\u001b[0m\u001b[0;34m.\u001b[0m\u001b[0m__dict__\u001b[0m\u001b[0;34m:\u001b[0m\u001b[0;34m\u001b[0m\u001b[0m\n\u001b[0;32m---> 10\u001b[0;31m             \u001b[0;32mraise\u001b[0m \u001b[0mself\u001b[0m\u001b[0;34m.\u001b[0m\u001b[0mConstError\u001b[0m\u001b[0;34m(\u001b[0m\u001b[0;34m\"can't change const %s\"\u001b[0m \u001b[0;34m%\u001b[0m \u001b[0mname\u001b[0m\u001b[0;34m)\u001b[0m\u001b[0;34m\u001b[0m\u001b[0m\n\u001b[0m\u001b[1;32m     11\u001b[0m         \u001b[0;32mif\u001b[0m \u001b[0;32mnot\u001b[0m \u001b[0mname\u001b[0m\u001b[0;34m.\u001b[0m\u001b[0misupper\u001b[0m\u001b[0;34m(\u001b[0m\u001b[0;34m)\u001b[0m\u001b[0;34m:\u001b[0m\u001b[0;34m\u001b[0m\u001b[0m\n\u001b[1;32m     12\u001b[0m             raise self.ConstCaseError(\n",
      "\u001b[0;31mConstError\u001b[0m: can't change const PI"
     ]
    }
   ],
   "source": [
    "class _const:\n",
    "    class ConstError(TypeError):\n",
    "        pass\n",
    "\n",
    "    class ConstCaseError(ConstError):\n",
    "        pass\n",
    "\n",
    "    def __setattr__(self, name, value):\n",
    "        if name in self.__dict__:\n",
    "            raise self.ConstError(\"can't change const %s\" % name)\n",
    "        if not name.isupper():\n",
    "            raise self.ConstCaseError(\n",
    "                'const name \"%s\" is not all uppercase' % name)\n",
    "        self.__dict__[name] = value\n",
    "\n",
    "\n",
    "const = _const()\n",
    "const.PI = 3.14\n",
    "\n",
    "\n",
    "const.PI = 5"
   ]
  },
  {
   "cell_type": "markdown",
   "metadata": {},
   "source": [
    "> 使用常量"
   ]
  },
  {
   "cell_type": "code",
   "execution_count": 7,
   "metadata": {},
   "outputs": [],
   "source": [
    "from constant import const\n",
    "\n",
    "print(const.PI)"
   ]
  },
  {
   "cell_type": "markdown",
   "metadata": {},
   "source": [
    "***"
   ]
  },
  {
   "cell_type": "markdown",
   "metadata": {},
   "source": [
    "# 数据交换值得时候不推荐使用中间变量"
   ]
  },
  {
   "cell_type": "code",
   "execution_count": 1,
   "metadata": {},
   "outputs": [
    {
     "name": "stdout",
     "output_type": "stream",
     "text": [
      "0.02975826900001266\n",
      "0.02302728799986653\n"
     ]
    }
   ],
   "source": [
    "from timeit import Timer\n",
    "\n",
    "print(Timer('temp = x; x = y; y = temp', 'x = 2; y = 3').timeit())\n",
    "print(Timer('x, y = y, x', 'x = 2; y = 3').timeit())"
   ]
  },
  {
   "cell_type": "markdown",
   "metadata": {},
   "source": [
    "***"
   ]
  },
  {
   "cell_type": "markdown",
   "metadata": {},
   "source": [
    "# 充分利用Lazy evaluation 的特性"
   ]
  },
  {
   "cell_type": "code",
   "execution_count": 2,
   "metadata": {},
   "outputs": [
    {
     "name": "stdout",
     "output_type": "stream",
     "text": [
      "0.09370064735412598\n"
     ]
    }
   ],
   "source": [
    "from time import  time\n",
    "\n",
    "t = time()\n",
    "abbreviations = ['cf.', 'e.g.', 'ex.', 'etc.', 'flg.']\n",
    "for i in range(100000):\n",
    "    for w in ('Mr.', 'Hat', 'is', 'chasing', '.'):\n",
    "        if w in abbreviations and w[-1] == '.':\n",
    "        # if w[-1] == '.' and w in abbreviations:\n",
    "            pass\n",
    "print(time() - t)"
   ]
  },
  {
   "cell_type": "markdown",
   "metadata": {},
   "source": [
    "***"
   ]
  },
  {
   "cell_type": "markdown",
   "metadata": {},
   "source": [
    "# 生成器，斐波那契数列"
   ]
  },
  {
   "cell_type": "code",
   "execution_count": 1,
   "metadata": {},
   "outputs": [
    {
     "name": "stdout",
     "output_type": "stream",
     "text": [
      "[0, 1, 1, 2, 3]\n"
     ]
    }
   ],
   "source": [
    "from itertools import islice\n",
    "\n",
    "\n",
    "def fibs():\n",
    "    a, b = 0, 1\n",
    "    while True:\n",
    "        yield a\n",
    "        a, b = b, a + b\n",
    "\n",
    "\n",
    "print(list(islice(fibs(), 5)))"
   ]
  },
  {
   "cell_type": "markdown",
   "metadata": {},
   "source": [
    "***"
   ]
  },
  {
   "cell_type": "markdown",
   "metadata": {},
   "source": [
    "# 使用enumerate() 获取序列迭代的索引和值"
   ]
  },
  {
   "cell_type": "code",
   "execution_count": 2,
   "metadata": {},
   "outputs": [
    {
     "name": "stdout",
     "output_type": "stream",
     "text": [
      "index: 0 element: a\n",
      "index: 1 element: b\n",
      "index: 2 element: c\n",
      "index: 3 element: d\n",
      "index: 4 element: e\n"
     ]
    }
   ],
   "source": [
    "li = ['a', 'b', 'c', 'd', 'e']\n",
    "# 使用 zip() 方法\n",
    "# for i, e in zip(range(len(i)), li):\n",
    "for i, e in enumerate(li):\n",
    "    print('index:', i, 'element:', e)"
   ]
  },
  {
   "cell_type": "markdown",
   "metadata": {},
   "source": [
    "> enumerate 的实现原理"
   ]
  },
  {
   "cell_type": "code",
   "execution_count": null,
   "metadata": {},
   "outputs": [],
   "source": [
    "def enumerate(sequence, start=0):\n",
    "    n = start\n",
    "    for elem in reversed(sequence):\n",
    "        yield n, elem\n",
    "        n += 1"
   ]
  },
  {
   "cell_type": "markdown",
   "metadata": {},
   "source": [
    "***"
   ]
  },
  {
   "cell_type": "markdown",
   "metadata": {},
   "source": [
    "# 分清 == 与 is 的使用场景\n",
    "> is 表示的是对象标识符(object identity)是否一致, 而 == 表示的意思是相等(equal).<br/>\n",
    "> x is y 基本相等于 id(x) == id(y).<br/>\n",
    "> x = y 相当于 a.__eq__(b), 所以 == 操作符是可以被重载的, 而 is 不能.<br/>\n",
    "> 如果 x is y 为 True 的话, x == y 的值也为 True, 特殊情况如下:"
   ]
  },
  {
   "cell_type": "code",
   "execution_count": 8,
   "metadata": {},
   "outputs": [
    {
     "name": "stdout",
     "output_type": "stream",
     "text": [
      "True\n",
      "False\n"
     ]
    }
   ],
   "source": [
    "a = float('NaN')\n",
    "print(a is a)\n",
    "print(a == a)"
   ]
  },
  {
   "cell_type": "markdown",
   "metadata": {},
   "source": [
    "> python 中存在 string interning (字符串驻留)机制, 对于较小的字符串, 为了提高系统性能会保留其值得一个副本, 当创建新的字符串的时候直接指向该副本即可."
   ]
  },
  {
   "cell_type": "code",
   "execution_count": 10,
   "metadata": {},
   "outputs": [
    {
     "data": {
      "text/plain": [
       "True"
      ]
     },
     "execution_count": 10,
     "metadata": {},
     "output_type": "execute_result"
    }
   ],
   "source": [
    "a = 'a'\n",
    "b = 'a'\n",
    "a is b"
   ]
  },
  {
   "cell_type": "markdown",
   "metadata": {},
   "source": [
    "***"
   ]
  },
  {
   "cell_type": "markdown",
   "metadata": {},
   "source": [
    "# 有节制的使用 from...import 语句"
   ]
  },
  {
   "cell_type": "code",
   "execution_count": 2,
   "metadata": {
    "scrolled": true
   },
   "outputs": [
    {
     "data": {
      "text/plain": [
       "dict_items([('builtins', <module 'builtins' (built-in)>), ('sys', <module 'sys' (built-in)>), ('_frozen_importlib', <module 'importlib._bootstrap' (frozen)>), ('_imp', <module '_imp' (built-in)>), ('_warnings', <module '_warnings' (built-in)>), ('_thread', <module '_thread' (built-in)>), ('_weakref', <module '_weakref' (built-in)>), ('_frozen_importlib_external', <module 'importlib._bootstrap_external' (frozen)>), ('_io', <module 'io' (built-in)>), ('marshal', <module 'marshal' (built-in)>), ('posix', <module 'posix' (built-in)>), ('zipimport', <module 'zipimport' (built-in)>), ('encodings', <module 'encodings' from '/Users/shouei/.virtualenvs/WEB/bin/../lib/python3.6/encodings/__init__.py'>), ('codecs', <module 'codecs' from '/Users/shouei/.virtualenvs/WEB/bin/../lib/python3.6/codecs.py'>), ('_codecs', <module '_codecs' (built-in)>), ('encodings.aliases', <module 'encodings.aliases' from '/Users/shouei/.virtualenvs/WEB/bin/../lib/python3.6/encodings/aliases.py'>), ('encodings.utf_8', <module 'encodings.utf_8' from '/Users/shouei/.virtualenvs/WEB/bin/../lib/python3.6/encodings/utf_8.py'>), ('_signal', <module '_signal' (built-in)>), ('__main__', <module '__main__'>), ('encodings.latin_1', <module 'encodings.latin_1' from '/Users/shouei/.virtualenvs/WEB/bin/../lib/python3.6/encodings/latin_1.py'>), ('io', <module 'io' from '/Users/shouei/.virtualenvs/WEB/bin/../lib/python3.6/io.py'>), ('abc', <module 'abc' from '/Users/shouei/.virtualenvs/WEB/bin/../lib/python3.6/abc.py'>), ('_weakrefset', <module '_weakrefset' from '/Users/shouei/.virtualenvs/WEB/bin/../lib/python3.6/_weakrefset.py'>), ('_bootlocale', <module '_bootlocale' from '/Users/shouei/.virtualenvs/WEB/bin/../lib/python3.6/_bootlocale.py'>), ('_locale', <module '_locale' (built-in)>), ('site', <module 'site' from '/Users/shouei/.virtualenvs/WEB/bin/../lib/python3.6/site.py'>), ('os', <module 'os' from '/Users/shouei/.virtualenvs/WEB/bin/../lib/python3.6/os.py'>), ('errno', <module 'errno' (built-in)>), ('stat', <module 'stat' from '/Users/shouei/.virtualenvs/WEB/bin/../lib/python3.6/stat.py'>), ('_stat', <module '_stat' (built-in)>), ('posixpath', <module 'posixpath' from '/Users/shouei/.virtualenvs/WEB/bin/../lib/python3.6/posixpath.py'>), ('genericpath', <module 'genericpath' from '/Users/shouei/.virtualenvs/WEB/bin/../lib/python3.6/genericpath.py'>), ('os.path', <module 'posixpath' from '/Users/shouei/.virtualenvs/WEB/bin/../lib/python3.6/posixpath.py'>), ('_collections_abc', <module '_collections_abc' from '/Users/shouei/.virtualenvs/WEB/bin/../lib/python3.6/_collections_abc.py'>), ('types', <module 'types' from '/Users/shouei/.virtualenvs/WEB/lib/python3.6/types.py'>), ('functools', <module 'functools' from '/Users/shouei/.virtualenvs/WEB/lib/python3.6/functools.py'>), ('_functools', <module '_functools' (built-in)>), ('collections', <module 'collections' from '/Users/shouei/.virtualenvs/WEB/lib/python3.6/collections/__init__.py'>), ('operator', <module 'operator' from '/Users/shouei/.virtualenvs/WEB/lib/python3.6/operator.py'>), ('_operator', <module '_operator' (built-in)>), ('keyword', <module 'keyword' from '/Users/shouei/.virtualenvs/WEB/lib/python3.6/keyword.py'>), ('heapq', <module 'heapq' from '/Users/shouei/.virtualenvs/WEB/lib/python3.6/heapq.py'>), ('_heapq', <module '_heapq' from '/Users/shouei/.virtualenvs/WEB/lib/python3.6/lib-dynload/_heapq.cpython-36m-darwin.so'>), ('itertools', <module 'itertools' (built-in)>), ('reprlib', <module 'reprlib' from '/Users/shouei/.virtualenvs/WEB/lib/python3.6/reprlib.py'>), ('_collections', <module '_collections' (built-in)>), ('weakref', <module 'weakref' from '/Users/shouei/.virtualenvs/WEB/lib/python3.6/weakref.py'>), ('collections.abc', <module 'collections.abc' from '/Users/shouei/.virtualenvs/WEB/lib/python3.6/collections/abc.py'>), ('importlib', <module 'importlib' from '/Users/shouei/.virtualenvs/WEB/lib/python3.6/importlib/__init__.py'>), ('importlib._bootstrap', <module 'importlib._bootstrap' (frozen)>), ('importlib._bootstrap_external', <module 'importlib._bootstrap_external' (frozen)>), ('warnings', <module 'warnings' from '/Users/shouei/.virtualenvs/WEB/lib/python3.6/warnings.py'>), ('importlib.util', <module 'importlib.util' from '/Users/shouei/.virtualenvs/WEB/lib/python3.6/importlib/util.py'>), ('importlib.abc', <module 'importlib.abc' from '/Users/shouei/.virtualenvs/WEB/lib/python3.6/importlib/abc.py'>), ('importlib.machinery', <module 'importlib.machinery' from '/Users/shouei/.virtualenvs/WEB/lib/python3.6/importlib/machinery.py'>), ('contextlib', <module 'contextlib' from '/usr/local/Cellar/python/3.6.5/Frameworks/Python.framework/Versions/3.6/lib/python3.6/contextlib.py'>), ('zope', <module 'zope' (namespace)>), ('runpy', <module 'runpy' from '/usr/local/Cellar/python/3.6.5/Frameworks/Python.framework/Versions/3.6/lib/python3.6/runpy.py'>), ('pkgutil', <module 'pkgutil' from '/usr/local/Cellar/python/3.6.5/Frameworks/Python.framework/Versions/3.6/lib/python3.6/pkgutil.py'>), ('ipykernel', <module 'ipykernel' from '/Users/shouei/.virtualenvs/WEB/lib/python3.6/site-packages/ipykernel/__init__.py'>), ('ipykernel._version', <module 'ipykernel._version' from '/Users/shouei/.virtualenvs/WEB/lib/python3.6/site-packages/ipykernel/_version.py'>), ('ipykernel.connect', <module 'ipykernel.connect' from '/Users/shouei/.virtualenvs/WEB/lib/python3.6/site-packages/ipykernel/connect.py'>), ('__future__', <module '__future__' from '/Users/shouei/.virtualenvs/WEB/lib/python3.6/__future__.py'>), ('json', <module 'json' from '/usr/local/Cellar/python/3.6.5/Frameworks/Python.framework/Versions/3.6/lib/python3.6/json/__init__.py'>), ('json.decoder', <module 'json.decoder' from '/usr/local/Cellar/python/3.6.5/Frameworks/Python.framework/Versions/3.6/lib/python3.6/json/decoder.py'>), ('re', <module 're' from '/Users/shouei/.virtualenvs/WEB/lib/python3.6/re.py'>), ('enum', <module 'enum' from '/Users/shouei/.virtualenvs/WEB/lib/python3.6/enum.py'>), ('sre_compile', <module 'sre_compile' from '/Users/shouei/.virtualenvs/WEB/lib/python3.6/sre_compile.py'>), ('_sre', <module '_sre' (built-in)>), ('sre_parse', <module 'sre_parse' from '/Users/shouei/.virtualenvs/WEB/lib/python3.6/sre_parse.py'>), ('sre_constants', <module 'sre_constants' from '/Users/shouei/.virtualenvs/WEB/lib/python3.6/sre_constants.py'>), ('copyreg', <module 'copyreg' from '/Users/shouei/.virtualenvs/WEB/lib/python3.6/copyreg.py'>), ('json.scanner', <module 'json.scanner' from '/usr/local/Cellar/python/3.6.5/Frameworks/Python.framework/Versions/3.6/lib/python3.6/json/scanner.py'>), ('_json', <module '_json' from '/Users/shouei/.virtualenvs/WEB/lib/python3.6/lib-dynload/_json.cpython-36m-darwin.so'>), ('json.encoder', <module 'json.encoder' from '/usr/local/Cellar/python/3.6.5/Frameworks/Python.framework/Versions/3.6/lib/python3.6/json/encoder.py'>), ('subprocess', <module 'subprocess' from '/usr/local/Cellar/python/3.6.5/Frameworks/Python.framework/Versions/3.6/lib/python3.6/subprocess.py'>), ('time', <module 'time' (built-in)>), ('signal', <module 'signal' from '/usr/local/Cellar/python/3.6.5/Frameworks/Python.framework/Versions/3.6/lib/python3.6/signal.py'>), ('_posixsubprocess', <module '_posixsubprocess' from '/Users/shouei/.virtualenvs/WEB/lib/python3.6/lib-dynload/_posixsubprocess.cpython-36m-darwin.so'>), ('select', <module 'select' from '/Users/shouei/.virtualenvs/WEB/lib/python3.6/lib-dynload/select.cpython-36m-darwin.so'>), ('selectors', <module 'selectors' from '/usr/local/Cellar/python/3.6.5/Frameworks/Python.framework/Versions/3.6/lib/python3.6/selectors.py'>), ('math', <module 'math' from '/Users/shouei/.virtualenvs/WEB/lib/python3.6/lib-dynload/math.cpython-36m-darwin.so'>), ('threading', <module 'threading' from '/usr/local/Cellar/python/3.6.5/Frameworks/Python.framework/Versions/3.6/lib/python3.6/threading.py'>), ('traceback', <module 'traceback' from '/usr/local/Cellar/python/3.6.5/Frameworks/Python.framework/Versions/3.6/lib/python3.6/traceback.py'>), ('linecache', <module 'linecache' from '/Users/shouei/.virtualenvs/WEB/lib/python3.6/linecache.py'>), ('tokenize', <module 'tokenize' from '/Users/shouei/.virtualenvs/WEB/lib/python3.6/tokenize.py'>), ('token', <module 'token' from '/Users/shouei/.virtualenvs/WEB/lib/python3.6/token.py'>), ('IPython', <module 'IPython' from '/Users/shouei/.virtualenvs/WEB/lib/python3.6/site-packages/IPython/__init__.py'>), ('IPython.core', <module 'IPython.core' from '/Users/shouei/.virtualenvs/WEB/lib/python3.6/site-packages/IPython/core/__init__.py'>), ('IPython.core.getipython', <module 'IPython.core.getipython' from '/Users/shouei/.virtualenvs/WEB/lib/python3.6/site-packages/IPython/core/getipython.py'>), ('IPython.core.release', <module 'IPython.core.release' from '/Users/shouei/.virtualenvs/WEB/lib/python3.6/site-packages/IPython/core/release.py'>), ('IPython.core.application', <module 'IPython.core.application' from '/Users/shouei/.virtualenvs/WEB/lib/python3.6/site-packages/IPython/core/application.py'>), ('atexit', <module 'atexit' (built-in)>), ('copy', <module 'copy' from '/Users/shouei/.virtualenvs/WEB/lib/python3.6/copy.py'>), ('glob', <module 'glob' from '/usr/local/Cellar/python/3.6.5/Frameworks/Python.framework/Versions/3.6/lib/python3.6/glob.py'>), ('fnmatch', <module 'fnmatch' from '/Users/shouei/.virtualenvs/WEB/lib/python3.6/fnmatch.py'>), ('logging', <module 'logging' from '/usr/local/Cellar/python/3.6.5/Frameworks/Python.framework/Versions/3.6/lib/python3.6/logging/__init__.py'>), ('string', <module 'string' from '/usr/local/Cellar/python/3.6.5/Frameworks/Python.framework/Versions/3.6/lib/python3.6/string.py'>), ('_string', <module '_string' (built-in)>), ('shutil', <module 'shutil' from '/Users/shouei/.virtualenvs/WEB/lib/python3.6/shutil.py'>), ('zlib', <module 'zlib' from '/Users/shouei/.virtualenvs/WEB/lib/python3.6/lib-dynload/zlib.cpython-36m-darwin.so'>), ('bz2', <module 'bz2' from '/usr/local/Cellar/python/3.6.5/Frameworks/Python.framework/Versions/3.6/lib/python3.6/bz2.py'>), ('_compression', <module '_compression' from '/usr/local/Cellar/python/3.6.5/Frameworks/Python.framework/Versions/3.6/lib/python3.6/_compression.py'>), ('_bz2', <module '_bz2' from '/Users/shouei/.virtualenvs/WEB/lib/python3.6/lib-dynload/_bz2.cpython-36m-darwin.so'>), ('lzma', <module 'lzma' from '/usr/local/Cellar/python/3.6.5/Frameworks/Python.framework/Versions/3.6/lib/python3.6/lzma.py'>), ('_lzma', <module '_lzma' from '/Users/shouei/.virtualenvs/WEB/lib/python3.6/lib-dynload/_lzma.cpython-36m-darwin.so'>), ('pwd', <module 'pwd' (built-in)>), ('grp', <module 'grp' from '/Users/shouei/.virtualenvs/WEB/lib/python3.6/lib-dynload/grp.cpython-36m-darwin.so'>), ('traitlets', <module 'traitlets' from '/Users/shouei/.virtualenvs/WEB/lib/python3.6/site-packages/traitlets/__init__.py'>), ('traitlets.traitlets', <module 'traitlets.traitlets' from '/Users/shouei/.virtualenvs/WEB/lib/python3.6/site-packages/traitlets/traitlets.py'>), ('inspect', <module 'inspect' from '/usr/local/Cellar/python/3.6.5/Frameworks/Python.framework/Versions/3.6/lib/python3.6/inspect.py'>), ('ast', <module 'ast' from '/usr/local/Cellar/python/3.6.5/Frameworks/Python.framework/Versions/3.6/lib/python3.6/ast.py'>), ('_ast', <module '_ast' (built-in)>), ('dis', <module 'dis' from '/usr/local/Cellar/python/3.6.5/Frameworks/Python.framework/Versions/3.6/lib/python3.6/dis.py'>), ('opcode', <module 'opcode' from '/usr/local/Cellar/python/3.6.5/Frameworks/Python.framework/Versions/3.6/lib/python3.6/opcode.py'>), ('_opcode', <module '_opcode' from '/Users/shouei/.virtualenvs/WEB/lib/python3.6/lib-dynload/_opcode.cpython-36m-darwin.so'>), ('six', <module 'six' from '/Users/shouei/.virtualenvs/WEB/lib/python3.6/site-packages/six.py'>), ('struct', <module 'struct' from '/Users/shouei/.virtualenvs/WEB/lib/python3.6/struct.py'>), ('_struct', <module '_struct' from '/Users/shouei/.virtualenvs/WEB/lib/python3.6/lib-dynload/_struct.cpython-36m-darwin.so'>), ('traitlets.utils', <module 'traitlets.utils' from '/Users/shouei/.virtualenvs/WEB/lib/python3.6/site-packages/traitlets/utils/__init__.py'>), ('traitlets.utils.getargspec', <module 'traitlets.utils.getargspec' from '/Users/shouei/.virtualenvs/WEB/lib/python3.6/site-packages/traitlets/utils/getargspec.py'>), ('traitlets.utils.importstring', <module 'traitlets.utils.importstring' from '/Users/shouei/.virtualenvs/WEB/lib/python3.6/site-packages/traitlets/utils/importstring.py'>), ('ipython_genutils', <module 'ipython_genutils' from '/Users/shouei/.virtualenvs/WEB/lib/python3.6/site-packages/ipython_genutils/__init__.py'>), ('ipython_genutils._version', <module 'ipython_genutils._version' from '/Users/shouei/.virtualenvs/WEB/lib/python3.6/site-packages/ipython_genutils/_version.py'>), ('ipython_genutils.py3compat', <module 'ipython_genutils.py3compat' from '/Users/shouei/.virtualenvs/WEB/lib/python3.6/site-packages/ipython_genutils/py3compat.py'>), ('ipython_genutils.encoding', <module 'ipython_genutils.encoding' from '/Users/shouei/.virtualenvs/WEB/lib/python3.6/site-packages/ipython_genutils/encoding.py'>), ('locale', <module 'locale' from '/Users/shouei/.virtualenvs/WEB/lib/python3.6/locale.py'>), ('platform', <module 'platform' from '/usr/local/Cellar/python/3.6.5/Frameworks/Python.framework/Versions/3.6/lib/python3.6/platform.py'>), ('traitlets.utils.sentinel', <module 'traitlets.utils.sentinel' from '/Users/shouei/.virtualenvs/WEB/lib/python3.6/site-packages/traitlets/utils/sentinel.py'>), ('traitlets.utils.bunch', <module 'traitlets.utils.bunch' from '/Users/shouei/.virtualenvs/WEB/lib/python3.6/site-packages/traitlets/utils/bunch.py'>), ('traitlets._version', <module 'traitlets._version' from '/Users/shouei/.virtualenvs/WEB/lib/python3.6/site-packages/traitlets/_version.py'>), ('traitlets.config', <module 'traitlets.config' from '/Users/shouei/.virtualenvs/WEB/lib/python3.6/site-packages/traitlets/config/__init__.py'>), ('traitlets.config.application', <module 'traitlets.config.application' from '/Users/shouei/.virtualenvs/WEB/lib/python3.6/site-packages/traitlets/config/application.py'>), ('decorator', <module 'decorator' from '/Users/shouei/.virtualenvs/WEB/lib/python3.6/site-packages/decorator.py'>), ('traitlets.config.configurable', <module 'traitlets.config.configurable' from '/Users/shouei/.virtualenvs/WEB/lib/python3.6/site-packages/traitlets/config/configurable.py'>), ('traitlets.config.loader', <module 'traitlets.config.loader' from '/Users/shouei/.virtualenvs/WEB/lib/python3.6/site-packages/traitlets/config/loader.py'>), ('argparse', <module 'argparse' from '/usr/local/Cellar/python/3.6.5/Frameworks/Python.framework/Versions/3.6/lib/python3.6/argparse.py'>), ('textwrap', <module 'textwrap' from '/usr/local/Cellar/python/3.6.5/Frameworks/Python.framework/Versions/3.6/lib/python3.6/textwrap.py'>), ('gettext', <module 'gettext' from '/usr/local/Cellar/python/3.6.5/Frameworks/Python.framework/Versions/3.6/lib/python3.6/gettext.py'>), ('ipython_genutils.path', <module 'ipython_genutils.path' from '/Users/shouei/.virtualenvs/WEB/lib/python3.6/site-packages/ipython_genutils/path.py'>), ('random', <module 'random' from '/Users/shouei/.virtualenvs/WEB/lib/python3.6/random.py'>), ('hashlib', <module 'hashlib' from '/Users/shouei/.virtualenvs/WEB/lib/python3.6/hashlib.py'>), ('_hashlib', <module '_hashlib' from '/Users/shouei/.virtualenvs/WEB/lib/python3.6/lib-dynload/_hashlib.cpython-36m-darwin.so'>), ('_blake2', <module '_blake2' from '/Users/shouei/.virtualenvs/WEB/lib/python3.6/lib-dynload/_blake2.cpython-36m-darwin.so'>), ('_sha3', <module '_sha3' from '/Users/shouei/.virtualenvs/WEB/lib/python3.6/lib-dynload/_sha3.cpython-36m-darwin.so'>), ('bisect', <module 'bisect' from '/Users/shouei/.virtualenvs/WEB/lib/python3.6/bisect.py'>), ('_bisect', <module '_bisect' from '/Users/shouei/.virtualenvs/WEB/lib/python3.6/lib-dynload/_bisect.cpython-36m-darwin.so'>), ('_random', <module '_random' from '/Users/shouei/.virtualenvs/WEB/lib/python3.6/lib-dynload/_random.cpython-36m-darwin.so'>), ('ipython_genutils.text', <module 'ipython_genutils.text' from '/Users/shouei/.virtualenvs/WEB/lib/python3.6/site-packages/ipython_genutils/text.py'>), ('ipython_genutils.importstring', <module 'ipython_genutils.importstring' from '/Users/shouei/.virtualenvs/WEB/lib/python3.6/site-packages/ipython_genutils/importstring.py'>), ('IPython.core.crashhandler', <module 'IPython.core.crashhandler' from '/Users/shouei/.virtualenvs/WEB/lib/python3.6/site-packages/IPython/core/crashhandler.py'>), ('pprint', <module 'pprint' from '/usr/local/Cellar/python/3.6.5/Frameworks/Python.framework/Versions/3.6/lib/python3.6/pprint.py'>), ('IPython.core.ultratb', <module 'IPython.core.ultratb' from '/Users/shouei/.virtualenvs/WEB/lib/python3.6/site-packages/IPython/core/ultratb.py'>), ('pydoc', <module 'pydoc' from '/usr/local/Cellar/python/3.6.5/Frameworks/Python.framework/Versions/3.6/lib/python3.6/pydoc.py'>), ('urllib', <module 'urllib' from '/usr/local/Cellar/python/3.6.5/Frameworks/Python.framework/Versions/3.6/lib/python3.6/urllib/__init__.py'>), ('urllib.parse', <module 'urllib.parse' from '/usr/local/Cellar/python/3.6.5/Frameworks/Python.framework/Versions/3.6/lib/python3.6/urllib/parse.py'>), ('IPython.core.debugger', <module 'IPython.core.debugger' from '/Users/shouei/.virtualenvs/WEB/lib/python3.6/site-packages/IPython/core/debugger.py'>), ('bdb', <module 'bdb' from '/usr/local/Cellar/python/3.6.5/Frameworks/Python.framework/Versions/3.6/lib/python3.6/bdb.py'>), ('IPython.utils', <module 'IPython.utils' from '/Users/shouei/.virtualenvs/WEB/lib/python3.6/site-packages/IPython/utils/__init__.py'>), ('IPython.utils.PyColorize', <module 'IPython.utils.PyColorize' from '/Users/shouei/.virtualenvs/WEB/lib/python3.6/site-packages/IPython/utils/PyColorize.py'>), ('IPython.utils.coloransi', <module 'IPython.utils.coloransi' from '/Users/shouei/.virtualenvs/WEB/lib/python3.6/site-packages/IPython/utils/coloransi.py'>), ('IPython.utils.ipstruct', <module 'IPython.utils.ipstruct' from '/Users/shouei/.virtualenvs/WEB/lib/python3.6/site-packages/IPython/utils/ipstruct.py'>), ('IPython.utils.colorable', <module 'IPython.utils.colorable' from '/Users/shouei/.virtualenvs/WEB/lib/python3.6/site-packages/IPython/utils/colorable.py'>), ('pygments', <module 'pygments' from '/Users/shouei/.virtualenvs/WEB/lib/python3.6/site-packages/pygments/__init__.py'>), ('pygments.util', <module 'pygments.util' from '/Users/shouei/.virtualenvs/WEB/lib/python3.6/site-packages/pygments/util.py'>), ('IPython.utils.py3compat', <module 'IPython.utils.py3compat' from '/Users/shouei/.virtualenvs/WEB/lib/python3.6/site-packages/IPython/utils/py3compat.py'>), ('IPython.utils.encoding', <module 'IPython.utils.encoding' from '/Users/shouei/.virtualenvs/WEB/lib/python3.6/site-packages/IPython/utils/encoding.py'>), ('IPython.core.excolors', <module 'IPython.core.excolors' from '/Users/shouei/.virtualenvs/WEB/lib/python3.6/site-packages/IPython/core/excolors.py'>), ('IPython.testing', <module 'IPython.testing' from '/Users/shouei/.virtualenvs/WEB/lib/python3.6/site-packages/IPython/testing/__init__.py'>), ('IPython.testing.skipdoctest', <module 'IPython.testing.skipdoctest' from '/Users/shouei/.virtualenvs/WEB/lib/python3.6/site-packages/IPython/testing/skipdoctest.py'>), ('pdb', <module 'pdb' from '/usr/local/Cellar/python/3.6.5/Frameworks/Python.framework/Versions/3.6/lib/python3.6/pdb.py'>), ('cmd', <module 'cmd' from '/usr/local/Cellar/python/3.6.5/Frameworks/Python.framework/Versions/3.6/lib/python3.6/cmd.py'>), ('code', <module 'code' from '/usr/local/Cellar/python/3.6.5/Frameworks/Python.framework/Versions/3.6/lib/python3.6/code.py'>), ('codeop', <module 'codeop' from '/usr/local/Cellar/python/3.6.5/Frameworks/Python.framework/Versions/3.6/lib/python3.6/codeop.py'>), ('IPython.core.display_trap', <module 'IPython.core.display_trap' from '/Users/shouei/.virtualenvs/WEB/lib/python3.6/site-packages/IPython/core/display_trap.py'>), ('IPython.utils.openpy', <module 'IPython.utils.openpy' from '/Users/shouei/.virtualenvs/WEB/lib/python3.6/site-packages/IPython/utils/openpy.py'>), ('IPython.utils.path', <module 'IPython.utils.path' from '/Users/shouei/.virtualenvs/WEB/lib/python3.6/site-packages/IPython/utils/path.py'>), ('IPython.utils.process', <module 'IPython.utils.process' from '/Users/shouei/.virtualenvs/WEB/lib/python3.6/site-packages/IPython/utils/process.py'>), ('IPython.utils._process_posix', <module 'IPython.utils._process_posix' from '/Users/shouei/.virtualenvs/WEB/lib/python3.6/site-packages/IPython/utils/_process_posix.py'>), ('pexpect', <module 'pexpect' from '/Users/shouei/.virtualenvs/WEB/lib/python3.6/site-packages/pexpect/__init__.py'>), ('pexpect.exceptions', <module 'pexpect.exceptions' from '/Users/shouei/.virtualenvs/WEB/lib/python3.6/site-packages/pexpect/exceptions.py'>), ('pexpect.utils', <module 'pexpect.utils' from '/Users/shouei/.virtualenvs/WEB/lib/python3.6/site-packages/pexpect/utils.py'>), ('pexpect.expect', <module 'pexpect.expect' from '/Users/shouei/.virtualenvs/WEB/lib/python3.6/site-packages/pexpect/expect.py'>), ('pexpect.pty_spawn', <module 'pexpect.pty_spawn' from '/Users/shouei/.virtualenvs/WEB/lib/python3.6/site-packages/pexpect/pty_spawn.py'>), ('pty', <module 'pty' from '/usr/local/Cellar/python/3.6.5/Frameworks/Python.framework/Versions/3.6/lib/python3.6/pty.py'>), ('tty', <module 'tty' from '/usr/local/Cellar/python/3.6.5/Frameworks/Python.framework/Versions/3.6/lib/python3.6/tty.py'>), ('termios', <module 'termios' from '/Users/shouei/.virtualenvs/WEB/lib/python3.6/lib-dynload/termios.cpython-36m-darwin.so'>), ('ptyprocess', <module 'ptyprocess' from '/Users/shouei/.virtualenvs/WEB/lib/python3.6/site-packages/ptyprocess/__init__.py'>), ('ptyprocess.ptyprocess', <module 'ptyprocess.ptyprocess' from '/Users/shouei/.virtualenvs/WEB/lib/python3.6/site-packages/ptyprocess/ptyprocess.py'>), ('fcntl', <module 'fcntl' from '/Users/shouei/.virtualenvs/WEB/lib/python3.6/lib-dynload/fcntl.cpython-36m-darwin.so'>), ('resource', <module 'resource' from '/Users/shouei/.virtualenvs/WEB/lib/python3.6/lib-dynload/resource.cpython-36m-darwin.so'>), ('ptyprocess.util', <module 'ptyprocess.util' from '/Users/shouei/.virtualenvs/WEB/lib/python3.6/site-packages/ptyprocess/util.py'>), ('pexpect.spawnbase', <module 'pexpect.spawnbase' from '/Users/shouei/.virtualenvs/WEB/lib/python3.6/site-packages/pexpect/spawnbase.py'>), ('pexpect.run', <module 'pexpect.run' from '/Users/shouei/.virtualenvs/WEB/lib/python3.6/site-packages/pexpect/run.py'>), ('IPython.utils._process_common', <module 'IPython.utils._process_common' from '/Users/shouei/.virtualenvs/WEB/lib/python3.6/site-packages/IPython/utils/_process_common.py'>), ('shlex', <module 'shlex' from '/usr/local/Cellar/python/3.6.5/Frameworks/Python.framework/Versions/3.6/lib/python3.6/shlex.py'>), ('IPython.utils.decorators', <module 'IPython.utils.decorators' from '/Users/shouei/.virtualenvs/WEB/lib/python3.6/site-packages/IPython/utils/decorators.py'>), ('IPython.utils.data', <module 'IPython.utils.data' from '/Users/shouei/.virtualenvs/WEB/lib/python3.6/site-packages/IPython/utils/data.py'>), ('IPython.utils.terminal', <module 'IPython.utils.terminal' from '/Users/shouei/.virtualenvs/WEB/lib/python3.6/site-packages/IPython/utils/terminal.py'>), ('IPython.utils.sysinfo', <module 'IPython.utils.sysinfo' from '/Users/shouei/.virtualenvs/WEB/lib/python3.6/site-packages/IPython/utils/sysinfo.py'>), ('IPython.utils._sysinfo', <module 'IPython.utils._sysinfo' from '/Users/shouei/.virtualenvs/WEB/lib/python3.6/site-packages/IPython/utils/_sysinfo.py'>), ('IPython.core.profiledir', <module 'IPython.core.profiledir' from '/Users/shouei/.virtualenvs/WEB/lib/python3.6/site-packages/IPython/core/profiledir.py'>), ('IPython.paths', <module 'IPython.paths' from '/Users/shouei/.virtualenvs/WEB/lib/python3.6/site-packages/IPython/paths.py'>), ('tempfile', <module 'tempfile' from '/Users/shouei/.virtualenvs/WEB/lib/python3.6/tempfile.py'>), ('IPython.utils.importstring', <module 'IPython.utils.importstring' from '/Users/shouei/.virtualenvs/WEB/lib/python3.6/site-packages/IPython/utils/importstring.py'>), ('IPython.terminal', <module 'IPython.terminal' from '/Users/shouei/.virtualenvs/WEB/lib/python3.6/site-packages/IPython/terminal/__init__.py'>), ('IPython.terminal.embed', <module 'IPython.terminal.embed' from '/Users/shouei/.virtualenvs/WEB/lib/python3.6/site-packages/IPython/terminal/embed.py'>), ('IPython.core.compilerop', <module 'IPython.core.compilerop' from '/Users/shouei/.virtualenvs/WEB/lib/python3.6/site-packages/IPython/core/compilerop.py'>), ('IPython.core.magic_arguments', <module 'IPython.core.magic_arguments' from '/Users/shouei/.virtualenvs/WEB/lib/python3.6/site-packages/IPython/core/magic_arguments.py'>), ('IPython.core.error', <module 'IPython.core.error' from '/Users/shouei/.virtualenvs/WEB/lib/python3.6/site-packages/IPython/core/error.py'>), ('IPython.utils.text', <module 'IPython.utils.text' from '/Users/shouei/.virtualenvs/WEB/lib/python3.6/site-packages/IPython/utils/text.py'>), ('pathlib', <module 'pathlib' from '/usr/local/Cellar/python/3.6.5/Frameworks/Python.framework/Versions/3.6/lib/python3.6/pathlib.py'>), ('ntpath', <module 'ntpath' from '/Users/shouei/.virtualenvs/WEB/lib/python3.6/ntpath.py'>), ('IPython.core.magic', <module 'IPython.core.magic' from '/Users/shouei/.virtualenvs/WEB/lib/python3.6/site-packages/IPython/core/magic.py'>), ('getopt', <module 'getopt' from '/usr/local/Cellar/python/3.6.5/Frameworks/Python.framework/Versions/3.6/lib/python3.6/getopt.py'>), ('IPython.core.oinspect', <module 'IPython.core.oinspect' from '/Users/shouei/.virtualenvs/WEB/lib/python3.6/site-packages/IPython/core/oinspect.py'>), ('IPython.core.page', <module 'IPython.core.page' from '/Users/shouei/.virtualenvs/WEB/lib/python3.6/site-packages/IPython/core/page.py'>), ('IPython.core.display', <module 'IPython.core.display' from '/Users/shouei/.virtualenvs/WEB/lib/python3.6/site-packages/IPython/core/display.py'>), ('binascii', <module 'binascii' from '/Users/shouei/.virtualenvs/WEB/lib/python3.6/lib-dynload/binascii.cpython-36m-darwin.so'>), ('mimetypes', <module 'mimetypes' from '/usr/local/Cellar/python/3.6.5/Frameworks/Python.framework/Versions/3.6/lib/python3.6/mimetypes.py'>), ('IPython.lib', <module 'IPython.lib' from '/Users/shouei/.virtualenvs/WEB/lib/python3.6/site-packages/IPython/lib/__init__.py'>), ('IPython.lib.security', <module 'IPython.lib.security' from '/Users/shouei/.virtualenvs/WEB/lib/python3.6/site-packages/IPython/lib/security.py'>), ('getpass', <module 'getpass' from '/usr/local/Cellar/python/3.6.5/Frameworks/Python.framework/Versions/3.6/lib/python3.6/getpass.py'>), ('IPython.lib.pretty', <module 'IPython.lib.pretty' from '/Users/shouei/.virtualenvs/WEB/lib/python3.6/site-packages/IPython/lib/pretty.py'>), ('datetime', <module 'datetime' from '/usr/local/Cellar/python/3.6.5/Frameworks/Python.framework/Versions/3.6/lib/python3.6/datetime.py'>), ('_datetime', <module '_datetime' from '/Users/shouei/.virtualenvs/WEB/lib/python3.6/lib-dynload/_datetime.cpython-36m-darwin.so'>), ('IPython.utils.signatures', <module 'IPython.utils.signatures' from '/Users/shouei/.virtualenvs/WEB/lib/python3.6/site-packages/IPython/utils/signatures.py'>), ('IPython.utils.dir2', <module 'IPython.utils.dir2' from '/Users/shouei/.virtualenvs/WEB/lib/python3.6/site-packages/IPython/utils/dir2.py'>), ('IPython.utils.wildcard', <module 'IPython.utils.wildcard' from '/Users/shouei/.virtualenvs/WEB/lib/python3.6/site-packages/IPython/utils/wildcard.py'>), ('pygments.lexers', <module 'pygments.lexers' from '/Users/shouei/.virtualenvs/WEB/lib/python3.6/site-packages/pygments/lexers/__init__.py'>), ('pygments.lexers._mapping', <module 'pygments.lexers._mapping' from '/Users/shouei/.virtualenvs/WEB/lib/python3.6/site-packages/pygments/lexers/_mapping.py'>), ('pygments.modeline', <module 'pygments.modeline' from '/Users/shouei/.virtualenvs/WEB/lib/python3.6/site-packages/pygments/modeline.py'>), ('pygments.plugin', <module 'pygments.plugin' from '/Users/shouei/.virtualenvs/WEB/lib/python3.6/site-packages/pygments/plugin.py'>), ('pygments.lexers.python', <module 'pygments.lexers.python' from '/Users/shouei/.virtualenvs/WEB/lib/python3.6/site-packages/pygments/lexers/python.py'>), ('pygments.lexer', <module 'pygments.lexer' from '/Users/shouei/.virtualenvs/WEB/lib/python3.6/site-packages/pygments/lexer.py'>), ('pygments.filter', <module 'pygments.filter' from '/Users/shouei/.virtualenvs/WEB/lib/python3.6/site-packages/pygments/filter.py'>), ('pygments.filters', <module 'pygments.filters' from '/Users/shouei/.virtualenvs/WEB/lib/python3.6/site-packages/pygments/filters/__init__.py'>), ('pygments.token', <module 'pygments.token' from '/Users/shouei/.virtualenvs/WEB/lib/python3.6/site-packages/pygments/token.py'>), ('pygments.regexopt', <module 'pygments.regexopt' from '/Users/shouei/.virtualenvs/WEB/lib/python3.6/site-packages/pygments/regexopt.py'>), ('pygments.unistring', <module 'pygments.unistring' from '/Users/shouei/.virtualenvs/WEB/lib/python3.6/site-packages/pygments/unistring.py'>), ('pygments.formatters', <module 'pygments.formatters' from '/Users/shouei/.virtualenvs/WEB/lib/python3.6/site-packages/pygments/formatters/__init__.py'>), ('pygments.formatters._mapping', <module 'pygments.formatters._mapping' from '/Users/shouei/.virtualenvs/WEB/lib/python3.6/site-packages/pygments/formatters/_mapping.py'>), ('pygments.formatters.html', <module 'pygments.formatters.html' from '/Users/shouei/.virtualenvs/WEB/lib/python3.6/site-packages/pygments/formatters/html.py'>), ('pygments.formatter', <module 'pygments.formatter' from '/Users/shouei/.virtualenvs/WEB/lib/python3.6/site-packages/pygments/formatter.py'>), ('pygments.styles', <module 'pygments.styles' from '/Users/shouei/.virtualenvs/WEB/lib/python3.6/site-packages/pygments/styles/__init__.py'>), ('IPython.core.inputsplitter', <module 'IPython.core.inputsplitter' from '/Users/shouei/.virtualenvs/WEB/lib/python3.6/site-packages/IPython/core/inputsplitter.py'>), ('IPython.core.inputtransformer', <module 'IPython.core.inputtransformer' from '/Users/shouei/.virtualenvs/WEB/lib/python3.6/site-packages/IPython/core/inputtransformer.py'>), ('IPython.core.splitinput', <module 'IPython.core.splitinput' from '/Users/shouei/.virtualenvs/WEB/lib/python3.6/site-packages/IPython/core/splitinput.py'>), ('IPython.utils.tokenize2', <module 'IPython.utils.tokenize2' from '/Users/shouei/.virtualenvs/WEB/lib/python3.6/site-packages/IPython/utils/tokenize2.py'>), ('IPython.core.interactiveshell', <module 'IPython.core.interactiveshell' from '/Users/shouei/.virtualenvs/WEB/lib/python3.6/site-packages/IPython/core/interactiveshell.py'>), ('pickleshare', <module 'pickleshare' from '/Users/shouei/.virtualenvs/WEB/lib/python3.6/site-packages/pickleshare.py'>), ('pickle', <module 'pickle' from '/usr/local/Cellar/python/3.6.5/Frameworks/Python.framework/Versions/3.6/lib/python3.6/pickle.py'>), ('_compat_pickle', <module '_compat_pickle' from '/usr/local/Cellar/python/3.6.5/Frameworks/Python.framework/Versions/3.6/lib/python3.6/_compat_pickle.py'>), ('_pickle', <module '_pickle' from '/Users/shouei/.virtualenvs/WEB/lib/python3.6/lib-dynload/_pickle.cpython-36m-darwin.so'>), ('IPython.core.prefilter', <module 'IPython.core.prefilter' from '/Users/shouei/.virtualenvs/WEB/lib/python3.6/site-packages/IPython/core/prefilter.py'>), ('IPython.core.autocall', <module 'IPython.core.autocall' from '/Users/shouei/.virtualenvs/WEB/lib/python3.6/site-packages/IPython/core/autocall.py'>), ('IPython.core.macro', <module 'IPython.core.macro' from '/Users/shouei/.virtualenvs/WEB/lib/python3.6/site-packages/IPython/core/macro.py'>), ('IPython.core.alias', <module 'IPython.core.alias' from '/Users/shouei/.virtualenvs/WEB/lib/python3.6/site-packages/IPython/core/alias.py'>), ('IPython.core.builtin_trap', <module 'IPython.core.builtin_trap' from '/Users/shouei/.virtualenvs/WEB/lib/python3.6/site-packages/IPython/core/builtin_trap.py'>), ('IPython.core.events', <module 'IPython.core.events' from '/Users/shouei/.virtualenvs/WEB/lib/python3.6/site-packages/IPython/core/events.py'>), ('backcall', <module 'backcall' from '/Users/shouei/.virtualenvs/WEB/lib/python3.6/site-packages/backcall/__init__.py'>), ('backcall.backcall', <module 'backcall.backcall' from '/Users/shouei/.virtualenvs/WEB/lib/python3.6/site-packages/backcall/backcall.py'>), ('IPython.core.displayhook', <module 'IPython.core.displayhook' from '/Users/shouei/.virtualenvs/WEB/lib/python3.6/site-packages/IPython/core/displayhook.py'>), ('IPython.core.displaypub', <module 'IPython.core.displaypub' from '/Users/shouei/.virtualenvs/WEB/lib/python3.6/site-packages/IPython/core/displaypub.py'>), ('IPython.core.extensions', <module 'IPython.core.extensions' from '/Users/shouei/.virtualenvs/WEB/lib/python3.6/site-packages/IPython/core/extensions.py'>), ('IPython.core.formatters', <module 'IPython.core.formatters' from '/Users/shouei/.virtualenvs/WEB/lib/python3.6/site-packages/IPython/core/formatters.py'>), ('IPython.utils.sentinel', <module 'IPython.utils.sentinel' from '/Users/shouei/.virtualenvs/WEB/lib/python3.6/site-packages/IPython/utils/sentinel.py'>), ('IPython.core.history', <module 'IPython.core.history' from '/Users/shouei/.virtualenvs/WEB/lib/python3.6/site-packages/IPython/core/history.py'>), ('sqlite3', <module 'sqlite3' from '/usr/local/Cellar/python/3.6.5/Frameworks/Python.framework/Versions/3.6/lib/python3.6/sqlite3/__init__.py'>), ('sqlite3.dbapi2', <module 'sqlite3.dbapi2' from '/usr/local/Cellar/python/3.6.5/Frameworks/Python.framework/Versions/3.6/lib/python3.6/sqlite3/dbapi2.py'>), ('_sqlite3', <module '_sqlite3' from '/Users/shouei/.virtualenvs/WEB/lib/python3.6/lib-dynload/_sqlite3.cpython-36m-darwin.so'>), ('IPython.core.logger', <module 'IPython.core.logger' from '/Users/shouei/.virtualenvs/WEB/lib/python3.6/site-packages/IPython/core/logger.py'>), ('IPython.core.payload', <module 'IPython.core.payload' from '/Users/shouei/.virtualenvs/WEB/lib/python3.6/site-packages/IPython/core/payload.py'>), ('IPython.core.usage', <module 'IPython.core.usage' from '/Users/shouei/.virtualenvs/WEB/lib/python3.6/site-packages/IPython/core/usage.py'>), ('IPython.display', <module 'IPython.display' from '/Users/shouei/.virtualenvs/WEB/lib/python3.6/site-packages/IPython/display.py'>), ('IPython.lib.display', <module 'IPython.lib.display' from '/Users/shouei/.virtualenvs/WEB/lib/python3.6/site-packages/IPython/lib/display.py'>), ('html', <module 'html' from '/usr/local/Cellar/python/3.6.5/Frameworks/Python.framework/Versions/3.6/lib/python3.6/html/__init__.py'>), ('html.entities', <module 'html.entities' from '/usr/local/Cellar/python/3.6.5/Frameworks/Python.framework/Versions/3.6/lib/python3.6/html/entities.py'>), ('IPython.utils.io', <module 'IPython.utils.io' from '/Users/shouei/.virtualenvs/WEB/lib/python3.6/site-packages/IPython/utils/io.py'>), ('IPython.utils.capture', <module 'IPython.utils.capture' from '/Users/shouei/.virtualenvs/WEB/lib/python3.6/site-packages/IPython/utils/capture.py'>), ('IPython.utils.strdispatch', <module 'IPython.utils.strdispatch' from '/Users/shouei/.virtualenvs/WEB/lib/python3.6/site-packages/IPython/utils/strdispatch.py'>), ('IPython.core.hooks', <module 'IPython.core.hooks' from '/Users/shouei/.virtualenvs/WEB/lib/python3.6/site-packages/IPython/core/hooks.py'>), ('IPython.utils.syspathcontext', <module 'IPython.utils.syspathcontext' from '/Users/shouei/.virtualenvs/WEB/lib/python3.6/site-packages/IPython/utils/syspathcontext.py'>), ('IPython.utils.tempdir', <module 'IPython.utils.tempdir' from '/Users/shouei/.virtualenvs/WEB/lib/python3.6/site-packages/IPython/utils/tempdir.py'>), ('typing', <module 'typing' from '/usr/local/Cellar/python/3.6.5/Frameworks/Python.framework/Versions/3.6/lib/python3.6/typing.py'>), ('typing.io', <class 'typing.io'>), ('typing.re', <class 'typing.re'>), ('IPython.utils.contexts', <module 'IPython.utils.contexts' from '/Users/shouei/.virtualenvs/WEB/lib/python3.6/site-packages/IPython/utils/contexts.py'>), ('IPython.terminal.interactiveshell', <module 'IPython.terminal.interactiveshell' from '/Users/shouei/.virtualenvs/WEB/lib/python3.6/site-packages/IPython/terminal/interactiveshell.py'>), ('prompt_toolkit', <module 'prompt_toolkit' from '/Users/shouei/.virtualenvs/WEB/lib/python3.6/site-packages/prompt_toolkit/__init__.py'>), ('prompt_toolkit.interface', <module 'prompt_toolkit.interface' from '/Users/shouei/.virtualenvs/WEB/lib/python3.6/site-packages/prompt_toolkit/interface.py'>), ('prompt_toolkit.application', <module 'prompt_toolkit.application' from '/Users/shouei/.virtualenvs/WEB/lib/python3.6/site-packages/prompt_toolkit/application.py'>), ('prompt_toolkit.buffer', <module 'prompt_toolkit.buffer' from '/Users/shouei/.virtualenvs/WEB/lib/python3.6/site-packages/prompt_toolkit/buffer.py'>), ('prompt_toolkit.auto_suggest', <module 'prompt_toolkit.auto_suggest' from '/Users/shouei/.virtualenvs/WEB/lib/python3.6/site-packages/prompt_toolkit/auto_suggest.py'>), ('prompt_toolkit.filters', <module 'prompt_toolkit.filters' from '/Users/shouei/.virtualenvs/WEB/lib/python3.6/site-packages/prompt_toolkit/filters/__init__.py'>), ('prompt_toolkit.filters.base', <module 'prompt_toolkit.filters.base' from '/Users/shouei/.virtualenvs/WEB/lib/python3.6/site-packages/prompt_toolkit/filters/base.py'>), ('prompt_toolkit.utils', <module 'prompt_toolkit.utils' from '/Users/shouei/.virtualenvs/WEB/lib/python3.6/site-packages/prompt_toolkit/utils.py'>), ('wcwidth', <module 'wcwidth' from '/Users/shouei/.virtualenvs/WEB/lib/python3.6/site-packages/wcwidth/__init__.py'>), ('wcwidth.wcwidth', <module 'wcwidth.wcwidth' from '/Users/shouei/.virtualenvs/WEB/lib/python3.6/site-packages/wcwidth/wcwidth.py'>), ('wcwidth.table_wide', <module 'wcwidth.table_wide' from '/Users/shouei/.virtualenvs/WEB/lib/python3.6/site-packages/wcwidth/table_wide.py'>), ('wcwidth.table_zero', <module 'wcwidth.table_zero' from '/Users/shouei/.virtualenvs/WEB/lib/python3.6/site-packages/wcwidth/table_zero.py'>), ('six.moves', <module 'six.moves' (<six._SixMetaPathImporter object at 0x103e9f2e8>)>), ('prompt_toolkit.filters.cli', <module 'prompt_toolkit.filters.cli' from '/Users/shouei/.virtualenvs/WEB/lib/python3.6/site-packages/prompt_toolkit/filters/cli.py'>), ('prompt_toolkit.enums', <module 'prompt_toolkit.enums' from '/Users/shouei/.virtualenvs/WEB/lib/python3.6/site-packages/prompt_toolkit/enums.py'>), ('prompt_toolkit.key_binding', <module 'prompt_toolkit.key_binding' from '/Users/shouei/.virtualenvs/WEB/lib/python3.6/site-packages/prompt_toolkit/key_binding/__init__.py'>), ('prompt_toolkit.key_binding.vi_state', <module 'prompt_toolkit.key_binding.vi_state' from '/Users/shouei/.virtualenvs/WEB/lib/python3.6/site-packages/prompt_toolkit/key_binding/vi_state.py'>), ('prompt_toolkit.cache', <module 'prompt_toolkit.cache' from '/Users/shouei/.virtualenvs/WEB/lib/python3.6/site-packages/prompt_toolkit/cache.py'>), ('prompt_toolkit.filters.types', <module 'prompt_toolkit.filters.types' from '/Users/shouei/.virtualenvs/WEB/lib/python3.6/site-packages/prompt_toolkit/filters/types.py'>), ('prompt_toolkit.filters.utils', <module 'prompt_toolkit.filters.utils' from '/Users/shouei/.virtualenvs/WEB/lib/python3.6/site-packages/prompt_toolkit/filters/utils.py'>), ('prompt_toolkit.clipboard', <module 'prompt_toolkit.clipboard' from '/Users/shouei/.virtualenvs/WEB/lib/python3.6/site-packages/prompt_toolkit/clipboard/__init__.py'>), ('prompt_toolkit.clipboard.base', <module 'prompt_toolkit.clipboard.base' from '/Users/shouei/.virtualenvs/WEB/lib/python3.6/site-packages/prompt_toolkit/clipboard/base.py'>), ('prompt_toolkit.selection', <module 'prompt_toolkit.selection' from '/Users/shouei/.virtualenvs/WEB/lib/python3.6/site-packages/prompt_toolkit/selection.py'>), ('prompt_toolkit.clipboard.in_memory', <module 'prompt_toolkit.clipboard.in_memory' from '/Users/shouei/.virtualenvs/WEB/lib/python3.6/site-packages/prompt_toolkit/clipboard/in_memory.py'>), ('prompt_toolkit.completion', <module 'prompt_toolkit.completion' from '/Users/shouei/.virtualenvs/WEB/lib/python3.6/site-packages/prompt_toolkit/completion.py'>), ('prompt_toolkit.document', <module 'prompt_toolkit.document' from '/Users/shouei/.virtualenvs/WEB/lib/python3.6/site-packages/prompt_toolkit/document.py'>), ('prompt_toolkit.history', <module 'prompt_toolkit.history' from '/Users/shouei/.virtualenvs/WEB/lib/python3.6/site-packages/prompt_toolkit/history.py'>), ('prompt_toolkit.search_state', <module 'prompt_toolkit.search_state' from '/Users/shouei/.virtualenvs/WEB/lib/python3.6/site-packages/prompt_toolkit/search_state.py'>), ('prompt_toolkit.validation', <module 'prompt_toolkit.validation' from '/Users/shouei/.virtualenvs/WEB/lib/python3.6/site-packages/prompt_toolkit/validation.py'>), ('prompt_toolkit.buffer_mapping', <module 'prompt_toolkit.buffer_mapping' from '/Users/shouei/.virtualenvs/WEB/lib/python3.6/site-packages/prompt_toolkit/buffer_mapping.py'>), ('prompt_toolkit.key_binding.bindings', <module 'prompt_toolkit.key_binding.bindings' from '/Users/shouei/.virtualenvs/WEB/lib/python3.6/site-packages/prompt_toolkit/key_binding/bindings/__init__.py'>), ('prompt_toolkit.key_binding.bindings.basic', <module 'prompt_toolkit.key_binding.bindings.basic' from '/Users/shouei/.virtualenvs/WEB/lib/python3.6/site-packages/prompt_toolkit/key_binding/bindings/basic.py'>), ('prompt_toolkit.keys', <module 'prompt_toolkit.keys' from '/Users/shouei/.virtualenvs/WEB/lib/python3.6/site-packages/prompt_toolkit/keys.py'>), ('prompt_toolkit.layout', <module 'prompt_toolkit.layout' from '/Users/shouei/.virtualenvs/WEB/lib/python3.6/site-packages/prompt_toolkit/layout/__init__.py'>), ('prompt_toolkit.layout.containers', <module 'prompt_toolkit.layout.containers' from '/Users/shouei/.virtualenvs/WEB/lib/python3.6/site-packages/prompt_toolkit/layout/containers.py'>), ('prompt_toolkit.layout.controls', <module 'prompt_toolkit.layout.controls' from '/Users/shouei/.virtualenvs/WEB/lib/python3.6/site-packages/prompt_toolkit/layout/controls.py'>), ('prompt_toolkit.mouse_events', <module 'prompt_toolkit.mouse_events' from '/Users/shouei/.virtualenvs/WEB/lib/python3.6/site-packages/prompt_toolkit/mouse_events.py'>), ('prompt_toolkit.token', <module 'prompt_toolkit.token' from '/Users/shouei/.virtualenvs/WEB/lib/python3.6/site-packages/prompt_toolkit/token.py'>), ('prompt_toolkit.layout.lexers', <module 'prompt_toolkit.layout.lexers' from '/Users/shouei/.virtualenvs/WEB/lib/python3.6/site-packages/prompt_toolkit/layout/lexers.py'>), ('prompt_toolkit.layout.utils', <module 'prompt_toolkit.layout.utils' from '/Users/shouei/.virtualenvs/WEB/lib/python3.6/site-packages/prompt_toolkit/layout/utils.py'>), ('prompt_toolkit.layout.processors', <module 'prompt_toolkit.layout.processors' from '/Users/shouei/.virtualenvs/WEB/lib/python3.6/site-packages/prompt_toolkit/layout/processors.py'>), ('prompt_toolkit.reactive', <module 'prompt_toolkit.reactive' from '/Users/shouei/.virtualenvs/WEB/lib/python3.6/site-packages/prompt_toolkit/reactive.py'>), ('prompt_toolkit.layout.screen', <module 'prompt_toolkit.layout.screen' from '/Users/shouei/.virtualenvs/WEB/lib/python3.6/site-packages/prompt_toolkit/layout/screen.py'>), ('prompt_toolkit.layout.dimension', <module 'prompt_toolkit.layout.dimension' from '/Users/shouei/.virtualenvs/WEB/lib/python3.6/site-packages/prompt_toolkit/layout/dimension.py'>), ('prompt_toolkit.layout.margins', <module 'prompt_toolkit.layout.margins' from '/Users/shouei/.virtualenvs/WEB/lib/python3.6/site-packages/prompt_toolkit/layout/margins.py'>), ('prompt_toolkit.renderer', <module 'prompt_toolkit.renderer' from '/Users/shouei/.virtualenvs/WEB/lib/python3.6/site-packages/prompt_toolkit/renderer.py'>), ('prompt_toolkit.layout.mouse_handlers', <module 'prompt_toolkit.layout.mouse_handlers' from '/Users/shouei/.virtualenvs/WEB/lib/python3.6/site-packages/prompt_toolkit/layout/mouse_handlers.py'>), ('prompt_toolkit.output', <module 'prompt_toolkit.output' from '/Users/shouei/.virtualenvs/WEB/lib/python3.6/site-packages/prompt_toolkit/output.py'>), ('prompt_toolkit.styles', <module 'prompt_toolkit.styles' from '/Users/shouei/.virtualenvs/WEB/lib/python3.6/site-packages/prompt_toolkit/styles/__init__.py'>), ('prompt_toolkit.styles.base', <module 'prompt_toolkit.styles.base' from '/Users/shouei/.virtualenvs/WEB/lib/python3.6/site-packages/prompt_toolkit/styles/base.py'>), ('prompt_toolkit.styles.defaults', <module 'prompt_toolkit.styles.defaults' from '/Users/shouei/.virtualenvs/WEB/lib/python3.6/site-packages/prompt_toolkit/styles/defaults.py'>), ('prompt_toolkit.styles.from_dict', <module 'prompt_toolkit.styles.from_dict' from '/Users/shouei/.virtualenvs/WEB/lib/python3.6/site-packages/prompt_toolkit/styles/from_dict.py'>), ('prompt_toolkit.styles.utils', <module 'prompt_toolkit.styles.utils' from '/Users/shouei/.virtualenvs/WEB/lib/python3.6/site-packages/prompt_toolkit/styles/utils.py'>), ('prompt_toolkit.styles.from_pygments', <module 'prompt_toolkit.styles.from_pygments' from '/Users/shouei/.virtualenvs/WEB/lib/python3.6/site-packages/prompt_toolkit/styles/from_pygments.py'>), ('pygments.style', <module 'pygments.style' from '/Users/shouei/.virtualenvs/WEB/lib/python3.6/site-packages/pygments/style.py'>), ('pygments.styles.default', <module 'pygments.styles.default' from '/Users/shouei/.virtualenvs/WEB/lib/python3.6/site-packages/pygments/styles/default.py'>), ('prompt_toolkit.key_binding.bindings.named_commands', <module 'prompt_toolkit.key_binding.bindings.named_commands' from '/Users/shouei/.virtualenvs/WEB/lib/python3.6/site-packages/prompt_toolkit/key_binding/bindings/named_commands.py'>), ('prompt_toolkit.key_binding.bindings.completion', <module 'prompt_toolkit.key_binding.bindings.completion' from '/Users/shouei/.virtualenvs/WEB/lib/python3.6/site-packages/prompt_toolkit/key_binding/bindings/completion.py'>), ('prompt_toolkit.key_binding.registry', <module 'prompt_toolkit.key_binding.registry' from '/Users/shouei/.virtualenvs/WEB/lib/python3.6/site-packages/prompt_toolkit/key_binding/registry.py'>), ('prompt_toolkit.key_binding.input_processor', <module 'prompt_toolkit.key_binding.input_processor' from '/Users/shouei/.virtualenvs/WEB/lib/python3.6/site-packages/prompt_toolkit/key_binding/input_processor.py'>), ('prompt_toolkit.key_binding.bindings.emacs', <module 'prompt_toolkit.key_binding.bindings.emacs' from '/Users/shouei/.virtualenvs/WEB/lib/python3.6/site-packages/prompt_toolkit/key_binding/bindings/emacs.py'>), ('prompt_toolkit.key_binding.bindings.scroll', <module 'prompt_toolkit.key_binding.bindings.scroll' from '/Users/shouei/.virtualenvs/WEB/lib/python3.6/site-packages/prompt_toolkit/key_binding/bindings/scroll.py'>), ('prompt_toolkit.key_binding.bindings.vi', <module 'prompt_toolkit.key_binding.bindings.vi' from '/Users/shouei/.virtualenvs/WEB/lib/python3.6/site-packages/prompt_toolkit/key_binding/bindings/vi.py'>), ('prompt_toolkit.key_binding.digraphs', <module 'prompt_toolkit.key_binding.digraphs' from '/Users/shouei/.virtualenvs/WEB/lib/python3.6/site-packages/prompt_toolkit/key_binding/digraphs.py'>), ('prompt_toolkit.key_binding.defaults', <module 'prompt_toolkit.key_binding.defaults' from '/Users/shouei/.virtualenvs/WEB/lib/python3.6/site-packages/prompt_toolkit/key_binding/defaults.py'>), ('prompt_toolkit.eventloop', <module 'prompt_toolkit.eventloop' from '/Users/shouei/.virtualenvs/WEB/lib/python3.6/site-packages/prompt_toolkit/eventloop/__init__.py'>), ('prompt_toolkit.eventloop.base', <module 'prompt_toolkit.eventloop.base' from '/Users/shouei/.virtualenvs/WEB/lib/python3.6/site-packages/prompt_toolkit/eventloop/base.py'>), ('prompt_toolkit.eventloop.callbacks', <module 'prompt_toolkit.eventloop.callbacks' from '/Users/shouei/.virtualenvs/WEB/lib/python3.6/site-packages/prompt_toolkit/eventloop/callbacks.py'>), ('prompt_toolkit.input', <module 'prompt_toolkit.input' from '/Users/shouei/.virtualenvs/WEB/lib/python3.6/site-packages/prompt_toolkit/input.py'>), ('prompt_toolkit.terminal', <module 'prompt_toolkit.terminal' from '/Users/shouei/.virtualenvs/WEB/lib/python3.6/site-packages/prompt_toolkit/terminal/__init__.py'>), ('prompt_toolkit.terminal.vt100_input', <module 'prompt_toolkit.terminal.vt100_input' from '/Users/shouei/.virtualenvs/WEB/lib/python3.6/site-packages/prompt_toolkit/terminal/vt100_input.py'>), ('prompt_toolkit.shortcuts', <module 'prompt_toolkit.shortcuts' from '/Users/shouei/.virtualenvs/WEB/lib/python3.6/site-packages/prompt_toolkit/shortcuts.py'>), ('prompt_toolkit.layout.menus', <module 'prompt_toolkit.layout.menus' from '/Users/shouei/.virtualenvs/WEB/lib/python3.6/site-packages/prompt_toolkit/layout/menus.py'>), ('prompt_toolkit.layout.prompt', <module 'prompt_toolkit.layout.prompt' from '/Users/shouei/.virtualenvs/WEB/lib/python3.6/site-packages/prompt_toolkit/layout/prompt.py'>), ('prompt_toolkit.layout.toolbars', <module 'prompt_toolkit.layout.toolbars' from '/Users/shouei/.virtualenvs/WEB/lib/python3.6/site-packages/prompt_toolkit/layout/toolbars.py'>), ('prompt_toolkit.terminal.vt100_output', <module 'prompt_toolkit.terminal.vt100_output' from '/Users/shouei/.virtualenvs/WEB/lib/python3.6/site-packages/prompt_toolkit/terminal/vt100_output.py'>), ('array', <module 'array' from '/Users/shouei/.virtualenvs/WEB/lib/python3.6/lib-dynload/array.cpython-36m-darwin.so'>), ('prompt_toolkit.key_binding.manager', <module 'prompt_toolkit.key_binding.manager' from '/Users/shouei/.virtualenvs/WEB/lib/python3.6/site-packages/prompt_toolkit/key_binding/manager.py'>), ('IPython.terminal.debugger', <module 'IPython.terminal.debugger' from '/Users/shouei/.virtualenvs/WEB/lib/python3.6/site-packages/IPython/terminal/debugger.py'>), ('IPython.core.completer', <module 'IPython.core.completer' from '/Users/shouei/.virtualenvs/WEB/lib/python3.6/site-packages/IPython/core/completer.py'>), ('unicodedata', <module 'unicodedata' from '/Users/shouei/.virtualenvs/WEB/lib/python3.6/lib-dynload/unicodedata.cpython-36m-darwin.so'>), ('IPython.core.latex_symbols', <module 'IPython.core.latex_symbols' from '/Users/shouei/.virtualenvs/WEB/lib/python3.6/site-packages/IPython/core/latex_symbols.py'>), ('IPython.utils.generics', <module 'IPython.utils.generics' from '/Users/shouei/.virtualenvs/WEB/lib/python3.6/site-packages/IPython/utils/generics.py'>), ('simplegeneric', <module 'simplegeneric' from '/Users/shouei/.virtualenvs/WEB/lib/python3.6/site-packages/simplegeneric.py'>), ('jedi', <module 'jedi' from '/Users/shouei/.virtualenvs/WEB/lib/python3.6/site-packages/jedi/__init__.py'>), ('jedi.api', <module 'jedi.api' from '/Users/shouei/.virtualenvs/WEB/lib/python3.6/site-packages/jedi/api/__init__.py'>), ('parso', <module 'parso' from '/Users/shouei/.virtualenvs/WEB/lib/python3.6/site-packages/parso/__init__.py'>), ('parso.parser', <module 'parso.parser' from '/Users/shouei/.virtualenvs/WEB/lib/python3.6/site-packages/parso/parser.py'>), ('parso.tree', <module 'parso.tree' from '/Users/shouei/.virtualenvs/WEB/lib/python3.6/site-packages/parso/tree.py'>), ('parso._compatibility', <module 'parso._compatibility' from '/Users/shouei/.virtualenvs/WEB/lib/python3.6/site-packages/parso/_compatibility.py'>), ('parso.pgen2', <module 'parso.pgen2' from '/Users/shouei/.virtualenvs/WEB/lib/python3.6/site-packages/parso/pgen2/__init__.py'>), ('parso.pgen2.parse', <module 'parso.pgen2.parse' from '/Users/shouei/.virtualenvs/WEB/lib/python3.6/site-packages/parso/pgen2/parse.py'>), ('parso.python', <module 'parso.python' from '/Users/shouei/.virtualenvs/WEB/lib/python3.6/site-packages/parso/python/__init__.py'>), ('parso.python.tokenize', <module 'parso.python.tokenize' from '/Users/shouei/.virtualenvs/WEB/lib/python3.6/site-packages/parso/python/tokenize.py'>), ('parso.python.token', <module 'parso.python.token' from '/Users/shouei/.virtualenvs/WEB/lib/python3.6/site-packages/parso/python/token.py'>), ('parso.utils', <module 'parso.utils' from '/Users/shouei/.virtualenvs/WEB/lib/python3.6/site-packages/parso/utils.py'>), ('parso.grammar', <module 'parso.grammar' from '/Users/shouei/.virtualenvs/WEB/lib/python3.6/site-packages/parso/grammar.py'>), ('parso.pgen2.pgen', <module 'parso.pgen2.pgen' from '/Users/shouei/.virtualenvs/WEB/lib/python3.6/site-packages/parso/pgen2/pgen.py'>), ('parso.pgen2.grammar', <module 'parso.pgen2.grammar' from '/Users/shouei/.virtualenvs/WEB/lib/python3.6/site-packages/parso/pgen2/grammar.py'>), ('parso.python.diff', <module 'parso.python.diff' from '/Users/shouei/.virtualenvs/WEB/lib/python3.6/site-packages/parso/python/diff.py'>), ('difflib', <module 'difflib' from '/usr/local/Cellar/python/3.6.5/Frameworks/Python.framework/Versions/3.6/lib/python3.6/difflib.py'>), ('parso.python.parser', <module 'parso.python.parser' from '/Users/shouei/.virtualenvs/WEB/lib/python3.6/site-packages/parso/python/parser.py'>), ('parso.python.tree', <module 'parso.python.tree' from '/Users/shouei/.virtualenvs/WEB/lib/python3.6/site-packages/parso/python/tree.py'>), ('parso.python.prefix', <module 'parso.python.prefix' from '/Users/shouei/.virtualenvs/WEB/lib/python3.6/site-packages/parso/python/prefix.py'>), ('parso.cache', <module 'parso.cache' from '/Users/shouei/.virtualenvs/WEB/lib/python3.6/site-packages/parso/cache.py'>), ('gc', <module 'gc' (built-in)>), ('parso.python.errors', <module 'parso.python.errors' from '/Users/shouei/.virtualenvs/WEB/lib/python3.6/site-packages/parso/python/errors.py'>), ('parso.normalizer', <module 'parso.normalizer' from '/Users/shouei/.virtualenvs/WEB/lib/python3.6/site-packages/parso/normalizer.py'>), ('parso.python.pep8', <module 'parso.python.pep8' from '/Users/shouei/.virtualenvs/WEB/lib/python3.6/site-packages/parso/python/pep8.py'>), ('jedi._compatibility', <module 'jedi._compatibility' from '/Users/shouei/.virtualenvs/WEB/lib/python3.6/site-packages/jedi/_compatibility.py'>), ('queue', <module 'queue' from '/usr/local/Cellar/python/3.6.5/Frameworks/Python.framework/Versions/3.6/lib/python3.6/queue.py'>), ('jedi.parser_utils', <module 'jedi.parser_utils' from '/Users/shouei/.virtualenvs/WEB/lib/python3.6/site-packages/jedi/parser_utils.py'>), ('jedi.debug', <module 'jedi.debug' from '/Users/shouei/.virtualenvs/WEB/lib/python3.6/site-packages/jedi/debug.py'>), ('jedi.settings', <module 'jedi.settings' from '/Users/shouei/.virtualenvs/WEB/lib/python3.6/site-packages/jedi/settings.py'>), ('jedi.cache', <module 'jedi.cache' from '/Users/shouei/.virtualenvs/WEB/lib/python3.6/site-packages/jedi/cache.py'>), ('jedi.api.classes', <module 'jedi.api.classes' from '/Users/shouei/.virtualenvs/WEB/lib/python3.6/site-packages/jedi/api/classes.py'>), ('jedi.evaluate', <module 'jedi.evaluate' from '/Users/shouei/.virtualenvs/WEB/lib/python3.6/site-packages/jedi/evaluate/__init__.py'>), ('jedi.evaluate.utils', <module 'jedi.evaluate.utils' from '/Users/shouei/.virtualenvs/WEB/lib/python3.6/site-packages/jedi/evaluate/utils.py'>), ('jedi.evaluate.imports', <module 'jedi.evaluate.imports' from '/Users/shouei/.virtualenvs/WEB/lib/python3.6/site-packages/jedi/evaluate/imports.py'>), ('jedi.evaluate.sys_path', <module 'jedi.evaluate.sys_path' from '/Users/shouei/.virtualenvs/WEB/lib/python3.6/site-packages/jedi/evaluate/sys_path.py'>), ('jedi.evaluate.cache', <module 'jedi.evaluate.cache' from '/Users/shouei/.virtualenvs/WEB/lib/python3.6/site-packages/jedi/evaluate/cache.py'>), ('jedi.evaluate.base_context', <module 'jedi.evaluate.base_context' from '/Users/shouei/.virtualenvs/WEB/lib/python3.6/site-packages/jedi/evaluate/base_context.py'>), ('jedi.common', <module 'jedi.common' from '/Users/shouei/.virtualenvs/WEB/lib/python3.6/site-packages/jedi/common/__init__.py'>), ('jedi.common.context', <module 'jedi.common.context' from '/Users/shouei/.virtualenvs/WEB/lib/python3.6/site-packages/jedi/common/context.py'>), ('jedi.evaluate.helpers', <module 'jedi.evaluate.helpers' from '/Users/shouei/.virtualenvs/WEB/lib/python3.6/site-packages/jedi/evaluate/helpers.py'>), ('jedi.evaluate.compiled', <module 'jedi.evaluate.compiled' from '/Users/shouei/.virtualenvs/WEB/lib/python3.6/site-packages/jedi/evaluate/compiled/__init__.py'>), ('jedi.evaluate.compiled.context', <module 'jedi.evaluate.compiled.context' from '/Users/shouei/.virtualenvs/WEB/lib/python3.6/site-packages/jedi/evaluate/compiled/context.py'>), ('jedi.evaluate.filters', <module 'jedi.evaluate.filters' from '/Users/shouei/.virtualenvs/WEB/lib/python3.6/site-packages/jedi/evaluate/filters.py'>), ('jedi.evaluate.flow_analysis', <module 'jedi.evaluate.flow_analysis' from '/Users/shouei/.virtualenvs/WEB/lib/python3.6/site-packages/jedi/evaluate/flow_analysis.py'>), ('jedi.evaluate.recursion', <module 'jedi.evaluate.recursion' from '/Users/shouei/.virtualenvs/WEB/lib/python3.6/site-packages/jedi/evaluate/recursion.py'>), ('jedi.evaluate.lazy_context', <module 'jedi.evaluate.lazy_context' from '/Users/shouei/.virtualenvs/WEB/lib/python3.6/site-packages/jedi/evaluate/lazy_context.py'>), ('jedi.evaluate.compiled.access', <module 'jedi.evaluate.compiled.access' from '/Users/shouei/.virtualenvs/WEB/lib/python3.6/site-packages/jedi/evaluate/compiled/access.py'>), ('jedi.evaluate.compiled.getattr_static', <module 'jedi.evaluate.compiled.getattr_static' from '/Users/shouei/.virtualenvs/WEB/lib/python3.6/site-packages/jedi/evaluate/compiled/getattr_static.py'>), ('jedi.evaluate.compiled.fake', <module 'jedi.evaluate.compiled.fake' from '/Users/shouei/.virtualenvs/WEB/lib/python3.6/site-packages/jedi/evaluate/compiled/fake.py'>), ('jedi.common.utils', <module 'jedi.common.utils' from '/Users/shouei/.virtualenvs/WEB/lib/python3.6/site-packages/jedi/common/utils.py'>), ('jedi.evaluate.analysis', <module 'jedi.evaluate.analysis' from '/Users/shouei/.virtualenvs/WEB/lib/python3.6/site-packages/jedi/evaluate/analysis.py'>), ('jedi.evaluate.context', <module 'jedi.evaluate.context' from '/Users/shouei/.virtualenvs/WEB/lib/python3.6/site-packages/jedi/evaluate/context/__init__.py'>), ('jedi.evaluate.context.module', <module 'jedi.evaluate.context.module' from '/Users/shouei/.virtualenvs/WEB/lib/python3.6/site-packages/jedi/evaluate/context/module.py'>), ('jedi.evaluate.context.klass', <module 'jedi.evaluate.context.klass' from '/Users/shouei/.virtualenvs/WEB/lib/python3.6/site-packages/jedi/evaluate/context/klass.py'>), ('jedi.evaluate.context.function', <module 'jedi.evaluate.context.function' from '/Users/shouei/.virtualenvs/WEB/lib/python3.6/site-packages/jedi/evaluate/context/function.py'>), ('jedi.evaluate.docstrings', <module 'jedi.evaluate.docstrings' from '/Users/shouei/.virtualenvs/WEB/lib/python3.6/site-packages/jedi/evaluate/docstrings.py'>), ('jedi.evaluate.pep0484', <module 'jedi.evaluate.pep0484' from '/Users/shouei/.virtualenvs/WEB/lib/python3.6/site-packages/jedi/evaluate/pep0484.py'>), ('jedi.evaluate.arguments', <module 'jedi.evaluate.arguments' from '/Users/shouei/.virtualenvs/WEB/lib/python3.6/site-packages/jedi/evaluate/arguments.py'>), ('jedi.evaluate.context.iterable', <module 'jedi.evaluate.context.iterable' from '/Users/shouei/.virtualenvs/WEB/lib/python3.6/site-packages/jedi/evaluate/context/iterable.py'>), ('jedi.evaluate.param', <module 'jedi.evaluate.param' from '/Users/shouei/.virtualenvs/WEB/lib/python3.6/site-packages/jedi/evaluate/param.py'>), ('jedi.evaluate.context.asynchronous', <module 'jedi.evaluate.context.asynchronous' from '/Users/shouei/.virtualenvs/WEB/lib/python3.6/site-packages/jedi/evaluate/context/asynchronous.py'>), ('jedi.evaluate.parser_cache', <module 'jedi.evaluate.parser_cache' from '/Users/shouei/.virtualenvs/WEB/lib/python3.6/site-packages/jedi/evaluate/parser_cache.py'>), ('jedi.evaluate.context.instance', <module 'jedi.evaluate.context.instance' from '/Users/shouei/.virtualenvs/WEB/lib/python3.6/site-packages/jedi/evaluate/context/instance.py'>), ('jedi.evaluate.syntax_tree', <module 'jedi.evaluate.syntax_tree' from '/Users/shouei/.virtualenvs/WEB/lib/python3.6/site-packages/jedi/evaluate/syntax_tree.py'>), ('jedi.evaluate.finder', <module 'jedi.evaluate.finder' from '/Users/shouei/.virtualenvs/WEB/lib/python3.6/site-packages/jedi/evaluate/finder.py'>), ('jedi.api.keywords', <module 'jedi.api.keywords' from '/Users/shouei/.virtualenvs/WEB/lib/python3.6/site-packages/jedi/api/keywords.py'>), ('pydoc_data', <module 'pydoc_data' from '/usr/local/Cellar/python/3.6.5/Frameworks/Python.framework/Versions/3.6/lib/python3.6/pydoc_data/__init__.py'>), ('pydoc_data.topics', <module 'pydoc_data.topics' from '/usr/local/Cellar/python/3.6.5/Frameworks/Python.framework/Versions/3.6/lib/python3.6/pydoc_data/topics.py'>), ('jedi.api.interpreter', <module 'jedi.api.interpreter' from '/Users/shouei/.virtualenvs/WEB/lib/python3.6/site-packages/jedi/api/interpreter.py'>), ('jedi.evaluate.compiled.mixed', <module 'jedi.evaluate.compiled.mixed' from '/Users/shouei/.virtualenvs/WEB/lib/python3.6/site-packages/jedi/evaluate/compiled/mixed.py'>), ('jedi.api.helpers', <module 'jedi.api.helpers' from '/Users/shouei/.virtualenvs/WEB/lib/python3.6/site-packages/jedi/api/helpers.py'>), ('jedi.api.completion', <module 'jedi.api.completion' from '/Users/shouei/.virtualenvs/WEB/lib/python3.6/site-packages/jedi/api/completion.py'>), ('jedi.api.environment', <module 'jedi.api.environment' from '/Users/shouei/.virtualenvs/WEB/lib/python3.6/site-packages/jedi/api/environment.py'>), ('filecmp', <module 'filecmp' from '/usr/local/Cellar/python/3.6.5/Frameworks/Python.framework/Versions/3.6/lib/python3.6/filecmp.py'>), ('distutils', <module 'distutils' from '/Users/shouei/.virtualenvs/WEB/lib/python3.6/distutils/__init__.py'>), ('imp', <module 'imp' from '/Users/shouei/.virtualenvs/WEB/lib/python3.6/imp.py'>), ('_virtualenv_distutils', <module '_virtualenv_distutils' from '/usr/local/Cellar/python/3.6.5/Frameworks/Python.framework/Versions/3.6/lib/python3.6/distutils/__init__.py'>), ('distutils.dist', <module 'distutils.dist' from '/usr/local/Cellar/python/3.6.5/Frameworks/Python.framework/Versions/3.6/lib/python3.6/distutils/dist.py'>), ('email', <module 'email' from '/usr/local/Cellar/python/3.6.5/Frameworks/Python.framework/Versions/3.6/lib/python3.6/email/__init__.py'>), ('distutils.errors', <module 'distutils.errors' from '/usr/local/Cellar/python/3.6.5/Frameworks/Python.framework/Versions/3.6/lib/python3.6/distutils/errors.py'>), ('distutils.fancy_getopt', <module 'distutils.fancy_getopt' from '/usr/local/Cellar/python/3.6.5/Frameworks/Python.framework/Versions/3.6/lib/python3.6/distutils/fancy_getopt.py'>), ('distutils.util', <module 'distutils.util' from '/usr/local/Cellar/python/3.6.5/Frameworks/Python.framework/Versions/3.6/lib/python3.6/distutils/util.py'>), ('distutils.dep_util', <module 'distutils.dep_util' from '/usr/local/Cellar/python/3.6.5/Frameworks/Python.framework/Versions/3.6/lib/python3.6/distutils/dep_util.py'>), ('distutils.spawn', <module 'distutils.spawn' from '/usr/local/Cellar/python/3.6.5/Frameworks/Python.framework/Versions/3.6/lib/python3.6/distutils/spawn.py'>), ('distutils.debug', <module 'distutils.debug' from '/usr/local/Cellar/python/3.6.5/Frameworks/Python.framework/Versions/3.6/lib/python3.6/distutils/debug.py'>), ('distutils.log', <module 'distutils.log' from '/usr/local/Cellar/python/3.6.5/Frameworks/Python.framework/Versions/3.6/lib/python3.6/distutils/log.py'>), ('distutils.sysconfig', <module 'distutils.sysconfig' from '/usr/local/Cellar/python/3.6.5/Frameworks/Python.framework/Versions/3.6/lib/python3.6/distutils/sysconfig.py'>), ('jedi.evaluate.compiled.subprocess', <module 'jedi.evaluate.compiled.subprocess' from '/Users/shouei/.virtualenvs/WEB/lib/python3.6/site-packages/jedi/evaluate/compiled/subprocess/__init__.py'>), ('socket', <module 'socket' from '/usr/local/Cellar/python/3.6.5/Frameworks/Python.framework/Versions/3.6/lib/python3.6/socket.py'>), ('_socket', <module '_socket' from '/Users/shouei/.virtualenvs/WEB/lib/python3.6/lib-dynload/_socket.cpython-36m-darwin.so'>), ('jedi.evaluate.compiled.subprocess.functions', <module 'jedi.evaluate.compiled.subprocess.functions' from '/Users/shouei/.virtualenvs/WEB/lib/python3.6/site-packages/jedi/evaluate/compiled/subprocess/functions.py'>), ('jedi.api.exceptions', <module 'jedi.api.exceptions' from '/Users/shouei/.virtualenvs/WEB/lib/python3.6/site-packages/jedi/api/exceptions.py'>), ('jedi.api.project', <module 'jedi.api.project' from '/Users/shouei/.virtualenvs/WEB/lib/python3.6/site-packages/jedi/api/project.py'>), ('jedi.evaluate.usages', <module 'jedi.evaluate.usages' from '/Users/shouei/.virtualenvs/WEB/lib/python3.6/site-packages/jedi/evaluate/usages.py'>), ('IPython.terminal.ptutils', <module 'IPython.terminal.ptutils' from '/Users/shouei/.virtualenvs/WEB/lib/python3.6/site-packages/IPython/terminal/ptutils.py'>), ('IPython.terminal.shortcuts', <module 'IPython.terminal.shortcuts' from '/Users/shouei/.virtualenvs/WEB/lib/python3.6/site-packages/IPython/terminal/shortcuts.py'>), ('IPython.terminal.magics', <module 'IPython.terminal.magics' from '/Users/shouei/.virtualenvs/WEB/lib/python3.6/site-packages/IPython/terminal/magics.py'>), ('IPython.lib.clipboard', <module 'IPython.lib.clipboard' from '/Users/shouei/.virtualenvs/WEB/lib/python3.6/site-packages/IPython/lib/clipboard.py'>), ('IPython.terminal.pt_inputhooks', <module 'IPython.terminal.pt_inputhooks' from '/Users/shouei/.virtualenvs/WEB/lib/python3.6/site-packages/IPython/terminal/pt_inputhooks/__init__.py'>), ('IPython.terminal.prompts', <module 'IPython.terminal.prompts' from '/Users/shouei/.virtualenvs/WEB/lib/python3.6/site-packages/IPython/terminal/prompts.py'>), ('IPython.terminal.ipapp', <module 'IPython.terminal.ipapp' from '/Users/shouei/.virtualenvs/WEB/lib/python3.6/site-packages/IPython/terminal/ipapp.py'>), ('IPython.core.magics', <module 'IPython.core.magics' from '/Users/shouei/.virtualenvs/WEB/lib/python3.6/site-packages/IPython/core/magics/__init__.py'>), ('IPython.core.magics.auto', <module 'IPython.core.magics.auto' from '/Users/shouei/.virtualenvs/WEB/lib/python3.6/site-packages/IPython/core/magics/auto.py'>), ('IPython.core.magics.basic', <module 'IPython.core.magics.basic' from '/Users/shouei/.virtualenvs/WEB/lib/python3.6/site-packages/IPython/core/magics/basic.py'>), ('IPython.core.magics.code', <module 'IPython.core.magics.code' from '/Users/shouei/.virtualenvs/WEB/lib/python3.6/site-packages/IPython/core/magics/code.py'>), ('IPython.core.magics.config', <module 'IPython.core.magics.config' from '/Users/shouei/.virtualenvs/WEB/lib/python3.6/site-packages/IPython/core/magics/config.py'>), ('IPython.core.magics.display', <module 'IPython.core.magics.display' from '/Users/shouei/.virtualenvs/WEB/lib/python3.6/site-packages/IPython/core/magics/display.py'>), ('IPython.core.magics.execution', <module 'IPython.core.magics.execution' from '/Users/shouei/.virtualenvs/WEB/lib/python3.6/site-packages/IPython/core/magics/execution.py'>), ('timeit', <module 'timeit' from '/usr/local/Cellar/python/3.6.5/Frameworks/Python.framework/Versions/3.6/lib/python3.6/timeit.py'>), ('cProfile', <module 'cProfile' from '/usr/local/Cellar/python/3.6.5/Frameworks/Python.framework/Versions/3.6/lib/python3.6/cProfile.py'>), ('_lsprof', <module '_lsprof' from '/Users/shouei/.virtualenvs/WEB/lib/python3.6/lib-dynload/_lsprof.cpython-36m-darwin.so'>), ('profile', <module 'profile' from '/usr/local/Cellar/python/3.6.5/Frameworks/Python.framework/Versions/3.6/lib/python3.6/profile.py'>), ('optparse', <module 'optparse' from '/usr/local/Cellar/python/3.6.5/Frameworks/Python.framework/Versions/3.6/lib/python3.6/optparse.py'>), ('pstats', <module 'pstats' from '/usr/local/Cellar/python/3.6.5/Frameworks/Python.framework/Versions/3.6/lib/python3.6/pstats.py'>), ('IPython.utils.module_paths', <module 'IPython.utils.module_paths' from '/Users/shouei/.virtualenvs/WEB/lib/python3.6/site-packages/IPython/utils/module_paths.py'>), ('IPython.utils.timing', <module 'IPython.utils.timing' from '/Users/shouei/.virtualenvs/WEB/lib/python3.6/site-packages/IPython/utils/timing.py'>), ('IPython.core.magics.extension', <module 'IPython.core.magics.extension' from '/Users/shouei/.virtualenvs/WEB/lib/python3.6/site-packages/IPython/core/magics/extension.py'>), ('IPython.core.magics.history', <module 'IPython.core.magics.history' from '/Users/shouei/.virtualenvs/WEB/lib/python3.6/site-packages/IPython/core/magics/history.py'>), ('IPython.core.magics.logging', <module 'IPython.core.magics.logging' from '/Users/shouei/.virtualenvs/WEB/lib/python3.6/site-packages/IPython/core/magics/logging.py'>), ('IPython.core.magics.namespace', <module 'IPython.core.magics.namespace' from '/Users/shouei/.virtualenvs/WEB/lib/python3.6/site-packages/IPython/core/magics/namespace.py'>), ('IPython.core.magics.osm', <module 'IPython.core.magics.osm' from '/Users/shouei/.virtualenvs/WEB/lib/python3.6/site-packages/IPython/core/magics/osm.py'>), ('IPython.core.magics.pylab', <module 'IPython.core.magics.pylab' from '/Users/shouei/.virtualenvs/WEB/lib/python3.6/site-packages/IPython/core/magics/pylab.py'>), ('IPython.core.pylabtools', <module 'IPython.core.pylabtools' from '/Users/shouei/.virtualenvs/WEB/lib/python3.6/site-packages/IPython/core/pylabtools.py'>), ('IPython.core.magics.script', <module 'IPython.core.magics.script' from '/Users/shouei/.virtualenvs/WEB/lib/python3.6/site-packages/IPython/core/magics/script.py'>), ('IPython.lib.backgroundjobs', <module 'IPython.lib.backgroundjobs' from '/Users/shouei/.virtualenvs/WEB/lib/python3.6/site-packages/IPython/lib/backgroundjobs.py'>), ('IPython.core.shellapp', <module 'IPython.core.shellapp' from '/Users/shouei/.virtualenvs/WEB/lib/python3.6/site-packages/IPython/core/shellapp.py'>), ('IPython.extensions', <module 'IPython.extensions' from '/Users/shouei/.virtualenvs/WEB/lib/python3.6/site-packages/IPython/extensions/__init__.py'>), ('IPython.extensions.storemagic', <module 'IPython.extensions.storemagic' from '/Users/shouei/.virtualenvs/WEB/lib/python3.6/site-packages/IPython/extensions/storemagic.py'>), ('IPython.utils.frame', <module 'IPython.utils.frame' from '/Users/shouei/.virtualenvs/WEB/lib/python3.6/site-packages/IPython/utils/frame.py'>), ('jupyter_client', <module 'jupyter_client' from '/Users/shouei/.virtualenvs/WEB/lib/python3.6/site-packages/jupyter_client/__init__.py'>), ('jupyter_client._version', <module 'jupyter_client._version' from '/Users/shouei/.virtualenvs/WEB/lib/python3.6/site-packages/jupyter_client/_version.py'>), ('jupyter_client.connect', <module 'jupyter_client.connect' from '/Users/shouei/.virtualenvs/WEB/lib/python3.6/site-packages/jupyter_client/connect.py'>), ('zmq', <module 'zmq' from '/Users/shouei/.virtualenvs/WEB/lib/python3.6/site-packages/zmq/__init__.py'>), ('ctypes', <module 'ctypes' from '/usr/local/Cellar/python/3.6.5/Frameworks/Python.framework/Versions/3.6/lib/python3.6/ctypes/__init__.py'>), ('_ctypes', <module '_ctypes' from '/Users/shouei/.virtualenvs/WEB/lib/python3.6/lib-dynload/_ctypes.cpython-36m-darwin.so'>), ('ctypes._endian', <module 'ctypes._endian' from '/usr/local/Cellar/python/3.6.5/Frameworks/Python.framework/Versions/3.6/lib/python3.6/ctypes/_endian.py'>), ('zmq.libzmq', <module 'zmq.libzmq' from '/Users/shouei/.virtualenvs/WEB/lib/python3.6/site-packages/zmq/libzmq.cpython-36m-darwin.so'>), ('zmq.backend', <module 'zmq.backend' from '/Users/shouei/.virtualenvs/WEB/lib/python3.6/site-packages/zmq/backend/__init__.py'>), ('zmq.backend.select', <module 'zmq.backend.select' from '/Users/shouei/.virtualenvs/WEB/lib/python3.6/site-packages/zmq/backend/select.py'>), ('zmq.backend.cython', <module 'zmq.backend.cython' from '/Users/shouei/.virtualenvs/WEB/lib/python3.6/site-packages/zmq/backend/cython/__init__.py'>), ('cython_runtime', <module 'cython_runtime'>), ('zmq.backend.cython.constants', <module 'zmq.backend.cython.constants' from '/Users/shouei/.virtualenvs/WEB/lib/python3.6/site-packages/zmq/backend/cython/constants.cpython-36m-darwin.so'>), ('_cython_0_27_3', <module '_cython_0_27_3'>), ('zmq.backend.cython.error', <module 'zmq.backend.cython.error' from '/Users/shouei/.virtualenvs/WEB/lib/python3.6/site-packages/zmq/backend/cython/error.cpython-36m-darwin.so'>), ('zmq.utils', <module 'zmq.utils' from '/Users/shouei/.virtualenvs/WEB/lib/python3.6/site-packages/zmq/utils/__init__.py'>), ('zmq.utils.strtypes', <module 'zmq.utils.strtypes' from '/Users/shouei/.virtualenvs/WEB/lib/python3.6/site-packages/zmq/utils/strtypes.py'>), ('zmq.backend.cython.message', <module 'zmq.backend.cython.message' from '/Users/shouei/.virtualenvs/WEB/lib/python3.6/site-packages/zmq/backend/cython/message.cpython-36m-darwin.so'>), ('zmq.error', <module 'zmq.error' from '/Users/shouei/.virtualenvs/WEB/lib/python3.6/site-packages/zmq/error.py'>), ('zmq.backend.cython.context', <module 'zmq.backend.cython.context' from '/Users/shouei/.virtualenvs/WEB/lib/python3.6/site-packages/zmq/backend/cython/context.cpython-36m-darwin.so'>), ('zmq.backend.cython.socket', <module 'zmq.backend.cython.socket' from '/Users/shouei/.virtualenvs/WEB/lib/python3.6/site-packages/zmq/backend/cython/socket.cpython-36m-darwin.so'>), ('zmq.backend.cython.utils', <module 'zmq.backend.cython.utils' from '/Users/shouei/.virtualenvs/WEB/lib/python3.6/site-packages/zmq/backend/cython/utils.cpython-36m-darwin.so'>), ('zmq.backend.cython._poll', <module 'zmq.backend.cython._poll' from '/Users/shouei/.virtualenvs/WEB/lib/python3.6/site-packages/zmq/backend/cython/_poll.cpython-36m-darwin.so'>), ('zmq.backend.cython._version', <module 'zmq.backend.cython._version' from '/Users/shouei/.virtualenvs/WEB/lib/python3.6/site-packages/zmq/backend/cython/_version.cpython-36m-darwin.so'>), ('zmq.backend.cython._device', <module 'zmq.backend.cython._device' from '/Users/shouei/.virtualenvs/WEB/lib/python3.6/site-packages/zmq/backend/cython/_device.cpython-36m-darwin.so'>), ('zmq.sugar', <module 'zmq.sugar' from '/Users/shouei/.virtualenvs/WEB/lib/python3.6/site-packages/zmq/sugar/__init__.py'>), ('zmq.sugar.constants', <module 'zmq.sugar.constants' from '/Users/shouei/.virtualenvs/WEB/lib/python3.6/site-packages/zmq/sugar/constants.py'>), ('zmq.utils.constant_names', <module 'zmq.utils.constant_names' from '/Users/shouei/.virtualenvs/WEB/lib/python3.6/site-packages/zmq/utils/constant_names.py'>), ('zmq.sugar.context', <module 'zmq.sugar.context' from '/Users/shouei/.virtualenvs/WEB/lib/python3.6/site-packages/zmq/sugar/context.py'>), ('zmq.sugar.attrsettr', <module 'zmq.sugar.attrsettr' from '/Users/shouei/.virtualenvs/WEB/lib/python3.6/site-packages/zmq/sugar/attrsettr.py'>), ('zmq.sugar.socket', <module 'zmq.sugar.socket' from '/Users/shouei/.virtualenvs/WEB/lib/python3.6/site-packages/zmq/sugar/socket.py'>), ('zmq.sugar.poll', <module 'zmq.sugar.poll' from '/Users/shouei/.virtualenvs/WEB/lib/python3.6/site-packages/zmq/sugar/poll.py'>), ('zmq.sugar.frame', <module 'zmq.sugar.frame' from '/Users/shouei/.virtualenvs/WEB/lib/python3.6/site-packages/zmq/sugar/frame.py'>), ('zmq.sugar.tracker', <module 'zmq.sugar.tracker' from '/Users/shouei/.virtualenvs/WEB/lib/python3.6/site-packages/zmq/sugar/tracker.py'>), ('zmq.sugar.version', <module 'zmq.sugar.version' from '/Users/shouei/.virtualenvs/WEB/lib/python3.6/site-packages/zmq/sugar/version.py'>), ('zmq.sugar.stopwatch', <module 'zmq.sugar.stopwatch' from '/Users/shouei/.virtualenvs/WEB/lib/python3.6/site-packages/zmq/sugar/stopwatch.py'>), ('jupyter_client.localinterfaces', <module 'jupyter_client.localinterfaces' from '/Users/shouei/.virtualenvs/WEB/lib/python3.6/site-packages/jupyter_client/localinterfaces.py'>), ('jupyter_core', <module 'jupyter_core' from '/Users/shouei/.virtualenvs/WEB/lib/python3.6/site-packages/jupyter_core/__init__.py'>), ('jupyter_core.version', <module 'jupyter_core.version' from '/Users/shouei/.virtualenvs/WEB/lib/python3.6/site-packages/jupyter_core/version.py'>), ('jupyter_core.paths', <module 'jupyter_core.paths' from '/Users/shouei/.virtualenvs/WEB/lib/python3.6/site-packages/jupyter_core/paths.py'>), ('jupyter_client.launcher', <module 'jupyter_client.launcher' from '/Users/shouei/.virtualenvs/WEB/lib/python3.6/site-packages/jupyter_client/launcher.py'>), ('traitlets.log', <module 'traitlets.log' from '/Users/shouei/.virtualenvs/WEB/lib/python3.6/site-packages/traitlets/log.py'>), ('jupyter_client.client', <module 'jupyter_client.client' from '/Users/shouei/.virtualenvs/WEB/lib/python3.6/site-packages/jupyter_client/client.py'>), ('jupyter_client.channels', <module 'jupyter_client.channels' from '/Users/shouei/.virtualenvs/WEB/lib/python3.6/site-packages/jupyter_client/channels.py'>), ('jupyter_client.channelsabc', <module 'jupyter_client.channelsabc' from '/Users/shouei/.virtualenvs/WEB/lib/python3.6/site-packages/jupyter_client/channelsabc.py'>), ('jupyter_client.clientabc', <module 'jupyter_client.clientabc' from '/Users/shouei/.virtualenvs/WEB/lib/python3.6/site-packages/jupyter_client/clientabc.py'>), ('jupyter_client.manager', <module 'jupyter_client.manager' from '/Users/shouei/.virtualenvs/WEB/lib/python3.6/site-packages/jupyter_client/manager.py'>), ('jupyter_client.kernelspec', <module 'jupyter_client.kernelspec' from '/Users/shouei/.virtualenvs/WEB/lib/python3.6/site-packages/jupyter_client/kernelspec.py'>), ('jupyter_client.managerabc', <module 'jupyter_client.managerabc' from '/Users/shouei/.virtualenvs/WEB/lib/python3.6/site-packages/jupyter_client/managerabc.py'>), ('jupyter_client.blocking', <module 'jupyter_client.blocking' from '/Users/shouei/.virtualenvs/WEB/lib/python3.6/site-packages/jupyter_client/blocking/__init__.py'>), ('jupyter_client.blocking.client', <module 'jupyter_client.blocking.client' from '/Users/shouei/.virtualenvs/WEB/lib/python3.6/site-packages/jupyter_client/blocking/client.py'>), ('jupyter_client.blocking.channels', <module 'jupyter_client.blocking.channels' from '/Users/shouei/.virtualenvs/WEB/lib/python3.6/site-packages/jupyter_client/blocking/channels.py'>), ('jupyter_client.multikernelmanager', <module 'jupyter_client.multikernelmanager' from '/Users/shouei/.virtualenvs/WEB/lib/python3.6/site-packages/jupyter_client/multikernelmanager.py'>), ('uuid', <module 'uuid' from '/usr/local/Cellar/python/3.6.5/Frameworks/Python.framework/Versions/3.6/lib/python3.6/uuid.py'>), ('ctypes.util', <module 'ctypes.util' from '/usr/local/Cellar/python/3.6.5/Frameworks/Python.framework/Versions/3.6/lib/python3.6/ctypes/util.py'>), ('ctypes.macholib', <module 'ctypes.macholib' from '/usr/local/Cellar/python/3.6.5/Frameworks/Python.framework/Versions/3.6/lib/python3.6/ctypes/macholib/__init__.py'>), ('ctypes.macholib.dyld', <module 'ctypes.macholib.dyld' from '/usr/local/Cellar/python/3.6.5/Frameworks/Python.framework/Versions/3.6/lib/python3.6/ctypes/macholib/dyld.py'>), ('ctypes.macholib.framework', <module 'ctypes.macholib.framework' from '/usr/local/Cellar/python/3.6.5/Frameworks/Python.framework/Versions/3.6/lib/python3.6/ctypes/macholib/framework.py'>), ('ctypes.macholib.dylib', <module 'ctypes.macholib.dylib' from '/usr/local/Cellar/python/3.6.5/Frameworks/Python.framework/Versions/3.6/lib/python3.6/ctypes/macholib/dylib.py'>), ('ipykernel.kernelapp', <module 'ipykernel.kernelapp' from '/Users/shouei/.virtualenvs/WEB/lib/python3.6/site-packages/ipykernel/kernelapp.py'>), ('tornado', <module 'tornado' from '/Users/shouei/.virtualenvs/WEB/lib/python3.6/site-packages/tornado/__init__.py'>), ('tornado.ioloop', <module 'tornado.ioloop' from '/Users/shouei/.virtualenvs/WEB/lib/python3.6/site-packages/tornado/ioloop.py'>), ('numbers', <module 'numbers' from '/usr/local/Cellar/python/3.6.5/Frameworks/Python.framework/Versions/3.6/lib/python3.6/numbers.py'>), ('tornado.concurrent', <module 'tornado.concurrent' from '/Users/shouei/.virtualenvs/WEB/lib/python3.6/site-packages/tornado/concurrent.py'>), ('tornado.log', <module 'tornado.log' from '/Users/shouei/.virtualenvs/WEB/lib/python3.6/site-packages/tornado/log.py'>), ('logging.handlers', <module 'logging.handlers' from '/usr/local/Cellar/python/3.6.5/Frameworks/Python.framework/Versions/3.6/lib/python3.6/logging/handlers.py'>), ('tornado.escape', <module 'tornado.escape' from '/Users/shouei/.virtualenvs/WEB/lib/python3.6/site-packages/tornado/escape.py'>), ('tornado.util', <module 'tornado.util' from '/Users/shouei/.virtualenvs/WEB/lib/python3.6/site-packages/tornado/util.py'>), ('tornado.speedups', <module 'tornado.speedups' from '/Users/shouei/.virtualenvs/WEB/lib/python3.6/site-packages/tornado/speedups.cpython-36m-darwin.so'>), ('curses', <module 'curses' from '/usr/local/Cellar/python/3.6.5/Frameworks/Python.framework/Versions/3.6/lib/python3.6/curses/__init__.py'>), ('_curses', <module '_curses' from '/Users/shouei/.virtualenvs/WEB/lib/python3.6/lib-dynload/_curses.cpython-36m-darwin.so'>), ('tornado.stack_context', <module 'tornado.stack_context' from '/Users/shouei/.virtualenvs/WEB/lib/python3.6/site-packages/tornado/stack_context.py'>), ('concurrent', <module 'concurrent' from '/usr/local/Cellar/python/3.6.5/Frameworks/Python.framework/Versions/3.6/lib/python3.6/concurrent/__init__.py'>), ('concurrent.futures', <module 'concurrent.futures' from '/usr/local/Cellar/python/3.6.5/Frameworks/Python.framework/Versions/3.6/lib/python3.6/concurrent/futures/__init__.py'>), ('concurrent.futures._base', <module 'concurrent.futures._base' from '/usr/local/Cellar/python/3.6.5/Frameworks/Python.framework/Versions/3.6/lib/python3.6/concurrent/futures/_base.py'>), ('concurrent.futures.process', <module 'concurrent.futures.process' from '/usr/local/Cellar/python/3.6.5/Frameworks/Python.framework/Versions/3.6/lib/python3.6/concurrent/futures/process.py'>), ('multiprocessing', <module 'multiprocessing' from '/usr/local/Cellar/python/3.6.5/Frameworks/Python.framework/Versions/3.6/lib/python3.6/multiprocessing/__init__.py'>), ('multiprocessing.context', <module 'multiprocessing.context' from '/usr/local/Cellar/python/3.6.5/Frameworks/Python.framework/Versions/3.6/lib/python3.6/multiprocessing/context.py'>), ('multiprocessing.process', <module 'multiprocessing.process' from '/usr/local/Cellar/python/3.6.5/Frameworks/Python.framework/Versions/3.6/lib/python3.6/multiprocessing/process.py'>), ('multiprocessing.reduction', <module 'multiprocessing.reduction' from '/usr/local/Cellar/python/3.6.5/Frameworks/Python.framework/Versions/3.6/lib/python3.6/multiprocessing/reduction.py'>), ('__mp_main__', <module 'ipykernel_launcher' from '/Users/shouei/.virtualenvs/WEB/lib/python3.6/site-packages/ipykernel_launcher.py'>), ('multiprocessing.connection', <module 'multiprocessing.connection' from '/usr/local/Cellar/python/3.6.5/Frameworks/Python.framework/Versions/3.6/lib/python3.6/multiprocessing/connection.py'>), ('_multiprocessing', <module '_multiprocessing' from '/Users/shouei/.virtualenvs/WEB/lib/python3.6/lib-dynload/_multiprocessing.cpython-36m-darwin.so'>), ('multiprocessing.util', <module 'multiprocessing.util' from '/usr/local/Cellar/python/3.6.5/Frameworks/Python.framework/Versions/3.6/lib/python3.6/multiprocessing/util.py'>), ('concurrent.futures.thread', <module 'concurrent.futures.thread' from '/usr/local/Cellar/python/3.6.5/Frameworks/Python.framework/Versions/3.6/lib/python3.6/concurrent/futures/thread.py'>), ('asyncio', <module 'asyncio' from '/usr/local/Cellar/python/3.6.5/Frameworks/Python.framework/Versions/3.6/lib/python3.6/asyncio/__init__.py'>), ('asyncio.base_events', <module 'asyncio.base_events' from '/usr/local/Cellar/python/3.6.5/Frameworks/Python.framework/Versions/3.6/lib/python3.6/asyncio/base_events.py'>), ('asyncio.compat', <module 'asyncio.compat' from '/usr/local/Cellar/python/3.6.5/Frameworks/Python.framework/Versions/3.6/lib/python3.6/asyncio/compat.py'>), ('asyncio.coroutines', <module 'asyncio.coroutines' from '/usr/local/Cellar/python/3.6.5/Frameworks/Python.framework/Versions/3.6/lib/python3.6/asyncio/coroutines.py'>), ('asyncio.constants', <module 'asyncio.constants' from '/usr/local/Cellar/python/3.6.5/Frameworks/Python.framework/Versions/3.6/lib/python3.6/asyncio/constants.py'>), ('asyncio.events', <module 'asyncio.events' from '/usr/local/Cellar/python/3.6.5/Frameworks/Python.framework/Versions/3.6/lib/python3.6/asyncio/events.py'>), ('asyncio.base_futures', <module 'asyncio.base_futures' from '/usr/local/Cellar/python/3.6.5/Frameworks/Python.framework/Versions/3.6/lib/python3.6/asyncio/base_futures.py'>), ('asyncio.log', <module 'asyncio.log' from '/usr/local/Cellar/python/3.6.5/Frameworks/Python.framework/Versions/3.6/lib/python3.6/asyncio/log.py'>), ('asyncio.futures', <module 'asyncio.futures' from '/usr/local/Cellar/python/3.6.5/Frameworks/Python.framework/Versions/3.6/lib/python3.6/asyncio/futures.py'>), ('asyncio.base_tasks', <module 'asyncio.base_tasks' from '/usr/local/Cellar/python/3.6.5/Frameworks/Python.framework/Versions/3.6/lib/python3.6/asyncio/base_tasks.py'>), ('_asyncio', <module '_asyncio' from '/Users/shouei/.virtualenvs/WEB/lib/python3.6/lib-dynload/_asyncio.cpython-36m-darwin.so'>), ('asyncio.tasks', <module 'asyncio.tasks' from '/usr/local/Cellar/python/3.6.5/Frameworks/Python.framework/Versions/3.6/lib/python3.6/asyncio/tasks.py'>), ('asyncio.locks', <module 'asyncio.locks' from '/usr/local/Cellar/python/3.6.5/Frameworks/Python.framework/Versions/3.6/lib/python3.6/asyncio/locks.py'>), ('asyncio.protocols', <module 'asyncio.protocols' from '/usr/local/Cellar/python/3.6.5/Frameworks/Python.framework/Versions/3.6/lib/python3.6/asyncio/protocols.py'>), ('asyncio.queues', <module 'asyncio.queues' from '/usr/local/Cellar/python/3.6.5/Frameworks/Python.framework/Versions/3.6/lib/python3.6/asyncio/queues.py'>), ('asyncio.streams', <module 'asyncio.streams' from '/usr/local/Cellar/python/3.6.5/Frameworks/Python.framework/Versions/3.6/lib/python3.6/asyncio/streams.py'>), ('asyncio.subprocess', <module 'asyncio.subprocess' from '/usr/local/Cellar/python/3.6.5/Frameworks/Python.framework/Versions/3.6/lib/python3.6/asyncio/subprocess.py'>), ('asyncio.transports', <module 'asyncio.transports' from '/usr/local/Cellar/python/3.6.5/Frameworks/Python.framework/Versions/3.6/lib/python3.6/asyncio/transports.py'>), ('asyncio.unix_events', <module 'asyncio.unix_events' from '/usr/local/Cellar/python/3.6.5/Frameworks/Python.framework/Versions/3.6/lib/python3.6/asyncio/unix_events.py'>), ('asyncio.base_subprocess', <module 'asyncio.base_subprocess' from '/usr/local/Cellar/python/3.6.5/Frameworks/Python.framework/Versions/3.6/lib/python3.6/asyncio/base_subprocess.py'>), ('asyncio.selector_events', <module 'asyncio.selector_events' from '/usr/local/Cellar/python/3.6.5/Frameworks/Python.framework/Versions/3.6/lib/python3.6/asyncio/selector_events.py'>), ('ssl', <module 'ssl' from '/usr/local/Cellar/python/3.6.5/Frameworks/Python.framework/Versions/3.6/lib/python3.6/ssl.py'>), ('ipaddress', <module 'ipaddress' from '/usr/local/Cellar/python/3.6.5/Frameworks/Python.framework/Versions/3.6/lib/python3.6/ipaddress.py'>), ('_ssl', <module '_ssl' from '/Users/shouei/.virtualenvs/WEB/lib/python3.6/lib-dynload/_ssl.cpython-36m-darwin.so'>), ('base64', <module 'base64' from '/Users/shouei/.virtualenvs/WEB/lib/python3.6/base64.py'>), ('asyncio.sslproto', <module 'asyncio.sslproto' from '/usr/local/Cellar/python/3.6.5/Frameworks/Python.framework/Versions/3.6/lib/python3.6/asyncio/sslproto.py'>), ('tornado.platform', <module 'tornado.platform' from '/Users/shouei/.virtualenvs/WEB/lib/python3.6/site-packages/tornado/platform/__init__.py'>), ('tornado.platform.auto', <module 'tornado.platform.auto' from '/Users/shouei/.virtualenvs/WEB/lib/python3.6/site-packages/tornado/platform/auto.py'>), ('tornado.platform.posix', <module 'tornado.platform.posix' from '/Users/shouei/.virtualenvs/WEB/lib/python3.6/site-packages/tornado/platform/posix.py'>), ('tornado.platform.common', <module 'tornado.platform.common' from '/Users/shouei/.virtualenvs/WEB/lib/python3.6/site-packages/tornado/platform/common.py'>), ('tornado.platform.interface', <module 'tornado.platform.interface' from '/Users/shouei/.virtualenvs/WEB/lib/python3.6/site-packages/tornado/platform/interface.py'>), ('zmq.eventloop', <module 'zmq.eventloop' from '/Users/shouei/.virtualenvs/WEB/lib/python3.6/site-packages/zmq/eventloop/__init__.py'>), ('zmq.eventloop.ioloop', <module 'zmq.eventloop.ioloop' from '/Users/shouei/.virtualenvs/WEB/lib/python3.6/site-packages/zmq/eventloop/ioloop.py'>), ('tornado.platform.asyncio', <module 'tornado.platform.asyncio' from '/Users/shouei/.virtualenvs/WEB/lib/python3.6/site-packages/tornado/platform/asyncio.py'>), ('tornado.gen', <module 'tornado.gen' from '/Users/shouei/.virtualenvs/WEB/lib/python3.6/site-packages/tornado/gen.py'>), ('zmq.eventloop.zmqstream', <module 'zmq.eventloop.zmqstream' from '/Users/shouei/.virtualenvs/WEB/lib/python3.6/site-packages/zmq/eventloop/zmqstream.py'>), ('zmq.utils.jsonapi', <module 'zmq.utils.jsonapi' from '/Users/shouei/.virtualenvs/WEB/lib/python3.6/site-packages/zmq/utils/jsonapi.py'>), ('ipykernel.iostream', <module 'ipykernel.iostream' from '/Users/shouei/.virtualenvs/WEB/lib/python3.6/site-packages/ipykernel/iostream.py'>), ('jupyter_client.session', <module 'jupyter_client.session' from '/Users/shouei/.virtualenvs/WEB/lib/python3.6/site-packages/jupyter_client/session.py'>), ('hmac', <module 'hmac' from '/Users/shouei/.virtualenvs/WEB/lib/python3.6/hmac.py'>), ('jupyter_client.jsonutil', <module 'jupyter_client.jsonutil' from '/Users/shouei/.virtualenvs/WEB/lib/python3.6/site-packages/jupyter_client/jsonutil.py'>), ('dateutil', <module 'dateutil' from '/Users/shouei/.virtualenvs/WEB/lib/python3.6/site-packages/dateutil/__init__.py'>), ('dateutil._version', <module 'dateutil._version' from '/Users/shouei/.virtualenvs/WEB/lib/python3.6/site-packages/dateutil/_version.py'>), ('dateutil.parser', <module 'dateutil.parser' from '/Users/shouei/.virtualenvs/WEB/lib/python3.6/site-packages/dateutil/parser/__init__.py'>), ('dateutil.parser._parser', <module 'dateutil.parser._parser' from '/Users/shouei/.virtualenvs/WEB/lib/python3.6/site-packages/dateutil/parser/_parser.py'>), ('calendar', <module 'calendar' from '/usr/local/Cellar/python/3.6.5/Frameworks/Python.framework/Versions/3.6/lib/python3.6/calendar.py'>), ('decimal', <module 'decimal' from '/usr/local/Cellar/python/3.6.5/Frameworks/Python.framework/Versions/3.6/lib/python3.6/decimal.py'>), ('_decimal', <module '_decimal' from '/Users/shouei/.virtualenvs/WEB/lib/python3.6/lib-dynload/_decimal.cpython-36m-darwin.so'>), ('dateutil.relativedelta', <module 'dateutil.relativedelta' from '/Users/shouei/.virtualenvs/WEB/lib/python3.6/site-packages/dateutil/relativedelta.py'>), ('dateutil._common', <module 'dateutil._common' from '/Users/shouei/.virtualenvs/WEB/lib/python3.6/site-packages/dateutil/_common.py'>), ('dateutil.tz', <module 'dateutil.tz' from '/Users/shouei/.virtualenvs/WEB/lib/python3.6/site-packages/dateutil/tz/__init__.py'>), ('dateutil.tz.tz', <module 'dateutil.tz.tz' from '/Users/shouei/.virtualenvs/WEB/lib/python3.6/site-packages/dateutil/tz/tz.py'>), ('dateutil.tz._common', <module 'dateutil.tz._common' from '/Users/shouei/.virtualenvs/WEB/lib/python3.6/site-packages/dateutil/tz/_common.py'>), ('dateutil.tz._factories', <module 'dateutil.tz._factories' from '/Users/shouei/.virtualenvs/WEB/lib/python3.6/site-packages/dateutil/tz/_factories.py'>), ('dateutil.parser.isoparser', <module 'dateutil.parser.isoparser' from '/Users/shouei/.virtualenvs/WEB/lib/python3.6/site-packages/dateutil/parser/isoparser.py'>), ('_strptime', <module '_strptime' from '/usr/local/Cellar/python/3.6.5/Frameworks/Python.framework/Versions/3.6/lib/python3.6/_strptime.py'>), ('jupyter_client.adapter', <module 'jupyter_client.adapter' from '/Users/shouei/.virtualenvs/WEB/lib/python3.6/site-packages/jupyter_client/adapter.py'>), ('ipykernel.heartbeat', <module 'ipykernel.heartbeat' from '/Users/shouei/.virtualenvs/WEB/lib/python3.6/site-packages/ipykernel/heartbeat.py'>), ('ipykernel.ipkernel', <module 'ipykernel.ipkernel' from '/Users/shouei/.virtualenvs/WEB/lib/python3.6/site-packages/ipykernel/ipkernel.py'>), ('IPython.utils.tokenutil', <module 'IPython.utils.tokenutil' from '/Users/shouei/.virtualenvs/WEB/lib/python3.6/site-packages/IPython/utils/tokenutil.py'>), ('ipykernel.comm', <module 'ipykernel.comm' from '/Users/shouei/.virtualenvs/WEB/lib/python3.6/site-packages/ipykernel/comm/__init__.py'>), ('ipykernel.comm.manager', <module 'ipykernel.comm.manager' from '/Users/shouei/.virtualenvs/WEB/lib/python3.6/site-packages/ipykernel/comm/manager.py'>), ('ipykernel.comm.comm', <module 'ipykernel.comm.comm' from '/Users/shouei/.virtualenvs/WEB/lib/python3.6/site-packages/ipykernel/comm/comm.py'>), ('ipykernel.kernelbase', <module 'ipykernel.kernelbase' from '/Users/shouei/.virtualenvs/WEB/lib/python3.6/site-packages/ipykernel/kernelbase.py'>), ('ipykernel.jsonutil', <module 'ipykernel.jsonutil' from '/Users/shouei/.virtualenvs/WEB/lib/python3.6/site-packages/ipykernel/jsonutil.py'>), ('ipykernel.zmqshell', <module 'ipykernel.zmqshell' from '/Users/shouei/.virtualenvs/WEB/lib/python3.6/site-packages/ipykernel/zmqshell.py'>), ('IPython.core.payloadpage', <module 'IPython.core.payloadpage' from '/Users/shouei/.virtualenvs/WEB/lib/python3.6/site-packages/IPython/core/payloadpage.py'>), ('ipykernel.displayhook', <module 'ipykernel.displayhook' from '/Users/shouei/.virtualenvs/WEB/lib/python3.6/site-packages/ipykernel/displayhook.py'>), ('ipykernel.parentpoller', <module 'ipykernel.parentpoller' from '/Users/shouei/.virtualenvs/WEB/lib/python3.6/site-packages/ipykernel/parentpoller.py'>), ('faulthandler', <module 'faulthandler' (built-in)>), ('ipykernel.datapub', <module 'ipykernel.datapub' from '/Users/shouei/.virtualenvs/WEB/lib/python3.6/site-packages/ipykernel/datapub.py'>), ('ipykernel.serialize', <module 'ipykernel.serialize' from '/Users/shouei/.virtualenvs/WEB/lib/python3.6/site-packages/ipykernel/serialize.py'>), ('ipykernel.pickleutil', <module 'ipykernel.pickleutil' from '/Users/shouei/.virtualenvs/WEB/lib/python3.6/site-packages/ipykernel/pickleutil.py'>), ('ipykernel.codeutil', <module 'ipykernel.codeutil' from '/Users/shouei/.virtualenvs/WEB/lib/python3.6/site-packages/ipykernel/codeutil.py'>), ('IPython.core.completerlib', <module 'IPython.core.completerlib' from '/Users/shouei/.virtualenvs/WEB/lib/python3.6/site-packages/IPython/core/completerlib.py'>), ('storemagic', <module 'storemagic' from '/Users/shouei/.virtualenvs/WEB/lib/python3.6/site-packages/IPython/extensions/storemagic.py'>), ('ipywidgets', <module 'ipywidgets' from '/Users/shouei/.virtualenvs/WEB/lib/python3.6/site-packages/ipywidgets/__init__.py'>), ('ipywidgets._version', <module 'ipywidgets._version' from '/Users/shouei/.virtualenvs/WEB/lib/python3.6/site-packages/ipywidgets/_version.py'>), ('ipywidgets.widgets', <module 'ipywidgets.widgets' from '/Users/shouei/.virtualenvs/WEB/lib/python3.6/site-packages/ipywidgets/widgets/__init__.py'>), ('ipywidgets.widgets.widget', <module 'ipywidgets.widgets.widget' from '/Users/shouei/.virtualenvs/WEB/lib/python3.6/site-packages/ipywidgets/widgets/widget.py'>), ('ipywidgets.widgets.domwidget', <module 'ipywidgets.widgets.domwidget' from '/Users/shouei/.virtualenvs/WEB/lib/python3.6/site-packages/ipywidgets/widgets/domwidget.py'>), ('ipywidgets.widgets.trait_types', <module 'ipywidgets.widgets.trait_types' from '/Users/shouei/.virtualenvs/WEB/lib/python3.6/site-packages/ipywidgets/widgets/trait_types.py'>), ('ipywidgets.widgets.widget_layout', <module 'ipywidgets.widgets.widget_layout' from '/Users/shouei/.virtualenvs/WEB/lib/python3.6/site-packages/ipywidgets/widgets/widget_layout.py'>), ('ipywidgets.widgets.widget_style', <module 'ipywidgets.widgets.widget_style' from '/Users/shouei/.virtualenvs/WEB/lib/python3.6/site-packages/ipywidgets/widgets/widget_style.py'>), ('ipywidgets.widgets.valuewidget', <module 'ipywidgets.widgets.valuewidget' from '/Users/shouei/.virtualenvs/WEB/lib/python3.6/site-packages/ipywidgets/widgets/valuewidget.py'>), ('ipywidgets.widgets.widget_core', <module 'ipywidgets.widgets.widget_core' from '/Users/shouei/.virtualenvs/WEB/lib/python3.6/site-packages/ipywidgets/widgets/widget_core.py'>), ('ipywidgets.widgets.widget_bool', <module 'ipywidgets.widgets.widget_bool' from '/Users/shouei/.virtualenvs/WEB/lib/python3.6/site-packages/ipywidgets/widgets/widget_bool.py'>), ('ipywidgets.widgets.widget_description', <module 'ipywidgets.widgets.widget_description' from '/Users/shouei/.virtualenvs/WEB/lib/python3.6/site-packages/ipywidgets/widgets/widget_description.py'>), ('ipywidgets.widgets.widget_button', <module 'ipywidgets.widgets.widget_button' from '/Users/shouei/.virtualenvs/WEB/lib/python3.6/site-packages/ipywidgets/widgets/widget_button.py'>), ('ipywidgets.widgets.widget_box', <module 'ipywidgets.widgets.widget_box' from '/Users/shouei/.virtualenvs/WEB/lib/python3.6/site-packages/ipywidgets/widgets/widget_box.py'>), ('ipywidgets.widgets.docutils', <module 'ipywidgets.widgets.docutils' from '/Users/shouei/.virtualenvs/WEB/lib/python3.6/site-packages/ipywidgets/widgets/docutils.py'>), ('ipywidgets.widgets.widget_float', <module 'ipywidgets.widgets.widget_float' from '/Users/shouei/.virtualenvs/WEB/lib/python3.6/site-packages/ipywidgets/widgets/widget_float.py'>), ('ipywidgets.widgets.widget_int', <module 'ipywidgets.widgets.widget_int' from '/Users/shouei/.virtualenvs/WEB/lib/python3.6/site-packages/ipywidgets/widgets/widget_int.py'>), ('ipywidgets.widgets.widget_image', <module 'ipywidgets.widgets.widget_image' from '/Users/shouei/.virtualenvs/WEB/lib/python3.6/site-packages/ipywidgets/widgets/widget_image.py'>), ('ipywidgets.widgets.widget_color', <module 'ipywidgets.widgets.widget_color' from '/Users/shouei/.virtualenvs/WEB/lib/python3.6/site-packages/ipywidgets/widgets/widget_color.py'>), ('ipywidgets.widgets.widget_date', <module 'ipywidgets.widgets.widget_date' from '/Users/shouei/.virtualenvs/WEB/lib/python3.6/site-packages/ipywidgets/widgets/widget_date.py'>), ('ipywidgets.widgets.widget_output', <module 'ipywidgets.widgets.widget_output' from '/Users/shouei/.virtualenvs/WEB/lib/python3.6/site-packages/ipywidgets/widgets/widget_output.py'>), ('ipywidgets.widgets.widget_selection', <module 'ipywidgets.widgets.widget_selection' from '/Users/shouei/.virtualenvs/WEB/lib/python3.6/site-packages/ipywidgets/widgets/widget_selection.py'>), ('ipywidgets.widgets.widget_selectioncontainer', <module 'ipywidgets.widgets.widget_selectioncontainer' from '/Users/shouei/.virtualenvs/WEB/lib/python3.6/site-packages/ipywidgets/widgets/widget_selectioncontainer.py'>), ('ipywidgets.widgets.widget_string', <module 'ipywidgets.widgets.widget_string' from '/Users/shouei/.virtualenvs/WEB/lib/python3.6/site-packages/ipywidgets/widgets/widget_string.py'>), ('ipywidgets.widgets.widget_controller', <module 'ipywidgets.widgets.widget_controller' from '/Users/shouei/.virtualenvs/WEB/lib/python3.6/site-packages/ipywidgets/widgets/widget_controller.py'>), ('ipywidgets.widgets.interaction', <module 'ipywidgets.widgets.interaction' from '/Users/shouei/.virtualenvs/WEB/lib/python3.6/site-packages/ipywidgets/widgets/interaction.py'>), ('ipywidgets.widgets.widget_link', <module 'ipywidgets.widgets.widget_link' from '/Users/shouei/.virtualenvs/WEB/lib/python3.6/site-packages/ipywidgets/widgets/widget_link.py'>)])"
      ]
     },
     "execution_count": 2,
     "metadata": {},
     "output_type": "execute_result"
    }
   ],
   "source": [
    "import sys\n",
    "sys.modules.items()"
   ]
  },
  {
   "cell_type": "code",
   "execution_count": 3,
   "metadata": {
    "scrolled": true
   },
   "outputs": [
    {
     "data": {
      "text/plain": [
       "['In',\n",
       " 'Out',\n",
       " '_',\n",
       " '_2',\n",
       " '__',\n",
       " '___',\n",
       " '__builtin__',\n",
       " '__builtins__',\n",
       " '__doc__',\n",
       " '__loader__',\n",
       " '__name__',\n",
       " '__package__',\n",
       " '__spec__',\n",
       " '_dh',\n",
       " '_i',\n",
       " '_i1',\n",
       " '_i2',\n",
       " '_i3',\n",
       " '_ih',\n",
       " '_ii',\n",
       " '_iii',\n",
       " '_oh',\n",
       " 'exit',\n",
       " 'get_ipython',\n",
       " 'quit',\n",
       " 'sys']"
      ]
     },
     "execution_count": 3,
     "metadata": {},
     "output_type": "execute_result"
    }
   ],
   "source": [
    "dir()"
   ]
  },
  {
   "cell_type": "markdown",
   "metadata": {},
   "source": [
    "> 循环导入问题"
   ]
  },
  {
   "cell_type": "code",
   "execution_count": null,
   "metadata": {},
   "outputs": [],
   "source": [
    "# a.py\n",
    "from b import c\n",
    "\n",
    "def d():\n",
    "    pass"
   ]
  },
  {
   "cell_type": "markdown",
   "metadata": {},
   "source": [
    "ImportError: cannot import name c"
   ]
  },
  {
   "cell_type": "code",
   "execution_count": 5,
   "metadata": {},
   "outputs": [],
   "source": [
    "# b.py\n",
    "from a import d\n",
    "\n",
    "def c():\n",
    "    pass"
   ]
  },
  {
   "cell_type": "markdown",
   "metadata": {},
   "source": [
    "ImportError: cannot import name d"
   ]
  },
  {
   "cell_type": "markdown",
   "metadata": {},
   "source": [
    "> 直接使用 import 可以解决这个问题"
   ]
  },
  {
   "cell_type": "markdown",
   "metadata": {},
   "source": [
    "***"
   ]
  },
  {
   "cell_type": "markdown",
   "metadata": {},
   "source": [
    "# 定义自己的上下文管理器"
   ]
  },
  {
   "cell_type": "code",
   "execution_count": 2,
   "metadata": {},
   "outputs": [
    {
     "name": "stdout",
     "output_type": "stream",
     "text": [
      "entering...\n",
      "Testing...\n",
      "leaving...\n",
      "value error!!!\n"
     ]
    }
   ],
   "source": [
    "class MyContextManager(object):\n",
    "    \n",
    "    def __enter__(self):\n",
    "        print('entering...')\n",
    "        \n",
    "    def __exit__(self, exception_type, exception_value, traceback):\n",
    "        print('leaving...')\n",
    "        if exception_type is None:\n",
    "            print('no exceptions!')\n",
    "            return False\n",
    "        elif exception_type is ValueError:\n",
    "            print('value error!!!')\n",
    "            return True\n",
    "        else:\n",
    "            print('other error')\n",
    "            return True\n",
    "        \n",
    "with MyContextManager():\n",
    "    print('Testing...')\n",
    "    raise(ValueError)"
   ]
  },
  {
   "cell_type": "markdown",
   "metadata": {},
   "source": [
    "***"
   ]
  },
  {
   "cell_type": "markdown",
   "metadata": {},
   "source": [
    "# 使用 else 子句简化循环"
   ]
  },
  {
   "cell_type": "code",
   "execution_count": 3,
   "metadata": {},
   "outputs": [
    {
     "name": "stdout",
     "output_type": "stream",
     "text": [
      "2 is a prime number\n",
      "3 is a prime number\n",
      "5 is a prime number\n",
      "7 is a prime number\n",
      "-------\n",
      "2 is a prime number\n",
      "3 is a prime number\n",
      "5 is a prime number\n",
      "7 is a prime number\n"
     ]
    }
   ],
   "source": [
    "def print_prime(n):\n",
    "    for i in range(2, n):\n",
    "        found = True\n",
    "        for j in range(2, i):\n",
    "            if i % j == 0:\n",
    "                found = False\n",
    "                break\n",
    "        if found:\n",
    "            print('{} is a prime number'.format(i))\n",
    "            \n",
    "def print_prime2(n):\n",
    "    for i in range(2, n):\n",
    "        for j in range(2, i):\n",
    "            if i % j == 0:\n",
    "                break\n",
    "        else:\n",
    "            print('{} is a prime number'.format(i))\n",
    "            \n",
    "print_prime(10)\n",
    "print('-------')\n",
    "print_prime2(10)"
   ]
  },
  {
   "cell_type": "markdown",
   "metadata": {},
   "source": [
    "***"
   ]
  },
  {
   "cell_type": "markdown",
   "metadata": {},
   "source": [
    "# 避免 finally 中可能发生的陷阱"
   ]
  },
  {
   "cell_type": "code",
   "execution_count": 1,
   "metadata": {},
   "outputs": [
    {
     "name": "stdout",
     "output_type": "stream",
     "text": [
      "I am starting...\n",
      "I am running...\n",
      "finally executed\n"
     ]
    }
   ],
   "source": [
    "def FinallyTest():\n",
    "    print('I am starting...')\n",
    "    while True:\n",
    "        try:\n",
    "            print('I am running...')\n",
    "            raise IndexError('r')  #  抛出异常\n",
    "        except NameError as e:\n",
    "            print('NameError happended %s' % e)\n",
    "            break\n",
    "        finally:\n",
    "            print('finally executed')\n",
    "            break  # finally 语句中有 break 或 return 语句时, 临时保存的异常将会被丢失\n",
    "\n",
    "FinallyTest()"
   ]
  },
  {
   "cell_type": "markdown",
   "metadata": {},
   "source": [
    "***"
   ]
  },
  {
   "cell_type": "markdown",
   "metadata": {},
   "source": [
    "# 深入理解 None, 正确判断对象是否为空"
   ]
  },
  {
   "cell_type": "code",
   "execution_count": 1,
   "metadata": {},
   "outputs": [
    {
     "data": {
      "text/plain": [
       "4408420856"
      ]
     },
     "execution_count": 1,
     "metadata": {},
     "output_type": "execute_result"
    }
   ],
   "source": [
    "id(None)"
   ]
  },
  {
   "cell_type": "code",
   "execution_count": 2,
   "metadata": {},
   "outputs": [
    {
     "data": {
      "text/plain": [
       "False"
      ]
     },
     "execution_count": 2,
     "metadata": {},
     "output_type": "execute_result"
    }
   ],
   "source": [
    "None == 0"
   ]
  },
  {
   "cell_type": "code",
   "execution_count": 3,
   "metadata": {},
   "outputs": [
    {
     "data": {
      "text/plain": [
       "False"
      ]
     },
     "execution_count": 3,
     "metadata": {},
     "output_type": "execute_result"
    }
   ],
   "source": [
    "None == False"
   ]
  },
  {
   "cell_type": "code",
   "execution_count": 4,
   "metadata": {},
   "outputs": [
    {
     "data": {
      "text/plain": [
       "False"
      ]
     },
     "execution_count": 4,
     "metadata": {},
     "output_type": "execute_result"
    }
   ],
   "source": [
    "None == ''"
   ]
  },
  {
   "cell_type": "code",
   "execution_count": 5,
   "metadata": {},
   "outputs": [
    {
     "data": {
      "text/plain": [
       "4408420856"
      ]
     },
     "execution_count": 5,
     "metadata": {},
     "output_type": "execute_result"
    }
   ],
   "source": [
    "a = None\n",
    "id(a)"
   ]
  },
  {
   "cell_type": "code",
   "execution_count": 6,
   "metadata": {},
   "outputs": [
    {
     "data": {
      "text/plain": [
       "True"
      ]
     },
     "execution_count": 6,
     "metadata": {},
     "output_type": "execute_result"
    }
   ],
   "source": [
    "b = None\n",
    "a == b"
   ]
  },
  {
   "cell_type": "code",
   "execution_count": 7,
   "metadata": {},
   "outputs": [
    {
     "name": "stdout",
     "output_type": "stream",
     "text": [
      "list is: []\n"
     ]
    }
   ],
   "source": [
    "list1 = []\n",
    "if list1 is not None:\n",
    "    print ('list is:', list1)\n",
    "else:\n",
    "    print('list is empty')"
   ]
  },
  {
   "cell_type": "markdown",
   "metadata": {},
   "source": [
    ">None 既不是0 False, 也不是空字符串或空值对象, 其数据类型为NoneType, 遵循单例模式, 是唯一的, 因此不能创建 None 对象. <br/>\n",
    ">所有赋值为 None 的对象的值都相等, 并且 None 与其他非 None 的对象比较结果都为 False."
   ]
  },
  {
   "cell_type": "markdown",
   "metadata": {},
   "source": [
    "***"
   ]
  },
  {
   "cell_type": "markdown",
   "metadata": {},
   "source": [
    "# 连接字符串应优先使用 join 而不是 +"
   ]
  },
  {
   "cell_type": "code",
   "execution_count": 7,
   "metadata": {},
   "outputs": [
    {
     "name": "stdout",
     "output_type": "stream",
     "text": [
      "0.1823216680004407\n",
      "2.2072159569997893\n"
     ]
    }
   ],
   "source": [
    "import timeit\n",
    "\n",
    "strlist = ['it is a long value string will not keep in memory' for n in range(100000)]\n",
    "\n",
    "def join_test():\n",
    "    return ''.join(strlist)\n",
    "\n",
    "def plus_test():\n",
    "    result = ''\n",
    "    for i, v in enumerate(strlist):\n",
    "        result = result + v\n",
    "    return result\n",
    "\n",
    "if __name__ == '__main__':\n",
    "    jointimer = timeit.Timer('join_test()', 'from __main__ import join_test')\n",
    "    print(jointimer.timeit(number=100))\n",
    "    plustimer = timeit.Timer('plus_test()', 'from __main__ import plus_test')\n",
    "    print(plustimer.timeit(number=100))"
   ]
  },
  {
   "cell_type": "markdown",
   "metadata": {},
   "source": [
    "***"
   ]
  },
  {
   "cell_type": "markdown",
   "metadata": {},
   "source": [
    "# 区别对待可变对象和不可变对象"
   ]
  },
  {
   "cell_type": "code",
   "execution_count": 22,
   "metadata": {},
   "outputs": [
    {
     "name": "stdout",
     "output_type": "stream",
     "text": [
      "wang yi's course:\n",
      "English\n",
      "Math\n",
      "---------------------\n",
      "Li san's course:\n",
      "Chinese\n",
      "Physics\n"
     ]
    }
   ],
   "source": [
    "class Student():\n",
    "    def __init__(self, name, course=None):\n",
    "        self.name = name\n",
    "        if course is None:\n",
    "            course = []\n",
    "        self.course = course\n",
    "    \n",
    "    def add_course(self, coursename):\n",
    "        self.course.append(coursename)\n",
    "        \n",
    "    def print_course(self):\n",
    "        for item in self.course:\n",
    "            print(item)\n",
    "            \n",
    "stuA = Student('wang yi')\n",
    "stuA.add_course('English')\n",
    "stuA.add_course('Math')\n",
    "print(stuA.name + \"'s course:\")\n",
    "stuA.print_course()\n",
    "print('---------------------')\n",
    "stuB = Student('Li san')\n",
    "stuB.add_course('Chinese')\n",
    "stuB.add_course('Physics')\n",
    "print(stuB.name + \"'s course:\")\n",
    "stuB.print_course()"
   ]
  },
  {
   "cell_type": "code",
   "execution_count": null,
   "metadata": {},
   "outputs": [],
   "source": []
  },
  {
   "cell_type": "code",
   "execution_count": null,
   "metadata": {},
   "outputs": [],
   "source": []
  },
  {
   "cell_type": "code",
   "execution_count": null,
   "metadata": {},
   "outputs": [],
   "source": []
  },
  {
   "cell_type": "code",
   "execution_count": null,
   "metadata": {},
   "outputs": [],
   "source": []
  },
  {
   "cell_type": "code",
   "execution_count": null,
   "metadata": {},
   "outputs": [],
   "source": []
  },
  {
   "cell_type": "code",
   "execution_count": null,
   "metadata": {},
   "outputs": [],
   "source": []
  },
  {
   "cell_type": "code",
   "execution_count": null,
   "metadata": {},
   "outputs": [],
   "source": []
  }
 ],
 "metadata": {
  "kernelspec": {
   "display_name": "Python 3",
   "language": "python",
   "name": "python3"
  },
  "language_info": {
   "codemirror_mode": {
    "name": "ipython",
    "version": 3
   },
   "file_extension": ".py",
   "mimetype": "text/x-python",
   "name": "python",
   "nbconvert_exporter": "python",
   "pygments_lexer": "ipython3",
   "version": "3.6.5"
  }
 },
 "nbformat": 4,
 "nbformat_minor": 2
}
