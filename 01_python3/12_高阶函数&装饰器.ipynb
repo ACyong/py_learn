{
 "cells": [
  {
   "cell_type": "markdown",
   "metadata": {},
   "source": [
    "# 高阶函数&装饰器\n",
    "\n",
    "## 1. 函数式编程（函数式一等公民）functional programming\n",
    "\n",
    "> 函数式编程是指用一系列函数解决问题\n",
    "```\n",
    "1、函数本身可以赋值给变量，赋值后变量绑定的是函数\n",
    "2、允许将函数本身作为参数传入另一个函数\n",
    "3、允许函数返回一个函数\n",
    "```\n",
    "\n",
    "- 函数式编程的好处：\n",
    "\n",
    "```\n",
    "1. 每一个函数完成细小的功能，一系列函数的任意组合可以解决大问题\n",
    "2. 函数仅接受输入并产生输出，不包含任何可能影响输出的内部状态\n",
    "```\n",
    "\n",
    "- 函数的可重入性：\n",
    "\n",
    "```\n",
    "当一个函数，调用时参数一定时，结果一定的函数称为可重入函数\n",
    "\n",
    "说明：可重入函数一定不能访问除局部变量外的变量\n",
    "```"
   ]
  },
  {
   "cell_type": "code",
   "execution_count": 3,
   "metadata": {},
   "outputs": [
    {
     "name": "stdout",
     "output_type": "stream",
     "text": [
      "25\n",
      "125\n",
      "25\n"
     ]
    }
   ],
   "source": [
    "y = 2\n",
    "def mypow(x):  # 此函数为不可重入函数\n",
    "    return x**y\n",
    "\n",
    "print(mypow(5))\n",
    "y = 3\n",
    "print(mypow(5))\n",
    "\n",
    "def mypow1(x, y):\n",
    "    return x**y\n",
    "\n",
    "print(mypow1(5, 2))"
   ]
  },
  {
   "cell_type": "markdown",
   "metadata": {},
   "source": [
    "## 2. 闭包 closure\n",
    "\n",
    "> 将组成函数的语句和这些语句的执行环境打包在一起时，得到的对象称为闭包\n",
    "\n",
    "\n",
    "- 说明：\n",
    "\n",
    "```\n",
    "如果一个内嵌函数访问的外部嵌套函数作用域的变量，则这个函数就是闭包\n",
    "```\n",
    "\n",
    "- 闭包必须满足以下三个条件：\n",
    "\n",
    "```\n",
    "1. 必须有一个内嵌函数\n",
    "2. 内嵌函数必须引用外部函数中的变量\n",
    "3. 外部函数返回值必须是内嵌函数\n",
    "```"
   ]
  },
  {
   "cell_type": "code",
   "execution_count": 4,
   "metadata": {},
   "outputs": [
    {
     "name": "stdout",
     "output_type": "stream",
     "text": [
      "y的值是： 2\n",
      "25\n"
     ]
    }
   ],
   "source": [
    "def make_power(y):\n",
    "    print(\"y的值是：\", y)\n",
    "    def f(x):\n",
    "        return x ** y  # <<<---注意此处的y为外部嵌套函数内的y\n",
    "    return f\n",
    "\n",
    "pow2 = make_power(2)\n",
    "print(pow2(5))"
   ]
  },
  {
   "cell_type": "markdown",
   "metadata": {},
   "source": [
    "- 应用场景：\n",
    "\n",
    "```\n",
    "1.使用闭包代替全局变量\n",
    "2.函数外或在其他函数中访问某一函数内部的参数\n",
    "3.在函数执行之前为要执行的函数提供具体参数\n",
    "4.在函数执行之前为函数提供只有在函数执行或引用时才能知道的具体参数\n",
    "6.暂停执行\n",
    "7.包装相关功能\n",
    "```"
   ]
  },
  {
   "cell_type": "markdown",
   "metadata": {},
   "source": [
    "## 3. 高阶函数：High Order function\n",
    "\n",
    "- 什么是高阶函数，满足下面两个条件之一的就为高阶函数：\n",
    "\n",
    "1. 函数接受一个或多个函数作为参数传入"
   ]
  },
  {
   "cell_type": "code",
   "execution_count": 5,
   "metadata": {
    "scrolled": true
   },
   "outputs": [
    {
     "name": "stdout",
     "output_type": "stream",
     "text": [
      "hello world!\n",
      "hello everbody!\n"
     ]
    }
   ],
   "source": [
    "def fn():\n",
    "    print(\"hello world!\")\n",
    "\n",
    "def f2(f):\n",
    "    f()  # f绑定了fn，调用f 相当于调用了fn\n",
    "    print(\"hello everbody!\")\n",
    "\n",
    "f2(fn)  # 调用f2函数，传入fn函数"
   ]
  },
  {
   "cell_type": "code",
   "execution_count": 6,
   "metadata": {},
   "outputs": [
    {
     "name": "stdout",
     "output_type": "stream",
     "text": [
      "L的和是： 25\n",
      "L的最大值是： 9\n",
      "L的最小值是： 1\n"
     ]
    }
   ],
   "source": [
    "def myf(iterable, f):\n",
    "    m = f(iterable)\n",
    "    return m\n",
    "\n",
    "L = [1, 3, 5, 7, 9]\n",
    "print(\"L的和是：\", myf(L, sum))\n",
    "print(\"L的最大值是：\", myf(L, max))\n",
    "print(\"L的最小值是：\", myf(L, min))"
   ]
  },
  {
   "cell_type": "markdown",
   "metadata": {},
   "source": [
    "2. 函数返回一个函数"
   ]
  },
  {
   "cell_type": "code",
   "execution_count": 7,
   "metadata": {},
   "outputs": [
    {
     "name": "stdout",
     "output_type": "stream",
     "text": [
      "[2, 4, 6, 8, 10]\n",
      "输入您要做的操作：求和\n",
      "30\n"
     ]
    }
   ],
   "source": [
    "def get_op():\n",
    "    s = input(\"输入您要做的操作：\")\n",
    "    if s == \"求最大\":\n",
    "        return max\n",
    "    elif s == \"求最小\":\n",
    "        return min\n",
    "    elif s == \"求和\":\n",
    "        return sum\n",
    "\n",
    "L = [2,4,6,8,10]\n",
    "print(L)\n",
    "\n",
    "f = get_op()\n",
    "print(f(L))"
   ]
  },
  {
   "cell_type": "markdown",
   "metadata": {},
   "source": [
    "## 4. 内置函数(8) 高阶函数\n",
    "\n",
    "1. reduce(func, lst)，其中func必须有两个参数。每次func计算的结果继续和序列的下一个元素做累积计算。\n",
    "\n",
    ">在 Python3 中，reduce() 函数已经被从全局名字空间里移除了，它现在被放置在 fucntools 模块里，如果想要使用它，则需要通过引入 functools 模块来调用 reduce() 函数"
   ]
  },
  {
   "cell_type": "code",
   "execution_count": 8,
   "metadata": {},
   "outputs": [
    {
     "name": "stdout",
     "output_type": "stream",
     "text": [
      "5050\n"
     ]
    }
   ],
   "source": [
    "from functools import reduce\n",
    "\n",
    "def add(x,y):\n",
    "    return x + y\n",
    "\n",
    "print (reduce(add, range(1, 101)))"
   ]
  },
  {
   "cell_type": "markdown",
   "metadata": {},
   "source": [
    "2. map(func, *iterable), 用函数对可迭代对象中的每一个元素作为参数, 计算出新的可迭代对象，当最短的一个迭代器完成迭代后结束"
   ]
  },
  {
   "cell_type": "code",
   "execution_count": 9,
   "metadata": {},
   "outputs": [
    {
     "name": "stdout",
     "output_type": "stream",
     "text": [
      "[1, 4, 9, 16, 25, 36, 49, 64, 81]\n",
      "[1, 4, 9, 16, 25, 36, 49, 64, 81]\n",
      "[1, 8, 9, 4]\n"
     ]
    }
   ],
   "source": [
    "def power(x):\n",
    "    return x**2\n",
    "\n",
    "L = []\n",
    "mit = map(power, range(1, 10)) #返回一个新的可迭代对象，此可迭代对象可以生成一系列的平方\n",
    "for x in mit:\n",
    "    L.append(x)\n",
    "print(L)\n",
    "\n",
    "# 等价于以上5行\n",
    "L = [x for x in map(power, range(1, 10))]\n",
    "print(L)\n",
    "\n",
    "def mypow(x, y):\n",
    "    return x ** y\n",
    "\n",
    "# 生成一个可迭代对象，此可迭代对象可以生成1**4，2**3，3**2, 4**1\n",
    "L = [x for x in map(mypow, range(1, 5), range(4, 0, -1))]\n",
    "print(L)"
   ]
  },
  {
   "cell_type": "markdown",
   "metadata": {},
   "source": [
    "`练习：求1**2 + 2**2 + 3**2 + .......+9**2的和`"
   ]
  },
  {
   "cell_type": "code",
   "execution_count": 10,
   "metadata": {},
   "outputs": [
    {
     "name": "stdout",
     "output_type": "stream",
     "text": [
      "285\n"
     ]
    }
   ],
   "source": [
    "def fun(x):\n",
    "    return x**2\n",
    "\n",
    "print(sum(map(fun, range(1, 10))))"
   ]
  },
  {
   "cell_type": "markdown",
   "metadata": {},
   "source": [
    "`练习: 求1**3 + 2**3 + 3**3 + .......+9**3的和`"
   ]
  },
  {
   "cell_type": "code",
   "execution_count": 11,
   "metadata": {},
   "outputs": [
    {
     "name": "stdout",
     "output_type": "stream",
     "text": [
      "2025\n"
     ]
    }
   ],
   "source": [
    "print(sum(map(lambda x:x**3, range(1, 10))))"
   ]
  },
  {
   "cell_type": "markdown",
   "metadata": {},
   "source": [
    "`练习: 求1**9 + 2**8 + 3**7 + .......+9**1的和`"
   ]
  },
  {
   "cell_type": "code",
   "execution_count": 12,
   "metadata": {},
   "outputs": [
    {
     "name": "stdout",
     "output_type": "stream",
     "text": [
      "11377\n"
     ]
    }
   ],
   "source": [
    "print(sum(map((lambda x, y: x**y), range(1, 10), range(9,0,-1))))"
   ]
  },
  {
   "cell_type": "markdown",
   "metadata": {},
   "source": [
    "`练习: 有一个字符串，s = \"ABCDEFG\" 和数字 L = [1, 2, 3, 4, 5, 6, 7] 生产一个列表：L2 = ['A1', 'B2', 'C3',.......]`"
   ]
  },
  {
   "cell_type": "code",
   "execution_count": 13,
   "metadata": {},
   "outputs": [
    {
     "name": "stdout",
     "output_type": "stream",
     "text": [
      "['A1', 'B2', 'C3', 'D4', 'E5', 'F6', 'G7']\n",
      "['A1', 'B2', 'C3', 'D4', 'E5', 'F6', 'G7']\n"
     ]
    }
   ],
   "source": [
    "s = \"ABCDEFG\"\n",
    "L = [1, 2, 3, 4, 5, 6, 7]\n",
    "\n",
    "def fun(x, y):\n",
    "    return x+str(y)\n",
    "\n",
    "L2 = []\n",
    "for x in map(fun, s, L):\n",
    "    L2.append(x)\n",
    "print(L2)\n",
    "print([x for x in map(fun, s, L)])"
   ]
  },
  {
   "cell_type": "markdown",
   "metadata": {},
   "source": [
    "- filter(function or None, iterable) \n",
    "\n",
    "```\n",
    "用 iterable 中函数 function 返回真的那些元素，构建一个新的迭代器。iterable 可以是一个序列，一个支持迭代的容器，或一个迭代器。如果 function 是 None ，则会假设它是一个身份函数，即 iterable 中所有返回假的元素会被移除。\n",
    "\n",
    "请注意， filter(function, iterable) 相当于一个生成器表达式，当 function 不是 None 的时候为 (item for item in iterable if function(item))；function 是 None 的时候为 (item for item in iterable if item) 。\n",
    "```"
   ]
  },
  {
   "cell_type": "markdown",
   "metadata": {},
   "source": [
    "`练习：生成1-20之间所有的偶数的列表`"
   ]
  },
  {
   "cell_type": "code",
   "execution_count": 16,
   "metadata": {},
   "outputs": [
    {
     "name": "stdout",
     "output_type": "stream",
     "text": [
      "[1, 3, 5, 7, 9, 11, 13, 15, 17, 19]\n"
     ]
    }
   ],
   "source": [
    "def isodd(x):\n",
    "    return x % 2 == 1\n",
    "\n",
    "#生产奇数的列表\n",
    "print([x for x in filter(isodd, range(21))])"
   ]
  },
  {
   "cell_type": "markdown",
   "metadata": {},
   "source": [
    "`练习: 1-100以内所有素数的列表，L = [2, 3, 5, 7, 11, ....., 97]`"
   ]
  },
  {
   "cell_type": "code",
   "execution_count": 18,
   "metadata": {},
   "outputs": [
    {
     "name": "stdout",
     "output_type": "stream",
     "text": [
      "[2, 3, 5, 7, 11, 13, 17, 19, 23, 29, 31, 37, 41, 43, 47, 53, 59, 61, 67, 71, 73, 79, 83, 89, 97]\n"
     ]
    }
   ],
   "source": [
    "def prime(x):\n",
    "    for i in range(2, int(x**0.5 + 1)):\n",
    "        if x % i == 0:\n",
    "            return False\n",
    "    else:\n",
    "        return True\n",
    "\n",
    "primes = [x for x in filter(prime, range(2, 100))]\n",
    "print(primes)"
   ]
  },
  {
   "cell_type": "markdown",
   "metadata": {},
   "source": [
    "- sorted(iterable, *, key=None, reverse=False)\n",
    "\n",
    "```\n",
    "根据 iterable 中的项返回一个新的已排序列表。\n",
    "\n",
    "key 指定带有单个参数的函数，用于从 iterable 的每个元素中提取用于比较的键 (例如 key=str.lower)。默认值为 None (直接比较元素)。\n",
    "reverse 为一个布尔值。 如果设为 True，则每个列表元素将按反向顺序比较进行排序。\n",
    "```"
   ]
  },
  {
   "cell_type": "code",
   "execution_count": 23,
   "metadata": {},
   "outputs": [
    {
     "name": "stdout",
     "output_type": "stream",
     "text": [
      "[-4, -2, 0, 1, 3, 5]\n",
      "[0, 1, -2, 3, -4, 5]\n",
      "['Jerry', 'Spike', 'Tom', 'Tyke']\n",
      "['Tom', 'Tyke', 'Jerry', 'Spike']\n",
      "['Spike', 'Tyke', 'Tom', 'Jerry']\n"
     ]
    }
   ],
   "source": [
    "L = [5, -2, -4, 0, 3, 1]\n",
    "L2 = sorted(L)\n",
    "print(L2)\n",
    "\n",
    "L3 = sorted(L, key=abs)\n",
    "print(L3)\n",
    "\n",
    "names = ['Tom', 'Jerry', 'Spike', 'Tyke']\n",
    "L4 = sorted(names)\n",
    "print(L4)\n",
    "L5 = sorted(names, key = len)\n",
    "print(L5)\n",
    "\n",
    "def fun(k): # 此函数内一定只有一个参数，此函数用于绑定元素，并返回此元素的排序依据\n",
    "    return k[::-1]\n",
    "\n",
    "L6 = sorted(names, key=fun)\n",
    "print(L6)"
   ]
  },
  {
   "cell_type": "markdown",
   "metadata": {},
   "source": [
    "`练习：L列表中，存储书名，价钱和页数`\n",
    "\n",
    "```\n",
    "L = [{\"name\":Python基础教程, \"price\":58, \"pages\":866},\n",
    "     {\"name\":C语言, \"price\":98, \"pages\":982},\n",
    "     {\"name\":C++语言, \"price\":56, \"pages\":1024},\n",
    "     {\"name\":Java, \"price\":79, \"pages\":691}]\n",
    "```\n",
    "\n",
    "`按价钱排序，然后输出顺序（升序）, 按页数排序，然后输出顺序（升序）`"
   ]
  },
  {
   "cell_type": "code",
   "execution_count": 27,
   "metadata": {},
   "outputs": [
    {
     "name": "stdout",
     "output_type": "stream",
     "text": [
      "       C++  56  1024\n",
      "    Python  58   866\n",
      "      Java  79   691\n",
      "         C  98   982\n",
      "      Java  79   691\n",
      "    Python  58   866\n",
      "         C  98   982\n",
      "       C++  56  1024\n"
     ]
    }
   ],
   "source": [
    "L = [{\"name\":\"Python\", \"price\":58, \"pages\":866},\n",
    "     {\"name\":\"C\", \"price\":98, \"pages\":982},\n",
    "     {\"name\":\"C++\", \"price\":56, \"pages\":1024},\n",
    "     {\"name\":\"Java\", \"price\":79, \"pages\":691}]\n",
    "\n",
    "def fun(x):\n",
    "    return x['price']\n",
    "\n",
    "def fun1(x):\n",
    "    return x['pages']\n",
    "\n",
    "L1 = sorted(L, key=fun)\n",
    "L2 = sorted(L, key=fun1)\n",
    "\n",
    "def show_books(lst):\n",
    "    for x in lst:\n",
    "        print(\"%10s %3d %5d\" % (x['name'],x['price'],x['pages']))\n",
    "\n",
    "show_books(L1)\n",
    "show_books(L2)"
   ]
  },
  {
   "cell_type": "markdown",
   "metadata": {},
   "source": [
    "## 5. 递归函数：（recursion function）\n",
    "\n",
    "> 函数直接或间接的调用自身（效率不高，递归有深度限制，所以慎用递归）, 编写递归函数时，必须告诉它什么时候停止递归。正因如此，每个递归函数都有两个部分：基线条件和递归条件。递归条件指的是函数调用自己，而基线条件指的是函数不再调用自己，从而避免形成无限循环。    \n",
    "\n",
    "- 说明\n",
    "\n",
    "```\n",
    "递归的实现方法：先假设函数已经实现\n",
    "\n",
    "递归一定要控制递归的层数（深度），当符合某一条件时要终止递归调用，当进入更深层递归时问题规模都要有所减少，几乎所有的递归都能用while循环来代替. \n",
    "```\n",
    "\n",
    "- 以下两种形式的调用时递归，并无法返回\n",
    "\n",
    "```\n",
    "# 直接调用\n",
    "def f():\n",
    "    f() # 调用自己\n",
    "\n",
    "f() # 调用此函数\n",
    "\n",
    "# 间接调用\n",
    "def fa():\n",
    "    fb()\n",
    "\n",
    "def fb()\n",
    "    fa()\n",
    "\n",
    "fa()\n",
    "```"
   ]
  },
  {
   "cell_type": "code",
   "execution_count": 28,
   "metadata": {},
   "outputs": [
    {
     "name": "stdout",
     "output_type": "stream",
     "text": [
      "进入函数时： 3\n",
      "进入函数时： 2\n",
      "进入函数时： 1\n",
      "退出函数前： 1\n",
      "退出函数前： 2\n",
      "退出函数前： 3\n"
     ]
    }
   ],
   "source": [
    "import time\n",
    "def f(n):\n",
    "    if n <= 0:  # 当n条件满足时终止调用终止自己，来终止递归调用\n",
    "        return\n",
    "    time.sleep(0.5)\n",
    "    print(\"进入函数时：\", n)\n",
    "    f(n-1)\n",
    "    print(\"退出函数前：\", n)\n",
    "\n",
    "f(3)  # 调用函数"
   ]
  },
  {
   "cell_type": "markdown",
   "metadata": {},
   "source": [
    "`练习：写一个函数，用递归方式打印1-10的数字`"
   ]
  },
  {
   "cell_type": "code",
   "execution_count": 29,
   "metadata": {},
   "outputs": [
    {
     "name": "stdout",
     "output_type": "stream",
     "text": [
      "1\n",
      "2\n",
      "3\n",
      "4\n",
      "5\n",
      "6\n",
      "7\n",
      "8\n",
      "9\n",
      "10\n"
     ]
    }
   ],
   "source": [
    "import time\n",
    "\n",
    "def f(n):\n",
    "    print(n)\n",
    "    time.sleep(1)\n",
    "    if n >= 10:  # 设置返回条件\n",
    "        return\n",
    "    f(n+1)\n",
    "\n",
    "f(1)"
   ]
  },
  {
   "cell_type": "markdown",
   "metadata": {},
   "source": [
    "`练习：写一个函数sum_n,用递归来实现 n+(n-1)+(n-2)+....+3+2+1 的和`"
   ]
  },
  {
   "cell_type": "code",
   "execution_count": 30,
   "metadata": {},
   "outputs": [
    {
     "name": "stdout",
     "output_type": "stream",
     "text": [
      "55\n"
     ]
    }
   ],
   "source": [
    "def sum_n(n):\n",
    "    if n == 1 :\n",
    "        return 1\n",
    "    return n + sum_n(n - 1)\n",
    "\n",
    "print(sum_n(10))"
   ]
  },
  {
   "cell_type": "markdown",
   "metadata": {},
   "source": [
    "`练习：编写程序，用递归实现阶乘myfac(x)返回x的阶乘`"
   ]
  },
  {
   "cell_type": "code",
   "execution_count": 31,
   "metadata": {},
   "outputs": [
    {
     "name": "stdout",
     "output_type": "stream",
     "text": [
      "120\n"
     ]
    }
   ],
   "source": [
    "def fact(x):\n",
    "    if x == 1:\n",
    "        return 1\n",
    "    else:\n",
    "        return x * fact(x - 1)\n",
    "\n",
    "print(fact(5))"
   ]
  },
  {
   "cell_type": "markdown",
   "metadata": {},
   "source": [
    "`练习: 写程序，算出1-20的阶乘的和: 1！+ 2！+ 3！+4！+ 5！+…………+20！`"
   ]
  },
  {
   "cell_type": "code",
   "execution_count": 32,
   "metadata": {},
   "outputs": [
    {
     "name": "stdout",
     "output_type": "stream",
     "text": [
      "2561327494111820313\n"
     ]
    }
   ],
   "source": [
    "def fun(x):\n",
    "    if x == 1:\n",
    "        return 1\n",
    "    return x * fun(x-1)\n",
    "\n",
    "print(sum(map(fun, range(1, 21))))"
   ]
  },
  {
   "cell_type": "markdown",
   "metadata": {},
   "source": [
    "## 6. 装饰器 decorator\n",
    "\n",
    "- 什么是装饰器：\n",
    "\n",
    "```\n",
    "1、装饰器是一个函数，主要是用来包装另一个函数或类\n",
    "2、装饰的目的是在不改变原函数或类的源代码和调用方式的情况下，改变被包装对象的行为\n",
    "3、函数装饰器是指一个装饰器函数传入参数的是一个函数，返回也是一个函数\n",
    "```\n",
    "\n",
    "- 实现装饰器知识储备：\n",
    "\n",
    "```\n",
    "1、函数即“变量”\n",
    "2、高阶函数\n",
    "3、嵌套函数\n",
    "```"
   ]
  },
  {
   "cell_type": "code",
   "execution_count": 35,
   "metadata": {},
   "outputs": [
    {
     "name": "stdout",
     "output_type": "stream",
     "text": [
      "now now\n"
     ]
    }
   ],
   "source": [
    "def now():\n",
    "    print('2015-3-25')\n",
    "\n",
    "# 函数即“变量”\n",
    "f = now\n",
    "print(f.__name__, now.__name__)"
   ]
  },
  {
   "cell_type": "markdown",
   "metadata": {},
   "source": [
    "> 假设要增强now()函数的功能，比如，在函数调用前后自动打印日志，但又不希望修改now()函数的定义，这种在代码运行期间动态增加功能的方式，称之为“装饰器”（Decorator）。本质上，decorator就是一个返回函数的高阶函数。所以要定义一个能打印日志的decorator，可以定义如下："
   ]
  },
  {
   "cell_type": "code",
   "execution_count": 37,
   "metadata": {},
   "outputs": [],
   "source": [
    "def log(func):\n",
    "    def wrapper(*args, **kw):\n",
    "        print('call %s():' % func.__name__)\n",
    "        return func(*args, **kw)\n",
    "    return wrapper"
   ]
  },
  {
   "cell_type": "markdown",
   "metadata": {},
   "source": [
    "> 观察上面的log，因为它是一个decorator，所以接受一个函数作为参数，并返回一个函数。要借助Python的@语法，把decorator置于函数的定义处："
   ]
  },
  {
   "cell_type": "code",
   "execution_count": 44,
   "metadata": {},
   "outputs": [
    {
     "name": "stdout",
     "output_type": "stream",
     "text": [
      "call now():\n",
      "2015-3-25\n"
     ]
    }
   ],
   "source": [
    "@log\n",
    "def now():\n",
    "    print('2015-3-25')\n",
    "\n",
    "# 等价于 now = log(now)\n",
    "now()"
   ]
  },
  {
   "cell_type": "markdown",
   "metadata": {},
   "source": [
    "> 由于log()是一个decorator，返回一个函数，所以，原来的now()函数仍然存在，只是现在同名的now变量指向了新的函数，于是调用now()将执行新函数，即在log()函数中返回的wrapper()函数。wrapper()函数的参数定义是(*args, **kw)，因此，wrapper()函数可以接受任意参数的调用。在wrapper()函数内，首先打印日志，再紧接着调用原始函数。如果decorator本身需要传入参数，那就需要编写一个返回decorator的高阶函数，写出来会更复杂。比如，要自定义log的文本："
   ]
  },
  {
   "cell_type": "code",
   "execution_count": 45,
   "metadata": {},
   "outputs": [],
   "source": [
    "def log(text):\n",
    "    def decorator(func):\n",
    "        def wrapper(*args, **kw):\n",
    "            print('%s %s():' % (text, func.__name__))\n",
    "            return func(*args, **kw)\n",
    "        return wrapper\n",
    "    return decorator"
   ]
  },
  {
   "cell_type": "code",
   "execution_count": 49,
   "metadata": {},
   "outputs": [
    {
     "name": "stdout",
     "output_type": "stream",
     "text": [
      "execute now():\n",
      "2015-3-25\n"
     ]
    }
   ],
   "source": [
    "@log('execute')\n",
    "def now():\n",
    "    print('2015-3-25')\n",
    "\n",
    "# 等价于: now = log('execute')(now)\n",
    "now()"
   ]
  },
  {
   "cell_type": "markdown",
   "metadata": {},
   "source": [
    "> 剖析上面的语句，首先执行log('execute')，返回的是decorator函数，再调用返回的函数，参数是now函数，返回值最终是wrapper函数。以上两种decorator的定义都没有问题，但还差最后一步。因为函数也是对象，它有__name__等属性，但去看经过decorator装饰之后的函数，它们的__name__已经从原来的'now'变成了'wrapper'："
   ]
  },
  {
   "cell_type": "code",
   "execution_count": 50,
   "metadata": {},
   "outputs": [
    {
     "data": {
      "text/plain": [
       "'wrapper'"
      ]
     },
     "execution_count": 50,
     "metadata": {},
     "output_type": "execute_result"
    }
   ],
   "source": [
    "now.__name__"
   ]
  },
  {
   "cell_type": "markdown",
   "metadata": {},
   "source": [
    "> 因为返回的那个wrapper()函数名字就是'wrapper'，所以，需要把原始函数的__name__等属性复制到wrapper()函数中，否则，有些依赖函数签名的代码执行就会出错。不需要编写wrapper.__name__ = func.__name__这样的代码，Python内置的functools.wraps就是干这个事的，所以，一个完整的decorator的写法如下："
   ]
  },
  {
   "cell_type": "code",
   "execution_count": null,
   "metadata": {},
   "outputs": [],
   "source": [
    "import functools\n",
    "\n",
    "def log(func):\n",
    "    @functools.wraps(func)\n",
    "    def wrapper(*args, **kw):\n",
    "        print('call %s():' % func.__name__)\n",
    "        return func(*args, **kw)\n",
    "    return wrapper"
   ]
  },
  {
   "cell_type": "code",
   "execution_count": null,
   "metadata": {},
   "outputs": [],
   "source": [
    "import functools\n",
    "\n",
    "# 带有参数的\n",
    "def log(text):\n",
    "    def decorator(func):\n",
    "        @functools.wraps(func)\n",
    "        def wrapper(*args, **kw):\n",
    "            print('%s %s():' % (text, func.__name__))\n",
    "            return func(*args, **kw)\n",
    "        return wrapper\n",
    "    return decorator"
   ]
  },
  {
   "cell_type": "markdown",
   "metadata": {},
   "source": [
    "`练习: 用装饰器函数名替换被装饰函数`"
   ]
  },
  {
   "cell_type": "code",
   "execution_count": 67,
   "metadata": {},
   "outputs": [
    {
     "name": "stdout",
     "output_type": "stream",
     "text": [
      "hello: 小张\n",
      "你好！ 小张\n"
     ]
    }
   ],
   "source": [
    "import functools\n",
    "\n",
    "def mydeco(fn):  # 此函数为装饰器函数，可以用来装饰带有一个参数的函数\n",
    "    @functools.wraps(fn)\n",
    "    def wrapper(*args, **kw):\n",
    "        print(\"hello:\", args[0])\n",
    "        return fn(*args, **kw)\n",
    "    return wrapper\n",
    "\n",
    "@mydeco\n",
    "def say_hello(name):\n",
    "    print(\"你好！\", name)\n",
    "\n",
    "say_hello(\"小张\")"
   ]
  },
  {
   "cell_type": "markdown",
   "metadata": {},
   "source": [
    "`练习: 实现用闭包来包裹原被装饰函数，可以在执行前和执行后加入自定义代码`"
   ]
  },
  {
   "cell_type": "code",
   "execution_count": 63,
   "metadata": {},
   "outputs": [
    {
     "name": "stdout",
     "output_type": "stream",
     "text": [
      "调用函数前。。。。\n",
      "你好！ 小张\n",
      "调用函数后。。。。\n"
     ]
    }
   ],
   "source": [
    "import functools\n",
    "\n",
    "def mydeco(fn):\n",
    "    @functools.wraps(fn)\n",
    "    def f2(name):  # 此时f2为闭包，因为f2调用了fn 参数\n",
    "        print(\"调用函数前。。。。\")\n",
    "        fn(name)\n",
    "        print(\"调用函数后。。。。\")\n",
    "    return f2\n",
    "\n",
    "@mydeco\n",
    "def say_hello(name):\n",
    "    print(\"你好！\", name)\n",
    "\n",
    "say_hello(\"小张\")"
   ]
  },
  {
   "cell_type": "markdown",
   "metadata": {},
   "source": [
    "`练习: 在函数调用时，打印函数最终执行的时间（用装饰器测试函数执行时间案例）`"
   ]
  },
  {
   "cell_type": "code",
   "execution_count": 65,
   "metadata": {},
   "outputs": [
    {
     "name": "stdout",
     "output_type": "stream",
     "text": [
      "f1 .......\n",
      "the f1 run time is 3.0043368339538574\n"
     ]
    }
   ],
   "source": [
    "import functools\n",
    "import time\n",
    "\n",
    "\n",
    "def f2(f1):\n",
    "    @functools.wraps(f1)\n",
    "    def warpper(*args, **kwarge):  # 通用的装饰器的形参列表为(*args, **kwarge) 可以装饰任意参数的函数\n",
    "        start_time = time.time()\n",
    "        f1()\n",
    "        print(\"the f1 run time is %s\" % (time.time() - start_time))\n",
    "    return warpper\n",
    "\n",
    "\n",
    "@f2\n",
    "def f1():\n",
    "    time.sleep(3)\n",
    "    print(\"f1 .......\")\n",
    "\n",
    "f1()"
   ]
  },
  {
   "cell_type": "markdown",
   "metadata": {},
   "source": [
    "`练习: 给不同的函数加上同一个装饰器，赋予不同的功能`"
   ]
  },
  {
   "cell_type": "code",
   "execution_count": 68,
   "metadata": {},
   "outputs": [
    {
     "name": "stdout",
     "output_type": "stream",
     "text": [
      "auth func: local\n",
      "auth func: ldap\n",
      "index page.......\n",
      "username: aaa\n",
      "password: 123\n",
      "\u001b[32;ImUser has passed authentication\u001b]Om\n",
      "home page.......\n",
      "_______after________\n",
      "*****from home*******\n",
      "其他操作。。。。。。。\n"
     ]
    }
   ],
   "source": [
    "import functools\n",
    "\n",
    "user, passwd = \"aaa\", \"123\"\n",
    "\n",
    "def auth(auth_type):\n",
    "    print(\"auth func:\", auth_type)\n",
    "\n",
    "    def outer_wrapper(func):\n",
    "        @functools.wraps(func)\n",
    "        def wrapper(*args, **kwargs):\n",
    "            if auth_type == \"local\":\n",
    "                username = input(\"username: \").strip()\n",
    "                password = input(\"password: \").strip()\n",
    "\n",
    "                if user == username and passwd == password:\n",
    "                    print(\"\\033[32;ImUser has passed authentication\\033]Om\")\n",
    "                    res = func(*args, **kwargs)  # from home\n",
    "                    print(\"_______after________\")\n",
    "                    return res\n",
    "                else:\n",
    "                    exit(\"\\033[32;ImInvalid username or password\\033]Om\")\n",
    "            elif auth_type == \"ldap\":\n",
    "                print(\"其他操作。。。。。。。\")\n",
    "        return wrapper\n",
    "    return outer_wrapper\n",
    "\n",
    "def index():\n",
    "    print(\"index page.......\")\n",
    "\n",
    "@auth(auth_type=\"local\")\n",
    "def home():\n",
    "    print(\"home page.......\")\n",
    "    return \"*****from home*******\"\n",
    "\n",
    "@auth(auth_type=\"ldap\")\n",
    "def bbs():\n",
    "    print(\"bbs page........\")\n",
    "\n",
    "\n",
    "index()\n",
    "print(home())\n",
    "bbs()"
   ]
  },
  {
   "cell_type": "markdown",
   "metadata": {},
   "source": [
    "- 类装饰器见面向对象编程"
   ]
  },
  {
   "cell_type": "code",
   "execution_count": null,
   "metadata": {},
   "outputs": [],
   "source": []
  }
 ],
 "metadata": {
  "kernelspec": {
   "display_name": "Python 3",
   "language": "python",
   "name": "python3"
  },
  "language_info": {
   "codemirror_mode": {
    "name": "ipython",
    "version": 3
   },
   "file_extension": ".py",
   "mimetype": "text/x-python",
   "name": "python",
   "nbconvert_exporter": "python",
   "pygments_lexer": "ipython3",
   "version": "3.7.3"
  }
 },
 "nbformat": 4,
 "nbformat_minor": 4
}
