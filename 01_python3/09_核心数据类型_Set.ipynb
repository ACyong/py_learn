{
 "cells": [
  {
   "cell_type": "markdown",
   "metadata": {},
   "source": [
    "# python 的核心数据类型：\n",
    "\n",
    "* Number      数字（整数，浮点数，复数，布尔型数）\n",
    "* String      字符串\n",
    "* List        列表\n",
    "* Tuple       元组\n",
    "* Dictionary  字典\n",
    "* **Set       集合**"
   ]
  },
  {
   "cell_type": "markdown",
   "metadata": {},
   "source": [
    "## 1. 集合 set\n",
    "\n",
    "```\n",
    "集合是可变的容器\n",
    "集合内的数据对象都是唯一的（不能重复多次）\n",
    "集合是无序的存储结构，集合中的数据没有先后关系\n",
    "集合内的元素必须是不可变对象\n",
    "集合是可迭代对象,可以用for循环来遍历集合\n",
    "集合是相当于只有键没有值的字典（键则是集合的数据）\n",
    "```\n",
    "\n",
    "- 创建空的集合"
   ]
  },
  {
   "cell_type": "code",
   "execution_count": 6,
   "metadata": {},
   "outputs": [
    {
     "name": "stdout",
     "output_type": "stream",
     "text": [
      "set() <class 'set'>\n"
     ]
    }
   ],
   "source": [
    "print(set(), type(set()))   # 创建一个空的集合对象必须使用 set函数"
   ]
  },
  {
   "cell_type": "markdown",
   "metadata": {},
   "source": [
    "- 创建非空集合\n",
    "\n",
    "```\n",
    "set(iterable)   用可迭代对象差un关键一个新的集合对象\n",
    "```"
   ]
  },
  {
   "cell_type": "code",
   "execution_count": 8,
   "metadata": {},
   "outputs": [
    {
     "name": "stdout",
     "output_type": "stream",
     "text": [
      "set()\n",
      "{0, 1, 2, 3, 4, 5, 6, 7, 8, 9}\n",
      "{8, 10, 3, 5}\n",
      "{'C', 'A', 'B', 'D'}\n",
      "{8, 5, 6, 7}\n",
      "{1, 3}\n",
      "{1, 2, (3.1, 3.2)}\n"
     ]
    },
    {
     "ename": "TypeError",
     "evalue": "unhashable type: 'list'",
     "output_type": "error",
     "traceback": [
      "\u001b[0;31m---------------------------------------------------------------------------\u001b[0m",
      "\u001b[0;31mTypeError\u001b[0m                                 Traceback (most recent call last)",
      "\u001b[0;32m<ipython-input-8-8322f55d8279>\u001b[0m in \u001b[0;36m<module>\u001b[0;34m\u001b[0m\n\u001b[1;32m     15\u001b[0m \u001b[0;34m\u001b[0m\u001b[0m\n\u001b[1;32m     16\u001b[0m \u001b[0;31m# 以下错误：\u001b[0m\u001b[0;34m\u001b[0m\u001b[0;34m\u001b[0m\u001b[0;34m\u001b[0m\u001b[0m\n\u001b[0;32m---> 17\u001b[0;31m \u001b[0ms\u001b[0m \u001b[0;34m=\u001b[0m \u001b[0;34m{\u001b[0m\u001b[0;36m1\u001b[0m\u001b[0;34m,\u001b[0m \u001b[0;36m2\u001b[0m\u001b[0;34m,\u001b[0m \u001b[0;34m[\u001b[0m\u001b[0;36m3.1\u001b[0m\u001b[0;34m,\u001b[0m \u001b[0;36m3.2\u001b[0m\u001b[0;34m]\u001b[0m\u001b[0;34m}\u001b[0m   \u001b[0;31m# 出错，因为列表/字典是可变对象\u001b[0m\u001b[0;34m\u001b[0m\u001b[0;34m\u001b[0m\u001b[0m\n\u001b[0m\u001b[1;32m     18\u001b[0m \u001b[0ms\u001b[0m \u001b[0;34m=\u001b[0m \u001b[0;34m{\u001b[0m\u001b[0;36m1\u001b[0m\u001b[0;34m,\u001b[0m \u001b[0;36m2\u001b[0m\u001b[0;34m,\u001b[0m \u001b[0;34m{\u001b[0m\u001b[0;36m1\u001b[0m\u001b[0;34m:\u001b[0m\u001b[0;34m\"One\"\u001b[0m\u001b[0;34m}\u001b[0m\u001b[0;34m}\u001b[0m\u001b[0;34m\u001b[0m\u001b[0;34m\u001b[0m\u001b[0m\n",
      "\u001b[0;31mTypeError\u001b[0m: unhashable type: 'list'"
     ]
    }
   ],
   "source": [
    "s = set()\n",
    "print(s)\n",
    "s = set(range(10))\n",
    "print(s)\n",
    "s = {5, 8, 10, 3}\n",
    "print(s)\n",
    "s = set(\"ABCDABCABA\")\n",
    "print(s)\n",
    "s = set([5, 6, 7, 8])\n",
    "print(s)\n",
    "s = set({1:\"One\", 3:\"Three\"})\n",
    "print(s)\n",
    "s = {1, 2, (3.1, 3.2)}\n",
    "print(s)\n",
    "\n",
    "# 以下错误：\n",
    "s = {1, 2, [3.1, 3.2]}   # 出错，因为列表/字典是可变对象\n",
    "s = {1, 2, {1:\"One\"}}"
   ]
  },
  {
   "cell_type": "markdown",
   "metadata": {},
   "source": [
    "## 2. 集合的运算：（不改变原集合的运算）\n",
    "\n",
    "> 交集， 并集， 补集， 子集， 超集\n",
    "\n",
    "- & 生成两个集合的交集"
   ]
  },
  {
   "cell_type": "code",
   "execution_count": 9,
   "metadata": {},
   "outputs": [
    {
     "name": "stdout",
     "output_type": "stream",
     "text": [
      "{2, 3}\n"
     ]
    }
   ],
   "source": [
    "s1 = {1, 2, 3}\n",
    "s2 = {2, 3, 4}\n",
    "s3 = s1 & s2\n",
    "print(s3)"
   ]
  },
  {
   "cell_type": "markdown",
   "metadata": {},
   "source": [
    "- | 生成两个集合的并集"
   ]
  },
  {
   "cell_type": "code",
   "execution_count": 10,
   "metadata": {},
   "outputs": [
    {
     "name": "stdout",
     "output_type": "stream",
     "text": [
      "{1, 2, 3, 4}\n"
     ]
    }
   ],
   "source": [
    "s1 = {1, 2, 3}\n",
    "s2 = {2, 3, 4}\n",
    "s3 = s1 | s2\n",
    "print(s3)"
   ]
  },
  {
   "cell_type": "markdown",
   "metadata": {},
   "source": [
    "- `-` 生成两个集合的补集"
   ]
  },
  {
   "cell_type": "code",
   "execution_count": 11,
   "metadata": {},
   "outputs": [
    {
     "name": "stdout",
     "output_type": "stream",
     "text": [
      "{1}\n"
     ]
    }
   ],
   "source": [
    "s1 = {1, 2, 3}\n",
    "s2 = {2, 3, 4}\n",
    "s3 = s1 - s2\n",
    "print(s3)\n",
    "# 补集是指，生成s1除去s1和s2的交集"
   ]
  },
  {
   "cell_type": "markdown",
   "metadata": {},
   "source": [
    "- ^ 生成两个集合的对称补集"
   ]
  },
  {
   "cell_type": "code",
   "execution_count": 12,
   "metadata": {},
   "outputs": [
    {
     "name": "stdout",
     "output_type": "stream",
     "text": [
      "{1, 4}\n"
     ]
    }
   ],
   "source": [
    "s1 = {1, 2, 3}\n",
    "s2 = {2, 3, 4}\n",
    "s3 = s1 ^ s2\n",
    "print(s3)"
   ]
  },
  {
   "cell_type": "markdown",
   "metadata": {},
   "source": [
    "- 超集\n",
    "\n",
    "```\n",
    "< 判断一个集合是另一个集合的超集\n",
    "< 判断一个集合是另一个集合的子集\n",
    ">=  <= 可以使用，判断子集或相同，超集或相同\n",
    "```"
   ]
  },
  {
   "cell_type": "code",
   "execution_count": 14,
   "metadata": {},
   "outputs": [
    {
     "name": "stdout",
     "output_type": "stream",
     "text": [
      "True\n",
      "False\n"
     ]
    }
   ],
   "source": [
    "s1 = {1, 2, 3}\n",
    "s2 = {2, 3}\n",
    "print(s1 > s2)\n",
    "print(s1 < s2)"
   ]
  },
  {
   "cell_type": "markdown",
   "metadata": {},
   "source": [
    "- == / != 判断集合相同或不同"
   ]
  },
  {
   "cell_type": "code",
   "execution_count": 15,
   "metadata": {},
   "outputs": [
    {
     "name": "stdout",
     "output_type": "stream",
     "text": [
      "True\n",
      "False\n"
     ]
    }
   ],
   "source": [
    "s1 = {1, 2, 3}\n",
    "s2 = {3, 2, 1}\n",
    "print(s1 == s2)\n",
    "print(s1 != s2)"
   ]
  },
  {
   "cell_type": "markdown",
   "metadata": {},
   "source": [
    "- in / not in 运算符\n",
    "\n",
    "```\n",
    "等同于前面所学的in运算符，用于判断一个值是否在集合中\n",
    "```"
   ]
  },
  {
   "cell_type": "markdown",
   "metadata": {},
   "source": [
    "## 3. Python3 中集合常用的方法\n",
    "\n",
    "```\n",
    "S表示集合\n",
    "S.add(e)      # 在集合中添加一个新元素e，如果元素已经存在，则不添加\n",
    "S.remove(e)   # 从集合中删除一个元素，如果元素不存在于集合中，则会产生一个KeyError的错误\n",
    "S.discard(e)  # 从集合中删除一个元素，但不会发生错误\n",
    "S.clear()     # 清空集合\n",
    "S.copy()      # 将集合进行一次浅拷贝\n",
    "S.pop()       # 从集合S中删除一个随机元素，如果此集合为空，则引发KeyError错误\n",
    "S.update(S2)  # 用S与S2得到的并集更新集合S\n",
    "```\n",
    "\n",
    "`练习：任意输入一些英文单词，每次输入一个，当输入零是结束，打印输入的单词的个数（去重），打印每个单词到终端，如：`\n",
    "\n",
    "```\n",
    "输入:\n",
    "ABC\n",
    "abc\n",
    "ABCD\n",
    "abc\n",
    "\n",
    "输出:\n",
    "3\n",
    "abc\n",
    "ABC\n",
    "ABCD\n",
    "```"
   ]
  },
  {
   "cell_type": "code",
   "execution_count": 1,
   "metadata": {},
   "outputs": [
    {
     "name": "stdout",
     "output_type": "stream",
     "text": [
      "请输入:abc\n",
      "请输入:ABC\n",
      "请输入:abc\n",
      "请输入:ABCD\n",
      "请输入:0\n",
      "3\n",
      "abc\n",
      "ABC\n",
      "ABCD\n"
     ]
    }
   ],
   "source": [
    "S = set()\n",
    "\n",
    "while True:\n",
    "    s = input(\"请输入:\")\n",
    "    if s == \"0\":\n",
    "        break\n",
    "    else:\n",
    "        S.add(s)\n",
    "\n",
    "print(len(S))\n",
    "for x in S:\n",
    "    print(x)"
   ]
  },
  {
   "cell_type": "markdown",
   "metadata": {},
   "source": [
    "### 4. 集合推到式：\n",
    "\n",
    "作用：\n",
    "```\n",
    "用可迭代对象创建集合\n",
    "```\n",
    "\n",
    "语法：\n",
    "```\n",
    "{表达式 for x in 可迭代对象 [if 真值表达式]}\n",
    "[] 部分可省略\n",
    "```"
   ]
  },
  {
   "cell_type": "code",
   "execution_count": 2,
   "metadata": {},
   "outputs": [
    {
     "name": "stdout",
     "output_type": "stream",
     "text": [
      "{256, 1, 46656, 16777216, 4, 387420489, 3125, 823543, 27}\n",
      "{'B', 'C', 'A', 'D'}\n",
      "{'B', 'C', 'A', 'D'}\n"
     ]
    }
   ],
   "source": [
    "s = {x**x for x in range(1, 10)}\n",
    "print(s)\n",
    "# 集合推导式不会生成重复的元素\n",
    "s = {x for x in \"ABCDAAABBBCCD\"}\n",
    "print(s)\n",
    "# 等同于\n",
    "s=set(\"ABCDAAABBBCCD\")\n",
    "print(s)"
   ]
  },
  {
   "cell_type": "markdown",
   "metadata": {},
   "source": [
    "## "
   ]
  },
  {
   "cell_type": "markdown",
   "metadata": {},
   "source": [
    "## 5. 固定集合 frozenset\n",
    "\n",
    "> 固定集合是不可变的，无序的，含有唯一元素的集合\n",
    "\n",
    "```\n",
    "可变         不可变\n",
    "list -----> tuple\n",
    "set  -----> frozenset\n",
    "```\n",
    "- 作用：\n",
    "\n",
    "```\n",
    "固定集合可以作为字典的键，还可以作为集合的值\n",
    "```\n",
    "\n",
    "- 创建空的固定集合："
   ]
  },
  {
   "cell_type": "code",
   "execution_count": 3,
   "metadata": {},
   "outputs": [
    {
     "data": {
      "text/plain": [
       "frozenset()"
      ]
     },
     "execution_count": 3,
     "metadata": {},
     "output_type": "execute_result"
    }
   ],
   "source": [
    "frozenset()"
   ]
  },
  {
   "cell_type": "markdown",
   "metadata": {},
   "source": [
    "- 创建非空的固定集合\n",
    "\n",
    "```\n",
    "frozenset(iterable)\n",
    "```"
   ]
  },
  {
   "cell_type": "code",
   "execution_count": 5,
   "metadata": {},
   "outputs": [
    {
     "data": {
      "text/plain": [
       "frozenset({1, 3, 5, 7, 9})"
      ]
     },
     "execution_count": 5,
     "metadata": {},
     "output_type": "execute_result"
    }
   ],
   "source": [
    "frozenset([1, 3, 5, 7, 9])"
   ]
  },
  {
   "cell_type": "markdown",
   "metadata": {},
   "source": [
    "- 运算：（等同于set中的用法）\n",
    "\n",
    "```\n",
    "&   |   -   ^\n",
    "<   <=   >   >=   ==   !=\n",
    "in   not in\n",
    "```\n",
    "\n",
    "- 固定集合的方法：\n",
    "\n",
    "```\n",
    "相当于集合的全部方法去掉修改集合的方法\n",
    "```"
   ]
  },
  {
   "cell_type": "markdown",
   "metadata": {},
   "source": [
    "## 6. 内置函数(6)\n",
    "\n",
    "- 能用于字符串，列表，元组, 字典(针对所有的键), 集合, bytes，bytearray：\n",
    "\n",
    "```\n",
    "len(seq)         返回序列的长度\n",
    "max(seq)         返回序列的最大值元素\n",
    "min(seq)         返回序列的最小值元素\n",
    "sum(seq)         返回序列中所有元素的和（元素必须是数值类型）\n",
    "any(seq)         真值测试，如果序列中，其中一个值为真值则返回True，否则返回False\n",
    "all(seq)         真值测试，如果序列中所有值为真值则返回Ture\n",
    "str(obj)         字符串构造（创建）函数，将对象转换为字符串\n",
    "list(iterable)   用可迭代对象生成一个列表\n",
    "tuple(iterable)  用可迭代对象生成一个元组\n",
    "set(iterable)    用可迭代对象生成一个集合\n",
    "frozenset(iterable)  创建非空的固定集合\n",
    "sorted(iterable, reverse = False)   排序可排序的对象，返回一个已排序的新列表\n",
    "```"
   ]
  },
  {
   "cell_type": "markdown",
   "metadata": {},
   "source": [
    "- 可用于序列的内建函数\n",
    "\n",
    "```\n",
    "reversed(seq)    返回反向顺序的迭代器对象\n",
    "```"
   ]
  },
  {
   "cell_type": "code",
   "execution_count": null,
   "metadata": {},
   "outputs": [],
   "source": []
  }
 ],
 "metadata": {
  "kernelspec": {
   "display_name": "Python 3",
   "language": "python",
   "name": "python3"
  },
  "language_info": {
   "codemirror_mode": {
    "name": "ipython",
    "version": 3
   },
   "file_extension": ".py",
   "mimetype": "text/x-python",
   "name": "python",
   "nbconvert_exporter": "python",
   "pygments_lexer": "ipython3",
   "version": "3.9.2"
  },
  "toc": {
   "base_numbering": 1,
   "nav_menu": {},
   "number_sections": true,
   "sideBar": true,
   "skip_h1_title": false,
   "title_cell": "Table of Contents",
   "title_sidebar": "Contents",
   "toc_cell": false,
   "toc_position": {},
   "toc_section_display": true,
   "toc_window_display": false
  }
 },
 "nbformat": 4,
 "nbformat_minor": 4
}
